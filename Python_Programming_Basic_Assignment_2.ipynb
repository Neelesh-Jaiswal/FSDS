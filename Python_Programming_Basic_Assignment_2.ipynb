{
 "cells": [
  {
   "cell_type": "code",
   "execution_count": 5,
   "metadata": {},
   "outputs": [
    {
     "name": "stdout",
     "output_type": "stream",
     "text": [
      "Enter the distance in kilometers: 34\n",
      "The distance in mile is:  21.126614 miles\n"
     ]
    }
   ],
   "source": [
    "# 1.Write a Python program to convert kilometers to miles?\n",
    "# *************************************************************************************************************************\n",
    "# 1.\n",
    "def kilo_to_mile(km):\n",
    "    return 0.621371 * km\n",
    "\n",
    "if __name__ == \"__main__\":\n",
    "    distance = float(input('Enter the distance in kilometers: '))\n",
    "    print('The distance in mile is: ',kilo_to_mile(distance),'miles')"
   ]
  },
  {
   "cell_type": "code",
   "execution_count": 9,
   "metadata": {},
   "outputs": [
    {
     "name": "stdout",
     "output_type": "stream",
     "text": [
      "Enter the temperature in °C: 100\n",
      "The temperature in degree Farenhite is:  21.126614 °F\n"
     ]
    }
   ],
   "source": [
    "# 2.Write a Python program to convert Celsius to Fahrenheit?\n",
    "# *************************************************************************************************************************\n",
    "# 2.\n",
    "def celsius_to_farenhite(celsius):\n",
    "    fahr = (9.0/5.0 * celsius) + 32.0\n",
    "    return fahr\n",
    "\n",
    "if __name__ == \"__main__\":\n",
    "    celsius = float(input('Enter the temperature in °C: '))\n",
    "    print('The temperature in degree Farenhite is: ',kilo_to_mile(distance),'°F')"
   ]
  },
  {
   "cell_type": "code",
   "execution_count": 67,
   "metadata": {},
   "outputs": [
    {
     "name": "stdout",
     "output_type": "stream",
     "text": [
      "Enter a Month between 1 to 12(only 3 attempts): 5\n",
      "Enter an Year less than 9999(only 3 attempts): 2012\n",
      "Su Mo Tu We Th Fr Sa\n",
      "       1  2  3  4  5 \n",
      " 6  7  8  9 10 11 12 \n",
      "13 14 15 16 17 18 19 \n",
      "20 21 22 23 24 25 26 \n",
      "27 28 29 30 31 "
     ]
    }
   ],
   "source": [
    "# 3.Write a Python program to display calendar?\n",
    "# *************************************************************************************************************************\n",
    "# 3.\n",
    "import datetime\n",
    "import pyinputplus as pyip\n",
    "\n",
    "month_list =['january','february','march','april','may','june','july','august','september','october','november','december']\n",
    "days_in_month = [31, 28, 31, 30, 31, 30, 31, 31, 30, 31, 30, 31]\n",
    "days_in_week = ['Su', 'Mo', 'Tu', 'We', 'Th', 'Fr', 'Sa']\n",
    "\n",
    "# handling leap year\n",
    "# if year divided by 4 AND (!100 or 400)\n",
    "def leap_year(year):\n",
    "    return year%4 == 0 and (year%100 != 0 or year%400 == 0)\n",
    "\n",
    "def calendar(month,year):\n",
    "    if leap_year(year):\n",
    "        days_in_month[1] = 29                                                         # if leap year then days in feb = 29\n",
    "    month_from_one = month_list[month-1]                                        # month starting from one rather than zero\n",
    "    num_days_particular_month = days_in_month[month-1]                                     # days in that particular month\n",
    "    day_one = datetime.date(year,month,1)                 # getting the date for first day of the month which user entered\n",
    "    start_day = day_one.isoweekday()                                     # fetching the day number of that particular week\n",
    "    print(' '.join([i for i in days_in_week]))                                                # printing days for calendar\n",
    "    print('   ' * start_day, end='')                         # printing spaces for blanks before the start day in calendar\n",
    "\n",
    "    for day in range(1,num_days_particular_month +1):                                       # printing the days in calendar\n",
    "        print('{0:>2}'.format(day),end = ' ')\n",
    "        start_day = start_day + 1\n",
    "        if start_day >=7:                     # as soon as start_day=7, shift to next line and print the remaining calendar\n",
    "            print()\n",
    "            start_day = 0                                                                  # initialize start_day back to 0\n",
    "            \n",
    "def main():\n",
    "    input_month = pyip.inputInt(prompt = 'Enter a Month between 1 to 12(only 3 attempts): ',\n",
    "                   min = 1, lessThan = 13,limit = 3)\n",
    "    input_year = pyip.inputInt(prompt = 'Enter an Year less than 9999(only 3 attempts): ',\n",
    "                   min = 1, lessThan = 10000,limit = 3)\n",
    "    calendar(input_month,input_year)\n",
    "\n",
    "if __name__ == \"__main__\":\n",
    "    main()"
   ]
  },
  {
   "cell_type": "code",
   "execution_count": 22,
   "metadata": {},
   "outputs": [
    {
     "name": "stdout",
     "output_type": "stream",
     "text": [
      "Enter the coefficients of a,b,c: 1 5 6\n",
      "root1 : -2.0\n",
      "root2 : -3.0\n"
     ]
    }
   ],
   "source": [
    "# 4.Write a Python program to solve quadratic equation?\n",
    "# *************************************************************************************************************************\n",
    "# 4.\n",
    "# The quadrtic equation is of the form ax^2 +bx + c\n",
    "# The discriminant of this equation will be: d = b^2 -4ac\n",
    "def quadratic(a,b,c):\n",
    "    \n",
    "#a,b,c = map(int,input('Enter the coefficients of a,b,c: ').split())\n",
    "    discriminant = pow(b,2) - (4*a*c)\n",
    "    equal_roots = -b/(2*a)\n",
    "\n",
    "    if discriminant>0:\n",
    "        root1 = (-b + pow(discriminant,0.5))/(2*a)\n",
    "        root2 = (-b - pow(discriminant,0.5))/(2*a)\n",
    "        return root1,root2\n",
    "    \n",
    "    elif discriminant == 0:\n",
    "        root1=root2 = equal_roots\n",
    "        return root1,root2\n",
    "    \n",
    "    elif discriminant < 0:\n",
    "        return 'discriminant is less than 0, hence No roots'\n",
    "\n",
    "def main():\n",
    "    a,b,c = map(int,input('Enter the coefficients of a,b,c: ').split())\n",
    "    print(f'root1 : {quadratic(a,b,c)[0]}\\nroot2 : {quadratic(a,b,c)[1]}')\n",
    "\n",
    "if __name__ == \"__main__\":\n",
    "    main()"
   ]
  },
  {
   "cell_type": "code",
   "execution_count": 26,
   "metadata": {},
   "outputs": [
    {
     "name": "stdout",
     "output_type": "stream",
     "text": [
      "Enter two numbers to swap:2 3\n",
      "After swapping:  3 2\n"
     ]
    }
   ],
   "source": [
    "# 5.Write a Python program to swap two variables without temp variable?\n",
    "# *************************************************************************************************************************\n",
    "# 5.\n",
    "def swap(a,b):\n",
    "    a = a+b\n",
    "    b = a-b\n",
    "    a = a-b\n",
    "    return a,b\n",
    "\n",
    "if __name__ == \"__main__\":\n",
    "    a,b = map(int,input('Enter two numbers to swap:').split())\n",
    "    print('After swapping: ',swap(a,b)[0],swap(a,b)[1])"
   ]
  }
 ],
 "metadata": {
  "kernelspec": {
   "display_name": "Python 3",
   "language": "python",
   "name": "python3"
  },
  "language_info": {
   "codemirror_mode": {
    "name": "ipython",
    "version": 3
   },
   "file_extension": ".py",
   "mimetype": "text/x-python",
   "name": "python",
   "nbconvert_exporter": "python",
   "pygments_lexer": "ipython3",
   "version": "3.7.7"
  }
 },
 "nbformat": 4,
 "nbformat_minor": 4
}
