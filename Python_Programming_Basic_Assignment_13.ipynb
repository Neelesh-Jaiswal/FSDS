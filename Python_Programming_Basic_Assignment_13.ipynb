{
 "cells": [
  {
   "cell_type": "code",
   "execution_count": 13,
   "metadata": {},
   "outputs": [
    {
     "name": "stdout",
     "output_type": "stream",
     "text": [
      "Enter the number of values for D parameter: 3\n",
      "Enter the values of D:100,150,180\n",
      "Output with D = [100, 150, 180] is : [18, 22, 24]\n"
     ]
    }
   ],
   "source": [
    "# Question 1:\n",
    "\n",
    "# Write a program that calculates and prints the value according to the given formula:\n",
    "\n",
    "# Q = Square root of [(2 * C * D)/H]\n",
    "\n",
    "# Following are the fixed values of C and H:\n",
    "\n",
    "# C is 50. H is 30.\n",
    "\n",
    "# D is the variable whose values should be input to your program in a comma-separated sequence.\n",
    "\n",
    "# Example\n",
    "\n",
    "# Let us assume the following comma separated input sequence is given to the program:\n",
    "\n",
    "# 100,150,180\n",
    "\n",
    "# The output of the program should be:\n",
    "\n",
    "# 18,22,24\n",
    "\n",
    "def formula(D):\n",
    "    C, H= 50, 30\n",
    "    return list(map(int,map(lambda x: pow(((2 * C * x) / H),0.5),D)))\n",
    "\n",
    "if __name__ == \"__main__\":\n",
    "    n = int(input('Enter the number of values for D parameter: '))\n",
    "    list_D = list(map(int,input('Enter the values of D:').split(',')))[:n]\n",
    "    print(f'Output with D = {list_D} is : {formula(list_D)}')  "
   ]
  },
  {
   "cell_type": "code",
   "execution_count": 55,
   "metadata": {},
   "outputs": [
    {
     "name": "stdout",
     "output_type": "stream",
     "text": [
      "Enter the number of size(rows,columns) of array: 3 5\n",
      "Output is  [[0, 0, 0, 0, 0], [0, 1, 2, 3, 4], [0, 2, 4, 6, 8]]\n"
     ]
    }
   ],
   "source": [
    "# Question 2:\n",
    "\n",
    "# Write a program which takes 2 digits, X,Y as input and generates a 2-dimensional array. \n",
    "# The element value in the i-th row and j-th column of the array should be i*j.\n",
    "\n",
    "# Note: i=0,1.., X-1; j=0,1,¡¬Y-1.\n",
    "\n",
    "# Example\n",
    "\n",
    "# Suppose the following inputs are given to the program:\n",
    "\n",
    "# 3,5\n",
    "\n",
    "# Then, the output of the program should be:\n",
    "\n",
    "# [[0, 0, 0, 0, 0], [0, 1, 2, 3, 4], [0, 2, 4, 6, 8]] \n",
    "\n",
    "\n",
    "def multiply_i_j(rows,cols):\n",
    "    matrix = []\n",
    "    for i in range(rows):\n",
    "        matrix.append([0] * cols) # constructing a zero 2-D array\n",
    "    \n",
    "    for i in range(rows):\n",
    "        for j in range(cols):\n",
    "            matrix[i][j] = i * j\n",
    "    return matrix\n",
    "\n",
    "if __name__ == \"__main__\":\n",
    "    rows,columns = map(int,input('Enter the number of size(rows columns) of array: ').split())\n",
    "    print('\\nOutput is: ', multiply_i_j(rows,columns))"
   ]
  },
  {
   "cell_type": "code",
   "execution_count": 17,
   "metadata": {},
   "outputs": [
    {
     "name": "stdout",
     "output_type": "stream",
     "text": [
      "Enter comma separated words: without,hello,bag,world\n",
      "After sorting: bag,hello,without,world\n"
     ]
    }
   ],
   "source": [
    "# Question 3:\n",
    "\n",
    "# Write a program that accepts a comma separated sequence of words as input and \n",
    "# prints the words in a comma-separated sequence after sorting them alphabetically.\n",
    "\n",
    "# Suppose the following input is supplied to the program:\n",
    "\n",
    "# without,hello,bag,world\n",
    "\n",
    "# Then, the output should be:\n",
    "\n",
    "# bag,hello,without,world\n",
    "\n",
    "def sort_word(string):\n",
    "    string = string.split(',')\n",
    "    string.sort()\n",
    "    return ','.join(string)\n",
    "\n",
    "if __name__ == '__main__':\n",
    "    inp = input('Enter comma separated words: ')\n",
    "    print(f'After sorting: {sort_word(inp)}')"
   ]
  },
  {
   "cell_type": "code",
   "execution_count": 6,
   "metadata": {},
   "outputs": [
    {
     "name": "stdout",
     "output_type": "stream",
     "text": [
      "Enter whitespace separated words: again and hello makes perfect practice world\n",
      "After sorting: again and hello makes perfect practice world\n"
     ]
    }
   ],
   "source": [
    "# Question 4:\n",
    "\n",
    "# Write a program that accepts a sequence of whitespace separated words as input and prints the words after removing all \n",
    "# duplicate words and sorting them alphanumerically.\n",
    "\n",
    "# Suppose the following input is supplied to the program:\n",
    "\n",
    "# hello world and practice makes perfect and hello world again\n",
    "\n",
    "# Then, the output should be:\n",
    "\n",
    "# again and hello makes perfect practice world\n",
    "\n",
    "def set_sort(string):\n",
    "    string = string.split(' ')\n",
    "    string = sorted(set(string))\n",
    "    return ' '.join(string)\n",
    "\n",
    "if __name__ == '__main__':\n",
    "    inp = input('Enter whitespace separated words: ')\n",
    "    print('After sorting:', set_sort(inp))"
   ]
  },
  {
   "cell_type": "code",
   "execution_count": 22,
   "metadata": {},
   "outputs": [
    {
     "name": "stdout",
     "output_type": "stream",
     "text": [
      "Enter whitespace separated words: hello world! 123\n",
      "result of count is: LETTERS 10, DIGITS 3\n"
     ]
    }
   ],
   "source": [
    "# Question 5:\n",
    "\n",
    "# Write a program that accepts a sentence and calculate the number of letters and digits.\n",
    "\n",
    "# Suppose the following input is supplied to the program:\n",
    "\n",
    "# hello world! 123\n",
    "\n",
    "# Then, the output should be:\n",
    "\n",
    "# LETTERS 10\n",
    "\n",
    "# DIGITS 3\n",
    "\n",
    "def count(string):\n",
    "    \n",
    "    digit_count = 0\n",
    "    letter_count = 0\n",
    "\n",
    "    for i in string:\n",
    "        if (i.isdigit()):\n",
    "            digit_count +=1\n",
    "        elif (i.isalpha()):\n",
    "            letter_count +=1\n",
    "        else:\n",
    "            pass\n",
    "    return f'LETTERS {letter_count}, DIGITS {digit_count}'\n",
    "\n",
    "if __name__ == '__main__':\n",
    "    inp = input('Enter whitespace separated words: ')\n",
    "    print('result of count is:', count(inp))"
   ]
  },
  {
   "cell_type": "code",
   "execution_count": 38,
   "metadata": {},
   "outputs": [
    {
     "name": "stdout",
     "output_type": "stream",
     "text": [
      "Enter comma separated words: ABd1234@1,a F1#,2w3E*,2We3345,Bd12@1\n",
      "ABd1234@1,Bd12@1,"
     ]
    }
   ],
   "source": [
    "# Question 6:\n",
    "\n",
    "# A website requires the users to input username and password to register. Write a program to check the validity of \n",
    "# password input by users.\n",
    "\n",
    "# Following are the criteria for checking the password:\n",
    "\n",
    "# 1. At least 1 letter between [a-z]\n",
    "\n",
    "# 2. At least 1 number between [0-9]\n",
    "\n",
    "# 1. At least 1 letter between [A-Z]\n",
    "\n",
    "# 3. At least 1 character from [$#@]\n",
    "\n",
    "# 4. Minimum length of transaction password: 6\n",
    "\n",
    "# 5. Maximum length of transaction password: 12\n",
    "\n",
    "# Your program should accept a sequence of comma separated passwords and will check them according to the above criteria. \n",
    "# Passwords that match the criteria are to be printed, each separated by a comma.\n",
    "\n",
    "# Example\n",
    "\n",
    "# If the following passwords are given as input to the program:\n",
    "\n",
    "# ABd1234@1,a F1#,2w3E*,2We3345\n",
    "\n",
    "# Then, the output of the program should be:\n",
    "\n",
    "# ABd1234@1\n",
    "\n",
    "def ispassword(string):\n",
    "    x = True\n",
    "    while x:\n",
    "        if (len(string)<6 or len(string)>12):\n",
    "            break\n",
    "        elif not re.search(\"[a-z]\",string):\n",
    "            break\n",
    "        elif not re.search(\"[0-9]\",string):\n",
    "            break\n",
    "        elif not re.search(\"[A-Z]\",string):\n",
    "            break\n",
    "        elif not re.search(\"[$#@]\",string):\n",
    "            break\n",
    "        else:\n",
    "            x=False\n",
    "            return True\n",
    "    \n",
    "    return False\n",
    "\n",
    "if __name__ == '__main__':\n",
    "    inp = input('Enter comma separated words: ')\n",
    "    inp = inp.split(',')\n",
    "    for i in inp:\n",
    "        if ispassword(i):\n",
    "            print(i,end=',')"
   ]
  }
 ],
 "metadata": {
  "kernelspec": {
   "display_name": "Python 3",
   "language": "python",
   "name": "python3"
  },
  "language_info": {
   "codemirror_mode": {
    "name": "ipython",
    "version": 3
   },
   "file_extension": ".py",
   "mimetype": "text/x-python",
   "name": "python",
   "nbconvert_exporter": "python",
   "pygments_lexer": "ipython3",
   "version": "3.7.7"
  }
 },
 "nbformat": 4,
 "nbformat_minor": 4
}
