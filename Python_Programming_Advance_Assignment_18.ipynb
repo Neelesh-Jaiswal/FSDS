{
 "cells": [
  {
   "cell_type": "code",
   "execution_count": 16,
   "metadata": {},
   "outputs": [
    {
     "name": "stdout",
     "output_type": "stream",
     "text": [
      "[-20, 40]\n",
      "[0, 0]\n",
      "[200, 10500]\n"
     ]
    }
   ],
   "source": [
    "# 1. \n",
    "# A robot has been given a list of movement instructions. Each instruction is either left, right, up or down, followed by \n",
    "# a distance to move. The robot starts at [0, 0]. You want to calculate where the robot will end up and return its final \n",
    "# position as a list.\n",
    "\n",
    "# To illustrate, if the robot is given the following instructions:\n",
    "\n",
    "# [\"right 10\", \"up 50\", \"left 30\", \"down 10\"]\n",
    "\n",
    "# It will end up 20 left and 40 up from where it started, so we return [-20, 40].\n",
    "\n",
    "# Examples\n",
    "\n",
    "# track_robot([\"right 10\", \"up 50\", \"left 30\", \"down 10\"]) ➞ [-20, 40]\n",
    "\n",
    "# track_robot([]) ➞ [0, 0]\n",
    "# // If there are no instructions, the robot doesn't move.\n",
    "\n",
    "# track_robot([\"right 100\", \"right 100\", \"up 500\", \"up 10000\"]) ➞ [200, 10500]\n",
    "\n",
    "def track_robot(direction):\n",
    "    horizontal, vertical = 0, 0\n",
    "    for i in direction:\n",
    "        key,val = i.split(' ')\n",
    "        val = int(val)\n",
    "        if key == 'right':\n",
    "            horizontal = horizontal + val\n",
    "        elif key == 'left':\n",
    "            horizontal = horizontal - val\n",
    "        elif key == 'up':\n",
    "            vertical = vertical + val\n",
    "        elif key == 'down':\n",
    "            vertical = vertical - val\n",
    "        else:\n",
    "            vertical = 0\n",
    "            horizontal = 0\n",
    "    return [horizontal,vertical]\n",
    "\n",
    "print(track_robot([\"right 10\", \"up 50\", \"left 30\", \"down 10\"]))\n",
    "print(track_robot([]))\n",
    "print(track_robot([\"right 100\", \"right 100\", \"up 500\", \"up 10000\"]))"
   ]
  },
  {
   "cell_type": "code",
   "execution_count": 55,
   "metadata": {},
   "outputs": [
    {
     "name": "stdout",
     "output_type": "stream",
     "text": [
      "forever\n",
      "forgetfulness\n",
      "strengths\n"
     ]
    }
   ],
   "source": [
    "# 2. \n",
    "# Write a function that will return the longest word in a sentence. In cases where more than one word is found, return \n",
    "# the first one.\n",
    "\n",
    "# Examples\n",
    "\n",
    "# find_longest(\"A thing of beauty is a joy forever.\") ➞ \"forever\"\n",
    "\n",
    "# find_longest(\"Forgetfulness is by all means powerless!\") ➞ \"forgetfulness\"\n",
    "\n",
    "# find_longest(\"\\\"Strengths\\\" is the longest and most commonly used word that contains only a single vowel.\") ➞ \"strengths\"\n",
    "\n",
    "import re\n",
    "\n",
    "def find_longest(string):\n",
    "    string_without_punctuations = re.sub(r'[^\\w\\s]', '', string)\n",
    "    stringList = string_without_punctuations.split(' ')\n",
    "    length_dict = lambda x:{i:len(i) for i in x}\n",
    "    length_dict = length_dict(stringList)\n",
    "    max_len_word = max(length_dict, key = length_dict.get)\n",
    "    return max_len_word.lower()\n",
    "\n",
    "print(find_longest(\"A thing of beauty is a joy forever.\"))\n",
    "print(find_longest(\"Forgetfulness is by all means powerless!\"))\n",
    "print(find_longest(\"\\\"Strengths\\\" is the longest and most commonly used word that contains only a single vowel.\"))"
   ]
  },
  {
   "cell_type": "code",
   "execution_count": 93,
   "metadata": {},
   "outputs": [
    {
     "name": "stdout",
     "output_type": "stream",
     "text": [
      "qualified\n",
      "qualified\n",
      "disqualified\n",
      "disqualified\n",
      "disqualified\n"
     ]
    }
   ],
   "source": [
    "# 3. \n",
    "# Create a function to check if a candidate is qualified in an imaginary coding interview of an imaginary tech startup.\n",
    "\n",
    "# The criteria for a candidate to be qualified in the coding interview is:\n",
    "\n",
    "#    1. The candidate should have complete all the questions.\n",
    "#    2. The maximum time given to complete the interview is 120 minutes.\n",
    "#    3. The maximum time given for very easy questions is 5 minutes each.\n",
    "#    4. The maximum time given for easy questions is 10 minutes each.\n",
    "#    5. The maximum time given for medium questions is 15 minutes each.\n",
    "#    6. The maximum time given for hard questions is 20 minutes each.\n",
    "\n",
    "# If all the above conditions are satisfied, return \"qualified\", else return \"disqualified\".\n",
    "\n",
    "# You will be given a list of time taken by a candidate to solve a particular question and the total time taken by the \n",
    "# candidate to complete the interview.\n",
    "\n",
    "# Given a list , in a true condition will always be in the format [very easy, very easy, easy, easy, medium, medium, hard, \n",
    "#                                                                  hard].\n",
    "\n",
    "# The maximum time to complete the interview includes a buffer time of 20 minutes.\n",
    "\n",
    "# Examples\n",
    "\n",
    "# interview([5, 5, 10, 10, 15, 15, 20, 20], 120) ➞ \"qualified\"\n",
    "\n",
    "# interview([2, 3, 8, 6, 5, 12, 10, 18], 64) ➞  \"qualified\"\n",
    "\n",
    "# interview([5, 5, 10, 10, 25, 15, 20, 20], 120) ➞ \"disqualified\"\n",
    "# # Exceeded the time limit for a medium question.\n",
    "\n",
    "# interview([5, 5, 10, 10, 15, 15, 20], 120) ➞ \"disqualified\"\n",
    "# # Did not complete all the questions.\n",
    "\n",
    "# interview([5, 5, 10, 10, 15, 15, 20, 20], 130) ➞ \"disqualified\"\n",
    "# # Solved all the questions in their respected time limits but exceeded the total time limit of the interview.\n",
    "\n",
    "def interview(lis,tot):\n",
    "    if tot > 120 or len(lis) != 8:\n",
    "        return 'disqualified'\n",
    "    \n",
    "    for i in range(len(lis)):\n",
    "        if i in [0,1]:\n",
    "            if lis[i] >5:\n",
    "                return 'disqualified'\n",
    "        elif i in [2,3]:\n",
    "            if lis[i] > 10:\n",
    "                return 'disqualified'\n",
    "        elif i in [4,5]:\n",
    "            if lis[i] > 15:\n",
    "                return 'disqualified'\n",
    "        else:\n",
    "            if lis[i] > 20:\n",
    "                return 'disqualified'\n",
    "    return 'qualified'\n",
    "\n",
    "print(interview([5, 5, 10, 10, 15, 15, 20, 20], 120))\n",
    "print(interview([2, 3, 8, 6, 5, 12, 10, 18], 64))\n",
    "print(interview([5, 5, 10, 10, 15, 15, 20], 120))\n",
    "print(interview([5, 5, 10, 10, 25, 15, 20, 20], 120))\n",
    "print(interview([5, 5, 10, 10, 15, 15, 20, 20], 130))"
   ]
  },
  {
   "cell_type": "code",
   "execution_count": 111,
   "metadata": {},
   "outputs": [
    {
     "name": "stdout",
     "output_type": "stream",
     "text": [
      "[[2, 3], [4, 5]]\n",
      "[[2, 3], [4, 5], [6]]\n",
      "[[2, 3, 4], [5, 6, 7]]\n",
      "[[2], [3], [4], [5], [6], [7]]\n",
      "[[2, 3, 4, 5, 6, 7]]\n"
     ]
    }
   ],
   "source": [
    "# 4. \n",
    "# Write a function that divides a list into chunks of size n, where n is the length of each chunk.\n",
    "\n",
    "# Examples\n",
    "\n",
    "# chunkify([2, 3, 4, 5], 2) ➞ [[2, 3], [4, 5]]\n",
    "\n",
    "# chunkify([2, 3, 4, 5, 6], 2) ➞ [[2, 3], [4, 5], [6]]\n",
    "\n",
    "# chunkify([2, 3, 4, 5, 6, 7], 3) ➞ [[2, 3, 4], [5, 6, 7]]\n",
    "\n",
    "# chunkify([2, 3, 4, 5, 6, 7], 1) ➞ [[2], [3], [4], [5], [6], [7]]\n",
    "\n",
    "# chunkify([2, 3, 4, 5, 6, 7], 7) ➞ [[2, 3, 4, 5, 6, 7]]\n",
    "\n",
    "def chunkify(lis, n):\n",
    "    result = []\n",
    "    for i in range(0, len(lis), n):\n",
    "        result.append(lis[i:i+n])\n",
    "    return result\n",
    "\n",
    "print(chunkify([2, 3, 4, 5], 2))\n",
    "print(chunkify([2, 3, 4, 5, 6], 2))\n",
    "print(chunkify([2, 3, 4, 5, 6, 7], 3))\n",
    "print(chunkify([2, 3, 4, 5, 6, 7], 1))\n",
    "print(chunkify([2, 3, 4, 5, 6, 7], 7))"
   ]
  },
  {
   "cell_type": "code",
   "execution_count": 172,
   "metadata": {},
   "outputs": [
    {
     "name": "stdout",
     "output_type": "stream",
     "text": [
      "[4.99]\n",
      "[1.99, 5.99, 0.75]\n",
      "[5.99, 0.2, 8.5, 1.99]\n"
     ]
    }
   ],
   "source": [
    "# 5. \n",
    "# You are given a list of strings consisting of grocery items, with prices in parentheses. Return a list of prices in \n",
    "# float format.\n",
    "\n",
    "# Examples\n",
    "\n",
    "# get_prices([\"salad ($4.99)\"]) ➞ [4.99]\n",
    "\n",
    "# get_prices([\n",
    "#   \"artichokes ($1.99)\",\n",
    "#   \"rotiserrie chicken ($5.99)\",\n",
    "#   \"gum ($0.75)\"\n",
    "# ])\n",
    "\n",
    "# ➞ [1.99, 5.99, 0.75]\n",
    "\n",
    "# get_prices([\n",
    "#   \"ice cream ($5.99)\",\n",
    "#   \"banana ($0.20)\",\n",
    "#   \"sandwich ($8.50)\",\n",
    "#   \"soup ($1.99)\"\n",
    "# ])\n",
    "\n",
    "# ➞ [5.99, 0.2, 8.50, 1.99]\n",
    "\n",
    "def get_prices(string_list):\n",
    "    result = []\n",
    "    for i in string_list:\n",
    "        temp = i.split(' ')\n",
    "        number = re.sub(r'[^{1}.\\d+]','',temp[-1])\n",
    "        result.append(float(number))\n",
    "    return result\n",
    "\n",
    "print(get_prices([\"salad ($4.99)\"]))\n",
    "\n",
    "print(get_prices([\n",
    "  \"artichokes ($1.99)\",\n",
    "  \"rotiserrie chicken ($5.99)\",\n",
    "  \"gum ($0.75)\"\n",
    "]))\n",
    "\n",
    "print(get_prices([\n",
    "  \"ice cream ($5.99)\",\n",
    "  \"banana ($0.20)\",\n",
    "  \"sandwich ($8.50)\",\n",
    "  \"soup ($1.99)\"\n",
    "]))\n"
   ]
  }
 ],
 "metadata": {
  "kernelspec": {
   "display_name": "Python 3",
   "language": "python",
   "name": "python3"
  },
  "language_info": {
   "codemirror_mode": {
    "name": "ipython",
    "version": 3
   },
   "file_extension": ".py",
   "mimetype": "text/x-python",
   "name": "python",
   "nbconvert_exporter": "python",
   "pygments_lexer": "ipython3",
   "version": "3.7.7"
  }
 },
 "nbformat": 4,
 "nbformat_minor": 4
}
