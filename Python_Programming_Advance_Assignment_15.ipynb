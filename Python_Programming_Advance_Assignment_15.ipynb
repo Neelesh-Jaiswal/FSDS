{
 "cells": [
  {
   "cell_type": "code",
   "execution_count": 2,
   "metadata": {},
   "outputs": [
    {
     "name": "stdout",
     "output_type": "stream",
     "text": [
      "True\n",
      "False\n",
      "False\n"
     ]
    }
   ],
   "source": [
    "# 1. \n",
    "# Write a function that returns True if a given name can generate an array of words.\n",
    "\n",
    "# Examples\n",
    "\n",
    "# anagram(\"Justin Bieber\", [\"injures\", \"ebb\", \"it\"]) ➞ True\n",
    "\n",
    "# anagram(\"Natalie Portman\", [\"ornamental\", \"pita\"]) ➞ True\n",
    "\n",
    "# anagram(\"Chris Pratt\", [\"chirps\", \"rat\"]) ➞ False\n",
    "# Not all letters are used\n",
    "\n",
    "# anagram(\"Jeff Goldblum\", [\"jog\", \"meld\", \"bluffs\"]) ➞ False\n",
    "# \"s\" does not exist in the original name\n",
    "\n",
    "def anagram(string,lis):\n",
    "    string = sorted(string.replace(' ','').lower())\n",
    "    lis = sorted(''.join(lis))\n",
    "    if string == lis:\n",
    "        return True\n",
    "    return False\n",
    "\n",
    "print(anagram(\"Justin Bieber\", [\"injures\", \"ebb\", \"it\"]))\n",
    "print(anagram(\"Chris Pratt\", [\"chirps\", \"rat\"]))\n",
    "print(anagram(\"Jeff Goldblum\", [\"jog\", \"meld\", \"bluffs\"]))"
   ]
  },
  {
   "cell_type": "code",
   "execution_count": 14,
   "metadata": {},
   "outputs": [
    {
     "name": "stdout",
     "output_type": "stream",
     "text": [
      "[{'name': 'c', 'score': 115, 'reputation': 30, 'true_score': 175}, {'name': 'b', 'score': 90, 'reputation': 40, 'true_score': 170}, {'name': 'a', 'score': 100, 'reputation': 20, 'true_score': 140}]\n"
     ]
    }
   ],
   "source": [
    "# 2. \n",
    "# Given an array of users, each defined by an object with the following properties: name, score, reputation create a \n",
    "# function that sorts the array to form the correct leaderboard.\n",
    "\n",
    "# The leaderboard takes into consideration the score of each user of course, but an emphasis is put on their reputation \n",
    "# in the community, so to get the trueScore, you should add the reputation multiplied by 2 to the score.\n",
    "\n",
    "# Once you know the trueScore of each user, sort the array according to it in descending order.\n",
    "\n",
    "# Examples\n",
    "\n",
    "# leaderboards([\n",
    "#   { \"name\": \"a\", \"score\": 100, \"reputation\": 20 },\n",
    "#   { \"name\": \"b\", \"score\": 90, \"reputation\": 40 },\n",
    "#   { \"name\": \"c\", \"score\": 115, \"reputation\": 30 },\n",
    "# ]) ➞ [\n",
    "#   { \"name\": \"c\", \"score\": 115, \"reputation\": 30 },  # trueScore = 175\n",
    "#   { \"name\": \"b\", \"score\": 90, \"reputation\": 40 },   # trueScore = 170\n",
    "#   { \"name\": \"a\", \"score\": 100, \"reputation\": 20 }   # trueScore = 140\n",
    "# ]\n",
    "\n",
    "def leaderboards(lis):\n",
    "    temp_lis = []\n",
    "    for i in lis:\n",
    "        temp = i['score'] + (i['reputation']*2)\n",
    "        temp_lis.append(temp)\n",
    "        i['true_score'] = temp\n",
    "        \n",
    "    result = sorted(lis, key = lambda x: x['true_score'], reverse= True)\n",
    "    return result\n",
    "\n",
    "print(leaderboards([\n",
    "  { \"name\": \"a\", \"score\": 100, \"reputation\": 20 },\n",
    "  { \"name\": \"b\", \"score\": 90, \"reputation\": 40 },\n",
    "  { \"name\": \"c\", \"score\": 115, \"reputation\": 30 }\n",
    "]))"
   ]
  },
  {
   "cell_type": "code",
   "execution_count": 44,
   "metadata": {},
   "outputs": [
    {
     "name": "stdout",
     "output_type": "stream",
     "text": [
      "-e---o--e-\n",
      "tree\n",
      "P----n-r----\n",
      "-e---a--e-y--a----y---y-\n"
     ]
    }
   ],
   "source": [
    "# 3. \n",
    "# Create a function that, given a phrase and a number of letters guessed, returns a string with hyphens - for every \n",
    "# letter of the phrase not guessed, and each letter guessed in place.\n",
    "\n",
    "# Examples\n",
    "\n",
    "# hangman(\"helicopter\", [\"o\", \"e\", \"s\"]) ➞ \"-e---o--e-\"\n",
    "\n",
    "# hangman(\"tree\", [\"r\", \"t\", \"e\"]) ➞ \"tree\"\n",
    "\n",
    "# hangman(\"Python rules\", [\"a\", \"n\", \"p\", \"r\", \"z\"]) ➞ \"P----n r----\"\n",
    "\n",
    "# hangman(\"He\"s a very naughty boy!\", [\"e\", \"a\", \"y\"]) ➞ \"-e\"- a -e-y -a----y –y!\"\n",
    "\n",
    "def hangman(string, lis):\n",
    "    list_string = list(string)\n",
    "\n",
    "    for i in range(len(list_string)):\n",
    "        if list_string[i].lower() in lis:\n",
    "            pass\n",
    "        else:\n",
    "            list_string[i] = '-'\n",
    "    return ''.join(list_string)\n",
    "\n",
    "print(hangman(\"helicopter\", [\"o\", \"e\", \"s\"]))\n",
    "print(hangman(\"tree\", [\"r\", \"t\", \"e\"]))\n",
    "print(hangman(\"Python rules\", [\"a\", \"n\", \"p\", \"r\", \"z\"]))\n",
    "print(hangman(\"He\\'s a very naughty boy!\", [\"e\", \"a\", \"y\"]))"
   ]
  },
  {
   "cell_type": "code",
   "execution_count": 3,
   "metadata": {
    "scrolled": true
   },
   "outputs": [
    {
     "name": "stdout",
     "output_type": "stream",
     "text": [
      "16\n",
      "32\n",
      "256\n"
     ]
    }
   ],
   "source": [
    "# 4. \n",
    "# The Collatz sequence is as follows:\n",
    "\n",
    "#   - Start with some given integer n.\n",
    "#   - If it is even, the next number will be n divided by 2.\n",
    "#   - If it is odd, multiply it by 3 and add 1 to make the next number.\n",
    "#   - The sequence stops when it reaches 1.\n",
    "\n",
    "# According to the Collatz conjecture, it will always reach 1. If thats true, you can construct a finite sequence \n",
    "# following the aforementioned method for any given integer.\n",
    "\n",
    "# Write a function that takes in an integer n and returns the highest integer in the corresponding Collatz sequence.\n",
    "\n",
    "# Examples\n",
    "\n",
    "# max_collatz(10) ➞ 16\n",
    "# Collatz sequence: 10, 5, 16, 8, 4, 2, 1\n",
    "\n",
    "# max_collatz(32) ➞ 32\n",
    "# Collatz sequence: 32, 16, 8, 4, 2, 1\n",
    "\n",
    "# max_collatz(85) ➞ 256\n",
    "# Collatz sequence: 85, 256, 128, 64, 32, 16, 8, 4, 2, 1\n",
    "\n",
    "def max_collatz(n):\n",
    "    result = []\n",
    "    result.append(n)\n",
    "    \n",
    "    while n>1:\n",
    "        if n%2 == 0:\n",
    "            n= n//2\n",
    "            result.append(n)\n",
    "        else:\n",
    "            n = (n*3) + 1\n",
    "            result.append(n)\n",
    "    return max(result)\n",
    "\n",
    "print(max_collatz(10))\n",
    "print(max_collatz(32))\n",
    "print(max_collatz(85))"
   ]
  },
  {
   "cell_type": "code",
   "execution_count": 4,
   "metadata": {},
   "outputs": [
    {
     "name": "stdout",
     "output_type": "stream",
     "text": [
      "[101, 23, 77, 5, 7]\n",
      "[444, 563, 789, 1, 2, 5, 9]\n",
      "[53219, 3772, 564, 32, 1]\n"
     ]
    }
   ],
   "source": [
    "# 5. \n",
    "# Write a function that sorts a list of integers by their digit length in descending order, then settles ties by sorting \n",
    "# numbers with the same digit length in ascending order.\n",
    "\n",
    "# Examples\n",
    "\n",
    "# digit_sort([77, 23, 5, 7, 101])\n",
    "# ➞ [101, 23, 77, 5, 7]\n",
    "\n",
    "# digit_sort([1, 5, 9, 2, 789, 563, 444])\n",
    "# ➞ [444, 563, 789, 1, 2, 5, 9]\n",
    "\n",
    "# digit_sort([53219, 3772, 564, 32, 1])\n",
    "# ➞ [53219, 3772, 564, 32, 1]\n",
    "\n",
    "def digit_sort(list1):\n",
    "    my_dict = dict()\n",
    "    for i in list1:\n",
    "        digit = len(str(i))\n",
    "        my_dict[i] = digit\n",
    "    result = dict(sorted(my_dict.items(), key = lambda x: x[1], reverse = True))\n",
    "    result_list = [(k, v) for k, v in result.items()]\n",
    "    final_result = sorted(sorted(result_list, key = lambda x : x[0]), key = lambda x : x[1], reverse = True)\n",
    "    return [i[0] for i in final_result]\n",
    "\n",
    "print(digit_sort([77, 23, 5, 7, 101]))\n",
    "print(digit_sort([1, 5, 9, 2, 789, 563, 444]))\n",
    "print(digit_sort([53219, 3772, 564, 32, 1]))"
   ]
  }
 ],
 "metadata": {
  "kernelspec": {
   "display_name": "Python 3",
   "language": "python",
   "name": "python3"
  }
 },
 "nbformat": 4,
 "nbformat_minor": 4
}
