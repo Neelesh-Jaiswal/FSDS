{
 "cells": [
  {
   "cell_type": "code",
   "execution_count": 3,
   "metadata": {},
   "outputs": [
    {
     "name": "stdout",
     "output_type": "stream",
     "text": [
      "Enter a number: 5\n",
      "This value is too small, try again!\n",
      "\n",
      "Enter a number: 6\n",
      "This value is too small, try again!\n",
      "\n",
      "Enter a number: 23\n",
      "This value is too large, try again!\n",
      "\n",
      "Enter a number: 12\n",
      "This value is too large, try again!\n",
      "\n",
      "Enter a number: 10\n",
      "Congratulations! You guessed it correctly.\n"
     ]
    }
   ],
   "source": [
    "# Q1. \n",
    "# What are the two latest user-defined exception constraints in Python 3.X?\n",
    "# *************************************************************************************************************************\n",
    "\n",
    "# 1. Exceptions must be defined by classes that is, a class instance is raised and caught.\n",
    "\n",
    "# Example: creating user-defined exceptions   \n",
    "class Error(Exception):\n",
    "    \"\"\"Base class for other exceptions\"\"\"\n",
    "    pass\n",
    "\n",
    "\n",
    "class ValueTooSmallError(Error):\n",
    "    \"\"\"Raised when the input value is too small\"\"\"\n",
    "    pass\n",
    "\n",
    "\n",
    "class ValueTooLargeError(Error):\n",
    "    \"\"\"Raised when the input value is too large\"\"\"\n",
    "    pass\n",
    "\n",
    "\n",
    "# you need to guess this number\n",
    "number = 10\n",
    "\n",
    "# user guesses a number until he/she gets it right\n",
    "while True:\n",
    "    try:\n",
    "        i_num = int(input(\"Enter a number: \"))\n",
    "        if i_num < number:\n",
    "            raise ValueTooSmallError\n",
    "        elif i_num > number:\n",
    "            raise ValueTooLargeError\n",
    "        break\n",
    "    except ValueTooSmallError:\n",
    "        print(\"This value is too small, try again!\")\n",
    "        print()\n",
    "    except ValueTooLargeError:\n",
    "        print(\"This value is too large, try again!\")\n",
    "        print()\n",
    "\n",
    "print(\"Congratulations! You guessed it correctly.\")\n",
    "\n",
    "# 2. BaseException is the base class for all built-in exceptions. It is not meant to be directly inherited by user-defined \n",
    "# classes (for that, use Exception class)\n",
    "\n"
   ]
  },
  {
   "cell_type": "code",
   "execution_count": null,
   "metadata": {},
   "outputs": [],
   "source": [
    "# Q2. \n",
    "# How are class-based exceptions that have been raised matched to handlers?\n",
    "# *************************************************************************************************************************\n",
    "\n",
    "# Class-based exceptions match by superclass relationships: naming a superclass in an exception handler will catch \n",
    "# instances of that class, as well as instances of any of its subclasses lower in the class tree. Because of this, you can \n",
    "# think of superclasses as general exception categories and subclasses as more specific types of exceptions within those \n",
    "# categories."
   ]
  },
  {
   "cell_type": "code",
   "execution_count": null,
   "metadata": {},
   "outputs": [],
   "source": [
    "# Q3. \n",
    "# Describe two methods for attaching context information to exception artefacts.\n",
    "# *************************************************************************************************************************\n",
    "\n",
    "# You can attach context information to class-based exceptions by filling out instance attributes in the instance object \n",
    "# raised, usually in a custom class constructor. For simpler needs, built-in exception superclasses provide a constructor \n",
    "# that stores its arguments on the instance automatically (as a tuple in the attribute args). In exception handlers, you \n",
    "# list a variable to be assigned to the raised instance,then go through this name to access attached state information and \n",
    "# call any methods defined in the class."
   ]
  },
  {
   "cell_type": "code",
   "execution_count": null,
   "metadata": {},
   "outputs": [],
   "source": [
    "# Q4. \n",
    "# Describe two methods for specifying the text of an exception object's error message.\n",
    "# *************************************************************************************************************************\n",
    "\n",
    "# The error message text in class-based exceptions can be specified with a custom __str__ operator overloading method. For \n",
    "# simpler needs, built-in exception superclasses automatically display anything you pass to the class constructor. \n",
    "# Operations like print and str automatically fetch the display string of an exception object when it is printed either \n",
    "# explicitly or as part of an error message."
   ]
  },
  {
   "cell_type": "code",
   "execution_count": null,
   "metadata": {},
   "outputs": [],
   "source": [
    "# Q5. \n",
    "# Why do you no longer use string-based exceptions?\n",
    "# *************************************************************************************************************************\n",
    "\n",
    "# String-based exceptions did not support categories, state information, or behavior inheritance in the way class-based \n",
    "# exceptions do."
   ]
  }
 ],
 "metadata": {
  "kernelspec": {
   "display_name": "Python 3",
   "language": "python",
   "name": "python3"
  },
  "language_info": {
   "codemirror_mode": {
    "name": "ipython",
    "version": 3
   },
   "file_extension": ".py",
   "mimetype": "text/x-python",
   "name": "python",
   "nbconvert_exporter": "python",
   "pygments_lexer": "ipython3",
   "version": "3.7.7"
  }
 },
 "nbformat": 4,
 "nbformat_minor": 4
}
