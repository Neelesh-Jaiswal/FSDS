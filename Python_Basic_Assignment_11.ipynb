{
 "cells": [
  {
   "cell_type": "code",
   "execution_count": 5,
   "metadata": {
    "scrolled": true
   },
   "outputs": [
    {
     "ename": "AssertionError",
     "evalue": "",
     "output_type": "error",
     "traceback": [
      "\u001b[1;31m---------------------------------------------------------------------------\u001b[0m",
      "\u001b[1;31mAssertionError\u001b[0m                            Traceback (most recent call last)",
      "\u001b[1;32m<ipython-input-5-e9b0325cdc45>\u001b[0m in \u001b[0;36m<module>\u001b[1;34m\u001b[0m\n\u001b[0;32m      2\u001b[0m \u001b[1;31m# *************************************************************************************************************************\u001b[0m\u001b[1;33m\u001b[0m\u001b[1;33m\u001b[0m\u001b[1;33m\u001b[0m\u001b[0m\n\u001b[0;32m      3\u001b[0m \u001b[0mx\u001b[0m \u001b[1;33m=\u001b[0m \u001b[1;36m2\u001b[0m\u001b[1;33m\u001b[0m\u001b[1;33m\u001b[0m\u001b[0m\n\u001b[1;32m----> 4\u001b[1;33m \u001b[1;32massert\u001b[0m \u001b[0mx\u001b[0m \u001b[1;33m>=\u001b[0m \u001b[1;36m10\u001b[0m\u001b[1;33m\u001b[0m\u001b[1;33m\u001b[0m\u001b[0m\n\u001b[0m\u001b[0;32m      5\u001b[0m \u001b[0mprint\u001b[0m\u001b[1;33m(\u001b[0m\u001b[0mx\u001b[0m\u001b[1;33m)\u001b[0m\u001b[1;33m\u001b[0m\u001b[1;33m\u001b[0m\u001b[0m\n",
      "\u001b[1;31mAssertionError\u001b[0m: "
     ]
    }
   ],
   "source": [
    "# 1. Create an assert statement that throws an AssertionError if the variable spam is a negative integer.\n",
    "# *************************************************************************************************************************\n",
    "# 1.\n",
    "x = 2\n",
    "assert x >= 10\n",
    "print(x)\n",
    "# from this we can see that the program crahses as soon as the assert condtion gets False\n",
    "# It does not execute the next statement."
   ]
  },
  {
   "cell_type": "code",
   "execution_count": 12,
   "metadata": {},
   "outputs": [
    {
     "name": "stdout",
     "output_type": "stream",
     "text": [
      "neelesh\n",
      "NeElEsH\n"
     ]
    },
    {
     "ename": "AssertionError",
     "evalue": "Same values for eggs and bacon",
     "output_type": "error",
     "traceback": [
      "\u001b[1;31m---------------------------------------------------------------------------\u001b[0m",
      "\u001b[1;31mAssertionError\u001b[0m                            Traceback (most recent call last)",
      "\u001b[1;32m<ipython-input-12-732025a8ecba>\u001b[0m in \u001b[0;36m<module>\u001b[1;34m\u001b[0m\n\u001b[0;32m      6\u001b[0m \u001b[0meggs\u001b[0m \u001b[1;33m=\u001b[0m \u001b[0minput\u001b[0m\u001b[1;33m(\u001b[0m\u001b[1;33m)\u001b[0m\u001b[1;33m\u001b[0m\u001b[1;33m\u001b[0m\u001b[0m\n\u001b[0;32m      7\u001b[0m \u001b[0mbacon\u001b[0m \u001b[1;33m=\u001b[0m \u001b[0minput\u001b[0m\u001b[1;33m(\u001b[0m\u001b[1;33m)\u001b[0m\u001b[1;33m\u001b[0m\u001b[1;33m\u001b[0m\u001b[0m\n\u001b[1;32m----> 8\u001b[1;33m \u001b[1;32massert\u001b[0m \u001b[0meggs\u001b[0m\u001b[1;33m.\u001b[0m\u001b[0mlower\u001b[0m\u001b[1;33m(\u001b[0m\u001b[1;33m)\u001b[0m \u001b[1;33m!=\u001b[0m \u001b[0mbacon\u001b[0m\u001b[1;33m.\u001b[0m\u001b[0mlower\u001b[0m\u001b[1;33m(\u001b[0m\u001b[1;33m)\u001b[0m\u001b[1;33m,\u001b[0m \u001b[1;34m'Same values for eggs and bacon'\u001b[0m\u001b[1;33m\u001b[0m\u001b[1;33m\u001b[0m\u001b[0m\n\u001b[0m",
      "\u001b[1;31mAssertionError\u001b[0m: Same values for eggs and bacon"
     ]
    }
   ],
   "source": [
    "# 2. Write an assert statement that triggers an AssertionError if the variables eggs and bacon contain strings that are the \n",
    "# same as each other, even if their cases are different (that is, 'hello' and 'hello' are considered the same,and 'goodbye' \n",
    "# and 'GOODbye' are also considered the same).\n",
    "# *************************************************************************************************************************\n",
    "# 2.\n",
    "eggs = input()\n",
    "bacon = input()\n",
    "assert eggs.lower() != bacon.lower(), 'Same values for eggs and bacon'"
   ]
  },
  {
   "cell_type": "code",
   "execution_count": 16,
   "metadata": {},
   "outputs": [
    {
     "ename": "AssertionError",
     "evalue": "Throws AssertionError EVERYTIME",
     "output_type": "error",
     "traceback": [
      "\u001b[1;31m---------------------------------------------------------------------------\u001b[0m",
      "\u001b[1;31mAssertionError\u001b[0m                            Traceback (most recent call last)",
      "\u001b[1;32m<ipython-input-16-827f9595d9ed>\u001b[0m in \u001b[0;36m<module>\u001b[1;34m\u001b[0m\n\u001b[0;32m      3\u001b[0m \u001b[1;31m# 3.\u001b[0m\u001b[1;33m\u001b[0m\u001b[1;33m\u001b[0m\u001b[1;33m\u001b[0m\u001b[0m\n\u001b[0;32m      4\u001b[0m \u001b[0mx\u001b[0m \u001b[1;33m=\u001b[0m \u001b[1;32mFalse\u001b[0m\u001b[1;33m\u001b[0m\u001b[1;33m\u001b[0m\u001b[0m\n\u001b[1;32m----> 5\u001b[1;33m \u001b[1;32massert\u001b[0m \u001b[0mx\u001b[0m\u001b[1;33m,\u001b[0m \u001b[1;34m'Throws AssertionError EVERYTIME'\u001b[0m\u001b[1;33m\u001b[0m\u001b[1;33m\u001b[0m\u001b[0m\n\u001b[0m",
      "\u001b[1;31mAssertionError\u001b[0m: Throws AssertionError EVERYTIME"
     ]
    }
   ],
   "source": [
    "# 3. Create an assert statement that throws an AssertionError every time.\n",
    "# *************************************************************************************************************************\n",
    "# 3.\n",
    "x = False\n",
    "assert x, 'Throws AssertionError EVERYTIME'"
   ]
  },
  {
   "cell_type": "code",
   "execution_count": 17,
   "metadata": {},
   "outputs": [],
   "source": [
    "# 4. What are the two lines that must be present in your software in order to call logging.debug()?\n",
    "# *************************************************************************************************************************\n",
    "# 4.\n",
    "import logging\n",
    "logging.basicConfig(filename = 'xyz.txt',level=logging.DEBUG, format='%(asctime)s - %(levelname)s - %(message)s')"
   ]
  },
  {
   "cell_type": "code",
   "execution_count": 18,
   "metadata": {},
   "outputs": [],
   "source": [
    "# 5. What are the two lines that your program must have in order to have logging.debug() send a logging message to a file \n",
    "# named programLog.txt?\n",
    "# *************************************************************************************************************************\n",
    "# 5.\n",
    "import logging\n",
    "logging.basicConfig(filename='programLog.txt',level=logging.DEBUG, format='%(asctime)s - %(levelname)s - %(message)s')"
   ]
  },
  {
   "cell_type": "code",
   "execution_count": null,
   "metadata": {},
   "outputs": [],
   "source": [
    "# 6. What are the five levels of logging?\n",
    "# *************************************************************************************************************************\n",
    "# 6.\n",
    "# The five levels of logging are:\n",
    "#     DEBUG \n",
    "#     INFO \n",
    "#     WARNING \n",
    "#     ERROR \n",
    "#     CRITICAL"
   ]
  },
  {
   "cell_type": "code",
   "execution_count": null,
   "metadata": {},
   "outputs": [],
   "source": [
    "# 7. What line of code would you add to your software to disable all logging messages?\n",
    "# *************************************************************************************************************************\n",
    "# 7.\n",
    "# logging.disbale() will supress all the log messages at that level and lower levels.\n",
    "# DEBUG - lowest level log\n",
    "# CRITICAL - highest level log\n",
    "# In order to disable all the logs, we can write\n",
    "\n",
    "# -------------------->logging.disable(logging.CRITICAL)"
   ]
  },
  {
   "cell_type": "code",
   "execution_count": null,
   "metadata": {},
   "outputs": [],
   "source": [
    "# 8.Why is using logging messages better than using print() to display the same message?\n",
    "# *************************************************************************************************************************\n",
    "# 8.\n",
    "# It is because if we give print statements, once the debugging is done we need to remove all the print used for logging.\n",
    "# There can also be manual error by removing a non-log print statement.\n",
    "# In logging, we can disable all the logging at once. Also we have many different functionalities whhich enhances and aids\n",
    "# our debugging process."
   ]
  },
  {
   "cell_type": "code",
   "execution_count": null,
   "metadata": {},
   "outputs": [],
   "source": [
    "# 9. What are the differences between the Step Over, Step In, and Step Out buttons in the debugger?\n",
    "# *************************************************************************************************************************\n",
    "# 9.\n",
    "# Step In  -> button will cause the debugger to execute the next line of code in a function call.\n",
    "# Step Over-> button will quickly execute the function call WITHOUT stepping INTO it.\n",
    "# Step Out -> button will cause the debugger to execute lines of code at full speed until it returns from the current \n",
    "#             function. If you have stepped into a function call with the Step In button and now simply want to keep \n",
    "#            executing instructions until you get back out, click the Out button to “step out” of the current function call"
   ]
  },
  {
   "cell_type": "code",
   "execution_count": null,
   "metadata": {},
   "outputs": [],
   "source": [
    "# 10.After you click Continue, when will the debugger stop ?\n",
    "# *************************************************************************************************************************\n",
    "# 10.\n",
    "# When we click Continue, the debugger will stop when it has reached the end of the program."
   ]
  },
  {
   "cell_type": "code",
   "execution_count": null,
   "metadata": {},
   "outputs": [],
   "source": [
    "# 11. What is the concept of a breakpoint?\n",
    "# *************************************************************************************************************************\n",
    "# 11.\n",
    "# It causes the debugger to pause when the program reaches that particular line which has the breakpoint."
   ]
  }
 ],
 "metadata": {
  "kernelspec": {
   "display_name": "Python 3",
   "language": "python",
   "name": "python3"
  },
  "language_info": {
   "codemirror_mode": {
    "name": "ipython",
    "version": 3
   },
   "file_extension": ".py",
   "mimetype": "text/x-python",
   "name": "python",
   "nbconvert_exporter": "python",
   "pygments_lexer": "ipython3",
   "version": "3.7.7"
  }
 },
 "nbformat": 4,
 "nbformat_minor": 4
}
