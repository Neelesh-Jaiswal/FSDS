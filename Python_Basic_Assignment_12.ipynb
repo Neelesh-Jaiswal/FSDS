{
 "cells": [
  {
   "cell_type": "code",
   "execution_count": null,
   "metadata": {},
   "outputs": [],
   "source": [
    "# 1. In what modes should the PdfFileReader() and PdfFileWriter() File objects will be opened?\n",
    "# *************************************************************************************************************************\n",
    "# 1.\n",
    "# We need to pass the filenames to the function open()"
   ]
  },
  {
   "cell_type": "code",
   "execution_count": 14,
   "metadata": {},
   "outputs": [
    {
     "name": "stdout",
     "output_type": "stream",
     "text": [
      "Number of Pages in this PDF:  10 \n",
      "\n",
      "*****************************Reading Page number 5***********************************\n",
      "Real-TimeDetectorsTrainmAPFPS\n",
      "100HzDPM[\n",
      "31\n",
      "]200716.0100\n",
      "30HzDPM[\n",
      "31\n",
      "]200726.130\n",
      "FastYOLO2007+201252.7\n",
      "155\n",
      "YOLO2007+2012\n",
      "63.4\n",
      "45\n",
      "LessThanReal-Time\n",
      "FastestDPM[\n",
      "38\n",
      "]200730.415\n",
      "R-CNNMinusR[\n",
      "20\n",
      "]200753.56\n",
      "FastR-CNN[\n",
      "14\n",
      "]2007+201270.00.5\n",
      "FasterR-CNNVGG-16[\n",
      "28\n",
      "]2007+201273.27\n",
      "FasterR-CNNZF[\n",
      "28\n",
      "]2007+201262.118\n",
      "YOLOVGG-162007+201266.421\n",
      "Table1:\n",
      "Real-TimeSystemsonP\n",
      "ASCAL\n",
      "VOC2007.\n",
      "Compar-\n",
      "ingtheperformanceandspeedoffastdetectors.FastYOLOis\n",
      "thefastestdetectoronrecordforP\n",
      "ASCAL\n",
      "VOCdetectionandis\n",
      "stilltwiceasaccurateasanyotherreal-timedetector.YOLOis\n",
      "10mAPmoreaccuratethanthefastversionwhilestillwellabove\n",
      "real-timeinspeed.\n",
      "R-CNN,itstillfallsshortofreal-timeandtakesa\n",
      "accuracyhitfromnothavinggoodproposals.\n",
      "FastR-CNNspeedsupthestageofR-CNN\n",
      "butitstillreliesonselectivesearchwhichcantakearound\n",
      "2secondsperimagetogenerateboundingboxproposals.\n",
      "ThusithashighmAPbutat\n",
      "0\n",
      ":\n",
      "5\n",
      "fpsitisstillfarfromreal-\n",
      "time.\n",
      "TherecentFasterR-CNNreplacesselectivesearchwith\n",
      "aneuralnetworktoproposeboundingboxes,similarto\n",
      "Szegedyetal.[\n",
      "8\n",
      "]Inourtests,theirmostaccuratemodel\n",
      "achieves7fpswhileasmaller,lessaccurateonerunsat\n",
      "18fps.TheVGG-16versionofFasterR-CNNis10mAP\n",
      "higherbutisalso6timesslowerthanYOLO.TheZeiler-\n",
      "FergusFasterR-CNNisonly2.5timesslowerthanYOLO\n",
      "butisalsolessaccurate.\n",
      "4.2.VOC2007ErrorAnalysis\n",
      "TofurtherexaminethedifferencesbetweenYOLOand\n",
      "state-of-the-artdetectors,welookatadetailedbreakdown\n",
      "ofresultsonVOC2007.WecompareYOLOtoFastR-\n",
      "CNNsinceFastR-CNNisoneofthehighestperforming\n",
      "detectorsonP\n",
      "ASCAL\n",
      "andit'sdetectionsarepubliclyavail-\n",
      "able.\n",
      "WeusethemethodologyandtoolsofHoiemetal.[\n",
      "19\n",
      "]\n",
      "ForeachcategoryattesttimewelookatthetopNpredic-\n",
      "tionsforthatcategory.Eachpredictioniseithercorrector\n",
      "itisbasedonthetypeoferror:\n",
      "\n",
      "Correct:correctclassandIOU\n",
      ">:\n",
      "5\n",
      "\n",
      "Localization:correctclass,\n",
      ":\n",
      "1\n",
      "<\n",
      "IOU\n",
      "<:\n",
      "5\n",
      "\n",
      "Similar:classissimilar,IOU\n",
      ">:\n",
      "1\n",
      "Figure4:\n",
      "ErrorAnalysis:FastR-CNNvs.YOLO\n",
      "These\n",
      "chartsshowthepercentageoflocalizationandbackgrounderrors\n",
      "inthetopNdetectionsforvariouscategories(N=#objectsinthat\n",
      "category).\n",
      "\n",
      "Other:classiswrong,IOU\n",
      ">:\n",
      "1\n",
      "\n",
      "Background:IOU\n",
      "<:\n",
      "1\n",
      "foranyobject\n",
      "Figure\n",
      "4\n",
      "showsthebreakdownofeacherrortypeaver-\n",
      "agedacrossall20classes.\n",
      "YOLOstrugglestolocalizeobjectscorrectly.Localiza-\n",
      "tionerrorsaccountformoreofYOLO'serrorsthanallother\n",
      "sourcescombined.FastR-CNNmakesmuchfewerlocal-\n",
      "izationerrorsbutfarmorebackgrounderrors.13.6%of\n",
      "it'stopdetectionsarefalsepositivesthatdon'tcontainany\n",
      "objects.FastR-CNNisalmost3xmorelikelytopredict\n",
      "backgrounddetectionsthanYOLO.\n",
      "4.3.CombiningFastandYOLO\n",
      "YOLOmakesfarfewerbackgroundmistakesthanFast\n",
      "R-CNN.ByusingYOLOtoeliminatebackgrounddetec-\n",
      "tionsfromFastR-CNNwegetaboostinperfor-\n",
      "mance.ForeveryboundingboxthatR-CNNpredictswe\n",
      "checktoseeifYOLOpredictsasimilarbox.Ifitdoes,we\n",
      "givethatpredictionaboostbasedontheprobabilitypre-\n",
      "dictedbyYOLOandtheoverlapbetweenthetwoboxes.\n",
      "ThebestFastR-CNNmodelachievesamAPof71.8%\n",
      "ontheVOC2007testset.WhencombinedwithYOLO,its\n",
      "mAPCombinedGain\n",
      "FastR-CNN71.8--\n",
      "FastR-CNN(2007data)\n",
      "66.9\n",
      "72.4.6\n",
      "FastR-CNN(VGG-M)59.272.4.6\n",
      "FastR-CNN(CaffeNet)57.172.1.3\n",
      "YOLO63.4\n",
      "75.03.2\n",
      "Table2:\n",
      "ModelcombinationexperimentsonVOC2007.\n",
      "We\n",
      "examinetheeffectofcombiningvariousmodelswiththebestver-\n",
      "sionofFastR-CNN.OtherversionsofFastR-CNNprovideonly\n",
      "asmallwhileYOLOprovidesaperformance\n",
      "boost.\n",
      "\n"
     ]
    }
   ],
   "source": [
    "# 2. From a PdfFileReader object, how do you get a Page object for page 5?\n",
    "# *************************************************************************************************************************\n",
    "# 2.\n",
    "import PyPDF2 as pdf\n",
    "pdf_obj = open('../1506.02640-YOLO.pdf','rb')\n",
    "pdf_reader = pdf.PdfFileReader(pdf_obj)\n",
    "print('Number of Pages in this PDF: ', pdf_reader.numPages,'\\n')\n",
    "print('*****************************Reading Page number 5***********************************')\n",
    "page_obj = pdf_reader.getPage(5)\n",
    "print(page_obj.extractText())\n",
    "pdf_obj.close()"
   ]
  },
  {
   "cell_type": "code",
   "execution_count": 15,
   "metadata": {},
   "outputs": [],
   "source": [
    "# 3. What PdfFileReader variable stores the number of pages in the PDF document?\n",
    "# *************************************************************************************************************************\n",
    "# 3.\n",
    "# numPages()"
   ]
  },
  {
   "cell_type": "code",
   "execution_count": null,
   "metadata": {},
   "outputs": [],
   "source": [
    "# 4. If a PdfFileReader object’s PDF is encrypted with the password swordfish, what must you do before you can obtain Page \n",
    "# objects from it?\n",
    "# *************************************************************************************************************************\n",
    "# 4.\n",
    "# decrypt('swordfish')"
   ]
  },
  {
   "cell_type": "code",
   "execution_count": null,
   "metadata": {},
   "outputs": [],
   "source": [
    "# 5. What methods do you use to rotate a page?\n",
    "# *************************************************************************************************************************\n",
    "# 5.\n",
    "# rotateClockwise() or rotateCounterClockwise()"
   ]
  },
  {
   "cell_type": "code",
   "execution_count": null,
   "metadata": {},
   "outputs": [],
   "source": [
    "# 6. What is the difference between a Run object and a Paragraph object?\n",
    "# *************************************************************************************************************************\n",
    "# 6.\n",
    "# Runs -> Each Paragraph object also has a runs attribute that is a list of Run objects. Run objects also have a text \n",
    "# attribute, containing just the text in that particular run\n",
    "# Paragraphs -> A document contains multiple paragraphs"
   ]
  },
  {
   "cell_type": "code",
   "execution_count": 21,
   "metadata": {
    "scrolled": true
   },
   "outputs": [
    {
     "data": {
      "text/plain": [
       "['The bikers rode down the long and narrow path to reach the city park. When they reached a good spot to rest, they began to look for signs of spring. The sun was bright, and a lot of bright red and blue blooms proved to all that warm spring days were the very best. Spring rides were planned. They had a burger at the lake and then rode farther up the mountain. ',\n",
       " 'As one rider started to get off his bike, he slipped and fell. One of the other bikers saw him fall but could do nothing to help him. Neither the boy nor the bike got hurt. After a brief stop, everyone was ready to go on. All the bikers enjoyed the nice view when they came to the top. All the roads far below them looked like ribbons. A dozen or so boats could be seen on the lake. ',\n",
       " 'It was very quiet and peaceful and no one wished to leave. As they set out on their return, they all enjoyed the ease of pedaling. The bikers came upon a new bike trail. This route led to scenery far grander than that seen from the normal path. The end of the day brought laughs and cheers from everyone. The fact that each person was very, very tired did not keep anyone from eagerly planning for the exciting ride to come.']"
      ]
     },
     "execution_count": 21,
     "metadata": {},
     "output_type": "execute_result"
    }
   ],
   "source": [
    "# 7. How do you obtain a list of Paragraph objects for a Document object that’s stored in a variable named doc?\n",
    "# *************************************************************************************************************************\n",
    "# 7.\n",
    "import docx\n",
    "text=[]\n",
    "doc = docx.Document('sample_paragraph.docx')\n",
    "for i in doc.paragraphs:\n",
    "    text.append(i.text)\n",
    "text"
   ]
  },
  {
   "cell_type": "code",
   "execution_count": null,
   "metadata": {},
   "outputs": [],
   "source": [
    "# 8. What type of object has bold, underline, italic, strike, and outline variables?\n",
    "# *************************************************************************************************************************\n",
    "# 8.\n",
    "# The run() object has different attributes."
   ]
  },
  {
   "cell_type": "code",
   "execution_count": 6,
   "metadata": {},
   "outputs": [
    {
     "name": "stdout",
     "output_type": "stream",
     "text": [
      "['This text is in bold.', 'This text is not in bold.']\n",
      "First sentence is bold : True\n",
      "Second sentence is not bold:  None\n"
     ]
    }
   ],
   "source": [
    "# 9. What is the difference between False, True, and None for the bold variable?\n",
    "# *************************************************************************************************************************\n",
    "# 9.\n",
    "import docx\n",
    "text=[]\n",
    "doc = docx.Document('bold.docx')\n",
    "for i in doc.paragraphs:\n",
    "    text.append(i.text)\n",
    "print(text)\n",
    "print('First sentence is bold :',doc.paragraphs[0].runs[1].bold)\n",
    "print('Second sentence is not bold: ',doc.paragraphs[1].runs[0].bold)"
   ]
  },
  {
   "cell_type": "code",
   "execution_count": 7,
   "metadata": {},
   "outputs": [
    {
     "data": {
      "text/plain": [
       "<docx.document.Document at 0x27991eb1098>"
      ]
     },
     "execution_count": 7,
     "metadata": {},
     "output_type": "execute_result"
    }
   ],
   "source": [
    "# 10. How do you create a Document object for a new Word document?\n",
    "# *************************************************************************************************************************\n",
    "# 10.\n",
    "import docx\n",
    "docx.Document()"
   ]
  },
  {
   "cell_type": "code",
   "execution_count": 9,
   "metadata": {},
   "outputs": [
    {
     "name": "stdout",
     "output_type": "stream",
     "text": [
      "*****************************PRINTITNG ON CONSOLE********************************************************\n",
      "['This text is in bold.', 'This text is not in bold.', 'Hello, there!']\n"
     ]
    }
   ],
   "source": [
    "# 11. How do you add a paragraph with the text 'Hello, there!' to a Document object stored in a variable named doc?\n",
    "# *************************************************************************************************************************\n",
    "# 11.\n",
    "import docx\n",
    "doc = docx.Document('bold.docx')\n",
    "doc.add_paragraph('Hello, there!')\n",
    "doc.save('hello.docx')\n",
    "print('*****************************PRINTITNG ON CONSOLE********************************************************')\n",
    "text =[]\n",
    "for i in doc.paragraphs:\n",
    "    text.append(i.text)\n",
    "print(text)"
   ]
  },
  {
   "cell_type": "code",
   "execution_count": null,
   "metadata": {},
   "outputs": [],
   "source": [
    "# 12. What integers represent the levels of headings available in Word documents?\n",
    "# *************************************************************************************************************************\n",
    "# 12.\n",
    "# There are our levels of headings: 0,1,2,3,4"
   ]
  }
 ],
 "metadata": {
  "kernelspec": {
   "display_name": "Python 3",
   "language": "python",
   "name": "python3"
  },
  "language_info": {
   "codemirror_mode": {
    "name": "ipython",
    "version": 3
   },
   "file_extension": ".py",
   "mimetype": "text/x-python",
   "name": "python",
   "nbconvert_exporter": "python",
   "pygments_lexer": "ipython3",
   "version": "3.7.7"
  }
 },
 "nbformat": 4,
 "nbformat_minor": 4
}
