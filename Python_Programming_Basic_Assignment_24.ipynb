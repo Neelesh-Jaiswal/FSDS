{
 "cells": [
  {
   "cell_type": "code",
   "execution_count": 1,
   "metadata": {
    "scrolled": true
   },
   "outputs": [
    {
     "data": {
      "text/plain": [
       "[1,\n",
       " 2,\n",
       " 3,\n",
       " 40,\n",
       " 5,\n",
       " 6,\n",
       " 7,\n",
       " 80,\n",
       " 9,\n",
       " 10,\n",
       " 11,\n",
       " 120,\n",
       " 13,\n",
       " 14,\n",
       " 15,\n",
       " 160,\n",
       " 17,\n",
       " 18,\n",
       " 19,\n",
       " 200,\n",
       " 21,\n",
       " 22,\n",
       " 23,\n",
       " 240,\n",
       " 25]"
      ]
     },
     "execution_count": 1,
     "metadata": {},
     "output_type": "execute_result"
    }
   ],
   "source": [
    "# Question1\n",
    "\n",
    "# Create a function that takes an integer and returns a list from 1 to the given number, where:\n",
    "# 1.  If the number can be divided evenly by 4, amplify it by 10 (i.e. return 10 times the number).\n",
    "# 2.  If the number cannot be divided evenly by 4, simply return the number.\n",
    "\n",
    "# Examples\n",
    "# amplify(4) ➞ [1, 2, 3, 40]\n",
    "\n",
    "# amplify(3) ➞ [1, 2, 3]\n",
    "\n",
    "# amplify(25) ➞ [1, 2, 3, 40, 5, 6, 7, 80, 9, 10, 11, 120, 13, 14, 15, 160, 17, 18, 19, 200, 21, 22, 23, 240, 25]\n",
    "# Notes\n",
    "# •   The given integer will always be equal to or greater than 1.\n",
    "# •   Include the number (see example above).\n",
    "# •   To perform this problem with its intended purpose, try doing it with list comprehensions. If that's too difficult, \n",
    "#     just solve the challenge any way you can.\n",
    "\n",
    "def amplify(num):\n",
    "    return [i*10 if i%4 == 0 else i for i in range(1, num+1)]\n",
    "\n",
    "amplify(25)"
   ]
  },
  {
   "cell_type": "code",
   "execution_count": 2,
   "metadata": {},
   "outputs": [
    {
     "name": "stdout",
     "output_type": "stream",
     "text": [
      "7\n",
      "0.77\n",
      "0\n"
     ]
    }
   ],
   "source": [
    "# Question2\n",
    "\n",
    "# Create a function that takes a list of numbers and return the number that's unique.\n",
    "\n",
    "# Examples\n",
    "# unique([3, 3, 3, 7, 3, 3]) ➞ 7\n",
    "\n",
    "# unique([0, 0, 0.77, 0, 0]) ➞ 0.77\n",
    "\n",
    "# unique([0, 1, 1, 1, 1, 1, 1, 1]) ➞ 0\n",
    "# Notes\n",
    "# Test cases will always have exactly one unique number while all others are the same.\n",
    "\n",
    "def unique(lis):\n",
    "    dit = {}\n",
    "    count = 0\n",
    "    for i in lis:\n",
    "        if i not in dit.keys():\n",
    "            dit[i] = 1\n",
    "        else:\n",
    "            dit[i] += 1\n",
    "            \n",
    "    for i in dit.items():\n",
    "        if i[1] == 1:\n",
    "            return i[0]\n",
    "\n",
    "print(unique([3, 3, 3, 7, 3, 3]))\n",
    "print(unique([0, 0, 0.77, 0, 0]))\n",
    "print(unique([0, 1, 1, 1, 1, 1, 1, 1]))"
   ]
  },
  {
   "cell_type": "code",
   "execution_count": 3,
   "metadata": {},
   "outputs": [
    {
     "name": "stdout",
     "output_type": "stream",
     "text": [
      "380.0\n",
      "28.0\n"
     ]
    }
   ],
   "source": [
    "# Question3\n",
    "\n",
    "# Your task is to create a Circle constructor that creates a circle with a radius provided by an argument. The circles \n",
    "# constructed must have two getters getArea() (PIr^2) and getPerimeter() (2PI*r) which give both respective areas and \n",
    "# perimeter (circumference).\n",
    "# For help with this class, I have provided you with a Rectangle constructor which you can use as a base example.\n",
    "\n",
    "# Examples\n",
    "# circy = Circle(11)\n",
    "# circy.getArea()\n",
    "\n",
    "# Should return 380.132711084365\n",
    "\n",
    "# circy = Circle(4.44)\n",
    "# circy.getPerimeter()\n",
    "\n",
    "# Should return 27.897342763877365\n",
    "# Notes\n",
    "# Round results up to the nearest integer.\n",
    "\n",
    "import math\n",
    "\n",
    "class Circle:\n",
    "    def __init__(self, radius):\n",
    "        self.radius = radius        \n",
    "        \n",
    "    def getArea(self):\n",
    "        return round((math.pi*pow(self.radius,2)),0)\n",
    "    \n",
    "    def getPerimeter(self):\n",
    "        return round((2*math.pi*self.radius),0)\n",
    "\n",
    "circy = Circle(11)\n",
    "print(circy.getArea())\n",
    "\n",
    "circy = Circle(4.44)\n",
    "print(circy.getPerimeter())"
   ]
  },
  {
   "cell_type": "code",
   "execution_count": 4,
   "metadata": {},
   "outputs": [
    {
     "name": "stdout",
     "output_type": "stream",
     "text": [
      "['Apple', 'Google', 'Microsoft']\n",
      "['Raphael', 'Leonardo', 'Donatello', 'Michelangelo']\n",
      "['Jung', 'Turing', 'Einstein']\n"
     ]
    }
   ],
   "source": [
    "# Question4\n",
    "\n",
    "# Create a function that takes a list of strings and return a list, sorted from shortest to longest.\n",
    "\n",
    "# Examples\n",
    "# sort_by_length([\"Google\", \"Apple\", \"Microsoft\"])\n",
    "# ➞ [\"Apple\", \"Google\", \"Microsoft\"]\n",
    "\n",
    "# sort_by_length([\"Leonardo\", \"Michelangelo\", \"Raphael\", \"Donatello\"])\n",
    "# ➞ [\"Raphael\", \"Leonardo\", \"Donatello\", \"Michelangelo\"]\n",
    "\n",
    "# sort_by_length([\"Turing\", \"Einstein\", \"Jung\"])\n",
    "# ➞ [\"Jung\", \"Turing\", \"Einstein\"]\n",
    "\n",
    "# Notes\n",
    "# All test cases contain lists with strings of different lengths, so you won't have to deal with multiple strings of the \n",
    "# same length.\n",
    "\n",
    "def sort_by_length(lis):\n",
    "    dit = {}\n",
    "    for i in lis:\n",
    "        dit[i] = len(i)\n",
    "    sorted_lis = sorted(dit.items(), key = lambda x: x[1])\n",
    "    return [i[0] for i in sorted_lis]\n",
    "\n",
    "print(sort_by_length([\"Google\", \"Apple\", \"Microsoft\"]))\n",
    "print(sort_by_length([\"Leonardo\", \"Michelangelo\", \"Raphael\", \"Donatello\"]))\n",
    "print(sort_by_length([\"Turing\", \"Einstein\", \"Jung\"]))"
   ]
  },
  {
   "cell_type": "code",
   "execution_count": 5,
   "metadata": {},
   "outputs": [],
   "source": [
    "# Question5\n",
    "\n",
    "# Create a function that validates whether three given integers form a Pythagorean triplet. The sum of the squares of the \n",
    "# two smallest integers must equal the square of the largest number to be validated.\n",
    "\n",
    "\n",
    "# Examples\n",
    "# is_triplet(3, 4, 5) ➞ True\n",
    "# # 3² + 4² = 25\n",
    "# # 5² = 25\n",
    "\n",
    "# is_triplet(13, 5, 12) ➞ True\n",
    "# # 5² + 12² = 169\n",
    "# # 13² = 169\n",
    "\n",
    "# is_triplet(1, 2, 3) ➞ False\n",
    "# # 1² + 2² = 5\n",
    "# # 3² = 9\n",
    "# Notes\n",
    "# Numbers may not be given in a sorted order.\n"
   ]
  },
  {
   "cell_type": "code",
   "execution_count": 6,
   "metadata": {},
   "outputs": [
    {
     "name": "stdout",
     "output_type": "stream",
     "text": [
      "True\n",
      "True\n",
      "False\n"
     ]
    }
   ],
   "source": [
    "def triplet(a,b,c):\n",
    "    l = []\n",
    "    l.append(a)\n",
    "    l.append(b)\n",
    "    l.append(c)\n",
    "    l = sorted(l)\n",
    "    if (l[0]**2 + l[1]**2) == l[2]**2:\n",
    "            return True\n",
    "    return False\n",
    "\n",
    "print(triplet(3, 4, 5))\n",
    "print(triplet(13,5,12))\n",
    "print(triplet(1, 2, 3))"
   ]
  }
 ],
 "metadata": {
  "kernelspec": {
   "display_name": "Python 3",
   "language": "python",
   "name": "python3"
  },
  "language_info": {
   "codemirror_mode": {
    "name": "ipython",
    "version": 3
   },
   "file_extension": ".py",
   "mimetype": "text/x-python",
   "name": "python",
   "nbconvert_exporter": "python",
   "pygments_lexer": "ipython3",
   "version": "3.7.7"
  }
 },
 "nbformat": 4,
 "nbformat_minor": 4
}
