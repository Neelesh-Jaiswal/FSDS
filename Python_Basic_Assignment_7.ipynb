{
 "cells": [
  {
   "cell_type": "code",
   "execution_count": null,
   "metadata": {},
   "outputs": [],
   "source": [
    "# 1. What is the name of the feature responsible for generating Regex objects?\n",
    "# ------------------------------------------------------------------------------------------------------------------------------\n",
    "# 1.\n",
    "# The compilation of the regex in python is responsible for generating the Regex objects\n",
    "# re.compile()"
   ]
  },
  {
   "cell_type": "code",
   "execution_count": 1,
   "metadata": {},
   "outputs": [
    {
     "data": {
      "text/plain": [
       "['12', '11', '10']"
      ]
     },
     "execution_count": 1,
     "metadata": {},
     "output_type": "execute_result"
    }
   ],
   "source": [
    "# 2. Why do raw strings often appear in Regex objects?\n",
    "#------------------------------------------------------------------------------------------------------------------------------\n",
    "# 2.\n",
    "# Regular Expressions use the backslash character (\\) to indicate special forms or to allow special characters to be used \n",
    "# without invoking their special meaning. \n",
    "# This conflicts with Python’s usage of the same character for the same purpose in string literals.\n",
    "\n",
    "# So in order to write an RE that feature backslashes repeatedly, this leads to lots of repeated backslashes(\\\\\\\\) and makes \n",
    "# the resulting strings difficult to understand.\n",
    "# Hence, we use raw string(r'').\n",
    "# For example:\n",
    "# we have used '\\d' to list out all the numbers in a string\n",
    "import re\n",
    "a = re.compile(r'\\d+')\n",
    "a.findall('12 drummers drumming, 11 pipers piping, 10 lords a-leaping')"
   ]
  },
  {
   "cell_type": "code",
   "execution_count": 2,
   "metadata": {},
   "outputs": [
    {
     "name": "stdout",
     "output_type": "stream",
     "text": [
      "<re.Match object; span=(0, 4), match='From'>\n"
     ]
    }
   ],
   "source": [
    "# 3. What is the return value of the search() method?\n",
    "# ------------------------------------------------------------------------------------------------------------------------------\n",
    "# 3.\n",
    "# r.search() returns Match objects.\n",
    "# Example:\n",
    "print(re.search('From','From here to enternity'))"
   ]
  },
  {
   "cell_type": "code",
   "execution_count": 14,
   "metadata": {},
   "outputs": [
    {
     "name": "stdout",
     "output_type": "stream",
     "text": [
      "All groups created for this string:  ('a',)\n"
     ]
    },
    {
     "data": {
      "text/plain": [
       "'ab'"
      ]
     },
     "execution_count": 14,
     "metadata": {},
     "output_type": "execute_result"
    }
   ],
   "source": [
    "# 4. From a Match item, how do you get the actual strings that match the pattern?\n",
    "# ------------------------------------------------------------------------------------------------------------------------------\n",
    "# 4.\n",
    "# group() method will return the matched string\n",
    "# Example:\n",
    "p = re.compile('(a)b')\n",
    "m = p.match('ab')\n",
    "print('All groups created for this string: ',m.groups())\n",
    "m.group()"
   ]
  },
  {
   "cell_type": "code",
   "execution_count": 16,
   "metadata": {
    "scrolled": true
   },
   "outputs": [
    {
     "name": "stdout",
     "output_type": "stream",
     "text": [
      "012-345-6789\n",
      "012\n",
      "345-6789\n"
     ]
    }
   ],
   "source": [
    "# 5. In the regex which created from the r'(\\d\\d\\d)-(\\d\\d\\d-\\d\\d\\d\\d)', what does group zero cover? Group 2? Group 1?\n",
    "# ------------------------------------------------------------------------------------------------------------------------------\n",
    "# 5.\n",
    "a = re.compile(r'(\\d\\d\\d)-(\\d\\d\\d-\\d\\d\\d\\d)')\n",
    "b = a.search('012-345-6789')\n",
    "#group(0) contains the entire matched text\n",
    "print(b.group(0))\n",
    "#group(1) contains regex string in the first set of parentheses\n",
    "print(b.group(1))\n",
    "#group(2) contains regex string in the second set of parentheses\n",
    "print(b.group(2))            "
   ]
  },
  {
   "cell_type": "code",
   "execution_count": 42,
   "metadata": {
    "scrolled": true
   },
   "outputs": [
    {
     "name": "stdout",
     "output_type": "stream",
     "text": [
      "Returning result WITH parentheses:  ('123', '(456)', '789')\n",
      "Returning result WITHOUT parentheses:  ('123', '456', '789')\n",
      "\n",
      "\n",
      "Returning result WITHOUT escaping period:  <re.Match object; span=(0, 1), match='M'>\n",
      "Returning result WITH escaping period:  <re.Match object; span=(17, 18), match='.'>\n"
     ]
    }
   ],
   "source": [
    "# 6. In standard expression syntax, parentheses and intervals have distinct meanings. How can you tell a regex that you want it \n",
    "# to fit real parentheses and periods?\n",
    "# ------------------------------------------------------------------------------------------------------------------------------\n",
    "# 6.\n",
    "# The parentheses are actually used to create groups. In order to fit a real parentheses can use backslash to escape the \n",
    "# parentheses.\n",
    "# For example:\n",
    "\n",
    "a = re.compile(r'(\\d\\d\\d)-(\\(\\d\\d\\d\\))-(\\d\\d\\d)')\n",
    "b = a.search('123-(456)-789')\n",
    "print('Returning result WITH parentheses: ',b.groups())\n",
    "\n",
    "a1 = re.compile(r'(\\d\\d\\d)-(\\d\\d\\d)-(\\d\\d\\d)')\n",
    "b1 = a1.search('123-456-789')\n",
    "print('Returning result WITHOUT parentheses: ',b1.groups())\n",
    "\n",
    "# The period(.) is actually a wildcard character in regex.\n",
    "# To match a literal dot, you need to escape it like this:  \\.\n",
    "# For example:\n",
    "c = re.compile(r'.')\n",
    "d = c.search('My name is Nilesh\\.Jaiswal')\n",
    "print('\\n')\n",
    "print('Returning result WITHOUT escaping period: ',d)\n",
    "\n",
    "c1 = re.compile(r'\\.')\n",
    "d1 = c1.search('My name is Nilesh.Jaiswal')\n",
    "print('Returning result WITH escaping period: ',d1)\n"
   ]
  },
  {
   "cell_type": "code",
   "execution_count": 55,
   "metadata": {},
   "outputs": [
    {
     "name": "stdout",
     "output_type": "stream",
     "text": [
      "['is', 'is', 'is', 'is']\n",
      "[('is', 'is')]\n"
     ]
    }
   ],
   "source": [
    "# 7. The findall() method returns a string list or a list of string tuples. What causes it to return one of the two options?\n",
    "# ------------------------------------------------------------------------------------------------------------------------------\n",
    "# 7.\n",
    "\n",
    "# When a regex is called with no groups, the method findall() returns a list of string.\n",
    "# Example:\n",
    "a = re.compile(r'is')\n",
    "b = a.findall('This is the largst is in the is')\n",
    "print(b)\n",
    "# When a regex is called that has groups, the method findall() returns a list of string tuples.\n",
    "# For Example:\n",
    "a1 = re.compile(r'(is).* (is)')\n",
    "b1 = a1.findall('This (is) the largst (is) in the is')\n",
    "print(b1)"
   ]
  },
  {
   "cell_type": "code",
   "execution_count": 67,
   "metadata": {},
   "outputs": [
    {
     "name": "stdout",
     "output_type": "stream",
     "text": [
      "Point A\n"
     ]
    }
   ],
   "source": [
    "# 8. In standard expressions, what does the | character mean?\n",
    "# ------------------------------------------------------------------------------------------------------------------------------\n",
    "# 8.\n",
    "# The pipe(|) is used when we want to match one of many expressions.\n",
    "# If all the strings in regex, are present in the search string, the first occurrecne of the matching text will be returned.\n",
    "# Only first \n",
    "# For example:\n",
    "a = re.compile(r'Point A|Point B')\n",
    "b = a.search('One line contains two points: Point A and Point B.')\n",
    "print(b.group())"
   ]
  },
  {
   "cell_type": "code",
   "execution_count": 70,
   "metadata": {},
   "outputs": [
    {
     "name": "stdout",
     "output_type": "stream",
     "text": [
      "Searching string without optional text:  man\n",
      "Searching string with optional text:  woman\n"
     ]
    }
   ],
   "source": [
    "# 9. In regular expressions, what does the ? character stand for?\n",
    "# ------------------------------------------------------------------------------------------------------------------------------\n",
    "# 9.\n",
    "# If we want to match a pattern that is optional then we use ? character.\n",
    "# In other words, the regex should find a match whether or not that optional part of text is there.\n",
    "# For example:\n",
    "a = re.compile(r'(wo)?man')\n",
    "b = a.search('I am a man')\n",
    "b1 = a.search('I am a woman')\n",
    "print('Searching string without optional text: ',b.group())\n",
    "print('Searching string with optional text: ',b1.group())"
   ]
  },
  {
   "cell_type": "code",
   "execution_count": 80,
   "metadata": {},
   "outputs": [
    {
     "name": "stdout",
     "output_type": "stream",
     "text": [
      "superwoman\n",
      "None\n",
      "\n",
      "\n",
      "superwoman\n",
      "superman\n"
     ]
    }
   ],
   "source": [
    "# 10.In regular expressions, what is the difference between the + and * characters?\n",
    "# ------------------------------------------------------------------------------------------------------------------------------\n",
    "# 10.\n",
    "# Plus(+) means it has to match atleast ONE or more string.\n",
    "# It requires a group to be present before the + sign in the regex string.\n",
    "# For eXample:\n",
    "a = re.compile(r'super(wo)+man')\n",
    "b = a.search('I am a superwoman')\n",
    "print(b.group())\n",
    "b1 = a.search('I am a superman')# since it does not contain the atleast one (wo). That is why 'None'\n",
    "print(b1)\n",
    "\n",
    "#The asterisk(*) means it can match ZERO or more string.\n",
    "#It require a group to be present before the * sign in the regex string.\n",
    "#For Example:\n",
    "print('\\n')\n",
    "a1 = re.compile(r'super(wo)*man')\n",
    "b2 = a1.search('I am a superwoman')\n",
    "print(b.group())\n",
    "b3 = a1.search('I am a superman')# It is returning the match because *sign works for zero macthes also\n",
    "print(b3.group())"
   ]
  },
  {
   "cell_type": "code",
   "execution_count": 97,
   "metadata": {},
   "outputs": [
    {
     "name": "stdout",
     "output_type": "stream",
     "text": [
      "abababab\n",
      "\n",
      "\n",
      "ababababab\n"
     ]
    }
   ],
   "source": [
    "# 11. What is the difference between {4} and {4,5} in regular expression?\n",
    "# ------------------------------------------------------------------------------------------------------------------------------\n",
    "# 11.\n",
    "# If we have a group that we want to repeat a specific number of times, we need to follow the group in our regex with a number \n",
    "# in  curly brackets\n",
    "# {4} will match four instances of the preceding group.\n",
    "# For example:\n",
    "a = re.compile(r'(ab){4}')\n",
    "b = a.search('abcdefababababghijabab')\n",
    "print(b.group())\n",
    "# We can also specify the range of number of instances.\n",
    "# {4,5} will match the range between 4 to 5 instances.\n",
    "# For example:\n",
    "print('\\n')\n",
    "a1 = re.compile(r'(ab){4,5}')\n",
    "b1 = a1.search('abcdefabababababghijabababcdefababababghijabab')\n",
    "print(b1.group())"
   ]
  },
  {
   "cell_type": "code",
   "execution_count": null,
   "metadata": {},
   "outputs": [],
   "source": [
    "# 12. What do you mean by the \\d, \\w, and \\s shorthand character classes signify in regular expressions?\n",
    "# ------------------------------------------------------------------------------------------------------------------------------\n",
    "# 12.\n",
    "# \\d -> Any single numeric digit from 0 to 9.\n",
    "# \\w -> Any letter, numeric digit, or the underscore character(word matching)\n",
    "# \\s -> Any space, tab, or newline character(space matching)"
   ]
  },
  {
   "cell_type": "code",
   "execution_count": null,
   "metadata": {},
   "outputs": [],
   "source": [
    "# 13. What do means by \\D, \\W, and \\S shorthand character classes signify in regular expressions?\n",
    "# ------------------------------------------------------------------------------------------------------------------------------\n",
    "# 13.\n",
    "# \\D -> Any character that is not a numeric digit from 0 to 9\n",
    "# \\W -> Any character that is not a letter, numeric digit, or the underscore character.\n",
    "# \\S -> Any character that is not a space, tab, or newline"
   ]
  },
  {
   "cell_type": "code",
   "execution_count": 99,
   "metadata": {},
   "outputs": [
    {
     "name": "stdout",
     "output_type": "stream",
     "text": [
      "<html><head><title>Title</title>\n",
      "\n",
      "\n",
      "<html>\n"
     ]
    }
   ],
   "source": [
    "# 14. What is the difference between .* and .*?\n",
    "# ------------------------------------------------------------------------------------------------------------------------------\n",
    "# 14.\n",
    "# .* -> It will try to match as much pattern as possible. It is called greedy mode.\n",
    "# For example:\n",
    "\n",
    "a = re.compile(r'<.*>')\n",
    "b = a.search('<html><head><title>Title</title>')\n",
    "print(b.group())\n",
    "\n",
    "# .*? -> It will try to match as few characters as possible.\n",
    "# For Example:\n",
    "print('\\n')\n",
    "a1 = re.compile(r'<.*?>')\n",
    "b1 = a1.search('<html><head><title>Title</title>')\n",
    "print(b1.group())"
   ]
  },
  {
   "cell_type": "code",
   "execution_count": null,
   "metadata": {},
   "outputs": [],
   "source": [
    "# 15. What is the syntax for matching both numbers and lowercase letters with a character class?\n",
    "# ------------------------------------------------------------------------------------------------------------------------------\n",
    "# 15.\n",
    "# [a-z0-9]"
   ]
  },
  {
   "cell_type": "code",
   "execution_count": 119,
   "metadata": {},
   "outputs": [
    {
     "name": "stdout",
     "output_type": "stream",
     "text": [
      "<re.Match object; span=(13, 17), match='aBcD'>\n"
     ]
    }
   ],
   "source": [
    "# 16. What is the procedure for making a normal expression in regex case insensitive?\n",
    "# ------------------------------------------------------------------------------------------------------------------------------\n",
    "# 16.\n",
    "# We need to pass re.I as 2nd argument to re.compile(). It will match the letters without worrying whether they’re uppercase or \n",
    "# lowercase\n",
    "# Example:\n",
    "a = re.compile(r'abcd',re.I)\n",
    "b = a.search('I am reading aBcD')\n",
    "print(b)"
   ]
  },
  {
   "cell_type": "code",
   "execution_count": 124,
   "metadata": {},
   "outputs": [
    {
     "name": "stdout",
     "output_type": "stream",
     "text": [
      "abcd\n",
      "\n",
      "\n",
      "abcd\n",
      "efgh\n"
     ]
    }
   ],
   "source": [
    "# 17. What does the . character normally match? What does it match if re.DOTALL is passed as 2nd argument in re.compile()?\n",
    "# ------------------------------------------------------------------------------------------------------------------------------\n",
    "# 17.\n",
    "# Dot(.) matches any character except new line character.\n",
    "# Example:\n",
    "a = re.compile(r'.*')\n",
    "b = a.search('abcd\\nefgh')\n",
    "print(b.group())\n",
    "\n",
    "# If we pass re.DOTALL as 2nd argument to re.compile(), it will not take into consideration the newline character.\n",
    "# Exmaple:\n",
    "print('\\n')\n",
    "a1 = re.compile(r'.*',re.DOTALL)\n",
    "b1 = a1.search('abcd\\nefgh')\n",
    "print(b1.group())"
   ]
  },
  {
   "cell_type": "code",
   "execution_count": 125,
   "metadata": {},
   "outputs": [
    {
     "name": "stdout",
     "output_type": "stream",
     "text": [
      "X drummers, X pipers, five rings, X hen\n"
     ]
    }
   ],
   "source": [
    "# 18. If numReg = re.compile(r'\\d+'), what will numRegex.sub('X', '11 drummers, 10 pipers, five rings, 4 hen') return?\n",
    "# ------------------------------------------------------------------------------------------------------------------------------\n",
    "# 18.\n",
    "#\\d= will identify all the digits and sub() will replace the digit with 'X'\n",
    "numReg = re.compile(r'\\d+')\n",
    "result = numReg.sub('X', '11 drummers, 10 pipers, five rings, 4 hen')\n",
    "print(result)"
   ]
  },
  {
   "cell_type": "code",
   "execution_count": 134,
   "metadata": {},
   "outputs": [
    {
     "name": "stdout",
     "output_type": "stream",
     "text": [
      "nikhilneelesh1@gmail.com\n"
     ]
    }
   ],
   "source": [
    "# 19. What does passing re.VERBOSE as the 2nd argument to re.compile() allow to do?\n",
    "# ------------------------------------------------------------------------------------------------------------------------------\n",
    "# 19.\n",
    "# The re.VERBOSE argument allows you to add whitespace and comments to the string passed to re.compile().\n",
    "# This is useful when the regex is complicated and you want to add comments for evry sub part of the complex regex.\n",
    "# For Example:\n",
    "# The example regex is copied from internet\n",
    "\n",
    "emailRegex = re.compile(r'''(\n",
    "    [a-zA-Z0-9._%+-]+      # username\n",
    "    @                      # @ symbol\n",
    "    [a-zA-Z0-9.-]+         # domain name\n",
    "       (\\.[a-zA-Z]{2,4})      # dot-something\n",
    "       )''', re.VERBOSE)\n",
    "b = emailRegex.search('My email id is nikhilneelesh1@gmail.com')\n",
    "print(b.group())"
   ]
  },
  {
   "cell_type": "code",
   "execution_count": 139,
   "metadata": {},
   "outputs": [
    {
     "name": "stdout",
     "output_type": "stream",
     "text": [
      "42\n",
      "1,234\n",
      "6,368,745\n",
      "None\n",
      "None\n"
     ]
    }
   ],
   "source": [
    "# 20. How would you write a regex that match a number with comma for every three digits? It must match the given following:\n",
    "# '42'\n",
    "# '1,234'\n",
    "# '6,368,745'\n",
    "# but not the following:\n",
    "# '12,34,567' (which has only two digits between the commas)\n",
    "# '1234' (which lacks commas)\n",
    "# ------------------------------------------------------------------------------------------------------------------------------\n",
    "# 20.\n",
    "# There can be atmost three digits in starting, then comma, then multiple set of three digits in\n",
    "a = re.compile(r'^\\d{1,3}(,\\d{3})*$')\n",
    "print(a.search('42').group())\n",
    "print(a.search('1,234').group())\n",
    "print(a.search('6,368,745').group())\n",
    "print(a.search('12,34,567'))\n",
    "print(a.search('1234'))"
   ]
  },
  {
   "cell_type": "code",
   "execution_count": 147,
   "metadata": {},
   "outputs": [
    {
     "name": "stdout",
     "output_type": "stream",
     "text": [
      "Haruto Watanabe\n",
      "Alice Watanabe\n",
      "Cop Watanabe\n",
      "None\n",
      "None\n",
      "None\n",
      "None\n"
     ]
    }
   ],
   "source": [
    "# 21. How would you write a regex that matches the full name of someone whose last name is Watanabe? You can assume that the \n",
    "# first name that comes before it will always be one word that begins with a capital letter. The regex must match the following:\n",
    "\n",
    "# 'Haruto Watanabe'\n",
    "# 'Alice Watanabe'\n",
    "# 'RoboCop Watanabe'\n",
    "# but not the following:\n",
    "# 'haruto Watanabe' (where the first name is not capitalized)\n",
    "# 'Mr. Watanabe' (where the preceding word has a nonletter character)\n",
    "# 'Watanabe' (which has no first name)\n",
    "# 'Haruto watanabe' (where Watanabe is not capitalized)\n",
    "# ------------------------------------------------------------------------------------------------------------------------------\n",
    "# 21.\n",
    "\n",
    "a = re.compile(r'[A-Z][a-z]*\\sWatanabe')\n",
    "print(a.search('Haruto Watanabe').group())\n",
    "print(a.search('Alice Watanabe').group())\n",
    "print(a.search('RoboCop Watanabe').group())   #Failing\n",
    "print(a.search('haruto Watanabe'))\n",
    "print(a.search('Mr. Watanabe'))\n",
    "print(a.search('Watanabe'))\n",
    "print(a.search('Haruto watanabe'))"
   ]
  },
  {
   "cell_type": "code",
   "execution_count": 149,
   "metadata": {},
   "outputs": [
    {
     "name": "stdout",
     "output_type": "stream",
     "text": [
      "Alice eats apples.\n",
      "Bob pets cats.\n",
      "Carol throws baseballs.\n",
      "Alice throws Apples.\n",
      "BOB EATS CATS.\n",
      "None\n",
      "None\n",
      "None\n"
     ]
    }
   ],
   "source": [
    "# 22. How would you write a regex that matches a sentence where the first word is either Alice, Bob, or Carol; the second word \n",
    "# is either eats, pets, or throws; the third word is apples, cats, or baseballs; and the sentence ends with a period? The regex \n",
    "# should be case-insensitive. It must match the following:\n",
    "    \n",
    "# 'Alice eats apples.'\n",
    "# 'Bob pets cats.'\n",
    "# 'Carol throws baseballs.'\n",
    "# 'Alice throws Apples.'\n",
    "# 'BOB EATS CATS.'\n",
    "# but not the following:\n",
    "# 'RoboCop eats apples.'\n",
    "# 'ALICE THROWS FOOTBALLS.'\n",
    "# 'Carol eats 7 cats.'\n",
    "# ------------------------------------------------------------------------------------------------------------------------------\n",
    "# 22.\n",
    "a = re.compile(r'(Alice|Bob|Carol)\\s(eats|pets|throws)\\s(apples|cats|baseballs)\\.', re.IGNORECASE)\n",
    "print(a.search('Alice eats apples.').group())\n",
    "print(a.search('Bob pets cats.').group())\n",
    "print(a.search('Carol throws baseballs.').group())\n",
    "print(a.search('Alice throws Apples.').group())\n",
    "print(a.search('BOB EATS CATS.').group())\n",
    "print(a.search('RoboCop eats apples.'))\n",
    "print(a.search('ALICE THROWS FOOTBALLS.'))\n",
    "print(a.search('Carol eats 7 cats.'))"
   ]
  }
 ],
 "metadata": {
  "kernelspec": {
   "display_name": "Python 3",
   "language": "python",
   "name": "python3"
  },
  "language_info": {
   "codemirror_mode": {
    "name": "ipython",
    "version": 3
   },
   "file_extension": ".py",
   "mimetype": "text/x-python",
   "name": "python",
   "nbconvert_exporter": "python",
   "pygments_lexer": "ipython3",
   "version": "3.7.7"
  }
 },
 "nbformat": 4,
 "nbformat_minor": 4
}
