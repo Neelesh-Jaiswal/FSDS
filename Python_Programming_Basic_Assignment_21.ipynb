{
 "cells": [
  {
   "cell_type": "code",
   "execution_count": 23,
   "metadata": {},
   "outputs": [
    {
     "name": "stdout",
     "output_type": "stream",
     "text": [
      "[10, 20, 42, 6]\n",
      "No list has been selected\n"
     ]
    }
   ],
   "source": [
    "# Question1\n",
    "\n",
    "# Write a function that takes a list and a number as arguments. Add the number to the end of the list, then remove the \n",
    "# first element of the list. The function should then return the updated list.\n",
    "\n",
    "# Examples\n",
    "# next_in_line([5, 6, 7, 8, 9], 1) ➞ [6, 7, 8, 9, 1]\n",
    "\n",
    "# next_in_line([7, 6, 3, 23, 17], 10) ➞ [6, 3, 23, 17, 10]\n",
    "\n",
    "# next_in_line([1, 10, 20, 42 ], 6) ➞ [10, 20, 42, 6]\n",
    "\n",
    "# next_in_line([], 6) ➞ \"No list has been selected\"\n",
    "\n",
    "def next_in_line(lis, new_element):\n",
    "    if len(lis) == 0:\n",
    "        return 'No list has been selected'\n",
    "    else:\n",
    "        lis.append(new_element)\n",
    "        return lis[1:]\n",
    "    \n",
    "print(next_in_line([1, 10, 20, 42 ], 6))\n",
    "print(next_in_line([], 6))"
   ]
  },
  {
   "cell_type": "code",
   "execution_count": 30,
   "metadata": {},
   "outputs": [
    {
     "data": {
      "text/plain": [
       "62600"
      ]
     },
     "execution_count": 30,
     "metadata": {},
     "output_type": "execute_result"
    }
   ],
   "source": [
    "# Question2\n",
    "\n",
    "# Create the function that takes a list of dictionaries and returns the sum of people's budgets.\n",
    "\n",
    "# Examples\n",
    "# get_budgets([\n",
    "#   { \"name\": \"John\", \"age\": 21, \"budget\": 23000 },\n",
    "#   { \"name\": \"Steve\",  \"age\": 32, \"budget\": 40000 },\n",
    "#   { \"name\": \"Martin\",  \"age\": 16, \"budget\": 2700 }\n",
    "# ]) ➞ 65700\n",
    "\n",
    "# get_budgets([\n",
    "#   { \"name\": \"John\",  \"age\": 21, \"budget\": 29000 },\n",
    "#   { \"name\": \"Steve\",  \"age\": 32, \"budget\": 32000 },\n",
    "#   { \"name\": \"Martin\",  \"age\": 16, \"budget\": 1600 }\n",
    "# ]) ➞ 62600\n",
    "\n",
    "def get_budgets(list_of_dict):\n",
    "    total = 0\n",
    "    for i in list_of_dict:\n",
    "        total += i['budget']\n",
    "    return total\n",
    "\n",
    "get_budgets([\n",
    "  { \"name\": \"John\",  \"age\": 21, \"budget\": 29000 },\n",
    "  { \"name\": \"Steve\",  \"age\": 32, \"budget\": 32000 },\n",
    "  { \"name\": \"Martin\",  \"age\": 16, \"budget\": 1600 }\n",
    "])"
   ]
  },
  {
   "cell_type": "code",
   "execution_count": 68,
   "metadata": {},
   "outputs": [
    {
     "data": {
      "text/plain": [
       "'aacijprstv'"
      ]
     },
     "execution_count": 68,
     "metadata": {},
     "output_type": "execute_result"
    }
   ],
   "source": [
    "# Question3\n",
    "\n",
    "# Create a function that takes a string and returns a string with its letters in alphabetical order.\n",
    "\n",
    "# Examples\n",
    "# alphabet_soup(\"hello\") ➞ \"ehllo\"\n",
    "\n",
    "# alphabet_soup(\"edabit\") ➞ \"abdeit\"\n",
    "\n",
    "# alphabet_soup(\"hacker\") ➞ \"acehkr\"\n",
    "\n",
    "# alphabet_soup(\"geek\") ➞ \"eegk\"\n",
    "\n",
    "# alphabet_soup(\"javascript\") ➞ \"aacijprstv\"\n",
    "\n",
    "# solved WITHOUT using inbuilt functions: sorted()\n",
    "\n",
    "def alphabet_soup(string):\n",
    "    list_str = list(string)\n",
    "    len_list_str = len(list_str)\n",
    "    \n",
    "    for i in range(len_list_str):\n",
    "        \n",
    "        for j in range(len_list_str -i -1):\n",
    "            \n",
    "            if list_str[j] > list_str[j+1]:\n",
    "                list_str[j],list_str[j+1] = list_str[j+1], list_str[j]\n",
    "    \n",
    "    return ''.join(list_str)\n",
    "\n",
    "alphabet_soup('javascript')"
   ]
  },
  {
   "cell_type": "code",
   "execution_count": null,
   "metadata": {},
   "outputs": [],
   "source": [
    "# Question4\n",
    "\n",
    "# Suppose that you invest $10,000 for 10 years at an interest rate of 6% compounded monthly. What will be the value of your \n",
    "# investment at the end of the 10 year period?\n",
    "# Create a function that accepts the principal p, the term in years t, the interest rate r, and the number of compounding \n",
    "# periods per year n. The function returns the value at the end of term rounded to the nearest cent.\n",
    "\n",
    "# For the example above:\n",
    "# compound_interest(10000, 10, 0.06, 12) ➞ 18193.97\n",
    "# Note that the interest rate is given as a decimal and n=12 because with monthly compounding there are 12 periods per `year \n",
    "# Compounding can also be done annually, quarterly, weekly, or daily.\n",
    "\n",
    "# Examples\n",
    "# compound_interest(100, 1, 0.05, 1) ➞ 105.0\n",
    "\n",
    "# compound_interest(3500, 15, 0.1, 4) ➞ 15399.26\n",
    "\n",
    "# compound_interest(100000, 20, 0.15, 365) ➞ 2007316.26\n"
   ]
  },
  {
   "cell_type": "code",
   "execution_count": 90,
   "metadata": {},
   "outputs": [
    {
     "data": {
      "text/plain": [
       "105.0"
      ]
     },
     "execution_count": 90,
     "metadata": {},
     "output_type": "execute_result"
    }
   ],
   "source": [
    "def compound_interest(p, t, r, n):\n",
    "    return p * (((1 + (r/n)) ** (n*y)))\n",
    "\n",
    "compound_interest(100, 1, 0.05, 1)\n"
   ]
  },
  {
   "cell_type": "code",
   "execution_count": 79,
   "metadata": {},
   "outputs": [
    {
     "data": {
      "text/plain": [
       "[1]"
      ]
     },
     "execution_count": 79,
     "metadata": {},
     "output_type": "execute_result"
    }
   ],
   "source": [
    "# Question5\n",
    "\n",
    "# Write a function that takes a list of elements and returns only the integers.\n",
    "\n",
    "# Examples\n",
    "# return_only_integer([9, 2, \"space\", \"car\", \"lion\", 16]) ➞ [9, 2, 16]\n",
    "\n",
    "# return_only_integer([\"hello\", 81, \"basketball\", 123, \"fox\"]) ➞ [81, 123]\n",
    "\n",
    "# return_only_integer([10, \"121\", 56, 20, \"car\", 3, \"lion\"]) ➞ [10, 56, 20, 3]\n",
    "\n",
    "# return_only_integer([\"String\",  True,  3.3,  1]) ➞ [1]\n",
    "\n",
    "from collections import defaultdict\n",
    "\n",
    "def return_only_integer(lis):\n",
    "    my_dict = defaultdict(list)  # returns the empty list if the the key is not found\n",
    "    \n",
    "    for i in lis:\n",
    "        my_dict[type(i)].append(i)\n",
    "    return my_dict[int]\n",
    "\n",
    "return_only_integer([\"String\",  True,  3.3,  1])"
   ]
  }
 ],
 "metadata": {
  "kernelspec": {
   "display_name": "Python 3",
   "language": "python",
   "name": "python3"
  },
  "language_info": {
   "codemirror_mode": {
    "name": "ipython",
    "version": 3
   },
   "file_extension": ".py",
   "mimetype": "text/x-python",
   "name": "python",
   "nbconvert_exporter": "python",
   "pygments_lexer": "ipython3",
   "version": "3.7.7"
  }
 },
 "nbformat": 4,
 "nbformat_minor": 4
}
