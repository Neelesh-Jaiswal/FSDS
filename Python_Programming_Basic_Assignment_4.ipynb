{
 "cells": [
  {
   "cell_type": "code",
   "execution_count": 21,
   "metadata": {},
   "outputs": [
    {
     "name": "stdout",
     "output_type": "stream",
     "text": [
      "Enter a number for which you want to find factorial:(only 3 attempts): -2\n",
      "Number must be at minimum 1.\n",
      "Enter a number for which you want to find factorial:(only 3 attempts): 3\n",
      "The factorial of a 3 is : 6\n"
     ]
    }
   ],
   "source": [
    "# 1.Write a Python Program to Find the Factorial of a Number?\n",
    "# *************************************************************************************************************************\n",
    "# 1.\n",
    "import pyinputplus as pyip\n",
    "def fact(n):\n",
    "    if n ==1 or n == 0:\n",
    "        return 1\n",
    "    elif n<0:\n",
    "        return 'Cannot find factorial of a negative number'\n",
    "    else:\n",
    "        return n*fact(n-1)\n",
    "\n",
    "if __name__ == '__main__':\n",
    "    number = pyip.inputInt(prompt = 'Enter a number for which you want to find factorial:(only 3 attempts): ',\n",
    "                   min = 1,limit = 3)\n",
    "    print(f'The factorial of a {number} is : {fact(number)}')"
   ]
  },
  {
   "cell_type": "code",
   "execution_count": 24,
   "metadata": {},
   "outputs": [
    {
     "name": "stdout",
     "output_type": "stream",
     "text": [
      "Enter a number: 5\n",
      "5 * 1 = 5\n",
      "5 * 2 = 10\n",
      "5 * 3 = 15\n",
      "5 * 4 = 20\n",
      "5 * 5 = 25\n",
      "5 * 6 = 30\n",
      "5 * 7 = 35\n",
      "5 * 8 = 40\n",
      "5 * 9 = 45\n",
      "5 * 10 = 50\n"
     ]
    }
   ],
   "source": [
    "# 2. Write a Python Program to Display the multiplication Table?\n",
    "# *************************************************************************************************************************\n",
    "# 2.\n",
    "def multiplication_table(n):\n",
    "    for i in range(1,11):\n",
    "        print(f'{n} * {i} = {n*i}')\n",
    "\n",
    "if __name__ == '__main__':\n",
    "    number = int(input('Enter a number: '))\n",
    "    multiplication_table(number)"
   ]
  },
  {
   "cell_type": "code",
   "execution_count": 3,
   "metadata": {
    "scrolled": true
   },
   "outputs": [
    {
     "name": "stdout",
     "output_type": "stream",
     "text": [
      "Enter the number of terms you want to print Fibonacci for: 15\n",
      "0\n",
      "1\n",
      "1\n",
      "2\n",
      "3\n",
      "5\n",
      "8\n",
      "13\n",
      "21\n",
      "34\n",
      "55\n",
      "89\n",
      "144\n",
      "233\n",
      "377\n"
     ]
    }
   ],
   "source": [
    "# 3. Write a Python Program to Print the Fibonacci sequence?\n",
    "# *************************************************************************************************************************\n",
    "# 3.\n",
    "def fibo(n):\n",
    "    a = 0\n",
    "    b = 1\n",
    "    output = []\n",
    "    for _ in range(n):\n",
    "        output.append(a)\n",
    "        a,b = b,a+b\n",
    "    return output\n",
    "\n",
    "if __name__ == '__main__':\n",
    "    number_of_terms = int(input('Enter the number of terms you want to print Fibonacci for: '))\n",
    "    for i in fibo(number_of_terms):\n",
    "        print(i)"
   ]
  },
  {
   "cell_type": "code",
   "execution_count": 1,
   "metadata": {
    "scrolled": true
   },
   "outputs": [
    {
     "name": "stdout",
     "output_type": "stream",
     "text": [
      "Enter a number: 153\n",
      "153\n"
     ]
    }
   ],
   "source": [
    "# 4. Write a Python Program to Check Armstrong Number?\n",
    "# *************************************************************************************************************************\n",
    "# 4.\n",
    "def armstrong(number):\n",
    "    a = []\n",
    "    for i in str(number):\n",
    "        if i.isdigit():\n",
    "            a.append(int(i)**3)\n",
    "    return number if sum(a) == number else 'NOT armstrong'\n",
    "#     if sum(a) == number:\n",
    "#         flag = 1\n",
    "#         #print(f'{number} is an armstrong number')\n",
    "#     return\n",
    "#         return f'{number} is an armstrong number'\n",
    "#     else:\n",
    "#         print(f'{number} is NOT an armstrong number')\n",
    "\n",
    "if __name__ == '__main__':\n",
    "    number = int(input('Enter a number: '))\n",
    "    print(armstrong(number))"
   ]
  },
  {
   "cell_type": "code",
   "execution_count": 8,
   "metadata": {},
   "outputs": [
    {
     "name": "stdout",
     "output_type": "stream",
     "text": [
      "Enter the lower range: 1\n",
      "Enter the upper range: 1000\n",
      "1\n",
      "153\n",
      "370\n",
      "371\n",
      "407\n"
     ]
    }
   ],
   "source": [
    "# 5. Write a Python Program to Find Armstrong Number in an Interval?\n",
    "# *************************************************************************************************************************\n",
    "# 5.\n",
    "# calling the previous program on the range function to get the armstrong numbers in an interval\n",
    "if __name__ == '__main__':\n",
    "    lower = int(input('Enter the lower range: '))\n",
    "    upper = int(input('Enter the upper range: '))\n",
    "    for i in range(lower,upper + 1):\n",
    "        a = armstrong(i)\n",
    "        if str(a).isdigit():\n",
    "            print(a)"
   ]
  },
  {
   "cell_type": "code",
   "execution_count": 12,
   "metadata": {},
   "outputs": [
    {
     "name": "stdout",
     "output_type": "stream",
     "text": [
      "Enter a number: 1000\n",
      "The sum is:  500500.0\n"
     ]
    }
   ],
   "source": [
    "# 6. Write a Python Program to Find the Sum of Natural Numbers?\n",
    "# *************************************************************************************************************************\n",
    "# 6.\n",
    "# formula is sum = n(n+1)/2\n",
    "def sum_of_natural_numbers(n):\n",
    "    return n*(n+1)/2\n",
    "\n",
    "if __name__ == '__main__':\n",
    "    number = int(input('Enter a number: '))\n",
    "    print('The sum is: ',sum_of_natural_numbers(number))"
   ]
  }
 ],
 "metadata": {
  "kernelspec": {
   "display_name": "Python 3",
   "language": "python",
   "name": "python3"
  },
  "language_info": {
   "codemirror_mode": {
    "name": "ipython",
    "version": 3
   },
   "file_extension": ".py",
   "mimetype": "text/x-python",
   "name": "python",
   "nbconvert_exporter": "python",
   "pygments_lexer": "ipython3",
   "version": "3.7.7"
  }
 },
 "nbformat": 4,
 "nbformat_minor": 4
}
