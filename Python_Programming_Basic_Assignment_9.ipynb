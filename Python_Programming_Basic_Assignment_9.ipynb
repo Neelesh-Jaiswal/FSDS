{
 "cells": [
  {
   "cell_type": "code",
   "execution_count": 22,
   "metadata": {},
   "outputs": [
    {
     "name": "stdout",
     "output_type": "stream",
     "text": [
      "Enter a number: 135\n",
      "135 is Disarium\n"
     ]
    }
   ],
   "source": [
    "# 1. Write a Python program to check if the given number is a Disarium Number?\n",
    "# *************************************************************************************************************************\n",
    "# 1.\n",
    "\n",
    "def disarium(num):\n",
    "    num,ans = str(num),0\n",
    "    \n",
    "    for i,j in zip(num,range(1, len(num)+1)):\n",
    "        ans = ans + pow(int(i),int(j))\n",
    "    \n",
    "    return 'Disarium' if ans == int(num) else 'Not Disarium'\n",
    "\n",
    "if __name__ == '__main__':\n",
    "    number = int(input('Enter a number: '))\n",
    "    print(f'{number} is {disarium(number)}')"
   ]
  },
  {
   "cell_type": "code",
   "execution_count": 27,
   "metadata": {
    "scrolled": true
   },
   "outputs": [
    {
     "name": "stdout",
     "output_type": "stream",
     "text": [
      "1\n",
      "2\n",
      "3\n",
      "4\n",
      "5\n",
      "6\n",
      "7\n",
      "8\n",
      "9\n",
      "89\n"
     ]
    }
   ],
   "source": [
    "# 2. Write a Python program to print all disarium numbers between 1 to 100?\n",
    "# *************************************************************************************************************************\n",
    "# 2.\n",
    "\n",
    "# using the above function\n",
    "for i in range(1,101):\n",
    "    if disarium(i) == 'Disarium':\n",
    "        print(i)"
   ]
  },
  {
   "cell_type": "code",
   "execution_count": 113,
   "metadata": {},
   "outputs": [
    {
     "name": "stdout",
     "output_type": "stream",
     "text": [
      "Ente a number: 7\n",
      "7 is a happy number\n"
     ]
    }
   ],
   "source": [
    "# 3. Write a Python program to check if the given number is Happy Number?\n",
    "# *************************************************************************************************************************\n",
    "# 3.\n",
    "def happy(n):\n",
    "    past = set()\n",
    "    while n != 1:\n",
    "        n = sum(int(i)**2 for i in str(n))\n",
    "        if n in past:\n",
    "            return False\n",
    "        past.add(n)\n",
    "#     print(past)\n",
    "    return True\n",
    "\n",
    "if __name__ == '__main__':\n",
    "    number  = int(input('Ente a number: '))\n",
    "    res = happy(number)\n",
    "    if res:\n",
    "        print(f'{number} is a happy number')\n",
    "    else:\n",
    "        print(f'{number} is NOT a happy number')"
   ]
  },
  {
   "cell_type": "code",
   "execution_count": 114,
   "metadata": {
    "scrolled": true
   },
   "outputs": [
    {
     "name": "stdout",
     "output_type": "stream",
     "text": [
      "1\n",
      "7\n",
      "10\n",
      "13\n",
      "19\n",
      "23\n",
      "28\n",
      "31\n",
      "32\n",
      "44\n",
      "49\n",
      "68\n",
      "70\n",
      "79\n",
      "82\n",
      "86\n",
      "91\n",
      "94\n",
      "97\n",
      "100\n"
     ]
    }
   ],
   "source": [
    "# 4. Write a Python program to print all happy numbers between 1 and 100?\n",
    "# *************************************************************************************************************************\n",
    "# 4.\n",
    "#using the above program\n",
    "for i in range(1,101):\n",
    "    if happy(i):\n",
    "        print(i)"
   ]
  },
  {
   "cell_type": "code",
   "execution_count": 26,
   "metadata": {},
   "outputs": [
    {
     "name": "stdout",
     "output_type": "stream",
     "text": [
      "Enter a number: 6804\n",
      "6804 is Harshad Number\n"
     ]
    }
   ],
   "source": [
    "# 5. Write a Python program to determine whether the given number is a Harshad Number?\n",
    "# *************************************************************************************************************************\n",
    "# 5.\n",
    "\n",
    "def harshad(num):\n",
    "    sum_of_digits = sum([int(i) for i in str(num)])\n",
    "    return 'Harshad Number' if num % sum_of_digits == 0 else 'Not a Harshad Number'\n",
    "\n",
    "if __name__ == '__main__':\n",
    "    number = int(input('Enter a number: '))\n",
    "    print(f'{number} is {harshad(number)}')"
   ]
  },
  {
   "cell_type": "code",
   "execution_count": 78,
   "metadata": {},
   "outputs": [
    {
     "name": "stdout",
     "output_type": "stream",
     "text": [
      "2 is pronic 1*2 = 2\n",
      "6 is pronic 2*3 = 6\n",
      "12 is pronic 3*4 = 12\n",
      "20 is pronic 4*5 = 20\n",
      "30 is pronic 5*6 = 30\n",
      "42 is pronic 6*7 = 42\n",
      "56 is pronic 7*8 = 56\n",
      "72 is pronic 8*9 = 72\n",
      "90 is pronic 9*10 = 90\n"
     ]
    }
   ],
   "source": [
    "# 6. Write a Python program to print all pronic numbers between 1 and 100?\n",
    "# *************************************************************************************************************************\n",
    "# 6.\n",
    "def pronic(num):\n",
    "    flag = 0\n",
    "    for i in range(1,num):\n",
    "        if i * (i+1) == num:\n",
    "            print(f'{num} is pronic ',end='')\n",
    "            print(f'{i}*{i+1} = {num}')\n",
    "            flag = 1\n",
    "            break\n",
    "    return f'{num} is pronic' if flag == 1 else f'{num} is Not pronic'\n",
    "\n",
    "if __name__ == '__main__':\n",
    "    for i in range(1,101):\n",
    "        if pronic(i) == True:\n",
    "            print(pronic(i))"
   ]
  }
 ],
 "metadata": {
  "kernelspec": {
   "display_name": "Python 3",
   "language": "python",
   "name": "python3"
  },
  "language_info": {
   "codemirror_mode": {
    "name": "ipython",
    "version": 3
   },
   "file_extension": ".py",
   "mimetype": "text/x-python",
   "name": "python",
   "nbconvert_exporter": "python",
   "pygments_lexer": "ipython3",
   "version": "3.7.7"
  }
 },
 "nbformat": 4,
 "nbformat_minor": 4
}
