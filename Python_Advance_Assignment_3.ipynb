{
 "cells": [
  {
   "cell_type": "code",
   "execution_count": 8,
   "metadata": {},
   "outputs": [
    {
     "name": "stdout",
     "output_type": "stream",
     "text": [
      "52\n",
      "420\n",
      "***********************************Implementtations of Abstract method in Abstract Base Class**********************************\n",
      "Some implementation!\n",
      "The enrichment from AnotherSubclass\n"
     ]
    }
   ],
   "source": [
    "# 1. \n",
    "# What is the concept of an abstract superclass?\n",
    "# *************************************************************************************************************************\n",
    "\n",
    "# Abstract superclass are classes that contain one or more abstract methods. An abstract method is a method that is \n",
    "# declared, but contains no implementation. Abstract classes cannot be instantiated, and require subclasses to provide \n",
    "# implementations for the abstract methods.\n",
    "\n",
    "# Python on its own doesn't provide abstract classes.It comes with a module which provides the infrastructure for defining\n",
    "# Abstract Base Classes (ABCs)\n",
    "\n",
    "from abc import ABC, abstractmethod\n",
    "\n",
    "class AbstractClassExample(ABC):\n",
    "    def __init__(self,value):\n",
    "        self.value = value\n",
    "        super().__init__()\n",
    "    \n",
    "    @abstractmethod\n",
    "    def do_something(self):\n",
    "        pass\n",
    "    \n",
    "# You will notice that we haven't implemented the do_something method, even though we are required to implement it,because \n",
    "# this method is decorated as an abstract method with the decorator \"abstractmethod\"\n",
    "\n",
    "#VERY IMPORTANT!!!\n",
    "\n",
    "# A class that is derived from an abstract class cannot be instantiated unless all of its abstract methods are overridden.\n",
    "    \n",
    "class DoAdd42(AbstractClassExample): \n",
    "\n",
    "    def do_something(self):      # implementing do_something()\n",
    "        return self.value + 42\n",
    "    \n",
    "class DoMul42(AbstractClassExample):\n",
    "   \n",
    "    def do_something(self):      # implementing do_something()\n",
    "        return self.value * 42\n",
    "    \n",
    "x = DoAdd42(10)\n",
    "y = DoMul42(10)\n",
    "\n",
    "print(x.do_something())\n",
    "print(y.do_something())\n",
    "\n",
    "# We might get the intution that abstract methods can't be implemented in the abstract base class. This impression is \n",
    "# wrong: An abstract method can have an implementation in the abstract class! Even if they are implemented, designers of \n",
    "# subclasses will be forced to override the implementation.\n",
    "\n",
    "# Like in other cases of \"normal\" inheritance, the abstract method can be invoked with super() call mechanism.This enables \n",
    "# providing some basic functionality in the abstract method, which can be enriched by the subclass implementation.\n",
    "\n",
    "print('Implementtations of Abstract method in Abstract Base Class'.center(127,'*'))\n",
    "\n",
    "class AbstractClassExample(ABC):\n",
    "    \n",
    "    @abstractmethod\n",
    "    def do_something(self):\n",
    "        print(\"Some implementation!\")\n",
    "        \n",
    "class AnotherSubclass(AbstractClassExample):\n",
    "\n",
    "    def do_something(self):\n",
    "        super().do_something()\n",
    "        print(\"The enrichment from AnotherSubclass\")\n",
    "        \n",
    "x = AnotherSubclass()\n",
    "x.do_something()"
   ]
  },
  {
   "cell_type": "code",
   "execution_count": 11,
   "metadata": {},
   "outputs": [
    {
     "name": "stdout",
     "output_type": "stream",
     "text": [
      "fish\n",
      "fish\n",
      "ocean\n",
      "5\n"
     ]
    }
   ],
   "source": [
    "# 2. \n",
    "# What happens when a class statement's top level contains a basic assignment statement?\n",
    "# *************************************************************************************************************************\n",
    "\n",
    "# It is called a class variable.\n",
    "\n",
    "# Class variables refer to variables that are made within a class.\n",
    "# It is generated when you define the class.\n",
    "# It's shared with all the instance of that class.\n",
    "\n",
    "# Example:\n",
    "    \n",
    "class Shark:\n",
    "    animal_type = \"fish\"\n",
    "    location = \"ocean\"\n",
    "    followers = 5\n",
    "\n",
    "new_shark = Shark()\n",
    "\n",
    "print(new_shark.animal_type)\n",
    "print(Shark.animal_type)\n",
    "\n",
    "print(new_shark.location)\n",
    "print(new_shark.followers)"
   ]
  },
  {
   "cell_type": "code",
   "execution_count": 32,
   "metadata": {},
   "outputs": [
    {
     "name": "stdout",
     "output_type": "stream",
     "text": [
      "2\n",
      "1\n"
     ]
    }
   ],
   "source": [
    "# 3. \n",
    "# Why does a class need to manually call a superclass's __init__ method?\n",
    "# *************************************************************************************************************************\n",
    "\n",
    "# If we need something from super's __init__() to be done in addition to what is being done in the current \n",
    "# class's __init__, then we must call it manually, since that will not happen automatically. But if we don't need anything \n",
    "# from super's __init__, no need to call it. \n",
    "\n",
    "# Example:\n",
    "\n",
    "class C():\n",
    "    def __init__(self):\n",
    "            self.b = 1\n",
    "\n",
    "class D(C):\n",
    "    def __init__(self):\n",
    "        super().__init__() # using super's __init__() - first way\n",
    "        C.__init__(self)  # using super's __init__() - second way. Any of the two ways can use __init__ of base class\n",
    "        self.a = 2\n",
    "\n",
    "d = D()\n",
    "print(d.a)\n",
    "print(d.b) # This works because of the call to super's init"
   ]
  },
  {
   "cell_type": "code",
   "execution_count": 39,
   "metadata": {},
   "outputs": [
    {
     "name": "stdout",
     "output_type": "stream",
     "text": [
      "this spam is lite!\n",
      "updating spam!\n",
      "updating spam!\n"
     ]
    }
   ],
   "source": [
    "# 4. \n",
    "# How can you augment, instead of completely replacing, an inherited method?\n",
    "# *************************************************************************************************************************\n",
    "\n",
    "# To augment instead of completely replacing an inherited method, redefine it in a subclass, but call back to the \n",
    "# superclass’s version of the method manually from the new version of the method in the subclass. That is, pass the self \n",
    "# instance to the superclass’s version of the method manually: Superclass.method(self, ...).\n",
    "\n",
    "# A class method can always be called either through an instance (the usual way, where Python sends the instance to the \n",
    "# self argument automatically) or through the class (the less common scheme, where you must pass the instance manually)\n",
    "\n",
    "# instance.method(args...) OR class.method(instance, args...)\n",
    "\n",
    "class Spam:\n",
    "    def update(self):\n",
    "        print('updating spam!')\n",
    "\n",
    "class SpamLite(Spam):\n",
    "    def update(self):  # augmenting update() method\n",
    "        print('this spam is lite!')\n",
    "        super().update()       # 1st way to call base class method\n",
    "        Spam.update(self)      # 2nd way to call base class method\n",
    "\n",
    "obj = SpamLite()\n",
    "obj.update()"
   ]
  },
  {
   "cell_type": "code",
   "execution_count": 58,
   "metadata": {},
   "outputs": [],
   "source": [
    "# 5. \n",
    "# How is the local scope of a class different from that of a function?\n",
    "# *************************************************************************************************************************\n",
    "\n",
    "# CLass local scope:\n",
    "\n",
    "# A class local scope has access to enclosing local scopes, but it does not serve as an enclosing local scope to \n",
    "# further nested code. Like modules, the class local scope changes into an attribute namespace after the class statement \n",
    "# is run.\n",
    "\n",
    "# Function local scope:\n",
    "\n",
    "# The local scope or function scope is a Python scope created at function calls. Every time you call a function, you’re \n",
    "# also creating a new local scope. On the other hand, you can think of each def statement and lambda expression as a \n",
    "# blueprint for new local scopes. These local scopes will come into existence whenever you call the function at hand.\n"
   ]
  }
 ],
 "metadata": {
  "kernelspec": {
   "display_name": "Python 3",
   "language": "python",
   "name": "python3"
  },
  "language_info": {
   "codemirror_mode": {
    "name": "ipython",
    "version": 3
   },
   "file_extension": ".py",
   "mimetype": "text/x-python",
   "name": "python",
   "nbconvert_exporter": "python",
   "pygments_lexer": "ipython3",
   "version": "3.7.7"
  }
 },
 "nbformat": 4,
 "nbformat_minor": 4
}
