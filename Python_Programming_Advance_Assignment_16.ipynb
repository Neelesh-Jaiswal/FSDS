{
 "cells": [
  {
   "cell_type": "code",
   "execution_count": 1,
   "metadata": {},
   "outputs": [
    {
     "name": "stdout",
     "output_type": "stream",
     "text": [
      "True\n",
      "True\n",
      "False\n",
      "False\n",
      "False\n"
     ]
    }
   ],
   "source": [
    "# 1. \n",
    "# Rondo Form is a type of musical structure, in which there is a recurring theme/refrain, notated as A. Here are the rules \n",
    "# for valid rondo forms:\n",
    "\n",
    "#    - Rondo forms always start and end with an A section.\n",
    "#    - In between the A sections, there should be contrasting sections notated as B, then C, then D, etc... No letter \n",
    "#     should be skipped.\n",
    "#    - There shouldn't be any repeats in the sequence (such as ABBACCA).\n",
    "\n",
    "# Create a function which validates whether a given string is a valid Rondo Form.\n",
    "\n",
    "# Examples\n",
    "\n",
    "# valid_rondo(\"ABACADAEAFAGAHAIAJA\") ➞ True\n",
    "\n",
    "# valid_rondo(\"ABA\") ➞ True\n",
    "\n",
    "# valid_rondo(\"ABBACCA\") ➞ False\n",
    "\n",
    "# valid_rondo(\"ACAC\") ➞ False\n",
    "\n",
    "# valid_rondo(\"A\") ➞ False\n",
    "\n",
    "def valid_rondo(string):\n",
    "    if len(string)>=3:\n",
    "    \n",
    "        dict_alpha = {i:string.count(i) for i in string}\n",
    "        \n",
    "        if dict_alpha['A'] == len(dict_alpha.keys()):\n",
    "            len_string = len(string)\n",
    "            compare = ''.join(chr(i) for i in range(65, 65+(len_string//2) + 1))\n",
    "            \n",
    "            if string[0] + string[1::2] == compare:\n",
    "                return True\n",
    "    return False\n",
    "\n",
    "print(valid_rondo('ABACADAEAFAGAHAIAJA'))\n",
    "print(valid_rondo('ABA'))\n",
    "print(valid_rondo('ABBACCA'))\n",
    "print(valid_rondo('ACAC'))\n",
    "print(valid_rondo('A'))"
   ]
  },
  {
   "cell_type": "code",
   "execution_count": 2,
   "metadata": {},
   "outputs": [
    {
     "name": "stdout",
     "output_type": "stream",
     "text": [
      "I have a cat.\n",
      " I have a mat.\n",
      " Things are going swell.\n",
      "\n"
     ]
    }
   ],
   "source": [
    "# 2. \n",
    "# Create a function that returns the whole of the first sentence which contains a specific word. Include the full stop at \n",
    "# the end of the sentence.\n",
    "\n",
    "# Examples\n",
    "\n",
    "# txt = \"I have a cat. I have a mat. Things are going swell.\"\n",
    "\n",
    "# sentence_searcher(txt, \"have\") ➞ \"I have a cat.\"\n",
    "\n",
    "# sentence_searcher(txt, \"MAT\") ➞ \"I have a mat.\"\n",
    "\n",
    "# sentence_searcher(txt, \"things\") ➞ \"Things are going swell.\"\n",
    "\n",
    "# sentence_searcher(txt, \"flat\") ➞ \"\"\n",
    "\n",
    "def sentence_searcher(txt,search):\n",
    "    orig_split = txt.split('.')\n",
    "    lower_orig_split = txt.lower().split('.')\n",
    "    search = search.lower()\n",
    "    \n",
    "    for i,j in zip(lower_orig_split, orig_split):\n",
    "        if search in i:\n",
    "            result = j\n",
    "            result += '.'\n",
    "            return result\n",
    "    return ''\n",
    "\n",
    "txt = \"I have a cat. I have a mat. Things are going swell.\"\n",
    "\n",
    "print(sentence_searcher(txt,'have'))\n",
    "print(sentence_searcher(txt,'MAT'))\n",
    "print(sentence_searcher(txt,'things'))\n",
    "print(sentence_searcher(txt,'flat'))"
   ]
  },
  {
   "cell_type": "code",
   "execution_count": 3,
   "metadata": {},
   "outputs": [
    {
     "name": "stdout",
     "output_type": "stream",
     "text": [
      "1 100\n",
      "4 30 200 1000\n",
      "10 200 4000 50000\n"
     ]
    }
   ],
   "source": [
    "# 3. \n",
    "# Given a number, find the \"round \"of each digit of the number. An integer is called \"round\" if all its digits except the \n",
    "# leftmost (most significant) are equal to zero.\n",
    "\n",
    "#     - Round numbers: 4000, 1, 9, 800, 90\n",
    "#     - Not round numbers: 110, 707, 222, 1001\n",
    "\n",
    "# Create a function that takes a number and returns the \"round\" of each digit (except if the digit is zero) as a string. \n",
    "# Check out the following examples for more clarification.\n",
    "\n",
    "# Examples\n",
    "\n",
    "# sum_round(101) ➞ \"1 100\"\n",
    "\n",
    "# sum_round(1234) ➞ \"4 30 200 1000\"\n",
    "\n",
    "# sum_round(54210) ➞ \"10 200 4000 50000\"\n",
    "\n",
    "def sum_round(num):\n",
    "    result = []\n",
    "\n",
    "    for index, digit in enumerate(str(num)[::-1]):\n",
    "        if int(digit) != 0:\n",
    "            result.append(digit + ('0' * index))\n",
    "\n",
    "    return ' '.join(result)\n",
    "\n",
    "print(sum_round(101))\n",
    "print(sum_round(1234))\n",
    "print(sum_round(54210))"
   ]
  },
  {
   "cell_type": "code",
   "execution_count": 4,
   "metadata": {},
   "outputs": [
    {
     "name": "stdout",
     "output_type": "stream",
     "text": [
      "[[1, 2, 3, 4, 5], [2, 4, 6, 8, 10], [3, 6, 9, 12, 15], [4, 8, 12, 16, 20], [5, 10, 15, 20, 25]]\n",
      "[[1]]\n",
      "[[1, 2, 3], [2, 4, 6], [3, 6, 9]]\n"
     ]
    }
   ],
   "source": [
    "# 4. Your task, is to create N x N multiplication table, of size n provided in parameter.\n",
    "\n",
    "# For example, when n is 5, the multiplication table is:\n",
    "\n",
    "#    - 1, 2, 3, 4, 5\n",
    "#    - 2, 4, 6, 8, 10\n",
    "#    - 3, 6, 9, 12, 15\n",
    "#    - 4, 8, 12, 16, 20\n",
    "#    - 5, 10, 15, 20, 25\n",
    "\n",
    "# This example will result in:\n",
    "\n",
    "# [[1, 2, 3, 4, 5], [2, 4, 6, 8, 10], [3, 6, 9, 12, 15], [4, 8, 12, 16, 20], [5, 10, 15, 20, 25]]\n",
    "\n",
    "# Examples\n",
    "\n",
    "# multiplication_table(1) ➞ [[1]]\n",
    "\n",
    "# multiplication_table(3) ➞ [[1, 2, 3], [2, 4, 6], [3, 6, 9]]\n",
    "\n",
    "def multiplication_table(n):\n",
    "    res = []\n",
    "    for i in range(1,n+1):\n",
    "        temp = [i*j for j in range(1,n+1)]\n",
    "        res.append(temp)\n",
    "    return res\n",
    "\n",
    "print(multiplication_table(5))\n",
    "print(multiplication_table(1))\n",
    "print(multiplication_table(3))"
   ]
  },
  {
   "cell_type": "code",
   "execution_count": 5,
   "metadata": {},
   "outputs": [
    {
     "name": "stdout",
     "output_type": "stream",
     "text": [
      "True\n",
      "True\n",
      "False\n",
      "False\n"
     ]
    }
   ],
   "source": [
    "# 5. \n",
    "# Create a function that returns True if two lines rhyme and False otherwise. For the purposes of this exercise, two \n",
    "# lines rhyme if the last word from each sentence contains the same vowels.\n",
    "\n",
    "# Examples\n",
    "\n",
    "# does_rhyme(\"Sam I am!\", \"Green eggs and ham.\") ➞ True\n",
    "\n",
    "# does_rhyme(\"Sam I am!\", \"Green eggs and HAM.\") ➞ True\n",
    "# # Capitalization and punctuation should not matter.\n",
    "\n",
    "# does_rhyme(\"You are off to the races\", \"a splendid day.\") ➞ False\n",
    "\n",
    "# does_rhyme(\"and frequently do?\", \"you gotta move.\") ➞ False\n",
    "\n",
    "def does_rhyme(sentence1, sentence2):\n",
    "    last_word_sentence1 = sentence1.split(' ')[-1]\n",
    "    last_word_sentence2 = sentence2.split(' ')[-1]\n",
    "    \n",
    "    last_word_sentence1 = ''.join(i for i in last_word_sentence1 if i.isalpha()).lower()\n",
    "    last_word_sentence2 = ''.join(i for i in last_word_sentence2 if i.isalpha()).lower()\n",
    "    \n",
    "    vowel = 'aeiou'\n",
    "    result1 = [i for i in last_word_sentence1 if i in vowel]\n",
    "    result2 = [i for i in last_word_sentence2 if i in vowel]\n",
    "    \n",
    "    return True if result1 == result2 else False\n",
    "\n",
    "print(does_rhyme(\"Sam I am!\", \"Green eggs and ham.\"))\n",
    "print(does_rhyme(\"Sam I am!\", \"Green eggs and HAM.\"))\n",
    "print(does_rhyme(\"You are off to the races\", \"a splendid day.\"))\n",
    "print(does_rhyme(\"and frequently do?\", \"you gotta move.\"))"
   ]
  }
 ],
 "metadata": {
  "kernelspec": {
   "display_name": "Python 3",
   "language": "python",
   "name": "python3"
  },
  "language_info": {
   "codemirror_mode": {
    "name": "ipython",
    "version": 3
   },
   "file_extension": ".py",
   "mimetype": "text/x-python",
   "name": "python",
   "nbconvert_exporter": "python",
   "pygments_lexer": "ipython3",
   "version": "3.7.7"
  }
 },
 "nbformat": 4,
 "nbformat_minor": 4
}
