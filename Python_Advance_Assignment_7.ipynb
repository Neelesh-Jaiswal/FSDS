{
 "cells": [
  {
   "cell_type": "code",
   "execution_count": null,
   "metadata": {},
   "outputs": [],
   "source": [
    "# Q1. \n",
    "# What is the purpose of the try statement?\n",
    "# *************************************************************************************************************************\n",
    "\n",
    "# The try block lets you test a block of code for errors. It catches and recovers from exceptions."
   ]
  },
  {
   "cell_type": "code",
   "execution_count": 1,
   "metadata": {},
   "outputs": [
    {
     "name": "stdout",
     "output_type": "stream",
     "text": [
      "Enter your age: 24\n",
      "Welcome, you are old enough.\n",
      "\n",
      "*******************************************************************************************************************************\n",
      "\n",
      "Yeah ! Your answer is : 1\n",
      "FINALLY block is always executed\n",
      "Sorry ! You are dividing by zero \n",
      "FINALLY block is always executed\n"
     ]
    }
   ],
   "source": [
    "# Q2. \n",
    "# What are the two most popular try statement variations?\n",
    "# *************************************************************************************************************************\n",
    "\n",
    "# try-except-esle statement --> for catching exceptions\n",
    "\n",
    "# We can include an else clause when catching exceptions with a try statement. The statements inside the else block will \n",
    "# be executed only if the code inside the try block doesn’t generate an exception\n",
    "\n",
    "# Example:\n",
    "try:\n",
    "    age=int(input('Enter your age: '))\n",
    "except:\n",
    "    print ('You have entered an invalid value.')\n",
    "else:\n",
    "    if age <= 21:\n",
    "        print('You are not allowed to enter, you are too young.')\n",
    "    else:\n",
    "        print('Welcome, you are old enough.')\n",
    "\n",
    "print('\\n'+'*'*127+'\\n')\n",
    "\n",
    "# try-finally statement --> for specifying cleanup actions that must occur whether an exception is raised or not\n",
    "\n",
    "# Example:\n",
    "def divide(x, y):\n",
    "    try:\n",
    "        result = x // y\n",
    "    except ZeroDivisionError:\n",
    "        print(\"Sorry ! You are dividing by zero \")\n",
    "    else:\n",
    "        print(\"Yeah ! Your answer is :\", result)\n",
    "    finally:\n",
    "        print('FINALLY block is always executed')\n",
    "\n",
    "divide(3, 2)\n",
    "divide(3, 0)\n",
    "\n",
    "\n"
   ]
  },
  {
   "cell_type": "code",
   "execution_count": 2,
   "metadata": {},
   "outputs": [
    {
     "ename": "Exception",
     "evalue": "x should not exceed 5. The value of x was: 10",
     "output_type": "error",
     "traceback": [
      "\u001b[1;31m---------------------------------------------------------------------------\u001b[0m",
      "\u001b[1;31mException\u001b[0m                                 Traceback (most recent call last)",
      "\u001b[1;32m<ipython-input-2-1c85662301e7>\u001b[0m in \u001b[0;36m<module>\u001b[1;34m\u001b[0m\n\u001b[0;32m      8\u001b[0m \u001b[0mx\u001b[0m \u001b[1;33m=\u001b[0m \u001b[1;36m10\u001b[0m\u001b[1;33m\u001b[0m\u001b[1;33m\u001b[0m\u001b[0m\n\u001b[0;32m      9\u001b[0m \u001b[1;32mif\u001b[0m \u001b[0mx\u001b[0m \u001b[1;33m>\u001b[0m \u001b[1;36m5\u001b[0m\u001b[1;33m:\u001b[0m\u001b[1;33m\u001b[0m\u001b[1;33m\u001b[0m\u001b[0m\n\u001b[1;32m---> 10\u001b[1;33m     \u001b[1;32mraise\u001b[0m \u001b[0mException\u001b[0m\u001b[1;33m(\u001b[0m\u001b[1;34m'x should not exceed 5. The value of x was: {}'\u001b[0m\u001b[1;33m.\u001b[0m\u001b[0mformat\u001b[0m\u001b[1;33m(\u001b[0m\u001b[0mx\u001b[0m\u001b[1;33m)\u001b[0m\u001b[1;33m)\u001b[0m\u001b[1;33m\u001b[0m\u001b[1;33m\u001b[0m\u001b[0m\n\u001b[0m",
      "\u001b[1;31mException\u001b[0m: x should not exceed 5. The value of x was: 10"
     ]
    }
   ],
   "source": [
    "# Q3. \n",
    "# What is the purpose of the raise statement?\n",
    "# *************************************************************************************************************************\n",
    "\n",
    "# We use raise in order to manually trigger an exception(built-in OR user-defined). To be used with try and except blocks.\n",
    "\n",
    "# Example:\n",
    "x = 10\n",
    "if x > 5:\n",
    "    raise Exception('x should not exceed 5. The value of x was: {}'.format(x))"
   ]
  },
  {
   "cell_type": "code",
   "execution_count": 12,
   "metadata": {},
   "outputs": [
    {
     "ename": "AssertionError",
     "evalue": "No values in the list to compute average",
     "output_type": "error",
     "traceback": [
      "\u001b[1;31m---------------------------------------------------------------------------\u001b[0m",
      "\u001b[1;31mAssertionError\u001b[0m                            Traceback (most recent call last)",
      "\u001b[1;32m<ipython-input-12-413a085614a2>\u001b[0m in \u001b[0;36m<module>\u001b[1;34m\u001b[0m\n\u001b[0;32m     16\u001b[0m     \u001b[1;32mreturn\u001b[0m \u001b[0mavg\u001b[0m\u001b[1;33m\u001b[0m\u001b[1;33m\u001b[0m\u001b[0m\n\u001b[0;32m     17\u001b[0m \u001b[1;33m\u001b[0m\u001b[0m\n\u001b[1;32m---> 18\u001b[1;33m \u001b[0mavg_value\u001b[0m\u001b[1;33m(\u001b[0m\u001b[1;33m[\u001b[0m\u001b[1;33m]\u001b[0m\u001b[1;33m)\u001b[0m\u001b[1;33m\u001b[0m\u001b[1;33m\u001b[0m\u001b[0m\n\u001b[0m",
      "\u001b[1;32m<ipython-input-12-413a085614a2>\u001b[0m in \u001b[0;36mavg_value\u001b[1;34m(lst)\u001b[0m\n\u001b[0;32m     12\u001b[0m \u001b[1;33m\u001b[0m\u001b[0m\n\u001b[0;32m     13\u001b[0m \u001b[1;32mdef\u001b[0m \u001b[0mavg_value\u001b[0m\u001b[1;33m(\u001b[0m\u001b[0mlst\u001b[0m\u001b[1;33m)\u001b[0m\u001b[1;33m:\u001b[0m\u001b[1;33m\u001b[0m\u001b[1;33m\u001b[0m\u001b[0m\n\u001b[1;32m---> 14\u001b[1;33m     \u001b[1;32massert\u001b[0m \u001b[1;32mnot\u001b[0m \u001b[0mlen\u001b[0m\u001b[1;33m(\u001b[0m\u001b[0mlst\u001b[0m\u001b[1;33m)\u001b[0m \u001b[1;33m==\u001b[0m \u001b[1;36m0\u001b[0m\u001b[1;33m,\u001b[0m \u001b[1;34m'No values in the list to compute average'\u001b[0m\u001b[1;33m\u001b[0m\u001b[1;33m\u001b[0m\u001b[0m\n\u001b[0m\u001b[0;32m     15\u001b[0m     \u001b[0mavg\u001b[0m \u001b[1;33m=\u001b[0m \u001b[0msum\u001b[0m\u001b[1;33m(\u001b[0m\u001b[0mlst\u001b[0m\u001b[1;33m)\u001b[0m \u001b[1;33m/\u001b[0m \u001b[0mlen\u001b[0m\u001b[1;33m(\u001b[0m\u001b[0mlst\u001b[0m\u001b[1;33m)\u001b[0m\u001b[1;33m\u001b[0m\u001b[1;33m\u001b[0m\u001b[0m\n\u001b[0;32m     16\u001b[0m     \u001b[1;32mreturn\u001b[0m \u001b[0mavg\u001b[0m\u001b[1;33m\u001b[0m\u001b[1;33m\u001b[0m\u001b[0m\n",
      "\u001b[1;31mAssertionError\u001b[0m: No values in the list to compute average"
     ]
    }
   ],
   "source": [
    "# Q4. \n",
    "# What does the assert statement do, and what other statement is it like?\n",
    "# *************************************************************************************************************************\n",
    "\n",
    "# We use assert to check and document invariants of your code. Invariants are conditions in the middle of your code that \n",
    "# should always be true. The assert statement raises an AssertionError exception if a condition is false. \n",
    "\n",
    "# It works like a conditional raise statement wrapped up in an if statement,\n",
    "\n",
    "\n",
    "# Example: If the length of list is zero, the function immediately terminates. Otherwise, it computes the average.\n",
    "\n",
    "def avg_value(lst):\n",
    "    assert not len(lst) == 0, 'No values in the list to compute average'\n",
    "    avg = sum(lst) / len(lst)\n",
    "    return avg\n",
    "\n",
    "avg_value([])"
   ]
  },
  {
   "cell_type": "code",
   "execution_count": 19,
   "metadata": {},
   "outputs": [
    {
     "name": "stdout",
     "output_type": "stream",
     "text": [
      "Mutual Fund investments are subject to market risks, read all scheme related documents carefully.\n",
      "Content of the file: \n",
      " Mutual Fund investments are subject to market risks, read all scheme related documents carefully.\n"
     ]
    }
   ],
   "source": [
    "# Q5. \n",
    "# What is the purpose of the with/as argument, and what other statement is it like?\n",
    "# *************************************************************************************************************************\n",
    "\n",
    "# The with/as statement is designed to automate startup and termination activities that must occur around a block of code.\n",
    "# It is similar to try/finally statement in that its exit actions run whether an exception occurred or not.\n",
    "# Python’s with statement supports the concept of a runtime context defined by a context manager. In programming, context\n",
    "# can be seen as a bucket to pass information around, i.e., the state at a point in time. Context Managers are a way of \n",
    "# allocating and releasing resources in the context.\n",
    "\n",
    "# Example:\n",
    "with open('with_statement.txt', 'w') as f:\n",
    "     f.write(input())\n",
    "with open('with_statement.txt','r') as f:\n",
    "    print('Content of the file: \\n',f.read())"
   ]
  }
 ],
 "metadata": {
  "kernelspec": {
   "display_name": "Python 3",
   "language": "python",
   "name": "python3"
  },
  "language_info": {
   "codemirror_mode": {
    "name": "ipython",
    "version": 3
   },
   "file_extension": ".py",
   "mimetype": "text/x-python",
   "name": "python",
   "nbconvert_exporter": "python",
   "pygments_lexer": "ipython3",
   "version": "3.7.7"
  }
 },
 "nbformat": 4,
 "nbformat_minor": 4
}
