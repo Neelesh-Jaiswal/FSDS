{
 "cells": [
  {
   "cell_type": "code",
   "execution_count": 13,
   "metadata": {},
   "outputs": [
    {
     "name": "stdout",
     "output_type": "stream",
     "text": [
      "Enter first number: 16\n",
      "Enter second number: 24\n",
      "\n",
      "LCM of 16 and 24 is : 48\n"
     ]
    }
   ],
   "source": [
    "# 1.Write a Python Program to Find LCM?\n",
    "# *************************************************************************************************************************\n",
    "# 1.\n",
    "def lcm_of_two_numbers(n1,n2):\n",
    "    if n1 > n2:\n",
    "        max = n1\n",
    "    else:\n",
    "        max = n2\n",
    "    while True:\n",
    "        if (max % n1 == 0 and max % n2 == 0):\n",
    "            lcm = max\n",
    "            break\n",
    "        max += 1\n",
    "    return lcm\n",
    "\n",
    "if __name__ == '__main__':\n",
    "    num1 = int(input('Enter first number: '))\n",
    "    num2 = int(input('Enter second number: '))\n",
    "    print(f'\\nLCM of {num1} and {num2} is : {lcm_of_two_numbers(num1,num2)}')"
   ]
  },
  {
   "cell_type": "code",
   "execution_count": 19,
   "metadata": {},
   "outputs": [
    {
     "name": "stdout",
     "output_type": "stream",
     "text": [
      "Enter first number: 7\n",
      "Enter second number: 14\n",
      "\n",
      "HCF of 7 and 14 is : 7\n"
     ]
    }
   ],
   "source": [
    "# 2. Write a Python Program to Find HCF?\n",
    "# *************************************************************************************************************************\n",
    "# 2.\n",
    "def hcf_of_two_numbers(n1,n2):\n",
    "    if n1 < n2:\n",
    "        min = n1\n",
    "    else:\n",
    "        min = n2\n",
    "    for i in range(1,min+1):\n",
    "        if n1 % i == 0 and n2 % i == 0:\n",
    "            hcf = i # the 'hcf' will continuosly change the value, as i satisfies the condition in if block.\n",
    "                    # will lopp till minimum of the two numbers\n",
    "    return hcf\n",
    "\n",
    "if __name__ == '__main__':\n",
    "    num1 = int(input('Enter first number: '))\n",
    "    num2 = int(input('Enter second number: '))\n",
    "    print(f'\\nHCF of {num1} and {num2} is : {hcf_of_two_numbers(num1,num2)}')"
   ]
  },
  {
   "cell_type": "code",
   "execution_count": 6,
   "metadata": {},
   "outputs": [
    {
     "name": "stdout",
     "output_type": "stream",
     "text": [
      "Enter number: 67\n",
      "Binary value of 67 is: 1000011\n",
      "Octal value of 67 is: 103\n",
      "HexaDecimal value of 67 is: 43\n"
     ]
    }
   ],
   "source": [
    "# 3. Write a Python Program to Convert Decimal to Binary, Octal and Hexadecimal?\n",
    "# *************************************************************************************************************************\n",
    "# 3.\n",
    "import math\n",
    "\n",
    "def conversion(n):\n",
    "    temp = n                                                      # to renew tha original value of n\n",
    "    rem = []\n",
    "    while n>=1:\n",
    "        rem.append(n%2)                                           # for binary conversion\n",
    "        n = n//2                                                  # reducing value of n to work with while loop \n",
    "    print(f'Binary value of {temp} is: ',end='')\n",
    "    for i in rem[::-1]:                                           # printing the list in reverse\n",
    "        print(i,end='')\n",
    "        \n",
    "# restoring the original value of n for octal conversion    \n",
    "    n = temp\n",
    "    rem = []\n",
    "    while n>=1:\n",
    "        rem.append(n%8)\n",
    "        n = n//8\n",
    "    print(f'\\nOctal value of {temp} is: ',end='')\n",
    "    for i in rem[::-1]:\n",
    "        print(i,end = '')\n",
    "        \n",
    "# restoring the original value of n for hexadecimal conversion\n",
    "    n = temp\n",
    "    rem = int()\n",
    "    hex_values = [0,1,2,3,4,5,6,7,8,9,'A','B','C','D','E','F']\n",
    "    result=''\n",
    "    while n>=1:\n",
    "        rem = n%16\n",
    "        n = n-rem\n",
    "        n = n//16\n",
    "        result = result + str(hex_values[rem])\n",
    "        result = result[::-1]\n",
    "    print(f'\\nHexaDecimal value of {temp} is: {result}')   \n",
    "\n",
    "if __name__ == '__main__':\n",
    "    num = int(input('Enter number: '))\n",
    "    conversion(num)"
   ]
  },
  {
   "cell_type": "code",
   "execution_count": 19,
   "metadata": {},
   "outputs": [
    {
     "name": "stdout",
     "output_type": "stream",
     "text": [
      "r\n",
      "The ASCII value of \"r\" is: 114\n"
     ]
    }
   ],
   "source": [
    "# 4. Write a Python Program To Find ASCII value of a character?\n",
    "# *************************************************************************************************************************\n",
    "# 4.\n",
    "def ASCII(character):\n",
    "    return ord(character)\n",
    "\n",
    "if __name__ == '__main__':\n",
    "    character = str(input())\n",
    "    print(f'The ASCII value of \"{character}\" is: {ASCII(character)}')"
   ]
  },
  {
   "cell_type": "code",
   "execution_count": 48,
   "metadata": {},
   "outputs": [
    {
     "name": "stdout",
     "output_type": "stream",
     "text": [
      "Enter first number: 6\n",
      "Enter second number: 0\n",
      "\n",
      " *****************Select operation*****************\n",
      "1.Add\n",
      "2.Subtract\n",
      "3.Divide\n",
      "4.Multiply\n",
      "Enter operation you want to do (1/2/3/4)\n",
      "3\n",
      "Denominator cannot be zero. Re-Enter the denominator\n",
      "3\n",
      "Division result:  2.0\n",
      "Do you wnat to try any other operation? (y/n): y\n",
      "Enter operation you want to do (1/2/3/4)\n",
      "4\n",
      "Multiplication result:  18\n",
      "Do you wnat to try any other operation? (y/n): n\n",
      "Program ended\n"
     ]
    }
   ],
   "source": [
    "### 5. Write a Python Program to Make a Simple Calculator with 4 basic mathematical operations?\n",
    "# *************************************************************************************************************************\n",
    "# 5.\n",
    "class calculator():\n",
    "    \n",
    "    def __init__(self,a,b):\n",
    "        self.a = a\n",
    "        self.b = b\n",
    "    \n",
    "    def addition(self):\n",
    "        return self.a + self.b\n",
    "    \n",
    "    def subtraction(self):\n",
    "        return self.a - self.b\n",
    "    \n",
    "    def divide(self):\n",
    "        try:\n",
    "            return self.a/self.b\n",
    "        \n",
    "        except ZeroDivisionError:\n",
    "            print('Denominator cannot be zero. Re-Enter the denominator')\n",
    "            self.b = int(input())\n",
    "            return self.a/self.b\n",
    "        \n",
    "    def multiplication(self):\n",
    "        return self.a * self.b\n",
    "    \n",
    "# *************************************\n",
    "\n",
    "if __name__ == '__main__':\n",
    "    number1 = int(input('Enter first number: '))\n",
    "    number2 = int(input('Enter second number: '))\n",
    "    \n",
    "    obj = calculator(number1,number2)\n",
    "    \n",
    "    txt = 'Select operation'\n",
    "    print('\\n',txt.center(50,'*')) # for formatting\n",
    "    print(\"1.Add\")\n",
    "    print(\"2.Subtract\")\n",
    "    print(\"3.Divide\")\n",
    "    print(\"4.Multiply\")\n",
    "    \n",
    "    while True:\n",
    "        choice = input('Enter operation you want to do (1/2/3/4)\\n')\n",
    "        \n",
    "        while True: #running main program\n",
    "\n",
    "            if choice == '1':\n",
    "                print('Addition result: ',obj.addition())\n",
    "                break\n",
    "\n",
    "            elif choice == '2':\n",
    "                print('Subtraction result: ',obj.subtraction())\n",
    "                break\n",
    "\n",
    "            elif choice == '3':\n",
    "                print('Division result: ',round(obj.divide(),3))\n",
    "                break\n",
    "\n",
    "            elif choice == '4':\n",
    "                print('Multiplication result: ',obj.multiplication())\n",
    "                break\n",
    "\n",
    "            else:\n",
    "                print('Invalid choice. Re-Enter the correct choice')\n",
    "                choice = input()\n",
    "\n",
    "        answer = str(input('Do you wnat to try any other operation? (y/n): '))\n",
    "        \n",
    "        if answer == 'y' or answer == 'Y':\n",
    "            continue\n",
    "        \n",
    "        else:\n",
    "            print('Program ended')\n",
    "            break\n"
   ]
  }
 ],
 "metadata": {
  "kernelspec": {
   "display_name": "Python 3",
   "language": "python",
   "name": "python3"
  },
  "language_info": {
   "codemirror_mode": {
    "name": "ipython",
    "version": 3
   },
   "file_extension": ".py",
   "mimetype": "text/x-python",
   "name": "python",
   "nbconvert_exporter": "python",
   "pygments_lexer": "ipython3",
   "version": "3.7.7"
  }
 },
 "nbformat": 4,
 "nbformat_minor": 4
}
