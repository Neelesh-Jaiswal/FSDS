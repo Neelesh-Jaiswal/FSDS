{
 "cells": [
  {
   "cell_type": "code",
   "execution_count": 7,
   "metadata": {},
   "outputs": [
    {
     "data": {
      "text/plain": [
       "[8]"
      ]
     },
     "execution_count": 7,
     "metadata": {},
     "output_type": "execute_result"
    }
   ],
   "source": [
    "# Question1\n",
    "\n",
    "# Create a function that takes three parameters where:\n",
    "# •   x is the start of the range (inclusive).\n",
    "# •   y is the end of the range (inclusive).\n",
    "# •   n is the divisor to be checked against.\n",
    "# Return an ordered list with numbers in the range that are divisible by the third parameter n. Return an empty list if \n",
    "# there are no numbers that are divisible by n.\n",
    "\n",
    "# Examples\n",
    "# list_operation(1, 10, 3) ➞ [3, 6, 9]\n",
    "\n",
    "# list_operation(7, 9, 2) ➞ [8]\n",
    "\n",
    "# list_operation(15, 20, 7) ➞ []\n",
    "\n",
    "def list_operation(l,h,n):\n",
    "    result = []\n",
    "    for i in range(l, h+1):\n",
    "        if i%n == 0:\n",
    "            result.append(i)\n",
    "    return result\n",
    "\n",
    "list_operation(7, 9, 2)"
   ]
  },
  {
   "cell_type": "code",
   "execution_count": 21,
   "metadata": {},
   "outputs": [
    {
     "name": "stdout",
     "output_type": "stream",
     "text": [
      "True\n",
      "False\n",
      "True\n",
      "False\n"
     ]
    }
   ],
   "source": [
    "# Question2\n",
    "\n",
    "# Create a function that takes in two lists and returns True if the second list follows the first list by one element, \n",
    "# and False otherwise. In other words, determine if the second list is the first list shifted to the right by 1.\n",
    "\n",
    "# Examples\n",
    "# simon_says([1, 2], [5, 1]) ➞ True\n",
    "\n",
    "# simon_says([1, 2], [5, 5]) ➞ False\n",
    "\n",
    "# simon_says([1, 2, 3, 4, 5], [0, 1, 2, 3, 4]) ➞ True\n",
    "\n",
    "# simon_says([1, 2, 3, 4, 5], [5, 5, 1, 2, 3]) ➞ False\n",
    "# Notes\n",
    "# •   Both input lists will be of the same length, and will have a minimum length of 2.\n",
    "# •   The values of the 0-indexed element in the second list and the n-1th indexed element in the first list do not matter.\n",
    "\n",
    "def simon_says(lis1,lis2):\n",
    "    temp = lis1[:-1]\n",
    "    if temp == lis2[1:]:\n",
    "        return True\n",
    "    return False\n",
    "\n",
    "print(simon_says([1, 2], [5, 1]))\n",
    "print(simon_says([1, 2], [5, 5]))\n",
    "print(simon_says([1, 2, 3, 4, 5], [0, 1, 2, 3, 4]))\n",
    "print(simon_says([1, 2, 3, 4, 5], [5, 5, 1, 2, 3]))"
   ]
  },
  {
   "cell_type": "code",
   "execution_count": 28,
   "metadata": {},
   "outputs": [
    {
     "name": "stdout",
     "output_type": "stream",
     "text": [
      "CJMPRR\n",
      "AMS\n",
      "CHLN\n"
     ]
    }
   ],
   "source": [
    "# Question3\n",
    "\n",
    "# A group of friends have decided to start a secret society. The name will be the first letter of each of their names, \n",
    "# sorted in alphabetical order.\n",
    "# Create a function that takes in a list of names and returns the name of the secret society.\n",
    "\n",
    "# Examples\n",
    "# society_name([\"Adam\", \"Sarah\", \"Malcolm\"]) ➞ \"AMS\"\n",
    "\n",
    "# society_name([\"Harry\", \"Newt\", \"Luna\", \"Cho\"]) ➞ \"CHLN\"\n",
    "\n",
    "# society_name([\"Phoebe\", \"Chandler\", \"Rachel\", \"Ross\", \"Monica\", \"Joey\"])\n",
    "\n",
    "def society_name(lis):\n",
    "    result = []\n",
    "    for i in lis:\n",
    "        result.append(i[0])\n",
    "    return ''.join(sorted(result))\n",
    "\n",
    "print(society_name([\"Phoebe\", \"Chandler\", \"Rachel\", \"Ross\", \"Monica\", \"Joey\"]))\n",
    "print(society_name([\"Adam\", \"Sarah\", \"Malcolm\"]))\n",
    "print(society_name([\"Harry\", \"Newt\", \"Luna\", \"Cho\"]))"
   ]
  },
  {
   "cell_type": "code",
   "execution_count": 35,
   "metadata": {},
   "outputs": [
    {
     "name": "stdout",
     "output_type": "stream",
     "text": [
      "True\n",
      "False\n",
      "False\n"
     ]
    }
   ],
   "source": [
    "# Question4\n",
    "\n",
    "# An isogram is a word that has no duplicate letters. Create a function that takes a string and returns either True or \n",
    "# False depending on whether or not it's an \"isogram\".\n",
    "\n",
    "# Examples\n",
    "# is_isogram(\"Algorism\") ➞ True\n",
    "\n",
    "# is_isogram(\"PasSword\") ➞ False\n",
    "# # Not case sensitive.\n",
    "\n",
    "# is_isogram(\"Consecutive\") ➞ False\n",
    "# Notes\n",
    "# •   Ignore letter case (should not be case sensitive).\n",
    "# •   All test cases contain valid one word strings.\n",
    "\n",
    "def is_isogram(string):\n",
    "    \n",
    "    return True if len(set(string.lower())) == len(string) else False\n",
    "\n",
    "print(is_isogram('Algorism'))\n",
    "print(is_isogram('PasSword'))\n",
    "print(is_isogram('Consecutive'))"
   ]
  },
  {
   "cell_type": "code",
   "execution_count": 45,
   "metadata": {},
   "outputs": [
    {
     "name": "stdout",
     "output_type": "stream",
     "text": [
      "True\n",
      "False\n",
      "True\n",
      "True\n",
      "False\n"
     ]
    }
   ],
   "source": [
    "# Question5\n",
    "\n",
    "# Create a function that takes a string and returns True or False, depending on whether the characters are in order or not.\n",
    "\n",
    "# Examples\n",
    "# is_in_order(\"abc\") ➞ True\n",
    "\n",
    "# is_in_order(\"edabit\") ➞ False\n",
    "\n",
    "# is_in_order(\"123\") ➞ True\n",
    "\n",
    "# is_in_order(\"xyzz\") ➞ True\n",
    "# Notes\n",
    "# You don't have to handle empty strings.\n",
    "\n",
    "def is_in_order(string):\n",
    "    if string == '':\n",
    "        return False\n",
    "    return True if ''.join(sorted(list(string))) == string else False\n",
    "\n",
    "print(is_in_order('abc'))\n",
    "print(is_in_order('edabit'))\n",
    "print(is_in_order('123'))\n",
    "print(is_in_order('xyzz'))\n",
    "print(is_in_order(''))"
   ]
  }
 ],
 "metadata": {
  "kernelspec": {
   "display_name": "Python 3",
   "language": "python",
   "name": "python3"
  },
  "language_info": {
   "codemirror_mode": {
    "name": "ipython",
    "version": 3
   },
   "file_extension": ".py",
   "mimetype": "text/x-python",
   "name": "python",
   "nbconvert_exporter": "python",
   "pygments_lexer": "ipython3",
   "version": "3.7.7"
  }
 },
 "nbformat": 4,
 "nbformat_minor": 4
}
