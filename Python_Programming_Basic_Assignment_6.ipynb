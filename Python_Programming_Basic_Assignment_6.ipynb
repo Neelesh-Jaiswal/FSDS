{
 "cells": [
  {
   "cell_type": "code",
   "execution_count": 17,
   "metadata": {},
   "outputs": [
    {
     "name": "stdout",
     "output_type": "stream",
     "text": [
      "Enter the number of terms you want to print Fibonacci for: 15\n",
      "0\n",
      "1\n",
      "1\n",
      "2\n",
      "3\n",
      "5\n",
      "8\n",
      "13\n",
      "21\n",
      "34\n",
      "55\n",
      "89\n",
      "144\n",
      "233\n",
      "377\n"
     ]
    }
   ],
   "source": [
    "# 1. Write a Python Program to Display Fibonacci Sequence Using Recursion?\n",
    "# *************************************************************************************************************************\n",
    "# 1.\n",
    "def fibo(n):\n",
    "    if n <= 0:\n",
    "        return 0\n",
    "    elif n == 1:\n",
    "        return 1\n",
    "    else:\n",
    "        return fibo(n-1) + fibo(n-2)\n",
    "\n",
    "if __name__ == '__main__':\n",
    "    number_of_terms = int(input('Enter the number of terms you want to print Fibonacci for: '))\n",
    "    for i in range(number_of_terms):\n",
    "        print(fibo(i))"
   ]
  },
  {
   "cell_type": "code",
   "execution_count": 23,
   "metadata": {
    "scrolled": true
   },
   "outputs": [
    {
     "name": "stdout",
     "output_type": "stream",
     "text": [
      "Enter a number for which you want to find factorial:(only 3 attempts): 5\n",
      "The factorial of a 5 is : 120\n"
     ]
    }
   ],
   "source": [
    "# 2. Write a Python Program to Find Factorial of Number Using Recursion?\n",
    "# *************************************************************************************************************************\n",
    "# 2.\n",
    "import pyinputplus as pyip\n",
    "\n",
    "def factorial(n):\n",
    "    if n == 0 or n == 1:\n",
    "        return 1\n",
    "    elif n < 0:\n",
    "        return 'Cannot find factorial for negative number'\n",
    "    else:\n",
    "        return n * factorial(n-1)\n",
    "    \n",
    "if __name__ == '__main__':\n",
    "    number = pyip.inputInt(prompt = 'Enter a number for which you want to find factorial:(only 3 attempts): ',\n",
    "                   min = 1,limit = 3)\n",
    "    print(f'The factorial of a {number} is : {factorial(number)}')"
   ]
  },
  {
   "cell_type": "code",
   "execution_count": 63,
   "metadata": {},
   "outputs": [
    {
     "name": "stdout",
     "output_type": "stream",
     "text": [
      "Enter your height (in cms): 175\n",
      "Enter your weight (in kgs): 62\n",
      "\n",
      "You are healthy\n",
      "Your BMI is: 20.244897959183675\n"
     ]
    }
   ],
   "source": [
    "# 3. Write a Python Program to calculate your Body Mass Index?\n",
    "# *************************************************************************************************************************\n",
    "# 3.\n",
    "def bmi(h,w):\n",
    "    bmi = w/(h/100)**2\n",
    "    \n",
    "    if bmi <= 18.5:\n",
    "        print('\\nYou are underweight')\n",
    "    elif bmi <= 24.9:\n",
    "        print('\\nYou are healthy')\n",
    "    elif bmi <= 29.9:\n",
    "        print('\\nYou are overweight')\n",
    "    elif bmi <= 35:\n",
    "        print('\\nYou are obese')\n",
    "    else:\n",
    "        print('\\nYou are severly obese. Have a check on your health')\n",
    "        \n",
    "    return f'Your BMI is: {bmi}'\n",
    "\n",
    "if __name__ == '__main__':\n",
    "    height = int(input('Enter your height (in cms): '))\n",
    "    weight = int(input('Enter your weight (in kgs): '))\n",
    "    print(bmi(height,weight))"
   ]
  },
  {
   "cell_type": "code",
   "execution_count": 44,
   "metadata": {},
   "outputs": [
    {
     "name": "stdout",
     "output_type": "stream",
     "text": [
      "4\n"
     ]
    },
    {
     "data": {
      "text/plain": [
       "('Exponential value is ', 54.575510850575995)"
      ]
     },
     "execution_count": 44,
     "metadata": {},
     "output_type": "execute_result"
    }
   ],
   "source": [
    "# 4. Write a Python Program to calculate the natural logarithm of any number?\n",
    "# *************************************************************************************************************************\n",
    "# 4.\n",
    "# natural log will have base as 'e' = 2.718\n",
    "def natural_log(n):\n",
    "    return 'Exponential value is ',pow(2.718,n)\n",
    "\n",
    "number = int(input())\n",
    "natural_log(number)"
   ]
  },
  {
   "cell_type": "code",
   "execution_count": 62,
   "metadata": {},
   "outputs": [
    {
     "name": "stdout",
     "output_type": "stream",
     "text": [
      "Enter the number you want to find cube sum : 12\n",
      "1 ³ +2 ³ +3 ³ +4 ³ +5 ³ +6 ³ +7 ³ +8 ³ +9 ³ +10 ³ +11 ³ +12 ³ += 6084.0\n"
     ]
    }
   ],
   "source": [
    "# 5. Write a Python Program for cube sum of first n natural numbers?\n",
    "# *************************************************************************************************************************\n",
    "# 5.\n",
    "def sum_of_cube(n):\n",
    "    return (n*(n+1)/2)**2\n",
    "\n",
    "if __name__ == '__main__':\n",
    "    number = int(input('Enter the number you want to find cube sum : '))\n",
    "    for i in range(1,number+1):\n",
    "        print(i,'\\u00b3','+',end='')\n",
    "        \n",
    "    print('=',sum_of_cube(number))"
   ]
  }
 ],
 "metadata": {
  "kernelspec": {
   "display_name": "Python 3",
   "language": "python",
   "name": "python3"
  },
  "language_info": {
   "codemirror_mode": {
    "name": "ipython",
    "version": 3
   },
   "file_extension": ".py",
   "mimetype": "text/x-python",
   "name": "python",
   "nbconvert_exporter": "python",
   "pygments_lexer": "ipython3",
   "version": "3.7.7"
  }
 },
 "nbformat": 4,
 "nbformat_minor": 4
}
