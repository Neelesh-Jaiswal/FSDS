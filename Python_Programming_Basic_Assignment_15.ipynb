{
 "cells": [
  {
   "cell_type": "code",
   "execution_count": 5,
   "metadata": {},
   "outputs": [
    {
     "name": "stdout",
     "output_type": "stream",
     "text": [
      "Enter the last number of the range: 100\n",
      "0,35,70,"
     ]
    }
   ],
   "source": [
    "# Question 1:\n",
    "\n",
    "# Please write a program using generator to print the numbers which can be divisible by 5 and 7 between 0 and n in \n",
    "# comma separated form while n is input by console.\n",
    "# Example:\n",
    "# If the following n is given as input to the program:\n",
    "# 100\n",
    "# Then, the output of the program should be:\n",
    "# 0,35,70\n",
    "\n",
    "def divisible(n):\n",
    "    for i in range(n):\n",
    "        if i % 5 == 0:\n",
    "            if i % 7 == 0:\n",
    "                yield i\n",
    "                \n",
    "if __name__ == '__main__':\n",
    "    inp = int(input('Enter the last number of the range: '))\n",
    "    for i in divisible(inp):\n",
    "        print(i,end=',')"
   ]
  },
  {
   "cell_type": "code",
   "execution_count": 10,
   "metadata": {},
   "outputs": [
    {
     "name": "stdout",
     "output_type": "stream",
     "text": [
      "Enter the last number of the range: 10\n",
      "0,2,4,6,8,10,"
     ]
    }
   ],
   "source": [
    "# Question 2:\n",
    "    \n",
    "# Please write a program using generator to print the even numbers between 0 and n in comma separated form \n",
    "# while n is input by console.\n",
    "# Example:\n",
    "# If the following n is given as input to the program:\n",
    "# 10\n",
    "# Then, the output of the program should be:\n",
    "# 0,2,4,6,8,10\n",
    "\n",
    "def divisible_by_2(n):\n",
    "    for i in range(n+2):\n",
    "        if i % 2 == 0:\n",
    "            yield i\n",
    "                \n",
    "if __name__ == '__main__':\n",
    "    inp = int(input('Enter the last number of the range: '))\n",
    "    for i in divisible_by_2(inp):\n",
    "        print(i,end=',')"
   ]
  },
  {
   "cell_type": "code",
   "execution_count": 66,
   "metadata": {},
   "outputs": [
    {
     "name": "stdout",
     "output_type": "stream",
     "text": [
      "How many elements you want in the series? 7\n",
      "0,1,1,2,3,5,8,13\n"
     ]
    }
   ],
   "source": [
    "# Question 3:\n",
    "    \n",
    "# The Fibonacci Sequence is computed based on the following formula:\n",
    "# f(n)=0 if n=0\n",
    "# f(n)=1 if n=1\n",
    "# f(n)=f(n-1)+f(n-2) if n>1\n",
    "# Please write a program using list comprehension to print the Fibonacci Sequence in comma separated form with \n",
    "# a given n input by console.\n",
    "# Example:\n",
    "# If the following n is given as input to the program:\n",
    "# 7\n",
    "\n",
    "# Then, the output of the program should be:\n",
    "# 0,1,1,2,3,5,8,13\n",
    "\n",
    "def fib(n):\n",
    "#     lis=[0,1]\n",
    "#     result = [lis. append(lis[-2]+lis[-1]) for _ in range(n)]\n",
    "#     print(lis[:n+1])\n",
    "    if n == 0: \n",
    "        return 0\n",
    "    elif n == 1: \n",
    "        return 1\n",
    "    else: \n",
    "        return fib(n-1)+f(n-2)\n",
    "\n",
    "if __name__ == '__main__':\n",
    "    inp = int(input('How many elements you want in the series? '))\n",
    "    result = [str(fib(i)) for i in range(0,n+1)]               # using list comprehension here\n",
    "    print(','.join(result))"
   ]
  },
  {
   "cell_type": "code",
   "execution_count": 91,
   "metadata": {},
   "outputs": [
    {
     "name": "stdout",
     "output_type": "stream",
     "text": [
      "Enter the email address: john@google.com\n",
      "john\n"
     ]
    }
   ],
   "source": [
    "# Question 4:\n",
    "    \n",
    "# Assuming that we have some email addresses in the \"username@companyname.com\" format, please write program to print \n",
    "# the user name of a given email address. Both user names and company names are composed of letters only.\n",
    "# Example:\n",
    "# If the following email address is given as input to the program:\n",
    "# john@google.com\n",
    "# Then, the output of the program should be:\n",
    "# john\n",
    "\n",
    "import re\n",
    "\n",
    "def email(email_address):\n",
    "    email = re.compile(r'(\\w+)@(\\w+\\.)([a-z]{3})') # creating groups\n",
    "    result = email.findall(email_address)\n",
    "    return result[0][0] # just picking the username from email address\n",
    "\n",
    "if __name__ == '__main__':\n",
    "    inp = input('Enter the email address: ')\n",
    "    print(email(inp))"
   ]
  },
  {
   "cell_type": "code",
   "execution_count": 106,
   "metadata": {},
   "outputs": [
    {
     "name": "stdout",
     "output_type": "stream",
     "text": [
      "Enter the side of square:5\n",
      "Area from Square child class:  25\n",
      "Area from Shape class 0\n"
     ]
    }
   ],
   "source": [
    "# Question 5:\n",
    "\n",
    "# Define a class named Shape and its subclass Square. The Square class has an init function which takes a length as \n",
    "# argument. Both classes have a area function which can print the area of the shape where Shape's area is 0 by default.\n",
    "\n",
    "# here we are \n",
    "class Shape:\n",
    "    def __init__(self):\n",
    "        pass\n",
    "    \n",
    "    def area(self):\n",
    "        return 0\n",
    "    \n",
    "class Square(Shape):\n",
    "    def __init__(self,side):\n",
    "        Shape.__init__(self)\n",
    "        self.side = side\n",
    "            \n",
    "    def area(self):\n",
    "        return self.side * self.side\n",
    "    \n",
    "obj = Square(int(input('Enter the side of square:')))\n",
    "print('Area from Square child class: ',obj.area())\n",
    "obj1 = Shape()\n",
    "print('Area from Shape class',obj1.area())"
   ]
  }
 ],
 "metadata": {
  "kernelspec": {
   "display_name": "Python 3",
   "language": "python",
   "name": "python3"
  },
  "language_info": {
   "codemirror_mode": {
    "name": "ipython",
    "version": 3
   },
   "file_extension": ".py",
   "mimetype": "text/x-python",
   "name": "python",
   "nbconvert_exporter": "python",
   "pygments_lexer": "ipython3",
   "version": "3.7.7"
  }
 },
 "nbformat": 4,
 "nbformat_minor": 4
}
