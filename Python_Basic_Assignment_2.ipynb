{
 "cells": [
  {
   "cell_type": "code",
   "execution_count": 7,
   "metadata": {},
   "outputs": [
    {
     "name": "stdout",
     "output_type": "stream",
     "text": [
      "False\n",
      "True\n",
      "False\n",
      "Bool value of a:  True\n",
      "Data type of a:  <class 'bool'>\n"
     ]
    }
   ],
   "source": [
    "#1.\n",
    "#What are the two values of the Boolean data type? How do you write them?\n",
    "#-------------------------------------------------------------------------------------------------------------------------------\n",
    "#1.\n",
    "#The two values are:\n",
    "True\n",
    "False\n",
    "#When we compare two values, the expression is evaluated and Python returns the Boolean answer\n",
    "\n",
    "#Example: \n",
    "print(1>2)\n",
    "print(bool(15))\n",
    "print(bool([]))\n",
    "\n",
    "#We can write like this:\n",
    "a = True\n",
    "print('Bool value of a: ', a)\n",
    "print('Data type of a: ',type(a))"
   ]
  },
  {
   "cell_type": "code",
   "execution_count": 10,
   "metadata": {
    "scrolled": false
   },
   "outputs": [
    {
     "name": "stdout",
     "output_type": "stream",
     "text": [
      "False\n",
      "True\n",
      "False\n",
      "True\n"
     ]
    }
   ],
   "source": [
    "#2. What are the three different types of Boolean operators?\n",
    "#-------------------------------------------------------------------------------------------------------------------------------\n",
    "#2.\n",
    "#The three type of bool operators are:\n",
    "#    AND\n",
    "#    OR\n",
    "#    NOT\n",
    "#Example:\n",
    "A = True\n",
    "B = False\n",
    "print(A and B)\n",
    "print(A or B)\n",
    "print(not A)\n",
    "print(not B)"
   ]
  },
  {
   "cell_type": "code",
   "execution_count": 40,
   "metadata": {},
   "outputs": [
    {
     "name": "stdout",
     "output_type": "stream",
     "text": [
      "+-------+-------+-----------+--------+-------+-------+\n",
      "|   a   |   b   | (a and b) | a or b | not a | not b |\n",
      "+-------+-------+-----------+--------+-------+-------+\n",
      "| False | False |   False   | False  |  True |  True |\n",
      "| False |  True |   False   |  True  |  True | False |\n",
      "|  True | False |   False   |  True  | False |  True |\n",
      "|  True |  True |    True   |  True  | False | False |\n",
      "+-------+-------+-----------+--------+-------+-------+\n"
     ]
    }
   ],
   "source": [
    "#3. \n",
    "# Make a list of each Boolean operator's truth tables (i.e. every possible combination of Boolean values for the operator and \n",
    "# what it evaluate ).\n",
    "#-------------------------------------------------------------------------------------------------------------------------------\n",
    "#3.\n",
    "from truths.truths import Truths\n",
    "print (\n",
    "    Truths(['a','b'],['(a and b)','a or b','not a','not b'],ints=False)\n",
    ")"
   ]
  },
  {
   "cell_type": "code",
   "execution_count": 47,
   "metadata": {},
   "outputs": [
    {
     "name": "stdout",
     "output_type": "stream",
     "text": [
      "(5 > 4) and (3 == 5): False\n",
      "not (5 > 4): False\n",
      "(5 > 4) or (3 == 5): True\n",
      "not ((5 > 4) or (3 == 5)): False\n",
      "(True and True) and (True == False): False\n",
      "(not False) or (not True): True\n"
     ]
    }
   ],
   "source": [
    "#4. \n",
    "#What are the values of the following expressions?\n",
    "#(5 > 4) and (3 == 5)\n",
    "#not (5 > 4)\n",
    "#(5 > 4) or (3 == 5)\n",
    "#not ((5 > 4) or (3 == 5))\n",
    "#(True and True) and (True == False)\n",
    "#(not False) or (not True)\n",
    "#-------------------------------------------------------------------------------------------------------------------------------\n",
    "#4.\n",
    "print('(5 > 4) and (3 == 5):',(5 > 4) and (3 == 5))\n",
    "print('not (5 > 4):',not (5 > 4))\n",
    "print('(5 > 4) or (3 == 5):',(5 > 4) or (3 == 5))\n",
    "print('not ((5 > 4) or (3 == 5)):',not ((5 > 4) or (3 == 5)))\n",
    "print('(True and True) and (True == False):',(True and True) and (True == False))\n",
    "print('(not False) or (not True):',(not False) or (not True))"
   ]
  },
  {
   "cell_type": "code",
   "execution_count": null,
   "metadata": {},
   "outputs": [],
   "source": [
    "# 5. What are the six comparison operators?\n",
    "#-------------------------------------------------------------------------------------------------------------------------------\n",
    "# 5.\n",
    "# The six operators are- \n",
    "# Less than operator(<), \n",
    "# Greater than operator(>), \n",
    "# Less Than or Equal To operator(<=), \n",
    "# Equal to or greater than operator(>=), \n",
    "# Equal To operator(==)\n",
    "# Not Equal operator(!=)."
   ]
  },
  {
   "cell_type": "code",
   "execution_count": null,
   "metadata": {},
   "outputs": [],
   "source": [
    "#6.How do you tell the difference between the equal to and assignment operators?Describe a condition and when you would use one.\n",
    "#-------------------------------------------------------------------------------------------------------------------------------\n",
    "# 6.\n",
    "# The = is an assignment operator. It assigns values from right side operands to the left side operand.\n",
    "# whereas the == checks if the values of two operands are equal or not\n",
    "\n",
    "# Example:\n",
    "# a=10 #The value 10 will be stored in the integer variable a.\n",
    "\n",
    "# if(a==10): #This will check if the value stored in variable a is equal to 10. If yes it will return a non zero value.\n",
    "#     pass"
   ]
  },
  {
   "cell_type": "code",
   "execution_count": 48,
   "metadata": {},
   "outputs": [
    {
     "name": "stdout",
     "output_type": "stream",
     "text": [
      "ham\n",
      "spam\n",
      "spam\n"
     ]
    }
   ],
   "source": [
    "#7. Identify the three blocks in this code:\n",
    "# spam = 0\n",
    "# if spam == 10:\n",
    "# print('eggs')\n",
    "# if spam > 5:\n",
    "# print('bacon')\n",
    "# else:\n",
    "# print('ham')\n",
    "# print('spam')\n",
    "# print('spam')\n",
    "#-------------------------------------------------------------------------------------------------------------------------------\n",
    "#7.\n",
    "spam = 0\n",
    "if spam == 10:\n",
    "    print('eggs')#block-1\n",
    "if spam > 5:\n",
    "    print('bacon')#block-2\n",
    "else:\n",
    "    print('ham')#block-3\n",
    "print('spam')\n",
    "print('spam')\n"
   ]
  },
  {
   "cell_type": "code",
   "execution_count": 50,
   "metadata": {},
   "outputs": [
    {
     "name": "stdout",
     "output_type": "stream",
     "text": [
      "2\n",
      "Howdy\n"
     ]
    }
   ],
   "source": [
    "# 8. Write code that prints Hello if 1 is stored in spam, prints Howdy if 2 is stored in spam, and prints Greetings! \n",
    "# if anything else is stored in spam.\n",
    "#-------------------------------------------------------------------------------------------------------------------------------\n",
    "#8.\n",
    "spam = int(input())\n",
    "if spam == 1:\n",
    "    print('Hello')\n",
    "elif spam == 2:\n",
    "    print('Howdy')\n",
    "else:\n",
    "    print('Greetings!')"
   ]
  },
  {
   "cell_type": "code",
   "execution_count": null,
   "metadata": {},
   "outputs": [],
   "source": [
    "# 9.If your programme is stuck in an endless loop, what keys you’ll press?\n",
    "#-------------------------------------------------------------------------------------------------------------------------------\n",
    "# 9.\n",
    "# To exit out of infinite loops, press CTRL + C"
   ]
  },
  {
   "cell_type": "code",
   "execution_count": 61,
   "metadata": {},
   "outputs": [
    {
     "name": "stdout",
     "output_type": "stream",
     "text": [
      "Output of break() statement: ['N']\n",
      "Output of continue() statement: ['N', 'l', 's', 'h']\n"
     ]
    }
   ],
   "source": [
    "# 10. How can you tell the difference between break and continue?\n",
    "#-------------------------------------------------------------------------------------------------------------------------------\n",
    "# 10.\n",
    "# Both are loop control statements.\n",
    "# Break: The break statement is used to terminate the loop or statement in which it is present. After that, the control will  \n",
    "#        pass to the statements that are present after the break statement.\n",
    "#        If the break statement is present in the nested loop, then it terminates only those loops which contains break statemen\n",
    "# Example:\n",
    "name = 'Neelesh'\n",
    "n = []\n",
    "for i in name:\n",
    "    if i == 'e':\n",
    "        break\n",
    "    n.append(i)\n",
    "print('Output of break() statement:',n)\n",
    "\n",
    "# Continue: The continue statement forces to execute the next iteration of the loop.The code inside the loop following the \n",
    "#           continue statement will be skipped and the next iteration of the loop will begin.\n",
    "#Example:\n",
    "n = []\n",
    "for i in name:\n",
    "    if i == 'e':\n",
    "        continue\n",
    "    n.append(i)\n",
    "print('Output of continue() statement:',n)"
   ]
  },
  {
   "cell_type": "code",
   "execution_count": 62,
   "metadata": {},
   "outputs": [
    {
     "name": "stdout",
     "output_type": "stream",
     "text": [
      "range(0, 10)\n",
      "range(0, 10)\n",
      "range(0, 10)\n"
     ]
    }
   ],
   "source": [
    "#11. In a for loop, what is the difference between range(10), range(0, 10), and range(0, 10, 1)?\n",
    "#-------------------------------------------------------------------------------------------------------------------------------\n",
    "#11.\n",
    "#All the three gives the same result.\n",
    "#range() contains 3 arguments: start, stop, step\n",
    "#By default, the value of start is 0 and step is 1\n",
    "\n",
    "print(range(10))\n",
    "print(range(0, 10))\n",
    "print(range(0, 10, 1))"
   ]
  },
  {
   "cell_type": "code",
   "execution_count": 67,
   "metadata": {
    "scrolled": true
   },
   "outputs": [
    {
     "name": "stdout",
     "output_type": "stream",
     "text": [
      "1\n",
      "2\n",
      "3\n",
      "4\n",
      "5\n",
      "6\n",
      "7\n",
      "8\n",
      "9\n",
      "10\n",
      "FOR LOOP ENDED\n",
      "\n",
      "1\n",
      "2\n",
      "3\n",
      "4\n",
      "5\n",
      "6\n",
      "7\n",
      "8\n",
      "9\n",
      "10\n",
      "WHILE LOOP ENDED\n"
     ]
    }
   ],
   "source": [
    "# 12. Write a short program that prints the numbers 1 to 10 using a for loop. Then write an equivalent program that prints the \n",
    "# numbers 1 to 10 using a while loop.\n",
    "#-------------------------------------------------------------------------------------------------------------------------------\n",
    "12.\n",
    "for i in range(1,11):\n",
    "    print(i)\n",
    "print('FOR LOOP ENDED\\n')\n",
    "\n",
    "i=1\n",
    "while i <11:\n",
    "    print(i)\n",
    "    i+=1\n",
    "print('WHILE LOOP ENDED')"
   ]
  },
  {
   "cell_type": "code",
   "execution_count": null,
   "metadata": {},
   "outputs": [],
   "source": [
    "# 13. If you had a function named bacon() inside a module named spam, how would you call it after importing spam?\n",
    "#-------------------------------------------------------------------------------------------------------------------------------\n",
    "# 13.\n",
    "# spam.bacon()"
   ]
  }
 ],
 "metadata": {
  "kernelspec": {
   "display_name": "Python 3",
   "language": "python",
   "name": "python3"
  },
  "language_info": {
   "codemirror_mode": {
    "name": "ipython",
    "version": 3
   },
   "file_extension": ".py",
   "mimetype": "text/x-python",
   "name": "python",
   "nbconvert_exporter": "python",
   "pygments_lexer": "ipython3",
   "version": "3.7.7"
  }
 },
 "nbformat": 4,
 "nbformat_minor": 4
}
