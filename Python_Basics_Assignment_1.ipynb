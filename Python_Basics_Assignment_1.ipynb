{
 "cells": [
  {
   "cell_type": "code",
   "execution_count": 1,
   "metadata": {},
   "outputs": [],
   "source": [
    "# 1. \n",
    "\n",
    "# In the below elements which of them are values or an expression? eg:- values can be integer or string and expressions will be mathematical operators.\n",
    "# * \n",
    "# 'hello'\n",
    "# -87.8\n",
    "# - \n",
    "# / \n",
    "# +\t\n",
    "# 6 \n",
    "#-------------------------------------------------------------------------------------------------------------------------------\n",
    "# 1.\n",
    "\n",
    "# *       -> expression\n",
    "# 'hello' -> Value\n",
    "# -87.8   -> value\n",
    "# -       -> expression\n",
    "# /       -> expression\n",
    "# +       -> expresson\n",
    "# 6       -> value"
   ]
  },
  {
   "cell_type": "code",
   "execution_count": null,
   "metadata": {},
   "outputs": [],
   "source": [
    "# 2. \n",
    "# What is the difference between string and variable?\n",
    "# -------------------------------------------------------------------------------------------------------------------------------\n",
    "# 2.\n",
    "# A variable is a store of information whereas a String is a type of information we store in a variable\n",
    "# In other words, a String is a data type which contains sequence a characters whereas a variable is a reserved memory location to store values of various data types.\n",
    "\n",
    "# example: x='hello'\n",
    "# Here, 'x' is a variable which stores the value 'hello' which is a string"
   ]
  },
  {
   "cell_type": "code",
   "execution_count": null,
   "metadata": {},
   "outputs": [],
   "source": [
    "# 3. \n",
    "# Describe three different data types.\n",
    "# -------------------------------------------------------------------------------------------------------------------------------\n",
    "# 3.\n",
    "# The three different data types are:-\n",
    "# a.) Lists: Lists are mutable(changeable) sequence and are used to store collections of heterogeneous items.\n",
    "#            It is an iterable. List can be identified by square brackets\n",
    "#            List can be constructed in several ways like: \n",
    "#            using a pair of square bracktes: [],\n",
    "#            using a list comprehension: [x for x in range(5)]\n",
    "#            using a type constructor: list()\n",
    "\n",
    "#     example: x = [45,67.8,'hello','4+7j',False]\n",
    "    \n",
    "# b.) Tuples: Tuples are immutable(unchangeable) sequences and are used to store collections of heterogeneous data\n",
    "#             Tuples can be identified by parentheses.\n",
    "#             Tuples may be constructed in a number of ways:\n",
    "#             Using a pair of parentheses:(),\n",
    "#             Using a trailing comma for just one item:(a,) or a,\n",
    "#             Separating items with commas:a, b, c or (a, b, c)\n",
    "#             using built-in function: tuple()\n",
    "            \n",
    "#     example: x = ('a','b','c')\n",
    "    \n",
    "# c.) Dictionary: Dictionaries are used to store data values in key-value pairs.Each key-value pair maps the key to its \n",
    "#                 associated value. It cannot allow duplicates.\n",
    "#                 We can define a dictionary by enclosing a comma-separated list of key-value pairs in curly braces ({}). \n",
    "#                 A colon (:) separates each key from its associated value\n",
    "    \n",
    "#     example: dict1 = {'color': 'blue', 'shape': 'square', 'volume':40}"
   ]
  },
  {
   "cell_type": "code",
   "execution_count": null,
   "metadata": {},
   "outputs": [],
   "source": [
    "# 4. \n",
    "# What is an expression made up of? What do all expressions do?\n",
    "# -------------------------------------------------------------------------------------------------------------------------------\n",
    "# 4.\n",
    "# An expression is made up of combination of values, variables, operators, and calls to functions.\n",
    "# Expressions are representations of value. They are different from statement in the fact that statements do something while expressions are representation of value. \n",
    "\n",
    "# Example: any string is also an expression since it represents the value of the string as well."
   ]
  },
  {
   "cell_type": "code",
   "execution_count": null,
   "metadata": {},
   "outputs": [],
   "source": [
    "# 5. \n",
    "# This assignment statements, like \n",
    "# spam = 10. \n",
    "# What is the difference between an expression and a statement?\n",
    "# -------------------------------------------------------------------------------------------------------------------------------\n",
    "# 5.\n",
    "# Statements do something. In other words, they represent an action or command whereas expression is a combination of variables, operations and values that yields a result value. They represent a value. The interpreter always prints out the values of an expression.\n",
    "# A statement is an instruction that the Python interpreter can execute.\n",
    "\n",
    "# spam=10\n",
    "# It is an assignment statement. Now the variable 'sapm' can be used in expression."
   ]
  },
  {
   "cell_type": "code",
   "execution_count": 4,
   "metadata": {},
   "outputs": [
    {
     "name": "stdout",
     "output_type": "stream",
     "text": [
      "22\n"
     ]
    }
   ],
   "source": [
    "#6. After running the following code, what does the variable bacon contain?\n",
    "bacon = 22\n",
    "bacon + 1\n",
    "#-------------------------------------------------------------------------------------------------------------------------------\n",
    "#6.\n",
    "print(bacon)\n",
    "#since after incrementing the variable, we have not assigned it hence 'bacon' contains the value 22."
   ]
  },
  {
   "cell_type": "code",
   "execution_count": 6,
   "metadata": {},
   "outputs": [
    {
     "name": "stdout",
     "output_type": "stream",
     "text": [
      "spamspamspam\n",
      "spamspamspam\n"
     ]
    }
   ],
   "source": [
    "#7. What should the values of the following two terms be?\n",
    "print('spam' + 'spamspam')\n",
    "print('spam' * 3)\n",
    "#-------------------------------------------------------------------------------------------------------------------------------\n",
    "#7.\n"
   ]
  },
  {
   "cell_type": "code",
   "execution_count": null,
   "metadata": {},
   "outputs": [],
   "source": [
    "# 8. Why is 'eggs' a valid variable name while 100 is invalid?\n",
    "# -------------------------------------------------------------------------------------------------------------------------------\n",
    "# 8.\n",
    "# There are certain criteria which an identifier should follow.\n",
    "# One such rule is - An identifier starting with a digit is not legal\n",
    "# Hence the arable name: 100 is not valid.\n"
   ]
  },
  {
   "cell_type": "code",
   "execution_count": null,
   "metadata": {},
   "outputs": [],
   "source": [
    "# 9. What three functions can be used to get the integer, floating-point number, or string version of a value?\n",
    "# -------------------------------------------------------------------------------------------------------------------------------\n",
    "# 9.\n",
    "# The int(), float(), and str() functions will evaluate to the integer, floating-point number, and string versions of the value passed to them."
   ]
  },
  {
   "cell_type": "code",
   "execution_count": 14,
   "metadata": {},
   "outputs": [
    {
     "name": "stdout",
     "output_type": "stream",
     "text": [
      "I have eaten 99 burritos.\n"
     ]
    }
   ],
   "source": [
    "#10. Why does this expression cause an error? How can you fix it?\n",
    "#print('I have eaten ' + 99 + ' burritos.')\n",
    "#-------------------------------------------------------------------------------------------------------------------------------\n",
    "10.\n",
    "\n",
    "#The issue is because python is attempting to concatenate string to int which is not possible directly.\n",
    "#However, we can fix the issue by typecasting the integer value to string. This can be done like this:\n",
    "print('I have eaten ' + str(99) + ' burritos.')"
   ]
  }
 ],
 "metadata": {
  "kernelspec": {
   "display_name": "Python 3",
   "language": "python",
   "name": "python3"
  },
  "language_info": {
   "codemirror_mode": {
    "name": "ipython",
    "version": 3
   },
   "file_extension": ".py",
   "mimetype": "text/x-python",
   "name": "python",
   "nbconvert_exporter": "python",
   "pygments_lexer": "ipython3",
   "version": "3.7.7"
  }
 },
 "nbformat": 4,
 "nbformat_minor": 4
}
