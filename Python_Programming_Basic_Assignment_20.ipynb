{
 "cells": [
  {
   "cell_type": "code",
   "execution_count": 16,
   "metadata": {},
   "outputs": [
    {
     "data": {
      "text/plain": [
       "[0, 1729]"
      ]
     },
     "execution_count": 16,
     "metadata": {},
     "output_type": "execute_result"
    }
   ],
   "source": [
    "# Question1\n",
    "\n",
    "# Create a function that takes a list of strings and integers, and filters out the list so that it returns a list of \n",
    "# integers only.\n",
    "\n",
    "# Examples\n",
    "# filter_list([1, 2, 3, \"a\", \"b\", 4]) ➞ [1, 2, 3, 4]\n",
    "\n",
    "# filter_list([\"A\", 0, \"Edabit\", 1729, \"Python\", \"1729\"]) ➞ [0, 1729]\n",
    "\n",
    "# filter_list([\"Nothing\", \"here\"]) ➞ []\n",
    "\n",
    "from collections import defaultdict\n",
    "\n",
    "def filter_list(lis):\n",
    "    my_dict = defaultdict(list)  # returns the empty list if the the key is not found\n",
    "    \n",
    "    for i in lis:\n",
    "        my_dict[type(i)].append(i)\n",
    "    return my_dict[int]\n",
    "\n",
    "filter_list([\"A\", 0, \"Edabit\", 1729, \"Python\", \"1729\"])"
   ]
  },
  {
   "cell_type": "code",
   "execution_count": 24,
   "metadata": {},
   "outputs": [
    {
     "data": {
      "text/plain": [
       "[1, 3, 5, 7, 9]"
      ]
     },
     "execution_count": 24,
     "metadata": {},
     "output_type": "execute_result"
    }
   ],
   "source": [
    "# Question2\n",
    "\n",
    "# Given a list of numbers, create a function which returns the list but with each element's index in the list added to \n",
    "# itself. This means you add 0 to the number at index 0, add 1 to the number at index 1, etc...\n",
    "\n",
    "# Examples\n",
    "# add_indexes([0, 0, 0, 0, 0]) ➞ [0, 1, 2, 3, 4]\n",
    "\n",
    "# add_indexes([1, 2, 3, 4, 5]) ➞ [1, 3, 5, 7, 9]\n",
    "\n",
    "# add_indexes([5, 4, 3, 2, 1]) ➞ [5, 5, 5, 5, 5]\n",
    "\n",
    "def add_indexes(lis):\n",
    "    result = []\n",
    "    \n",
    "    for i in range(len(lis)):\n",
    "        result.append(lis[i] + i)\n",
    "    return result\n",
    "\n",
    "add_indexes([1, 2, 3, 4, 5])"
   ]
  },
  {
   "cell_type": "code",
   "execution_count": null,
   "metadata": {},
   "outputs": [],
   "source": [
    "# Question3\n",
    "\n",
    "# Create a function that takes the height and radius of a cone as arguments and returns the volume of the cone rounded to \n",
    "# the nearest hundredth. See the resources tab for the formula.\n",
    " \n",
    "# Examples\n",
    "# cone_volume(3, 2) ➞ 12.57\n",
    "\n",
    "# cone_volume(15, 6) ➞ 565.49\n",
    "\n",
    "# cone_volume(18, 0) ➞ 0\n"
   ]
  },
  {
   "attachments": {
    "image.png": {
     "image/png": "[encoded data removed]"
    }
   },
   "cell_type": "markdown",
   "metadata": {},
   "source": [
    "![image.png](attachment:image.png)"
   ]
  },
  {
   "cell_type": "code",
   "execution_count": 33,
   "metadata": {},
   "outputs": [
    {
     "data": {
      "text/plain": [
       "565.49"
      ]
     },
     "execution_count": 33,
     "metadata": {},
     "output_type": "execute_result"
    }
   ],
   "source": [
    "# Question3\n",
    "\n",
    "import math\n",
    "\n",
    "def cone_volume(h,r):\n",
    "    return round((math.pi*r**2*h)/3,2)\n",
    "\n",
    "cone_volume(15,6)"
   ]
  },
  {
   "cell_type": "code",
   "execution_count": null,
   "metadata": {},
   "outputs": [],
   "source": [
    "# Question4\n",
    "\n",
    "# This Triangular Number Sequence is generated from a pattern of dots that form a triangle. The first 5 numbers of the \n",
    "# sequence, or dots, are: \n",
    "# 1, 3, 6, 10, 15\n",
    "# This means that the first triangle has just one dot, the second one has three dots, the third one has 6 dots and so on.\n",
    "# Write a function that gives the number of dots with its corresponding triangle number of the sequence.\n",
    "\n",
    "# Examples\n",
    "# triangle(1) ➞ 1\n",
    "\n",
    "# triangle(6) ➞ 21\n",
    "\n",
    "# triangle(215) ➞ 23220\n"
   ]
  },
  {
   "cell_type": "code",
   "execution_count": 36,
   "metadata": {},
   "outputs": [
    {
     "data": {
      "text/plain": [
       "23220"
      ]
     },
     "execution_count": 36,
     "metadata": {},
     "output_type": "execute_result"
    }
   ],
   "source": [
    "# Question4\n",
    "\n",
    "# With the help of Faulhaber’s formula we can solve this\n",
    "\n",
    "def triangle(rows):\n",
    "    return int(rows*(rows + 1)/2)\n",
    "\n",
    "triangle(215)"
   ]
  },
  {
   "cell_type": "code",
   "execution_count": 47,
   "metadata": {},
   "outputs": [
    {
     "name": "stdout",
     "output_type": "stream",
     "text": [
      "10\n"
     ]
    }
   ],
   "source": [
    "# Question5\n",
    "\n",
    "# Create a function that takes a list of numbers between 1 and 10 (excluding one number) and returns the missing number.\n",
    "\n",
    "# Examples\n",
    "# missing_num([1, 2, 3, 4, 6, 7, 8, 9, 10]) ➞ 5\n",
    "\n",
    "# missing_num([7, 2, 3, 6, 5, 9, 1, 4, 8]) ➞ 10\n",
    "\n",
    "# missing_num([10, 5, 1, 2, 4, 6, 8, 3, 9]) ➞ 7\n",
    "\n",
    "def missing_num(lis):\n",
    "    for i in range(1,11):\n",
    "        if i in lis:\n",
    "            pass\n",
    "        else:\n",
    "            print(i)\n",
    "\n",
    "missing_num([7, 2, 3, 6, 5, 9, 1, 4, 8])"
   ]
  },
  {
   "cell_type": "code",
   "execution_count": null,
   "metadata": {},
   "outputs": [],
   "source": []
  }
 ],
 "metadata": {
  "kernelspec": {
   "display_name": "Python 3",
   "language": "python",
   "name": "python3"
  },
  "language_info": {
   "codemirror_mode": {
    "name": "ipython",
    "version": 3
   },
   "file_extension": ".py",
   "mimetype": "text/x-python",
   "name": "python",
   "nbconvert_exporter": "python",
   "pygments_lexer": "ipython3",
   "version": "3.7.7"
  }
 },
 "nbformat": 4,
 "nbformat_minor": 4
}
