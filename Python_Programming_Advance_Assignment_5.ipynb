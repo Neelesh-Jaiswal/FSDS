{
 "cells": [
  {
   "cell_type": "code",
   "execution_count": 22,
   "metadata": {},
   "outputs": [
    {
     "name": "stdout",
     "output_type": "stream",
     "text": [
      "2\n",
      "8\n",
      "2\n"
     ]
    }
   ],
   "source": [
    "# 1. \n",
    "# Create a function that takes a number n (integer greater than zero) as an argument, and returns 2 if n is odd and 8 \n",
    "# if n is even.\n",
    "\n",
    "# You can only use the following arithmetic operators: addition of numbers +, subtraction of numbers -, multiplication of \n",
    "# number *, division of number /, and exponentiation **.\n",
    "\n",
    "# You are not allowed to use any other methods in this challenge (i.e. no if statements, comparison operators, etc).\n",
    "\n",
    "# Examples\n",
    "\n",
    "# f(1) ➞ 2\n",
    "\n",
    "# f(2) ➞ 8\n",
    "\n",
    "# f(3) ➞ 2\n",
    "\n",
    "def f(n):\n",
    "    while n > 0:\n",
    "        n = n-2\n",
    "    return 8 if n == 0 else 2\n",
    "\n",
    "print(f(1))\n",
    "print(f(2))\n",
    "print(f(3))"
   ]
  },
  {
   "cell_type": "code",
   "execution_count": 30,
   "metadata": {},
   "outputs": [
    {
     "name": "stdout",
     "output_type": "stream",
     "text": [
      "A\n",
      "A\n",
      "None\n"
     ]
    }
   ],
   "source": [
    "# 2. \n",
    "# Create a function that returns the majority vote in a list. A majority vote is an element that occurs > N/2 times in \n",
    "# a list (where N is the length of the list).\n",
    "\n",
    "# Examples\n",
    "\n",
    "# majority_vote([\"A\", \"A\", \"B\"]) ➞ \"A\"\n",
    "\n",
    "# majority_vote([\"A\", \"A\", \"A\", \"B\", \"C\", \"A\"]) ➞ \"A\"\n",
    "\n",
    "# majority_vote([\"A\", \"B\", \"B\", \"A\", \"C\", \"C\"]) ➞ None\n",
    "\n",
    "def majority_vote(arr):\n",
    "    n = len(arr)\n",
    "    maxCount = 0\n",
    "    index = -1\n",
    "    \n",
    "    for i in range(n):\n",
    "        count = 0\n",
    "        \n",
    "        for j in range(n):\n",
    "            if(arr[i] == arr[j]):\n",
    "                count += 1\n",
    "                \n",
    "        if(count > maxCount):\n",
    "            maxCount = count\n",
    "            index = i\n",
    "\n",
    "    if (maxCount > n//2):\n",
    "        return arr[index]\n",
    "\n",
    "    else:\n",
    "        return None\n",
    "        \n",
    "print(majority_vote([\"A\", \"A\", \"B\"]))\n",
    "print(majority_vote([\"A\", \"A\", \"A\", \"B\", \"C\", \"A\"]))\n",
    "print(majority_vote([\"A\", \"B\", \"B\", \"A\", \"C\", \"C\"]))"
   ]
  },
  {
   "cell_type": "code",
   "execution_count": 66,
   "metadata": {},
   "outputs": [
    {
     "name": "stdout",
     "output_type": "stream",
     "text": [
      "----- is - Wednesday!\n",
      "The *** jumped **** the moon.\n",
      "Why did the ******* cross the road?\n"
     ]
    }
   ],
   "source": [
    "# 3. \n",
    "# Create a function that takes a string txt and censors any word from a given list lst. The text removed must be replaced \n",
    "# by the given character char.\n",
    "\n",
    "# Examples\n",
    "\n",
    "# censor_string(\"Today is a Wednesday!\", [\"Today\", \"a\"], \"-\") ➞ \"----- is - Wednesday!\"\n",
    "\n",
    "# censor_string(\"The cow jumped over the moon.\", [\"cow\", \"over\"], \"*\"), \"The *** jumped **** the moon.\")\n",
    "\n",
    "# censor_string(\"Why did the chicken cross the road?\", [\"Did\", \"chicken\", \"road\"], \"*\") \n",
    "#                                                                                 ➞ \"Why *** the ******* cross the ****?\"\n",
    "\n",
    "def censor_string(string,censor_word,character):\n",
    "    string = string.split(' ')\n",
    "    \n",
    "    for i in range(len(string)):\n",
    "        if string[i] in censor_word:\n",
    "            string[i] = character * len(string[i])\n",
    "    return ' '.join(string)\n",
    "\n",
    "print(censor_string(\"Today is a Wednesday!\", [\"Today\", \"a\"], \"-\"))\n",
    "print(censor_string(\"The cow jumped over the moon.\", [\"cow\", \"over\"], \"*\"))\n",
    "print(censor_string(\"Why did the chicken cross the road?\", [\"Did\", \"chicken\", \"road\"], \"*\"))"
   ]
  },
  {
   "cell_type": "code",
   "execution_count": 80,
   "metadata": {},
   "outputs": [
    {
     "name": "stdout",
     "output_type": "stream",
     "text": [
      "True\n",
      "False\n"
     ]
    }
   ],
   "source": [
    "# 4. \n",
    "# In mathematics a Polydivisible Number (or magic number) is a number in a given number base with digits abcde... \n",
    "# that has the following properties:\n",
    "\n",
    "# -  Its first digit a is not 0.\n",
    "# - The number formed by its first two digits ab is a multiple of 2.\n",
    "# - The number formed by its first three digits abc is a multiple of 3.\n",
    "# - The number formed by its first four digits abcd is a multiple of 4.\n",
    "\n",
    "# Create a function which takes an integer n and returns True if the given number is a Polydivisible Number and False \n",
    "# otherwise.\n",
    "\n",
    "# Examples\n",
    "\n",
    "# is_polydivisible(1232) ➞ True\n",
    "# # 1     / 1 = 1\n",
    "# # 12    / 2 = 6\n",
    "# # 123   / 3 = 41\n",
    "# # 1232  / 4 = 308\n",
    "\n",
    "# is_polydivisible(123220 ) ➞ False\n",
    "# # 1   / 1 = 1\n",
    "# # 12   / 2 = 6\n",
    "# # 123   / 3 = 41\n",
    "# # 1232   / 4 = 308\n",
    "# # 12322   / 5 = 2464.4         # Not a Whole Number\n",
    "# # 123220   /6 = 220536.333...  # Not a Whole Number\n",
    "\n",
    "def polydivisible(x):\n",
    "    x = str(x)\n",
    "    for i in range(len(x)):\n",
    "        if int(x[:i+1]) % (i+1) != 0:\n",
    "            return False\n",
    "    return True\n",
    "\n",
    "print(polydivisible(1232))\n",
    "print(polydivisible(123220))"
   ]
  },
  {
   "cell_type": "code",
   "execution_count": 19,
   "metadata": {},
   "outputs": [
    {
     "name": "stdout",
     "output_type": "stream",
     "text": [
      "17\n",
      "87\n",
      "None\n"
     ]
    }
   ],
   "source": [
    "# 5. \n",
    "# Create a function that takes a list of numbers and returns the sum of all prime numbers in the list.\n",
    "\n",
    "# Examples\n",
    "\n",
    "# sum_primes([1, 2, 3, 4, 5, 6, 7, 8, 9, 10]) ➞ 17\n",
    "\n",
    "# sum_primes([2, 3, 4, 11, 20, 50, 71]) ➞ 87\n",
    "\n",
    "# sum_primes([]) ➞ None\n",
    "\n",
    "def isprime(n):\n",
    "    flag = True\n",
    "    \n",
    "    if n == 1:      # to handle one test case\n",
    "        return False\n",
    "    for i in range(2,n):\n",
    "        if n%i == 0:\n",
    "            return False\n",
    "    return True\n",
    "\n",
    "def sum_primes(lis):\n",
    "    if len(lis) == 0:  # to handle one test case\n",
    "        return None\n",
    "    else:\n",
    "        result = 0\n",
    "        for i in range(len(lis)):\n",
    "            if isprime(lis[i]):\n",
    "                result += lis[i]\n",
    "    return result\n",
    "\n",
    "print(sum_primes([1, 2, 3, 4, 5, 6, 7, 8, 9, 10]))\n",
    "print(sum_primes([2, 3, 4, 11, 20, 50, 71]))\n",
    "print(sum_primes([]))\n",
    "        "
   ]
  }
 ],
 "metadata": {
  "kernelspec": {
   "display_name": "Python 3",
   "language": "python",
   "name": "python3"
  },
  "language_info": {
   "codemirror_mode": {
    "name": "ipython",
    "version": 3
   },
   "file_extension": ".py",
   "mimetype": "text/x-python",
   "name": "python",
   "nbconvert_exporter": "python",
   "pygments_lexer": "ipython3",
   "version": "3.7.7"
  }
 },
 "nbformat": 4,
 "nbformat_minor": 4
}
