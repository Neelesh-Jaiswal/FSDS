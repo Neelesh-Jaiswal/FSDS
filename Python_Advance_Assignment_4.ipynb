{
 "cells": [
  {
   "cell_type": "code",
   "execution_count": 22,
   "metadata": {},
   "outputs": [
    {
     "name": "stdout",
     "output_type": "stream",
     "text": [
      "Calling __iter__\n",
      "1\n",
      "2\n",
      "3\n",
      "4\n",
      "*******************************************************************************************************************************\n",
      "\n",
      "Calling __getitem__\n",
      "1\n",
      "Calling __getitem__\n",
      "2\n",
      "Calling __getitem__\n",
      "3\n",
      "Calling __getitem__\n",
      "4\n",
      "Calling __getitem__\n"
     ]
    }
   ],
   "source": [
    "# Q1. \n",
    "# Which two operator overloading methods can you use in your classes to support iteration?\n",
    "# *************************************************************************************************************************\n",
    "\n",
    "# Iteration can happen upon any sequence that is indexable and has a length.\n",
    "\n",
    "# In Python, it is any object that has __iter__() or __getitem__(). If an object has __iter__ method, the iterable \n",
    "# becomes an iterator by calling iter(name) where 'name': name of iterable. If __iter__ method is not found,Python iterates\n",
    "# elements using __getitem__.\n",
    "\n",
    "# Example: \n",
    "# If object has __iter__(), it is used for values iteration.\n",
    "\n",
    "class Items:\n",
    "    def __init__(self, items):\n",
    "        self.items = items\n",
    "\n",
    "    def __getitem__(self, index):\n",
    "        print('Calling __getitem__')\n",
    "        return self.items[index]\n",
    "\n",
    "    def __iter__(self): # class instance calling __iter__ since it is present\n",
    "        print('Calling __iter__')\n",
    "        return iter(self.items)\n",
    "\n",
    "\n",
    "iterable_1 = Items([1, 2, 3, 4])\n",
    "\n",
    "for i in iterable_1:\n",
    "    print(i)\n",
    "\n",
    "print('*'*127+'\\n')   \n",
    "\n",
    "# Example: \n",
    "# If __iter__() is not present, Python iterates elements using __getitem__()\n",
    "\n",
    "class Items:\n",
    "    def __init__(self, items):\n",
    "        self.items = items\n",
    "\n",
    "    def __getitem__(self, index): # class instance calling __getitem__() since __iter__() is NOT present\n",
    "        print('Calling __getitem__')\n",
    "        return self.items[index]\n",
    "\n",
    "\n",
    "iterable_1 = Items([1, 2, 3, 4])\n",
    "\n",
    "for i in iterable_1:\n",
    "    print(i)"
   ]
  },
  {
   "cell_type": "code",
   "execution_count": 14,
   "metadata": {},
   "outputs": [
    {
     "name": "stdout",
     "output_type": "stream",
     "text": [
      "__repr__ called\n",
      "Person(name='Nilesh',age=20)\n",
      "*******************************************************************************************************************************\n",
      "\n",
      "__str__ called\n",
      "Nilesh\n"
     ]
    }
   ],
   "source": [
    "# Q2. \n",
    "# In what contexts do the two operator overloading methods manage printing?\n",
    "# *************************************************************************************************************************\n",
    "\n",
    "# The __str__ and __repr__ methods implement object print displays.\n",
    "# __str__ is the default choice and __repr__ as a fallback.\n",
    "# The __str__ is used to find the “informal”(readable) string representation of an object whereas __repr__ is used to \n",
    "# find the “official”(debugging) string representation of an object.\n",
    "\n",
    "# Example:\n",
    "\n",
    "# only __repr__() is present\n",
    "class Person:\n",
    "    def __init__(self,name,age):\n",
    "        self.name=name\n",
    "        self.age=age\n",
    "    def __repr__(self):\n",
    "        print(\"__repr__ called\")\n",
    "        return f\"Person(name='{self.name}',age={self.age})\"\n",
    "\n",
    "p=Person(\"Nilesh\",20)\n",
    "print(p)\n",
    "\n",
    "print('*'*127+'\\n')\n",
    "\n",
    "# Example:\n",
    "# when both __str__() & __repr__() are present, __str__() will be called.\n",
    "class Person:\n",
    "    def __init__(self, name, age):\n",
    "        self.name = name\n",
    "        self.age = age\n",
    "        \n",
    "    def __repr__(self):\n",
    "        print('__repr__ called')\n",
    "        return f\"Person(name='{self.name}, age=self.age')\"\n",
    "    \n",
    "    def __str__(self):\n",
    "        print('__str__ called')\n",
    "        return self.name\n",
    "\n",
    "p=Person(\"Nilesh\",20)\n",
    "print(p)"
   ]
  },
  {
   "cell_type": "code",
   "execution_count": 70,
   "metadata": {},
   "outputs": [
    {
     "name": "stdout",
     "output_type": "stream",
     "text": [
      "\n",
      "Calling __getitem__\n",
      "slice(5, 65, 5)\n",
      "\n",
      "Calling __getitem__\n",
      "slice(5, 65, 5)\n",
      "\n",
      "Calling __getitem__\n",
      "[3, 4]\n",
      "*******************************************************************************************************************************\n",
      "\n",
      "ab\n",
      "ab\n"
     ]
    }
   ],
   "source": [
    "# Q3. \n",
    "# In a class, how do you intercept slice operations?\n",
    "# *************************************************************************************************************************\n",
    "\n",
    "# Slice operations uses __getitem__().\n",
    "# __getitem__() is a magic method in Python, which when used in a class, allows its instances to use the [] (indexer) \n",
    "# operators.\n",
    "\n",
    "class Test():\n",
    "    \n",
    "    def __getitem__(self, items):\n",
    "        print('\\nCalling __getitem__')\n",
    "        print(items)\n",
    "        \n",
    "test = Test()\n",
    "test[5:65:5]\n",
    "test[slice(5, 65, 5)] # this is just the internal representation of how Python interpretes the above call\n",
    "\n",
    "L = [1, 2, 3, 4, 5]\n",
    "test2 = Test()\n",
    "test2.__getitem__(L[2:4]) # working of my custom __getitem__()\n",
    "\n",
    "print('*'*127+'\\n')\n",
    "\n",
    "print('abcde'[0:2:1])\n",
    "print('abcde'.__getitem__(slice(0, 2, 1))) # this is just the internal representation of how Python interpretes string"
   ]
  },
  {
   "cell_type": "code",
   "execution_count": 25,
   "metadata": {},
   "outputs": [
    {
     "name": "stdout",
     "output_type": "stream",
     "text": [
      "\n",
      "Calling__iadd__\n",
      "5\n",
      "\n",
      "Calling__add__\n"
     ]
    },
    {
     "data": {
      "text/plain": [
       "10"
      ]
     },
     "execution_count": 25,
     "metadata": {},
     "output_type": "execute_result"
    }
   ],
   "source": [
    "# Q4. \n",
    "# In a class, how do you capture in-place addition?\n",
    "# *************************************************************************************************************************\n",
    "\n",
    "# The implementation of 'in-place addition'(+=) is done by the magic fucntion: __iadd__(). (+=) stores the value its \n",
    "# adding and then do addition operation. It is unlike 'addition'(+) which does NOT store the result and directly do the \n",
    "# calculation\n",
    "\n",
    "# Example:\n",
    "\n",
    "class Number:\n",
    "    \n",
    "    def __init__(self, value):\n",
    "        self.value = value\n",
    "        \n",
    "    def __int__(self):\n",
    "        return int(self.value)\n",
    "\n",
    "    def __add__(self, other):\n",
    "        print('\\nCalling__add__')\n",
    "        return int(self) + other\n",
    "\n",
    "    def __iadd__(self, other):\n",
    "        print('\\nCalling__iadd__')\n",
    "        self.value = int(self.value) + other\n",
    "        return self.value\n",
    "\n",
    "some_num = Number(4)\n",
    "some_num += 1  #since '+=' is used hence it is implicitly calling __iadd__(). Also we need to explicitly use print. It is \n",
    "                            # because += stores the result\n",
    "print(some_num)\n",
    "\n",
    "some_num1 = Number(8)\n",
    "some_num1 + 2  # since '+' is used hence it is implicitly calling __add__(). We dont need to use print statement \n",
    "              # as '+' does not stores the result."
   ]
  },
  {
   "cell_type": "code",
   "execution_count": null,
   "metadata": {},
   "outputs": [],
   "source": [
    "# Q5. \n",
    "# When is it appropriate to use operator overloading?\n",
    "# *************************************************************************************************************************\n",
    "\n",
    "# We use operator overloading when we want to give extended meaning to an operator beyond their predefined operational \n",
    "# meaning."
   ]
  }
 ],
 "metadata": {
  "kernelspec": {
   "display_name": "Python 3",
   "language": "python",
   "name": "python3"
  },
  "language_info": {
   "codemirror_mode": {
    "name": "ipython",
    "version": 3
   },
   "file_extension": ".py",
   "mimetype": "text/x-python",
   "name": "python",
   "nbconvert_exporter": "python",
   "pygments_lexer": "ipython3",
   "version": "3.7.7"
  }
 },
 "nbformat": 4,
 "nbformat_minor": 4
}
