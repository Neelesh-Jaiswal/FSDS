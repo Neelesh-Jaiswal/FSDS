{
 "cells": [
  {
   "cell_type": "code",
   "execution_count": 29,
   "metadata": {},
   "outputs": [
    {
     "name": "stdout",
     "output_type": "stream",
     "text": [
      "How many key-value pairs you want to add?: \n",
      "4\n",
      "Please enter 4 key-value pairs:\n",
      "data1\n",
      "2 4 6 8\n",
      "data2\n",
      "2 4 6 7\n",
      "data3\n",
      "1 3 5 7\n",
      "data4\n",
      "1 2 3 4 5 6 7 9\n",
      "The original dictionary is: {'data1': [2, 4, 6, 8], 'data2': [2, 4, 6, 7], 'data3': [1, 3, 5, 7], 'data4': [1, 2, 3, 4, 5, 6, 7, 9]}\n",
      "The unique values in the dictionary are: [1, 2, 3, 4, 5, 6, 7, 8, 9]\n"
     ]
    }
   ],
   "source": [
    "# 1. Write a Python program to Extract Unique values from dictionary values?\n",
    "# *************************************************************************************************************************\n",
    "# 1.\n",
    "\n",
    "def unique_dict(dictionary):\n",
    "    lis = []\n",
    "    for val in dictionary.values():\n",
    "        for j in val:\n",
    "            lis.append(j)\n",
    "            s = list(set(lis))\n",
    "    return s\n",
    "\n",
    "if __name__ == '__main__':\n",
    "    user_dict = {}\n",
    "    print('How many key-value pairs you want to add?: ')\n",
    "    n = int(input())\n",
    "    print(f'Please enter {n} key-value pairs:')\n",
    "    \n",
    "    for i in range(n):\n",
    "        name = input()\n",
    "        values = list(map(int,input().split()))\n",
    "        user_dict[name] = values\n",
    "        \n",
    "    print(f'The original dictionary is: {user_dict}')\n",
    "    print(f'The unique values in the dictionary are: {unique_dict(user_dict)}')"
   ]
  },
  {
   "cell_type": "code",
   "execution_count": 36,
   "metadata": {},
   "outputs": [
    {
     "name": "stdout",
     "output_type": "stream",
     "text": [
      "How many key-value pairs you want to add?: \n",
      "3\n",
      "Please enter 3 key-value pairs:\n",
      "data1\n",
      "20\n",
      "data2\n",
      "45\n",
      "data3\n",
      "23\n",
      "The dictionary is: {'data1': 20, 'data2': 45, 'data3': 23}\n",
      "The sum of values in the dictionary are: 88\n"
     ]
    }
   ],
   "source": [
    "# 2. Write a Python program to find the sum of all items in a dictionary?\n",
    "# *************************************************************************************************************************\n",
    "# 2.\n",
    "def sum_dict(dict):\n",
    "    ans = 0\n",
    "    for i in dict.items():\n",
    "        ans = ans + i[1]\n",
    "    return ans\n",
    "\n",
    "if __name__ == '__main__':\n",
    "    user_dict = {}\n",
    "    print('How many key-value pairs you want to add?: ')\n",
    "    n = int(input())\n",
    "    print(f'Please enter {n} key-value pairs:')\n",
    "    for i in range(n):\n",
    "        name = input()\n",
    "        value = int(input())\n",
    "        user_dict[name] = value\n",
    "        \n",
    "    print(f'The dictionary is: {user_dict}')\n",
    "    print(f'The sum of values in the dictionary are: {sum_dict(user_dict)}')   "
   ]
  },
  {
   "cell_type": "code",
   "execution_count": 67,
   "metadata": {},
   "outputs": [
    {
     "name": "stdout",
     "output_type": "stream",
     "text": [
      "How many key-value pairs you want to add in dictionary 1 ?: \n",
      "3\n",
      "Please enter 3 key-value pairs:\n",
      "fruit banana\n",
      "vegetable cauliflower\n",
      "water swim\n",
      "How many key-value pairs you want to add in dictionary 2 ?: \n",
      "4\n",
      "Please enter 4 key-value pairs:\n",
      "bollywood nonsense\n",
      "election NOTA\n",
      "news TRP\n",
      "corona karma\n",
      "The two dictionaries are: {'fruit': 'banana', 'vegetable': 'cauliflower', 'water': 'swim'}\n",
      "{'bollywood': 'nonsense', 'election': 'NOTA', 'news': 'TRP', 'corona': 'karma'}\n",
      "After merging the two dictionaries : {'fruit': 'banana', 'vegetable': 'cauliflower', 'water': 'swim', 'bollywood': 'nonsense', 'election': 'NOTA', 'news': 'TRP', 'corona': 'karma'}\n"
     ]
    }
   ],
   "source": [
    "# 3. Write a Python program to Merging two Dictionaries?\n",
    "# *************************************************************************************************************************\n",
    "# 3.\n",
    "\n",
    "def merge(d1,d2):\n",
    "    return {**d1, **d2}\n",
    "\n",
    "if __name__ == '__main__':\n",
    "    dict1,dict2 = {},{}\n",
    "    print('How many key-value pairs you want to add in dictionary 1 ?: ')\n",
    "    n = int(input())\n",
    "    print(f'Please enter {n} key-value pairs:')\n",
    "    \n",
    "    for i in range(n):\n",
    "        name,value = input().split()\n",
    "        dict1[name] = value\n",
    "    \n",
    "    print('How many key-value pairs you want to add in dictionary 2 ?: ')\n",
    "    n = int(input())\n",
    "    print(f'Please enter {n} key-value pairs:')\n",
    "    \n",
    "    for i in range(n):\n",
    "        name,value = input().split()\n",
    "        dict2[name] = value\n",
    "    \n",
    "    print(f'The two dictionaries are: {dict1}\\n{dict2}')\n",
    "    print(f'After merging the two dictionaries : {merge(dict1,dict2)}')  "
   ]
  },
  {
   "cell_type": "code",
   "execution_count": 60,
   "metadata": {},
   "outputs": [
    {
     "name": "stdout",
     "output_type": "stream",
     "text": [
      "Enter the TWO separate dictionaries:\n",
      "Week_Num\n",
      "1 2 3 4 5 6 7\n",
      "Name_of_Day\n",
      "Mon Tue Wed Thurs Fri Sat Sun\n",
      "\n",
      "The original dictionary is: {'Week_Num': ['1', '2', '3', '4', '5', '6', '7'], 'Name_of_Day': ['Mon', 'Tue', 'Wed', 'Thurs', 'Fri', 'Sat', 'Sun']}\n",
      "\n",
      "The flat dictionary is : {'1': 'Mon', '2': 'Tue', '3': 'Wed', '4': 'Thurs', '5': 'Fri', '6': 'Sat', '7': 'Sun'}\n"
     ]
    }
   ],
   "source": [
    "# 4. Write a Python program to convert key-values list to flat dictionary?\n",
    "# *************************************************************************************************************************\n",
    "# 4.\n",
    "\n",
    "def flat_dictionary(main_dict):\n",
    "    test_list = []\n",
    "    test_dict = {}\n",
    "    for items in main_dict:\n",
    "        test_list.append(main_dict[items])\n",
    "    for key,value in zip(test_list[0],test_list[1]):\n",
    "        test_dict[key] = value\n",
    "    return test_dict\n",
    "\n",
    "if __name__ == '__main__':\n",
    "    user_dict = {}\n",
    "    print('Enter the TWO separate dictionaries:')\n",
    "    \n",
    "    for i in range(2):\n",
    "        name = input()\n",
    "        values = list(input().split())\n",
    "        user_dict[name] = values\n",
    "        \n",
    "    print(f'\\nThe original dictionary is: {user_dict}')\n",
    "    print(f'\\nThe flat dictionary is : {flat_dictionary(user_dict)}')"
   ]
  },
  {
   "cell_type": "code",
   "execution_count": 80,
   "metadata": {},
   "outputs": [
    {
     "name": "stdout",
     "output_type": "stream",
     "text": [
      "How many key-value pairs you want to add?: \n",
      "2\n",
      "Please enter 2 key-value pairs:\n",
      "a\n",
      "1\n",
      "b\n",
      "2\n",
      "Please add the Ordered key-value you want to add in the beginning: \n",
      "Enter the Key part: c\n",
      "Enter the value part: 3\n",
      "The original dictionary is: OrderedDict([('a', 1), ('b', 2)])\n",
      "The dictionary after insertion is: OrderedDict([('c', '3'), ('a', 1), ('b', 2)])\n"
     ]
    }
   ],
   "source": [
    "# 5. Write a Python program to insertion at the beginning in OrderedDict?\n",
    "# *************************************************************************************************************************\n",
    "# 5.\n",
    "# usually when we insert a key-value pair in the ordered dict, it gets added in the last by default.\n",
    "# TBH I just checked for some pre built function directly over internet and I found one\n",
    "\n",
    "from collections import OrderedDict\n",
    "\n",
    "def insertion_beginnning_ordered_dictionary(user_dict, new_key,new_value):\n",
    "    user_dict.update({new_key:new_value})\n",
    "    user_dict.move_to_end(new_key, last = False)\n",
    "    return user_dict\n",
    "    \n",
    "    \n",
    "if __name__ == '__main__':\n",
    "    user_dict = OrderedDict()\n",
    "    print('How many key-value pairs you want to add?: ')\n",
    "    n = int(input())\n",
    "    print(f'Please enter {n} key-value pairs:')\n",
    "    for i in range(n):\n",
    "        name = input()\n",
    "        value = int(input())\n",
    "        user_dict[name] = value\n",
    "    print('Please add the Ordered key-value you want to add in the beginning: ')\n",
    "    new_key = input('Enter the Key part: ')\n",
    "    new_value = input('Enter the value part: ')    \n",
    "        \n",
    "    print(f'The original dictionary is: {user_dict}')\n",
    "    print(f'The dictionary after insertion is: {insertion_beginnning_ordered_dictionary(user_dict, new_key,new_value)}')   "
   ]
  },
  {
   "cell_type": "code",
   "execution_count": 84,
   "metadata": {},
   "outputs": [
    {
     "name": "stdout",
     "output_type": "stream",
     "text": [
      "Enter the string: dark chocolate\n",
      "enter the pattern: rch\n",
      "Correct Order of pattern\n"
     ]
    }
   ],
   "source": [
    "# 6. Write a Python program to check order of character in string using OrderedDict()?\n",
    "# *************************************************************************************************************************\n",
    "# 6.\n",
    "\n",
    "from collections import OrderedDict\n",
    "\n",
    "def check_pattern(string, pattern):\n",
    "    string_dict = OrderedDict.fromkeys(string)\n",
    "    pattern_length = 0\n",
    "    for key,value in string_dict.items():\n",
    "        if key == pattern[pattern_length]:\n",
    "            pattern_length = pattern_length + 1\n",
    "        if pattern_length == len(pattern):\n",
    "            return 'Correct Order of pattern'\n",
    "    return 'Incorrect order of pattern'\n",
    "\n",
    "if __name__ == '__main__':\n",
    "    string = input('Enter the string: ')\n",
    "    pattern = input('enter the pattern: ')\n",
    "    print(check_pattern(string,pattern))"
   ]
  },
  {
   "cell_type": "code",
   "execution_count": 111,
   "metadata": {},
   "outputs": [
    {
     "name": "stdout",
     "output_type": "stream",
     "text": [
      "Sorting by keys:  {1: 'R', 2: 'D', 3: 'G', 4: 'A', 7: 'W', 8: 'P', 9: 'Y'}\n",
      "Sorting by vals:  {4: 'A', 2: 'D', 3: 'G', 8: 'P', 1: 'R', 7: 'W', 9: 'Y'}\n"
     ]
    }
   ],
   "source": [
    "# 7. Write a Python program to sort Python Dictionaries by Key or Value?\n",
    "# *************************************************************************************************************************\n",
    "# 7.\n",
    "\n",
    "my_dict = {4: 'A', 7: 'W', 2: 'D', 9: 'Y', 1: 'R', 3: 'G', 8: 'P'}\n",
    "\n",
    "print('Sorting by keys: ', dict(sorted(my_dict.items(), key=lambda x:x[0])))\n",
    "print('Sorting by vals: ', dict(sorted(my_dict.items(), key=lambda x:x[1])))"
   ]
  }
 ],
 "metadata": {
  "kernelspec": {
   "display_name": "Python 3",
   "language": "python",
   "name": "python3"
  },
  "language_info": {
   "codemirror_mode": {
    "name": "ipython",
    "version": 3
   },
   "file_extension": ".py",
   "mimetype": "text/x-python",
   "name": "python",
   "nbconvert_exporter": "python",
   "pygments_lexer": "ipython3",
   "version": "3.7.7"
  }
 },
 "nbformat": 4,
 "nbformat_minor": 4
}
