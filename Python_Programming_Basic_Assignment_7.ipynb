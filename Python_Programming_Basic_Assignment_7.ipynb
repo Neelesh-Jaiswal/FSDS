{
 "cells": [
  {
   "cell_type": "code",
   "execution_count": 8,
   "metadata": {},
   "outputs": [
    {
     "name": "stdout",
     "output_type": "stream",
     "text": [
      "Enter the number of elements: 3\n",
      "Enter the elements\n",
      "1 2 3 4 5 6\n",
      "The sum of the array: [1, 2, 3] is  6\n"
     ]
    }
   ],
   "source": [
    "# 1. Write a Python Program to find sum of array?\n",
    "# *************************************************************************************************************************\n",
    "# 1.\n",
    "def sum_array(arr):\n",
    "    return sum(arr)\n",
    "\n",
    "if __name__ == \"__main__\":\n",
    "    number_of_elements = int(input('Enter the number of elements: '))\n",
    "    print('Enter the elements')\n",
    "    array = list(map(int,input().split()))[:number_of_elements]\n",
    "    print(f'The sum of the array: {array} is ',sum_array(array))"
   ]
  },
  {
   "cell_type": "code",
   "execution_count": 24,
   "metadata": {},
   "outputs": [
    {
     "name": "stdout",
     "output_type": "stream",
     "text": [
      "Enter the elements:1 2 3 4 5 1 2 90 1\n",
      "The largest element is  90\n"
     ]
    }
   ],
   "source": [
    "# 2. Write a Python Program to find largest element in an array?\n",
    "# *************************************************************************************************************************\n",
    "# 2.\n",
    "def largest_element(arr):\n",
    "    largest = arr[0]\n",
    "    for i in arr:\n",
    "        if i>largest:\n",
    "            largest = i\n",
    "    return largest\n",
    "\n",
    "if __name__ == \"__main__\":\n",
    "    array = list(map(int,input('Enter the elements: ').split()))\n",
    "    print(f'The largest element is ',largest_element(array))"
   ]
  },
  {
   "cell_type": "code",
   "execution_count": 112,
   "metadata": {
    "scrolled": true
   },
   "outputs": [
    {
     "name": "stdout",
     "output_type": "stream",
     "text": [
      "Which type of rotation you want?\n",
      "1. Clockwise rotation\n",
      "2. Anticlockwise rotation\n",
      "\n",
      "Enter your choice of rotation(1/2): 1\n",
      "Enter the elements: 1 2 3 4 5 6 7 8 9\n",
      "How many rotations you want? 1\n",
      "[9, 1, 2, 3, 4, 5, 6, 7, 8]\n"
     ]
    }
   ],
   "source": [
    "# 3. Write a Python Program for array rotation?\n",
    "# *************************************************************************************************************************\n",
    "# 3.\n",
    "def anti_clockwise_rotation(arr,n):\n",
    "    return arr[n:] + arr[:n]\n",
    "\n",
    "def clockwise_rotation(arr,n):\n",
    "    return arr[-n:] + arr[:-n]\n",
    "\n",
    "if __name__ == \"__main__\":\n",
    "    \n",
    "    print('Which type of rotation you want?')\n",
    "    print('1. Clockwise rotation')\n",
    "    print('2. Anticlockwise rotation\\n')\n",
    "    \n",
    "    choice = input('Enter your choice of rotation(1/2): ')\n",
    "    \n",
    "    array = list(map(int,input('Enter the elements: ').split()))\n",
    "    number_of_rotations = int(input('How many rotations you want? '))\n",
    "    if choice == '1':\n",
    "        print(clockwise_rotation(array,number_of_rotations))\n",
    "\n",
    "    elif choice == '2':\n",
    "        print(anti_clockwise_rotation(array,number_of_rotations))\n"
   ]
  },
  {
   "cell_type": "code",
   "execution_count": 18,
   "metadata": {},
   "outputs": [
    {
     "name": "stdout",
     "output_type": "stream",
     "text": [
      "Enter the array: 1 2 3 4 5 6\n",
      "Enter the position from where you want to do partition: 7\n",
      "1 2 3 4 5 6 "
     ]
    }
   ],
   "source": [
    "# 4. Write a Python Program to Split the array and add the first part to the end?\n",
    "# *************************************************************************************************************************\n",
    "# 4.\n",
    "#This program works on the same logic as anticlockwise rotation of the array(used in above program)\n",
    "def split_array(arr,x):\n",
    "    return arr[x:] + arr[:x]\n",
    "\n",
    "if __name__ == \"__main__\":\n",
    "    array = list(map(int,input('Enter the array: ').split()))\n",
    "    partition = int(input('Enter the position from where you want to do partition: '))\n",
    "    for i in split_array(array,partition):\n",
    "        print(i,end=' ')"
   ]
  },
  {
   "cell_type": "code",
   "execution_count": 31,
   "metadata": {},
   "outputs": [
    {
     "name": "stdout",
     "output_type": "stream",
     "text": [
      "Enter the array: 23 43 56 76 88 123\n",
      "Array is monotinously INCREASING\n"
     ]
    }
   ],
   "source": [
    "# 5. Write a Python Program to check if given array is Monotonic?\n",
    "# *************************************************************************************************************************\n",
    "# 5.\n",
    "\n",
    "def monotonic(arr):\n",
    "    if  arr == sorted(arr):\n",
    "        return 'Array is monotinously INCREASING'\n",
    "    elif arr == sorted(arr,reverse = True):\n",
    "        return 'Array is monotinously DECREASING'\n",
    "    else:\n",
    "        return 'Array is neither increasing nor decreasing'\n",
    "    \n",
    "if __name__ == '__main__':\n",
    "    array = list(map(int,input('Enter the array: ').split()))\n",
    "    print(monotonic(array))"
   ]
  }
 ],
 "metadata": {
  "kernelspec": {
   "display_name": "Python 3",
   "language": "python",
   "name": "python3"
  },
  "language_info": {
   "codemirror_mode": {
    "name": "ipython",
    "version": 3
   },
   "file_extension": ".py",
   "mimetype": "text/x-python",
   "name": "python",
   "nbconvert_exporter": "python",
   "pygments_lexer": "ipython3",
   "version": "3.7.7"
  }
 },
 "nbformat": 4,
 "nbformat_minor": 4
}
