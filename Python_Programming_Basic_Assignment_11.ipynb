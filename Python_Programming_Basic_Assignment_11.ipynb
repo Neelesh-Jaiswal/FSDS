{
 "cells": [
  {
   "cell_type": "code",
   "execution_count": 45,
   "metadata": {
    "scrolled": true
   },
   "outputs": [
    {
     "name": "stdout",
     "output_type": "stream",
     "text": [
      "Enter the words: Algorithm Program API Argument ASCII Boolean Bug Char Objects Class Code Compilation Exception Framework Token Runtime Package Variable Pointer Operand Null Keywords Loop\n",
      "\n",
      "Enter the length: 7\n",
      "Words greater than length 7 are: \n",
      "Algorithm\n",
      "Argument\n",
      "Compilation\n",
      "Exception\n",
      "Framework\n",
      "Variable\n",
      "Keywords\n",
      "None\n"
     ]
    }
   ],
   "source": [
    "# 1. Write a Python program to find words which are greater than given length k?\n",
    "# *************************************************************************************************************************\n",
    "# 1.\n",
    "# WITHOUT using inbuit function: len()\n",
    "def words(lis,k):\n",
    "    for i in lis:\n",
    "        length = 0\n",
    "        for j in i:\n",
    "            length = length + 1\n",
    "        if length > k:\n",
    "            print(i)\n",
    "\n",
    "if __name__ == \"__main__\":\n",
    "    elements = list(input('Enter the words: ').split())\n",
    "    length = int(input('\\nEnter the length: '))\n",
    "    print(f'Words greater than length {length} are: ')\n",
    "    print(words(elements,length))"
   ]
  },
  {
   "cell_type": "code",
   "execution_count": 50,
   "metadata": {},
   "outputs": [
    {
     "name": "stdout",
     "output_type": "stream",
     "text": [
      "Enter the string: neelesh jaiswal\n",
      "Entr the character you want to remove from the resultant string: e\n",
      "Resultant string after removing \"e\":\n",
      "nlsh jaiswal"
     ]
    }
   ],
   "source": [
    "# 2. Write a Python program for removing i-th character from a string?\n",
    "# *************************************************************************************************************************\n",
    "# 2.\n",
    "\n",
    "def remove_char(s,discard):\n",
    "    for i in s:\n",
    "        if i == discard:\n",
    "            continue\n",
    "        yield i # We cannot use return inside a loop as it will break the loop HENCE, I have used yield and then make \n",
    "                # the function as generator\n",
    "        \n",
    "if __name__ == '__main__':\n",
    "    string = input('Enter the string: ')\n",
    "    character = input('Entr the character you want to remove from the resultant string: ')[0]\n",
    "    print(f'Resultant string after removing \"{character}\":')\n",
    "    generator = remove_char(string,character)\n",
    "    for i in generator:\n",
    "        print(i,end='')"
   ]
  },
  {
   "cell_type": "code",
   "execution_count": 71,
   "metadata": {},
   "outputs": [
    {
     "name": "stdout",
     "output_type": "stream",
     "text": [
      "Enter the string: This is a boy\n",
      "Enter the separator by which you want to split: i\n",
      "Enter the separator by which you want to join the list:@\n",
      "\n",
      "The string after splitting is : ['Th', 's ', 's a boy']\n",
      "The string after join the list is : Th@s @s a boy\n"
     ]
    }
   ],
   "source": [
    "# 3. Write a Python program to split and join a string?\n",
    "# *************************************************************************************************************************\n",
    "# 3.\n",
    "# Not using inbuit function: split() , join()\n",
    "\n",
    "def split_join(string,split_sep,join_sep):\n",
    "    lis = []\n",
    "    temp = ''\n",
    "    for i in string:\n",
    "        if i == split_sep:\n",
    "            lis.append(temp)\n",
    "            temp = ''\n",
    "        else:\n",
    "            temp = temp + i\n",
    "    \n",
    "    temp = ''\n",
    "    for i in lis:\n",
    "        temp = temp + join_sep + i\n",
    "    return lis, temp\n",
    "\n",
    "if __name__ == '__main__':\n",
    "    string = input('Enter the string: ')\n",
    "    split_separator = input('Enter the separator by which you want to split: ')\n",
    "    join_separator =  input('Enter the separator by which you want to join the list:')\n",
    "    string = string + split_separator # to accomodate the last element in the list from the string\n",
    "    \n",
    "    print(f'\\nThe string after splitting is : {split_join(string, split_separator, join_separator)[0]}')\n",
    "    print(f'The string after join the list is : {split_join(string, split_separator, join_separator)[1][1:]}')"
   ]
  },
  {
   "cell_type": "code",
   "execution_count": 89,
   "metadata": {},
   "outputs": [
    {
     "name": "stdout",
     "output_type": "stream",
     "text": [
      "Enter the string: 0110101010111\n",
      "Binary\n"
     ]
    }
   ],
   "source": [
    "# 4. Write a Python to check if a given string is binary string or not?\n",
    "# *************************************************************************************************************************\n",
    "# 4.\n",
    "# if a given string has characters which are only 1 or 0, such strings as binary strings\n",
    "\n",
    "def binary(string):\n",
    "    refer = {'0','1'}\n",
    "    ans = set(string)\n",
    "    return 'Binary' if ans == refer or ans == {'0'} or ans == {'1'} else 'Not Binary'\n",
    "\n",
    "if __name__ == '__main__':\n",
    "    binary_string = input('Enter the string: ')\n",
    "    print(binary(binary_string))"
   ]
  },
  {
   "cell_type": "code",
   "execution_count": 119,
   "metadata": {},
   "outputs": [
    {
     "name": "stdout",
     "output_type": "stream",
     "text": [
      "Enter the string 1: This is Modi\n",
      "Enter the string 2: This is Rahul\n",
      "Uncommon words are: ['Modi', 'Rahul']\n"
     ]
    }
   ],
   "source": [
    "# 5. Write a Python program to find uncommon words from two Strings?\n",
    "# *************************************************************************************************************************\n",
    "# 5.\n",
    "def uncommon(l1,l2):\n",
    "    l = []\n",
    "    for i in l1.split():\n",
    "        if i not in l2.split():\n",
    "            l.append(i)\n",
    "\n",
    "    for j in l2.split():\n",
    "        if j not in l1.split():\n",
    "            l.append(j)\n",
    "    return l\n",
    "\n",
    "if __name__ == '__main__':\n",
    "    s1 = input('Enter the string 1: ')\n",
    "    s2 = input('Enter the string 2: ')\n",
    "    print(f'Uncommon words are: {uncommon(s1,s2)}')"
   ]
  },
  {
   "cell_type": "code",
   "execution_count": 2,
   "metadata": {},
   "outputs": [
    {
     "name": "stdout",
     "output_type": "stream",
     "text": [
      "Enter any string: Yellowwooddoor\n",
      "The duplicate enteries are: ['l', 'o', 'w', 'd']\n"
     ]
    }
   ],
   "source": [
    "# 6. Write a Python to find all duplicate characters in string?\n",
    "# *************************************************************************************************************************\n",
    "# 6.\n",
    "\n",
    "def duplicate(string):\n",
    "    string = string.replace(' ','')\n",
    "    d = {}\n",
    "    for i in string:\n",
    "        if i in d:\n",
    "            d[i] += 1\n",
    "        else:\n",
    "            d[i] = 1\n",
    "    return [key for key,value in d.items() if value>1]\n",
    "\n",
    "if __name__ == '__main__':\n",
    "    string = input('Enter any string: ')\n",
    "    print('The duplicate enteries are:',duplicate(string))"
   ]
  },
  {
   "cell_type": "code",
   "execution_count": 4,
   "metadata": {},
   "outputs": [
    {
     "name": "stdout",
     "output_type": "stream",
     "text": [
      "Enter any string: Neeles@h\n",
      "String contains Special Characters.\n"
     ]
    }
   ],
   "source": [
    "# 7. Write a Python Program to check if a string contains any special character?\n",
    "# *************************************************************************************************************************\n",
    "# 7.\n",
    "\n",
    "import re \n",
    "\n",
    "def check_splcharacter(test):  \n",
    "    string_check= re.compile('[@_!#$%^&*()<>?/\\|}{~:]') \n",
    "    \n",
    "    if(string_check.search(test) == None): \n",
    "        print(\"String does not contain Special Characters.\")\n",
    "          \n",
    "    else: \n",
    "        print(\"String contains Special Characters.\") \n",
    "\n",
    "if __name__ == '__main__' : \n",
    "    test = input('Enter any string: ')  \n",
    "    check_splcharacter(test) "
   ]
  }
 ],
 "metadata": {
  "kernelspec": {
   "display_name": "Python 3",
   "language": "python",
   "name": "python3"
  },
  "language_info": {
   "codemirror_mode": {
    "name": "ipython",
    "version": 3
   },
   "file_extension": ".py",
   "mimetype": "text/x-python",
   "name": "python",
   "nbconvert_exporter": "python",
   "pygments_lexer": "ipython3",
   "version": "3.7.7"
  }
 },
 "nbformat": 4,
 "nbformat_minor": 4
}
