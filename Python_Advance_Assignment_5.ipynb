{
 "cells": [
  {
   "cell_type": "code",
   "execution_count": 1,
   "metadata": {},
   "outputs": [
    {
     "name": "stdout",
     "output_type": "stream",
     "text": [
      "In Class4\n",
      "In Class2\n",
      "In Class3\n",
      "In Class1\n"
     ]
    }
   ],
   "source": [
    "# Q1. \n",
    "# What is the meaning of multiple inheritance?\n",
    "# *************************************************************************************************************************\n",
    "\n",
    "# Multiple inheritance occurs when a class inherits from more than one superclass.It's useful for mixing together multiple \n",
    "# packages of class-based code. In the case of multiple inheritance, a given attribute is first searched in the current \n",
    "# class if it’s not found then it’s searched in the parent classes. The parent classes are searched in a depth-first, \n",
    "# left-right fashion.\n",
    "\n",
    "# Example:\n",
    "\n",
    "class Class1:\n",
    "    def m(self):\n",
    "        print(\"In Class1\")\n",
    "\n",
    "class Class2(Class1):\n",
    "    def m(self):\n",
    "        print(\"In Class2\")\n",
    "        super().m()\n",
    "\n",
    "class Class3(Class1):\n",
    "    def m(self):\n",
    "        print(\"In Class3\")\n",
    "        super().m()\n",
    "\n",
    "class Class4(Class2, Class3):\n",
    "    def m(self):\n",
    "        print(\"In Class4\")\n",
    "        super().m()\n",
    "\n",
    "obj = Class4()\n",
    "obj.m()"
   ]
  },
  {
   "cell_type": "code",
   "execution_count": null,
   "metadata": {},
   "outputs": [],
   "source": [
    "# Q2. \n",
    "# What is the concept of delegation?\n",
    "# *************************************************************************************************************************\n",
    "\n",
    "# Delegation involves wrapping an object in a proxy class, which adds extra behavior and passes other operations to the \n",
    "# wrapped object. The proxy retains the interface of the wrapped object."
   ]
  },
  {
   "cell_type": "code",
   "execution_count": null,
   "metadata": {},
   "outputs": [],
   "source": [
    "# Q3. \n",
    "# What is the concept of composition?\n",
    "# *************************************************************************************************************************\n",
    "\n",
    "# Composition is a technique whereby a controller class embeds and directs a number of objects, and provides an interface \n",
    "# all its own. It's a way to build up larger structures with classes."
   ]
  },
  {
   "cell_type": "code",
   "execution_count": null,
   "metadata": {},
   "outputs": [],
   "source": [
    "# Q4. \n",
    "# What are bound methods and how do we use them?\n",
    "# *************************************************************************************************************************\n",
    "\n",
    "# Bound methods combine an instance and a method function. We can call them without passing in an instance object \n",
    "# explicitly because the original instance is still available."
   ]
  },
  {
   "cell_type": "code",
   "execution_count": null,
   "metadata": {},
   "outputs": [],
   "source": [
    "# Q5. \n",
    "# What is the purpose of pseudoprivate attributes?\n",
    "\n",
    "# Pseudoprivate attributes - whose names begin but do not end with two leading underscores: (for example: __X) are used to \n",
    "# localize names to the enclosing class. This includes both class attributes like methods defined inside the class, and \n",
    "# self instance attributes assigned inside the class’s methods. Such names are expanded to include the class name, which \n",
    "# makes them generally unique."
   ]
  }
 ],
 "metadata": {
  "kernelspec": {
   "display_name": "Python 3",
   "language": "python",
   "name": "python3"
  },
  "language_info": {
   "codemirror_mode": {
    "name": "ipython",
    "version": 3
   },
   "file_extension": ".py",
   "mimetype": "text/x-python",
   "name": "python",
   "nbconvert_exporter": "python",
   "pygments_lexer": "ipython3",
   "version": "3.7.7"
  }
 },
 "nbformat": 4,
 "nbformat_minor": 4
}
