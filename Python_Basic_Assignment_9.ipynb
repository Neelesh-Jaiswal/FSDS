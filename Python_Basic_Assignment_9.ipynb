{
 "cells": [
  {
   "cell_type": "code",
   "execution_count": null,
   "metadata": {},
   "outputs": [],
   "source": [
    "# 1. To what does a relative path refer?\n",
    "# ------------------------------------------------------------------------------------------------------------------------------\n",
    "# 1.\n",
    "# Relative paths are relative to the program’s current working directory"
   ]
  },
  {
   "cell_type": "code",
   "execution_count": null,
   "metadata": {},
   "outputs": [],
   "source": [
    "# 2. What does an absolute path start with your operating system?\n",
    "# ------------------------------------------------------------------------------------------------------------------------------\n",
    "# 2.\n",
    "# It starts with the root folder like /"
   ]
  },
  {
   "cell_type": "code",
   "execution_count": 2,
   "metadata": {},
   "outputs": [
    {
     "name": "stdout",
     "output_type": "stream",
     "text": [
      "Current directory C:\\Users\\Lenovo\\Downloads\\Ineuron\n",
      "Directory after changing:  C:\\Users\\Lenovo\\Downloads\n"
     ]
    }
   ],
   "source": [
    "# 3. What do the functions os.getcwd() and os.chdir() do?\n",
    "# ------------------------------------------------------------------------------------------------------------------------------\n",
    "# 3.\n",
    "# os.getcwd() gets the current working directory.\n",
    "# Example:\n",
    "import os\n",
    "print('Current directory',os.getcwd())\n",
    "os.chdir(\"C:\\\\Users\\\\Lenovo\\\\Downloads\\\\\")\n",
    "print('Directory after changing: ',os.getcwd())"
   ]
  },
  {
   "cell_type": "code",
   "execution_count": null,
   "metadata": {},
   "outputs": [],
   "source": [
    "# 4. What are the . and .. folders?\n",
    "# ------------------------------------------------------------------------------------------------------------------------------\n",
    "# 4.\n",
    "# A single dot (.\\) for a folder name is shorthand for 'current directory'.\n",
    "# A dot-dot (..\\) means 'the parent folder'."
   ]
  },
  {
   "cell_type": "code",
   "execution_count": null,
   "metadata": {},
   "outputs": [],
   "source": [
    "# 5. In C:\\bacon\\eggs\\spam.txt, which part is the dir name, and which part is the base name?\n",
    "# ------------------------------------------------------------------------------------------------------------------------------\n",
    "# 5.\n",
    "# dir name: C:\\bacon\\eggs\\\n",
    "# base name : spam.txt"
   ]
  },
  {
   "cell_type": "code",
   "execution_count": null,
   "metadata": {},
   "outputs": [],
   "source": [
    "# 6. What are the three 'mode' arguments that can be passed to the open() function?\n",
    "# ------------------------------------------------------------------------------------------------------------------------------\n",
    "# 6.\n",
    "# The three modes are:\n",
    "# 'r' -> read mode\n",
    "# 'w' -> write mode\n",
    "# 'a' -> append mode"
   ]
  },
  {
   "cell_type": "code",
   "execution_count": null,
   "metadata": {},
   "outputs": [],
   "source": [
    "# 7. What happens if an existing file is opened in write mode?\n",
    "# ------------------------------------------------------------------------------------------------------------------------------\n",
    "# 7.\n",
    "# Write mode will overwrite the existing file and start from scratch"
   ]
  },
  {
   "cell_type": "code",
   "execution_count": null,
   "metadata": {},
   "outputs": [],
   "source": [
    "# 8. How do you tell the difference between read() and readlines()?\n",
    "# ------------------------------------------------------------------------------------------------------------------------------\n",
    "# 8.\n",
    "# read() -> returns the file's entire contents as a single string.\n",
    "# readlines() -> returns a list of strings, where each string is a line from the file's contents. It depends on the file format \n",
    "# it is going to read."
   ]
  },
  {
   "cell_type": "code",
   "execution_count": null,
   "metadata": {},
   "outputs": [],
   "source": [
    "# 9. What data structure does a shelf value resemble?\n",
    "# ------------------------------------------------------------------------------------------------------------------------------\n",
    "# 9.\n",
    "# It is used to save the Python variables in the hard drive\n",
    "# It resembles dictionaries. Shelf values have keys-values pair that will return list-like values of the keys and values in the \n",
    "# shelf."
   ]
  }
 ],
 "metadata": {
  "kernelspec": {
   "display_name": "Python 3",
   "language": "python",
   "name": "python3"
  },
  "language_info": {
   "codemirror_mode": {
    "name": "ipython",
    "version": 3
   },
   "file_extension": ".py",
   "mimetype": "text/x-python",
   "name": "python",
   "nbconvert_exporter": "python",
   "pygments_lexer": "ipython3",
   "version": "3.7.7"
  }
 },
 "nbformat": 4,
 "nbformat_minor": 4
}
