{
 "cells": [
  {
   "cell_type": "code",
   "execution_count": 39,
   "metadata": {},
   "outputs": [
    {
     "name": "stdout",
     "output_type": "stream",
     "text": [
      "2\n",
      "3\n",
      "0\n"
     ]
    }
   ],
   "source": [
    "# Question1\n",
    "\n",
    "# Create a function that takes three integer arguments (a, b, c) and returns the amount of integers which are of equal \n",
    "# value.\n",
    "\n",
    "# Examples\n",
    "# equal(3, 4, 3) ➞ 2\n",
    "\n",
    "# equal(1, 1, 1) ➞ 3\n",
    "\n",
    "# equal(3, 4, 1) ➞ 0 \n",
    "# Notes\n",
    "# Your function must return 0, 2 or 3.\n",
    "\n",
    "def equal(a,b,c):\n",
    "    l,d = [], {}\n",
    "    \n",
    "    l.append(a)\n",
    "    l.append(b)\n",
    "    l.append(c)\n",
    "    \n",
    "    \n",
    "    for i in l:\n",
    "        if i not in d:\n",
    "            d[i] = 1\n",
    "        else:\n",
    "            d[i] += 1\n",
    "\n",
    "    result = sorted(d.items(), key = lambda x: x[1], reverse = True)\n",
    "    \n",
    "    for i in result:\n",
    "        if i[1] > 1:\n",
    "            return i[1]\n",
    "        return 0\n",
    "    \n",
    "print(equal(3, 4, 3))\n",
    "print(equal(1, 1, 1))\n",
    "print(equal(3, 4, 1))"
   ]
  },
  {
   "cell_type": "code",
   "execution_count": 49,
   "metadata": {},
   "outputs": [
    {
     "data": {
      "text/plain": [
       "[(3, 2), (4, 1)]"
      ]
     },
     "execution_count": 49,
     "metadata": {},
     "output_type": "execute_result"
    }
   ],
   "source": [
    "sorted(d.items(), key = lambda x: x[1], reverse = True)"
   ]
  },
  {
   "cell_type": "code",
   "execution_count": 52,
   "metadata": {},
   "outputs": [
    {
     "name": "stdout",
     "output_type": "stream",
     "text": [
      "[('B', 2), ('C', 3), ('D', 1)]\n",
      "[('dislikes', 3), ('followers', 10), ('likes', 2)]\n"
     ]
    }
   ],
   "source": [
    "# Question2\n",
    "\n",
    "# Write a function that converts a dictionary into a list of keys-values tuples.\n",
    "\n",
    "# Examples\n",
    "# dict_to_list({\n",
    "#   \"D\": 1,\n",
    "#   \"B\": 2,\n",
    "#   \"C\": 3\n",
    "# }) ➞ [(\"B\", 2), (\"C\", 3), (\"D\", 1)]\n",
    "\n",
    "# dict_to_list({\n",
    "#   \"likes\": 2,\n",
    "#   \"dislikes\": 3,\n",
    "#   \"followers\": 10\n",
    "# }) ➞ [(\"dislikes\", 3), (\"followers\", 10), (\"likes\", 2)]\n",
    "\n",
    "# Notes\n",
    "# Return the elements in the list in alphabetical order.\n",
    "\n",
    "\n",
    "def dict_to_list(dit):\n",
    "    return sorted(dit.items(), key = lambda x : x[0])\n",
    "\n",
    "# execution\n",
    "\n",
    "print(dict_to_list({\n",
    "                  \"D\": 1,\n",
    "                  \"B\": 2,\n",
    "                  \"C\": 3\n",
    "                }))\n",
    "\n",
    "print(dict_to_list({\n",
    "                  \"likes\": 2,\n",
    "                  \"dislikes\": 3,\n",
    "                  \"followers\": 10\n",
    "                }))"
   ]
  },
  {
   "cell_type": "code",
   "execution_count": 60,
   "metadata": {},
   "outputs": [
    {
     "name": "stdout",
     "output_type": "stream",
     "text": [
      "{'p': 'P', 's': 'S'}\n",
      "{'a': 'A', 'b': 'B', 'c': 'C'}\n",
      "{'a': 'A', 'v': 'V', 'y': 'Y', 'z': 'Z'}\n"
     ]
    }
   ],
   "source": [
    "# Question3\n",
    "\n",
    "# Write a function that creates a dictionary with each (key, value) pair being the (lower case, upper case) versions of a \n",
    "# letter, respectively.\n",
    "\n",
    "# Examples\n",
    "# mapping([\"p\", \"s\"]) ➞ { \"p\": \"P\", \"s\": \"S\" }\n",
    "\n",
    "# mapping([\"a\", \"b\", \"c\"]) ➞ { \"a\": \"A\", \"b\": \"B\", \"c\": \"C\" }\n",
    "\n",
    "# mapping([\"a\", \"v\", \"y\", \"z\"]) ➞ { \"a\": \"A\", \"v\": \"V\", \"y\": \"Y\", \"z\": \"Z\" }\n",
    "\n",
    "# Notes\n",
    "# All of the letters in the input list will always be lowercase.\n",
    "\n",
    "def mapping(lis):\n",
    "    result = {}\n",
    "    \n",
    "    for i in lis:\n",
    "        if i not in result:\n",
    "            result[i] = i.upper()\n",
    "        else:\n",
    "            pass\n",
    "    return result\n",
    "\n",
    "print(mapping([\"p\", \"s\"]))\n",
    "print(mapping([\"a\", \"b\", \"c\"]))\n",
    "print(mapping([\"a\", \"v\", \"y\", \"z\"]))"
   ]
  },
  {
   "cell_type": "code",
   "execution_count": 68,
   "metadata": {},
   "outputs": [
    {
     "name": "stdout",
     "output_type": "stream",
     "text": [
      "upplus und bununus\n",
      "chooso cossorolo\n",
      "steffed jelepene peppers\n"
     ]
    }
   ],
   "source": [
    "# Question4\n",
    "\n",
    "# Write a function, that replaces all vowels in a string with a specified vowel.\n",
    "\n",
    "# Examples\n",
    "# vow_replace(\"apples and bananas\", \"u\") ➞ \"upplus und bununus\"\n",
    "\n",
    "# vow_replace(\"cheese casserole\", \"o\") ➞ \"chooso cossorolo\"\n",
    "\n",
    "# vow_replace(\"stuffed jalapeno poppers\", \"e\") ➞ \"steffed jelepene peppers\"\n",
    "\n",
    "# Notes\n",
    "# All words will be lowercase. Y is not considered a vowel.\n",
    "\n",
    "def vow_replace(string, char):\n",
    "    \n",
    "    vowel = 'aAeEiIoOUu'\n",
    "    for i in string:\n",
    "        if i in vowel:\n",
    "            string = string.replace(i,char)\n",
    "    return string\n",
    "\n",
    "print(vow_replace(\"apples and bananas\", \"u\"))\n",
    "print(vow_replace(\"cheese casserole\", \"o\"))\n",
    "print(vow_replace(\"stuffed jalapeno poppers\", \"e\"))"
   ]
  },
  {
   "cell_type": "code",
   "execution_count": 81,
   "metadata": {},
   "outputs": [
    {
     "name": "stdout",
     "output_type": "stream",
     "text": [
      "To Be oR NoT To Be!\n",
      "THe LiTTLe meRmaiD\n",
      "oH wHaT a BeauTiFuL moRNiNg.\n"
     ]
    }
   ],
   "source": [
    "# Question5\n",
    "\n",
    "# Create a function that takes a string as input and capitalizes a letter if its ASCII code is even and returns its lower \n",
    "# case version if its ASCII code is odd.\n",
    "\n",
    "# Examples\n",
    "# ascii_capitalize(\"to be or not to be!\") ➞ \"To Be oR NoT To Be!\"\n",
    "\n",
    "# ascii_capitalize(\"THE LITTLE MERMAID\") ➞ \"THe LiTTLe meRmaiD\"\n",
    "\n",
    "# ascii_capitalize(\"Oh what a beautiful morning.\") ➞ \"oH wHaT a BeauTiFuL moRNiNg.\"\n",
    "\n",
    "def ascii_capitalize(string):\n",
    "    for i in string:\n",
    "        if ord(i) % 2 == 0:\n",
    "            string = string.replace(i,i.upper())\n",
    "        else:\n",
    "            string = string.replace(i,i.lower())\n",
    "    return string\n",
    "\n",
    "print(ascii_capitalize(\"to be or not to be!\"))\n",
    "print(ascii_capitalize(\"THE LITTLE MERMAID\"))\n",
    "print(ascii_capitalize(\"Oh what a beautiful morning.\"))"
   ]
  }
 ],
 "metadata": {
  "kernelspec": {
   "display_name": "Python 3",
   "language": "python",
   "name": "python3"
  },
  "language_info": {
   "codemirror_mode": {
    "name": "ipython",
    "version": 3
   },
   "file_extension": ".py",
   "mimetype": "text/x-python",
   "name": "python",
   "nbconvert_exporter": "python",
   "pygments_lexer": "ipython3",
   "version": "3.7.7"
  }
 },
 "nbformat": 4,
 "nbformat_minor": 4
}
