{
 "cells": [
  {
   "cell_type": "code",
   "execution_count": 1,
   "metadata": {},
   "outputs": [],
   "source": [
    "# Q1. \n",
    "# What is the relationship between classes and modules?\n",
    "# *************************************************************************************************************************\n",
    "\n",
    "# Module:\n",
    "# Python has a way to put definitions in a file and use them in a script or in an interactive instance of the interpreter. \n",
    "# Such a file is called a 'module'. Definitions from a module can be imported into other modules or into the main module.\n",
    "\n",
    "# Module is nothing but a package to encapsulate reusable code.Modules can contain functions but also classes. \n",
    "# Modules are imported using the 'import' keyword.\n",
    "\n",
    "# Example: \n",
    "import math\n",
    "\n",
    "# Classes:\n",
    "# Classes provide a means of bundling data and functionality together. The concept of class occurs in many \n",
    "# programming languages and is fundamental to OOPs.\n",
    "\n",
    "# Class is used to abstract the common characteristics of different objects, classify objects that are similar to each \n",
    "# other into the same concept according to the similarity principle.Class encapsulates data and operations for future reuse\n",
    "\n",
    "# Example:\n",
    "class TestClass():\n",
    "\n",
    "    def func_1(self):\n",
    "        pass\n",
    "\n",
    "    def func_2(self):\n",
    "        pass\n"
   ]
  },
  {
   "cell_type": "code",
   "execution_count": 2,
   "metadata": {},
   "outputs": [
    {
     "name": "stdout",
     "output_type": "stream",
     "text": [
      "Total: 50\n",
      "Cart: ['apple', 'peach', 'orange']\n"
     ]
    }
   ],
   "source": [
    "# Q2. \n",
    "# How do you make instances and classes?\n",
    "# *************************************************************************************************************************\n",
    "\n",
    "# class below\n",
    "class FruitBasket():\n",
    "\n",
    "    def __init__ (self, fruits,total):\n",
    "        self.fruit_list = fruits\n",
    "        self.total = total\n",
    "\n",
    "    def show_total(self):\n",
    "        print(\"Total:\", self.total)\n",
    "    \n",
    "    def show_basket(self):\n",
    "        print(\"Cart:\", self.fruit_list)\n",
    "    \n",
    "    def show_bill(self):\n",
    "        self.show_total()\n",
    "        self.show_basket()\n",
    "\n",
    "# instance of a class below\n",
    "my_basket = FruitBasket([\"apple\", \"peach\", \"orange\"], 50)\n",
    "my_basket.show_bill()"
   ]
  },
  {
   "cell_type": "code",
   "execution_count": 5,
   "metadata": {},
   "outputs": [
    {
     "name": "stdout",
     "output_type": "stream",
     "text": [
      "1\n",
      "2\n",
      "2\n"
     ]
    }
   ],
   "source": [
    "# Q3. \n",
    "# Where and how should be class attributes created?\n",
    "# *************************************************************************************************************************\n",
    "\n",
    "# Class attributes belong to the class itself they will be shared by all the instances. Such attributes are defined in the \n",
    "# class body parts usually at the top.in other words, it is defined outside the constructor function, __init__(self,...), \n",
    "# of the class.\n",
    "\n",
    "# <class_name>.<attribute_name> one of the syntax to access class attribute\n",
    "\n",
    "# Example:\n",
    "    \n",
    "class sampleclass:\n",
    "    count = 0 # class attribute\n",
    "\n",
    "    def increase(self):\n",
    "        sampleclass.count += 1 # using class attribute in another function\n",
    "\n",
    "# Calling increase() on an object\n",
    "s1 = sampleclass()\n",
    "s1.increase()\n",
    "print(s1.count)\n",
    "\n",
    "s2 = sampleclass()\n",
    "s2.increase()\n",
    "print(s2.count)\n",
    "\n",
    "print(sampleclass.count) # the value of the class variable gets changed as per usage in other class methods\n"
   ]
  },
  {
   "cell_type": "code",
   "execution_count": 8,
   "metadata": {},
   "outputs": [
    {
     "name": "stdout",
     "output_type": "stream",
     "text": [
      "instance attribute of the object foo:  1\n",
      "instance attribute of the object var:  2\n",
      "class attribute of the class ExampleClass as a property of the class itself:  0\n",
      "classattribute  of the class as a property of the object foo:  0\n",
      "classattribute  of the class as a property of the object bar:  0\n"
     ]
    }
   ],
   "source": [
    "# Q4. \n",
    "# Where and how are instance attributes created?\n",
    "# *************************************************************************************************************************\n",
    "\n",
    "# An instance attribute is a Python variable belonging to one, and only one, object. This variable is only accessible in \n",
    "# the scope of this object and it is defined inside the constructor function, __init__(self,..) of the class.\n",
    "\n",
    "# Example:\n",
    "\n",
    "class ExampleClass(object):\n",
    "    class_attr = 0\n",
    "\n",
    "    def __init__(self, instance_attr):\n",
    "        self.instance_attr = instance_attr # 'instance_attr' is an instance attribute defined inside the constructor\n",
    "\n",
    "if __name__ == '__main__':\n",
    "    foo = ExampleClass(1)\n",
    "    bar = ExampleClass(2)\n",
    "    \n",
    "    print('instance attribute of the object foo: ',foo.instance_attr)\n",
    "    print('instance attribute of the object var: ',bar.instance_attr)\n",
    "    print('class attribute of the class ExampleClass as a property of the class itself: ',ExampleClass.class_attr)\n",
    "    print('classattribute  of the class as a property of the object foo: ',bar.class_attr)\n",
    "    print ('classattribute  of the class as a property of the object bar: ',foo.class_attr)\n",
    "#     print('print instance attribute as a class property: ',ExampleClass.instance_attr)\n",
    "    # AttributeError: "
   ]
  },
  {
   "cell_type": "code",
   "execution_count": 20,
   "metadata": {},
   "outputs": [
    {
     "name": "stdout",
     "output_type": "stream",
     "text": [
      "[6]\n",
      "[6, 6]\n"
     ]
    }
   ],
   "source": [
    "# Q5. \n",
    "# What does the term \"self\" in a Python class mean?\n",
    "# *************************************************************************************************************************\n",
    "\n",
    "# 'self' represents the instance of the class. By using the “self” keyword we can access the attributes and methods of the \n",
    "# class in python. It binds the attributes with the given arguments.\n",
    "\n",
    "# Example:\n",
    "class SomeClass:\n",
    "    def __init__(self):\n",
    "        self.arr = [] \n",
    "    \n",
    "    def insert_to_arr(self, value):\n",
    "        self.arr.append(value)\n",
    "        return self.arr\n",
    "\n",
    "obj1 = SomeClass()\n",
    "print(obj1.insert_to_arr(6))\n",
    "\n",
    "# python convert the above calling of the instance method to something like below.\n",
    "# 'obj1' has taken place of 'self' in the method calling\n",
    "print(SomeClass.insert_to_arr(obj1, 6))"
   ]
  },
  {
   "cell_type": "code",
   "execution_count": 34,
   "metadata": {},
   "outputs": [
    {
     "name": "stdout",
     "output_type": "stream",
     "text": [
      "3\n",
      "Nilesh Jaiwal\n",
      "[1, 2, 3, 4, 5, 6]\n",
      "*************************\n",
      "3\n",
      "3\n",
      "Hello World\n"
     ]
    }
   ],
   "source": [
    "# Q6. \n",
    "# How does a Python class handle operator overloading?\n",
    "# *************************************************************************************************************************\n",
    "\n",
    "# Operator Overloading means giving extended meaning beyond their predefined operational meaning. \n",
    "# For example operator + is used to add two integers as well as join two strings and merge two lists\n",
    "\n",
    "# Example:\n",
    "\n",
    "    \n",
    "print(1 + 2) # adding two intergers\n",
    "print(\"Nilesh \"+\"Jaiwal\") # concatnating two strings\n",
    "print([1,2,3] + [4,5,6]) # merging two lists\n",
    "\n",
    "# Consider that we have two objects which are a physical representation of a class (user-defined data type) and we have to \n",
    "# add two objects with binary ‘+’ operator.\n",
    "# We have to define a method for an operator and that process is called operator overloading.\n",
    "# We need to modify the Dunder(or magic) methods like this:\n",
    "\n",
    "# Example\n",
    "print('*'*25)\n",
    "\n",
    "class A:\n",
    "    def __init__(self, a):\n",
    "        self.a = a\n",
    " \n",
    "    # adding two objects\n",
    "    def __add__(self, o):\n",
    "        return self.a + o.a\n",
    "    \n",
    "ob1 = A(1)\n",
    "ob2 = A(2)\n",
    "ob3 = A(\"Hello \")\n",
    "ob4 = A(\"World\")\n",
    " \n",
    "print(ob1 + ob2)\n",
    "print(ob1.__add__(ob2)) # Internally this happens\n",
    "print(ob3 + ob4)"
   ]
  },
  {
   "cell_type": "code",
   "execution_count": 44,
   "metadata": {
    "scrolled": true
   },
   "outputs": [
    {
     "name": "stdout",
     "output_type": "stream",
     "text": [
      "Resultant grid points after adding is 2,9\n"
     ]
    }
   ],
   "source": [
    "# Q7. \n",
    "# When do you consider allowing operator overloading of your classes?\n",
    "# *************************************************************************************************************************\n",
    "\n",
    "# one usecase:\n",
    "# what if you want to add two cartesian grid points to yield another point with the same ‘+’ operator\n",
    "\n",
    "class GridPoint:\n",
    "    def __init__(self, x, y):  \n",
    "        self.x = x  \n",
    "        self.y = y\n",
    "  \n",
    "    def __add__(self, other):\n",
    "        return GridPoint(self.x + other.x, self.y + other.y)\n",
    "  \n",
    "    def __str__(self):\n",
    "        return f'Resultant grid points after adding is {self.x},{self.y}'  \n",
    "    \n",
    "point1 = GridPoint(3, 5)\n",
    "point2 = GridPoint(-1, 4)\n",
    "point3 = point1 + point2  # Add two points object using __add__() method\n",
    "print(point3)  # Print the attributes using __str__() method\n"
   ]
  },
  {
   "cell_type": "code",
   "execution_count": 45,
   "metadata": {},
   "outputs": [
    {
     "name": "stdout",
     "output_type": "stream",
     "text": [
      "3\n",
      "Nilesh Jaiwal\n",
      "[1, 2, 3, 4, 5, 6]\n"
     ]
    }
   ],
   "source": [
    "# Q8. \n",
    "# What is the most popular form of operator overloading?\n",
    "# *************************************************************************************************************************\n",
    "\n",
    "# Most commonly used operator overloading methods are:  __init__() and  __repr__() methods.\n",
    "# The very popular operator overloading is Addition.\n",
    "# '+' is used to add two integers as well as join two strings and merge two lists\n",
    "\n",
    "print(1 + 2) # adding two intergers\n",
    "print(\"Nilesh \"+\"Jaiwal\") # concatnating two strings\n",
    "print([1,2,3] + [4,5,6]) # merging two lists"
   ]
  },
  {
   "cell_type": "code",
   "execution_count": 64,
   "metadata": {},
   "outputs": [
    {
     "name": "stdout",
     "output_type": "stream",
     "text": [
      "********************************************Inheritance*********************************************\n",
      "Before increment:call from Employee class 56000\n",
      "After increment: call from Employee class 58800.0\n",
      "\n",
      "Calling Manager Class as child class 75000\n",
      "********************************************Polymorphism********************************************\n",
      "Employee salary 47250.0\n",
      "Manager salary  66000.0\n",
      "Director salary 84000.0\n"
     ]
    }
   ],
   "source": [
    "# Q9. \n",
    "# What are the two most important concepts to grasp in order to comprehend Python OOP code?\n",
    "# *************************************************************************************************************************\n",
    "\n",
    "# Inheritance and Polymorphism\n",
    "\n",
    "# Inheritance:\n",
    "# We can inherit from a parent (or base class). It also allows for adding new attributes as well as modifying \n",
    "# the existing ones. A child class can have new attributes in addition to the ones inherited from the parent class. \n",
    "# We have the option to modify or override the inherited attributes.\n",
    "\n",
    "print('Inheritance'.center(100,'*'))\n",
    "class Employee():\n",
    "    def __init__(self, emp_id, salary):\n",
    "        self.emp_id = emp_id\n",
    "        self.salary = salary\n",
    "    def give_raise(self):\n",
    "        self.salary = self.salary * 1.05 # 5 % increase for the Employee.\n",
    "\n",
    "emp1 = Employee(1001, 56000)\n",
    "\n",
    "print('Before increment:call from Employee class', emp1.salary)\n",
    "emp1.give_raise()\n",
    "print('After increment: call from Employee class', emp1.salary)        \n",
    "\n",
    "class Manager(Employee): #Inheritance\n",
    "    pass\n",
    "\n",
    "mgr1 = Manager(101, 75000)\n",
    "print('\\nCalling Manager Class as child class', mgr1.salary)\n",
    "# -------------------------------------------------------------------------------------------------------------------------\n",
    "\n",
    "# Polymorphism\n",
    "\n",
    "# Polymorphism allows for leveraging the same interface for different underlying operations.\n",
    "\n",
    "# We have three different classes and they all have a 'give_raise()' method. Although the name of the method is the same, \n",
    "# it behaves differently for different type of objects\n",
    "\n",
    "print('Polymorphism'.center(100,'*'))\n",
    "class Manager(Employee):\n",
    "    def give_raise(self):\n",
    "        self.salary = self.salary * 1.10 # 10 % increase for the Managers.\n",
    "\n",
    "class Director(Employee):\n",
    "    def give_raise(self):\n",
    "        self.salary = self.salary * 1.20 # 20 % increase for the Director.\n",
    "\n",
    "#  polymorphism in action\n",
    "def bulk_raise(list_of_emps):\n",
    "    for emp in list_of_emps:\n",
    "        emp.give_raise()\n",
    "\n",
    "emp1 = Employee(101, 45000)\n",
    "emp2 = Manager(103, 60000)\n",
    "emp3 = Director(105, 70000)\n",
    "list_of_emps = [emp1, emp2, emp3]\n",
    "bulk_raise(list_of_emps)\n",
    "\n",
    "print('Employee salary',emp1.salary)\n",
    "print('Manager salary ',emp2.salary)\n",
    "print('Director salary',emp3.salary)"
   ]
  }
 ],
 "metadata": {
  "kernelspec": {
   "display_name": "Python 3",
   "language": "python",
   "name": "python3"
  },
  "language_info": {
   "codemirror_mode": {
    "name": "ipython",
    "version": 3
   },
   "file_extension": ".py",
   "mimetype": "text/x-python",
   "name": "python",
   "nbconvert_exporter": "python",
   "pygments_lexer": "ipython3",
   "version": "3.7.7"
  }
 },
 "nbformat": 4,
 "nbformat_minor": 4
}
