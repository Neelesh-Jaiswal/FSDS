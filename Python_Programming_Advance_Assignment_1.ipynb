{
 "cells": [
  {
   "cell_type": "code",
   "execution_count": 39,
   "metadata": {},
   "outputs": [
    {
     "name": "stdout",
     "output_type": "stream",
     "text": [
      "2\n",
      "0\n"
     ]
    }
   ],
   "source": [
    "# 1. \n",
    "# Write a function that takes a list of lists and returns the value of all of the symbols in it, where each symbol adds \n",
    "# or takes something from the total score. Symbol values:\n",
    "\n",
    "# '#' = 5\n",
    "# O = 3\n",
    "# X = 1\n",
    "# ! = -1\n",
    "# !! = -3\n",
    "# !!! = -5\n",
    "\n",
    "# A list of lists containing 2 #s, a O, and a !!! would equal (0 + 5 + 5 + 3 - 5) 8.\n",
    "\n",
    "# If the final score is negative, return 0 (e.g. 3 #s, 3 !!s, 2 !!!s and a X would be \n",
    "#                                           (0 + 5 + 5 + 5 - 3 - 3 - 3 - 5 - 5 + 1) -3, so return 0.\n",
    "\n",
    "# Examples\n",
    "\n",
    "# check_score([\n",
    "#   [\"#\", \"!\"],\n",
    "#   [\"!!\", \"X\"]\n",
    "# ]) ➞ 2\n",
    "\n",
    "# check_score([\n",
    "#   [\"!!!\", \"O\", \"!\"],\n",
    "#   [\"X\", \"#\", \"!!!\"],\n",
    "#   [\"!!\", \"X\", \"O\"]\n",
    "# ]) ➞ 0\n",
    "\n",
    "def check_score(lis):\n",
    "    dic = {'#' : 5,'O' : 3,'X' : 1,'!' : -1,'!!' : -3,'!!!' : -5}    \n",
    "    result = 0\n",
    "    \n",
    "    for i in range(len(lis)):\n",
    "        for j in lis[i]:\n",
    "            if j in dic:\n",
    "                result += dic[j]\n",
    "                \n",
    "    if result < 0:\n",
    "        return 0\n",
    "    return result\n",
    "\n",
    "print(check_score([[\"#\", \"!\"],[\"!!\", \"X\"]]))\n",
    "print(check_score([[\"!!!\", \"O\", \"!\"],[\"X\", \"#\", \"!!!\"],[\"!!\", \"X\", \"O\"]]))"
   ]
  },
  {
   "cell_type": "code",
   "execution_count": 50,
   "metadata": {},
   "outputs": [
    {
     "name": "stdout",
     "output_type": "stream",
     "text": [
      "6\n",
      "84\n",
      "120\n"
     ]
    }
   ],
   "source": [
    "# 2. \n",
    "# Create a function that takes a variable number of arguments, each argument representing the number of items in a \n",
    "# group, and returns the number of permutations (combinations) of items that you could get by taking one item from each \n",
    "# group.\n",
    "\n",
    "# Examples\n",
    "\n",
    "# combinations(2, 3) ➞ 6\n",
    "\n",
    "# combinations(3, 7, 4) ➞ 84\n",
    "\n",
    "# combinations(2, 3, 4, 5) ➞ 120\n",
    "\n",
    "def combinaitons(*args):\n",
    "    result = 1\n",
    "    for i in args:\n",
    "        result *= i\n",
    "    return result\n",
    "        \n",
    "print(combinaitons(2,3))\n",
    "print(combinaitons(3,7,4))\n",
    "print(combinaitons(2,3,4,5))"
   ]
  },
  {
   "cell_type": "code",
   "execution_count": 61,
   "metadata": {},
   "outputs": [
    {
     "name": "stdout",
     "output_type": "stream",
     "text": [
      ". -.. .- -... -... .. -   -.-. .... .- .-.. .-.. . -. --. .\n",
      ".... . .-.. .--.   -- .   -.-.--\n"
     ]
    }
   ],
   "source": [
    "# 3. \n",
    "# Create a function that takes a string as an argument and returns the Morse code equivalent.\n",
    "\n",
    "# Examples\n",
    "\n",
    "# encode_morse(\"EDABBIT CHALLENGE\") ➞ \". -.. .- -... -... .. -   -.-. .... .- .-.. .-.. . -. --. .\"\n",
    "\n",
    "# encode_morse(\"HELP ME !\") ➞ \".... . .-.. .--.   -- .   -.-.--\"\n",
    "\n",
    "# This dictionary can be used for coding:\n",
    "\n",
    "# char_to_dots = {\n",
    "#   'A': '.-', 'B': '-...', 'C': '-.-.', 'D': '-..', 'E': '.', 'F': '..-.',\n",
    "#   'G': '--.', 'H': '....', 'I': '..', 'J': '.---', 'K': '-.-', 'L': '.-..',\n",
    "#   'M': '--', 'N': '-.', 'O': '---', 'P': '.--.', 'Q': '--.-', 'R': '.-.',\n",
    "#   'S': '...', 'T': '-', 'U': '..-', 'V': '...-', 'W': '.--', 'X': '-..-',\n",
    "#   'Y': '-.--', 'Z': '--..', ' ': ' ', '0': '-----',\n",
    "#   '1': '.----', '2': '..---', '3': '...--', '4': '....-', '5': '.....',\n",
    "#   '6': '-....', '7': '--...', '8': '---..', '9': '----.',\n",
    "#   '&': '.-...', \"'\": '.----.', '@': '.--.-.', ')': '-.--.-', '(': '-.--.',\n",
    "#   ':': '---...', ',': '--..--', '=': '-...-', '!': '-.-.--', '.': '.-.-.-',\n",
    "#   '-': '-....-', '+': '.-.-.', '\"': '.-..-.', '?': '..--..', '/': '-..-.'\n",
    "# }\n",
    "\n",
    "def encode_morse(string):\n",
    "    char_to_dots = {\n",
    "                  'A': '.-', 'B': '-...', 'C': '-.-.', 'D': '-..', 'E': '.', 'F': '..-.',\n",
    "                  'G': '--.', 'H': '....', 'I': '..', 'J': '.---', 'K': '-.-', 'L': '.-..',\n",
    "                  'M': '--', 'N': '-.', 'O': '---', 'P': '.--.', 'Q': '--.-', 'R': '.-.',\n",
    "                  'S': '...', 'T': '-', 'U': '..-', 'V': '...-', 'W': '.--', 'X': '-..-',\n",
    "                  'Y': '-.--', 'Z': '--..', ' ': ' ', '0': '-----',\n",
    "                  '1': '.----', '2': '..---', '3': '...--', '4': '....-', '5': '.....',\n",
    "                  '6': '-....', '7': '--...', '8': '---..', '9': '----.',\n",
    "                  '&': '.-...', \"'\": '.----.', '@': '.--.-.', ')': '-.--.-', '(': '-.--.',\n",
    "                  ':': '---...', ',': '--..--', '=': '-...-', '!': '-.-.--', '.': '.-.-.-',\n",
    "                  '-': '-....-', '+': '.-.-.', '\"': '.-..-.', '?': '..--..', '/': '-..-.'}\n",
    "    result = ''\n",
    "    for i in string:\n",
    "        if i in char_to_dots:\n",
    "            result += char_to_dots[i] + ' '\n",
    "    return result[:-1]\n",
    "\n",
    "print(encode_morse('EDABBIT CHALLENGE'))\n",
    "print(encode_morse('HELP ME !'))"
   ]
  },
  {
   "cell_type": "code",
   "execution_count": null,
   "metadata": {},
   "outputs": [],
   "source": [
    "# 4.  \n",
    "\n",
    "# Write a function that takes a number and returns True if it's a prime; False otherwise. The number can be 2^64-1 \n",
    "# (2 to the power of 63, not XOR). With the standard technique it would be O(2^64-1), which is much too large for the \n",
    "# 10 second time limit.\n",
    "\n",
    "# Examples\n",
    "\n",
    "# prime(7) ➞ True\n",
    "\n",
    "# prime(56963) ➞ True\n",
    "\n",
    "# prime(5151512515524) ➞ False\n"
   ]
  },
  {
   "cell_type": "markdown",
   "metadata": {},
   "source": [
    "## poorest time: 41.44 sec"
   ]
  },
  {
   "cell_type": "code",
   "execution_count": 148,
   "metadata": {},
   "outputs": [
    {
     "name": "stdout",
     "output_type": "stream",
     "text": [
      "999999937\n",
      "True\n",
      "\n",
      "Time required : 41.44996166229248\n"
     ]
    }
   ],
   "source": [
    "import time\n",
    "\n",
    "def prime(num):\n",
    "\n",
    "    if num > 1:\n",
    "        for i in range(2, num//2):\n",
    "            if (num % i) == 0:\n",
    "                return False\n",
    "        return True\n",
    "\n",
    "num = int(input())\n",
    "t0 = time.time()\n",
    "\n",
    "print(prime(num))\n",
    "\n",
    "t1 = time.time()\n",
    "print(\"\\nTime required :\", t1 - t0)"
   ]
  },
  {
   "cell_type": "markdown",
   "metadata": {},
   "source": [
    "## improved time: 0.0040 sec"
   ]
  },
  {
   "cell_type": "code",
   "execution_count": 144,
   "metadata": {},
   "outputs": [
    {
     "name": "stdout",
     "output_type": "stream",
     "text": [
      "999999937\n",
      "True\n",
      "\n",
      "Time required : 0.00402379035949707\n"
     ]
    }
   ],
   "source": [
    "import time\n",
    "\n",
    "def prime(num):\n",
    "    max_div = math.floor(math.sqrt(num))\n",
    "    if num > 1:\n",
    "        for i in range(2,1+max_div):\n",
    "            if (num % i) == 0:\n",
    "                return False\n",
    "        return True\n",
    "\n",
    "num = int(input())\n",
    "t0 = time.time()\n",
    "\n",
    "print(prime(num))\n",
    "\n",
    "t1 = time.time()\n",
    "print(\"\\nTime required :\", t1 - t0)"
   ]
  },
  {
   "cell_type": "markdown",
   "metadata": {},
   "source": [
    "## best time: 0.00199 sec"
   ]
  },
  {
   "cell_type": "code",
   "execution_count": 147,
   "metadata": {},
   "outputs": [
    {
     "name": "stdout",
     "output_type": "stream",
     "text": [
      "999999937\n",
      "True\n",
      "\n",
      "Time required : 0.001993894577026367\n"
     ]
    }
   ],
   "source": [
    "import time\n",
    "\n",
    "def prime(num):\n",
    "    \n",
    "    if num == 2:\n",
    "        return True\n",
    "    if num > 2 and num % 2 == 0:\n",
    "        return True\n",
    "    \n",
    "    max_div = math.floor(math.sqrt(num))\n",
    "    if num > 1:\n",
    "        for i in range(3,1+max_div,2):\n",
    "            if (num % i) == 0:\n",
    "                return False\n",
    "        return True\n",
    "\n",
    "num = int(input())\n",
    "t0 = time.time()\n",
    "\n",
    "print(prime(num))\n",
    "\n",
    "t1 = time.time()\n",
    "print(\"\\nTime required :\", t1 - t0)"
   ]
  },
  {
   "cell_type": "code",
   "execution_count": 162,
   "metadata": {},
   "outputs": [
    {
     "name": "stdout",
     "output_type": "stream",
     "text": [
      "[False, True, True, False]\n",
      "[False, True, False, True, True]\n",
      "[False, True, True, False]\n"
     ]
    }
   ],
   "source": [
    "# 5.  \n",
    "# Create a function that converts a word to a bitstring and then to a boolean list based on the following criteria:\n",
    "\n",
    "#     1. Locate the position of the letter in the English alphabet (from 1 to 26).\n",
    "#     2. Odd positions will be represented as 1 and 0 otherwise.\n",
    "#     3. Convert the represented positions to boolean values, 1 for True and 0 for False.\n",
    "#     4. Store the conversions into an array.\n",
    "\n",
    "# Examples\n",
    "\n",
    "# to_boolean_list(\"deep\") ➞ [False, True, True, False]\n",
    "# deep converts to 0110\n",
    "# d is the 4th alphabet - 0\n",
    "# e is the 5th alphabet - 1\n",
    "# e is the 5th alphabet - 1\n",
    "# p is the 16th alphabet - 0\n",
    "\n",
    "# to_boolean_list(\"loves\") ➞ [False, True, False, True, True]\n",
    "\n",
    "# to_boolean_list(\"tesh\") ➞ [False, True, True, False]\n",
    "\n",
    "def to_boolean_list(string):\n",
    "    result = []\n",
    "    a_to_z = dict((chr(i+96), i) for i in range(1, 27))\n",
    "\n",
    "    for i in string:\n",
    "        if a_to_z[i]%2 == 0:\n",
    "            result.append(False)\n",
    "        else:\n",
    "            result.append(True)\n",
    "    return result\n",
    "       \n",
    "print(to_boolean_list('deep'))\n",
    "print(to_boolean_list('loves'))\n",
    "print(to_boolean_list('tesh'))"
   ]
  }
 ],
 "metadata": {
  "kernelspec": {
   "display_name": "Python 3",
   "language": "python",
   "name": "python3"
  },
  "language_info": {
   "codemirror_mode": {
    "name": "ipython",
    "version": 3
   },
   "file_extension": ".py",
   "mimetype": "text/x-python",
   "name": "python",
   "nbconvert_exporter": "python",
   "pygments_lexer": "ipython3",
   "version": "3.7.7"
  }
 },
 "nbformat": 4,
 "nbformat_minor": 4
}
