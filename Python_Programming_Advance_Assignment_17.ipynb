{
 "cells": [
  {
   "cell_type": "code",
   "execution_count": 29,
   "metadata": {},
   "outputs": [
    {
     "name": "stdout",
     "output_type": "stream",
     "text": [
      "[[1, 2, 3], [1, 2, 3], [1, 2, 3]]\n",
      "[[5, 6, 9], [5, 7, 1]]\n"
     ]
    }
   ],
   "source": [
    "# 1. \n",
    "# Create a function that transposes a 2D matrix.\n",
    "\n",
    "# Examples\n",
    "\n",
    "# transpose_matrix([\n",
    "#   [1, 1, 1],\n",
    "#   [2, 2, 2],\n",
    "#   [3, 3, 3]\n",
    "# ]) ➞ [\n",
    "#   [1, 2, 3],\n",
    "#   [1, 2, 3],\n",
    "#   [1, 2, 3]\n",
    "# ]\n",
    "\n",
    "# transpose_matrix([\n",
    "#   [5, 5],\n",
    "#   [6, 7],\n",
    "#   [9, 1]\n",
    "# ]) ➞ [\n",
    "#   [5, 6, 9],\n",
    "#   [5, 7, 1]\n",
    "# ]\n",
    "\n",
    "def transpose_matrix(matrix):\n",
    "    rows = len(matrix)\n",
    "    columns = len(matrix[0])\n",
    "\n",
    "    matrix_T = []\n",
    "    for j in range(columns):\n",
    "        row = []\n",
    "        for i in range(rows):\n",
    "            row.append(matrix[i][j])\n",
    "        matrix_T.append(row)\n",
    "\n",
    "    return matrix_T\n",
    "\n",
    "print(\n",
    "    transpose_matrix([\n",
    "  [1, 1, 1],\n",
    "  [2, 2, 2],\n",
    "  [3, 3, 3]\n",
    "])\n",
    ")\n",
    "print(transpose_matrix([\n",
    "  [5, 5],\n",
    "  [6, 7],\n",
    "  [9, 1]\n",
    "]))"
   ]
  },
  {
   "cell_type": "code",
   "execution_count": 36,
   "metadata": {},
   "outputs": [
    {
     "name": "stdout",
     "output_type": "stream",
     "text": [
      "True\n",
      "True\n",
      "True\n",
      "False\n",
      "False\n",
      "False\n",
      "False\n"
     ]
    }
   ],
   "source": [
    "# 2. \n",
    "# Create a function that determines whether a string is a valid hex code.\n",
    "\n",
    "# A hex code must begin with a pound key '#'' and is exactly 6 characters in length. Each character must be a digit from \n",
    "# 0-9 or an alphabetic character from A-F. All alphabetic characters may be uppercase or lowercase.\n",
    "\n",
    "# Examples\n",
    "\n",
    "# is_valid_hex_code(\"#CD5C5C\") ➞ True\n",
    "\n",
    "# is_valid_hex_code(\"#EAECEE\") ➞ True\n",
    "\n",
    "# is_valid_hex_code(\"#eaecee\") ➞ True\n",
    "\n",
    "# is_valid_hex_code(\"#CD5C58C\") ➞ False\n",
    "#  Length exceeds 6\n",
    "\n",
    "# is_valid_hex_code(\"#CD5C5Z\") ➞ False\n",
    "#  Not all alphabetic characters in A-F\n",
    "\n",
    "# is_valid_hex_code(\"#CD5C&C\") ➞ False\n",
    "#  Contains unacceptable character\n",
    "\n",
    "# is_valid_hex_code(\"CD5C5C\") ➞ False\n",
    "#  Missing #\n",
    "\n",
    "def is_valid_hex_code(a):\n",
    "    acceptable_chars = '#ABCDEFabcdef0123456789'\n",
    "    if len(a) == 7:\n",
    "        if a[0] == '#':\n",
    "            for i in a:\n",
    "                if i in acceptable_chars:\n",
    "                    continue\n",
    "                return False\n",
    "            return True\n",
    "        return False\n",
    "    return False\n",
    "    \n",
    "print(is_valid_hex_code('#CD5C5C'))\n",
    "print(is_valid_hex_code('#EAECEE'))\n",
    "print(is_valid_hex_code('#eaecee'))\n",
    "print(is_valid_hex_code('#CD5C58C'))\n",
    "print(is_valid_hex_code('#CD5C5Z'))\n",
    "print(is_valid_hex_code('#CD5C&C'))\n",
    "print(is_valid_hex_code('CD5C5C'))"
   ]
  },
  {
   "cell_type": "code",
   "execution_count": 34,
   "metadata": {},
   "outputs": [
    {
     "name": "stdout",
     "output_type": "stream",
     "text": [
      "75.0%\n",
      "0.0%\n",
      "67.0%\n"
     ]
    }
   ],
   "source": [
    "# 3. \n",
    "# Given a list of math equations (given as strings), return the percentage of correct answers as a string. Round to the \n",
    "# nearest whole number.\n",
    "\n",
    "# Examples\n",
    "\n",
    "# mark_maths([\"2+2=4\", \"3+2=5\", \"10-3=3\", \"5+5=10\"]) ➞ \"75%\"\n",
    "\n",
    "# mark_maths([\"1-2=-2\"]), \"0%\"\n",
    "\n",
    "# mark_maths([\"2+3=5\", \"4+4=9\", \"3-1=2\"]) ➞ \"67%\"\n",
    "\n",
    "def mark_maths(a):\n",
    "    counter = 0\n",
    "    for i in a:\n",
    "        res = i.split('=')\n",
    "        i_th_result = eval(str(res[0]))\n",
    "        if str(i_th_result) == res[1]:\n",
    "            counter += 1\n",
    "    return str(round(counter/len(a),2)*100)+'%'\n",
    "            \n",
    "print(mark_maths([\"2+2=4\", \"3+2=5\", \"10-3=3\", \"5+5=10\"]))\n",
    "print(mark_maths([\"1-2=-2\"]))\n",
    "print(mark_maths([\"2+3=5\", \"4+4=9\", \"3-1=2\"]))"
   ]
  },
  {
   "cell_type": "code",
   "execution_count": null,
   "metadata": {},
   "outputs": [],
   "source": [
    "4. \n",
    "There are two players, Alice and Bob, each with a 3-by-3 grid. A referee tells Alice to fill out one particular row in \n",
    "the grid (say the second row) by putting either a 1 or a 0 in each box, such that the sum of the numbers in that row \n",
    "is odd. The referee tells Bob to fill out one column in the grid (say the first column) by putting either a 1 or a 0 in \n",
    "each box, such that the sum of the numbers in that column is even.\n",
    "\n",
    "Alice and Bob win the game if Alice’s numbers give an odd sum, Bob’s give an even sum, and (most important) they’ve \n",
    "each written down the same number in the one square where their row and column intersect.\n",
    "\n",
    "Examples\n",
    "\n",
    "magic_square_game([2, \"100\"], [1, \"101\"]) ➞ False\n",
    "\n",
    "magic_square_game([2, \"001\"], [1, \"101\"]) ➞ True\n",
    "\n",
    "magic_square_game([3, \"111\"], [2, \"011\"]) ➞ True\n",
    "\n",
    "magic_square_game([1, \"010\"], [3, \"101\"]) ➞ False\n",
    "\n",
    "Two lists, Alice [row, \"her choice\"], Bob [column, \"his choice\"]\n"
   ]
  },
  {
   "cell_type": "code",
   "execution_count": null,
   "metadata": {},
   "outputs": [],
   "source": []
  },
  {
   "cell_type": "code",
   "execution_count": null,
   "metadata": {},
   "outputs": [],
   "source": []
  },
  {
   "cell_type": "code",
   "execution_count": null,
   "metadata": {},
   "outputs": [],
   "source": []
  },
  {
   "cell_type": "code",
   "execution_count": null,
   "metadata": {},
   "outputs": [],
   "source": []
  },
  {
   "cell_type": "code",
   "execution_count": null,
   "metadata": {},
   "outputs": [],
   "source": []
  },
  {
   "cell_type": "code",
   "execution_count": null,
   "metadata": {},
   "outputs": [],
   "source": []
  },
  {
   "cell_type": "code",
   "execution_count": null,
   "metadata": {},
   "outputs": [],
   "source": []
  },
  {
   "cell_type": "code",
   "execution_count": null,
   "metadata": {},
   "outputs": [],
   "source": []
  },
  {
   "cell_type": "code",
   "execution_count": 10,
   "metadata": {},
   "outputs": [
    {
     "name": "stdout",
     "output_type": "stream",
     "text": [
      "2h 30min 0s\n",
      "1h 52min 0s\n",
      "0h 38min 34s\n"
     ]
    }
   ],
   "source": [
    "# 5. \n",
    "# From point A, an object is moving towards point B at constant velocity va (in km/hr). From point B, another object is \n",
    "# moving towards point A at constant velocity vb (in km/hr). Knowing this and the distance between point A and B (in km), \n",
    "# write a function that returns how much time passes until both objects meet.\n",
    "\n",
    "# Format the output like this:\n",
    "\n",
    "# \"2h 23min 34s\"\n",
    "\n",
    "# Examples\n",
    "\n",
    "# lets_meet(100, 10, 30) ➞ \"2h 30min 0s\"\n",
    "\n",
    "# lets_meet(280, 70, 80) ➞ \"1h 52min 0s\"\n",
    "\n",
    "# lets_meet(90, 75, 65) ➞ \"0h 38min 34s\"\n",
    "\n",
    "def lets_meet(distance, velocity_a, velocity_b):\n",
    "    time = distance/(velocity_a + velocity_b)\n",
    "    seconds = time * 3600\n",
    "    \n",
    "    hour = seconds // 3600       # number of hours\n",
    "    seconds %= 3600              # remaining seconds after deducting hours\n",
    "    minutes = seconds // 60      # number of minutes\n",
    "    seconds %= 60                # remaining seconds after deducting minutes\n",
    "    return f'{int(hour)}h {int(minutes)}min {int(seconds)}s'\n",
    "\n",
    "print(lets_meet(100, 10, 30))\n",
    "print(lets_meet(280, 70, 80))\n",
    "print(lets_meet(90, 75, 65))"
   ]
  }
 ],
 "metadata": {
  "kernelspec": {
   "display_name": "Python 3",
   "language": "python",
   "name": "python3"
  },
  "language_info": {
   "codemirror_mode": {
    "name": "ipython",
    "version": 3
   },
   "file_extension": ".py",
   "mimetype": "text/x-python",
   "name": "python",
   "nbconvert_exporter": "python",
   "pygments_lexer": "ipython3",
   "version": "3.7.7"
  }
 },
 "nbformat": 4,
 "nbformat_minor": 4
}
