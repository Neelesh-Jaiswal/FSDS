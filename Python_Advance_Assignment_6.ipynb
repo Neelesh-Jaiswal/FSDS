{
 "cells": [
  {
   "cell_type": "code",
   "execution_count": 4,
   "metadata": {},
   "outputs": [
    {
     "name": "stdout",
     "output_type": "stream",
     "text": [
      "The argument does not contain numbers\n",
      " invalid literal for int() with base 10: 'w'\n"
     ]
    }
   ],
   "source": [
    "# Q1. \n",
    "# Describe three applications for exception processing.\n",
    "# *************************************************************************************************************************\n",
    "\n",
    "# The applications of Exception processing are:\n",
    "#     Logging\n",
    "#     Error Handling,\n",
    "#     Termination Actions, and \n",
    "#     Event Notification\n",
    "\n",
    "# It can also simplify the handling of special cases and can be used to implement alternative control flows as a sort of \n",
    "# structured 'go to' operation. In general, exception processing also cuts down on the amount of error-checking code the \n",
    "# program may require because all errors filter up to handlers, you may not need to test the outcome of every operation.\n",
    "\n",
    "# Example:\n",
    "    \n",
    "def number_convert(var):\n",
    "    try:\n",
    "        return int(var)\n",
    "    except Exception as e:\n",
    "        print(\"The argument does not contain numbers\\n\", e)\n",
    "\n",
    "number_convert('w')"
   ]
  },
  {
   "cell_type": "code",
   "execution_count": null,
   "metadata": {},
   "outputs": [],
   "source": [
    "# Q2. \n",
    "# What happens if you don't do something extra to treat an exception?\n",
    "# *************************************************************************************************************************\n",
    "\n",
    "# Python provides a way to handle the exception so that the code can be executed without any interruption. Any uncaught \n",
    "# exception eventually filters up to the default exception handler Python provides at the top of the program. If we do \n",
    "# not handle the exception, the interpreter doesn't execute all the code that exists after the exception."
   ]
  },
  {
   "cell_type": "code",
   "execution_count": null,
   "metadata": {},
   "outputs": [],
   "source": [
    "# Q3. \n",
    "# What are your options for recovering from an exception in your script?\n",
    "# *************************************************************************************************************************\n",
    "\n",
    "# To recover from exception, we can use 'try-except' block.\n",
    "# The code runs under the 'try' statement. If this code does not execute successfully, the program will stop at the line \n",
    "# that caused the error and the 'except' code will run. Once an exception is caught, the exception is terminated and the \n",
    "# program continues after the try."
   ]
  },
  {
   "cell_type": "code",
   "execution_count": 15,
   "metadata": {},
   "outputs": [
    {
     "name": "stdout",
     "output_type": "stream",
     "text": [
      "got exception\n",
      "\n",
      "*******************************************************************************************************************************\n"
     ]
    },
    {
     "ename": "AssertionError",
     "evalue": "x IS NOT IN THE LIST!!!!!",
     "output_type": "error",
     "traceback": [
      "\u001b[1;31m---------------------------------------------------------------------------\u001b[0m",
      "\u001b[1;31mAssertionError\u001b[0m                            Traceback (most recent call last)",
      "\u001b[1;32m<ipython-input-15-b04367aa1eaa>\u001b[0m in \u001b[0;36m<module>\u001b[1;34m\u001b[0m\n\u001b[0;32m     22\u001b[0m \u001b[1;31m# Example:\u001b[0m\u001b[1;33m\u001b[0m\u001b[1;33m\u001b[0m\u001b[1;33m\u001b[0m\u001b[0m\n\u001b[0;32m     23\u001b[0m \u001b[0mlis\u001b[0m \u001b[1;33m=\u001b[0m \u001b[1;33m[\u001b[0m\u001b[1;34m\"a\"\u001b[0m\u001b[1;33m,\u001b[0m\u001b[1;34m\"b\"\u001b[0m\u001b[1;33m,\u001b[0m\u001b[1;34m\"c\"\u001b[0m\u001b[1;33m]\u001b[0m\u001b[1;33m\u001b[0m\u001b[1;33m\u001b[0m\u001b[0m\n\u001b[1;32m---> 24\u001b[1;33m \u001b[1;32massert\u001b[0m \u001b[1;34m\"x\"\u001b[0m \u001b[1;32min\u001b[0m \u001b[0mlis\u001b[0m\u001b[1;33m,\u001b[0m \u001b[1;34m\"x IS NOT IN THE LIST!!!!!\"\u001b[0m\u001b[1;33m\u001b[0m\u001b[1;33m\u001b[0m\u001b[0m\n\u001b[0m",
      "\u001b[1;31mAssertionError\u001b[0m: x IS NOT IN THE LIST!!!!!"
     ]
    }
   ],
   "source": [
    "# Q4. \n",
    "# Describe two methods for triggering exceptions in your script.\n",
    "# *************************************************************************************************************************\n",
    "\n",
    "# The raise and assert statements can be used to trigger an exception in the script.\n",
    "\n",
    "# 'raise' is used when we have detected an error condition or some condition does not satisfy. To trigger an exception\n",
    "# manually, simply run a raise statement.\n",
    "\n",
    "# Example:\n",
    "try:\n",
    "    raise IndexError # Trigger exception manually\n",
    "except IndexError:\n",
    "    print('got exception')\n",
    "\n",
    "print('\\n'+'*'*127)\n",
    "    \n",
    "# 'assert' is similar but the exception is only raised if a condition is met. It is used when you want to \"stop\" the \n",
    "# script based on a certain condition and return something to help debug faster. An assertion error should never be raised \n",
    "# unless there's a bug in the program.\n",
    "\n",
    "# Example:\n",
    "lis = [\"a\",\"b\",\"c\"]\n",
    "assert \"x\" in lis, \"x IS NOT IN THE LIST!!!!!\""
   ]
  },
  {
   "cell_type": "code",
   "execution_count": 38,
   "metadata": {},
   "outputs": [
    {
     "name": "stdout",
     "output_type": "stream",
     "text": [
      "division by zero\n",
      "finally statement got executed!!\n",
      "\n",
      "*******************************************************************************************************************************\n",
      "Hi there!\n"
     ]
    }
   ],
   "source": [
    "# Q5. \n",
    "# Identify two methods for specifying actions to be executed at termination time,regardless of whether or not an exception \n",
    "# exists.\n",
    "# *************************************************************************************************************************\n",
    "\n",
    "# try/finally statement\n",
    "\n",
    "# The finally statement always gets executed even if the exception is raised. Moslty we perform all the closure activities\n",
    "# such as closing a file(f.close()), shutting down the sql cursor,etc\n",
    "\n",
    "# Example:\n",
    "a = 10\n",
    "b = 0\n",
    "\n",
    "try:\n",
    "    c = a / b\n",
    "    print(c)\n",
    "except Exception as e:\n",
    "    print(e)\n",
    "finally:\n",
    "    print('finally statement got executed!!')\n",
    "    \n",
    "print('\\n'+'*'*127)\n",
    "\n",
    "# with/as statement\n",
    "\n",
    "# In python the with keyword is used when working with unmanaged resources (like file streams).It allows you to ensure \n",
    "# that a resource is \"cleaned up\" when the code that uses it finishes running, even if exceptions are thrown.\n",
    "\n",
    "# Example:\n",
    "\n",
    "with open('with_statement.txt', 'w') as f:\n",
    "     f.write('Hi there!')\n",
    "with open('with_statement.txt','r') as f:\n",
    "    print(f.read())\n",
    "f.close()"
   ]
  }
 ],
 "metadata": {
  "kernelspec": {
   "display_name": "Python 3",
   "language": "python",
   "name": "python3"
  },
  "language_info": {
   "codemirror_mode": {
    "name": "ipython",
    "version": 3
   },
   "file_extension": ".py",
   "mimetype": "text/x-python",
   "name": "python",
   "nbconvert_exporter": "python",
   "pygments_lexer": "ipython3",
   "version": "3.7.7"
  }
 },
 "nbformat": 4,
 "nbformat_minor": 4
}
