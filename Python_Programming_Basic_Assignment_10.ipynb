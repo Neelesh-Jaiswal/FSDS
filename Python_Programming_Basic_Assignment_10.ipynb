{
 "cells": [
  {
   "cell_type": "code",
   "execution_count": 10,
   "metadata": {},
   "outputs": [
    {
     "name": "stdout",
     "output_type": "stream",
     "text": [
      "Enter the elements: 1 2 3 4 5 6 7 8 9\n",
      "Sum is:  45\n"
     ]
    }
   ],
   "source": [
    "# 1. Write a Python program to find sum of elements in list?\n",
    "# *************************************************************************************************************************\n",
    "# 1.\n",
    "def list_sum(lis):\n",
    "    return sum(lis)\n",
    "\n",
    "if __name__ == \"__main__\":\n",
    "    elements = list(map(int,input('Enter the elements: ').split()))\n",
    "    print('Sum is: ',list_sum(elements))"
   ]
  },
  {
   "cell_type": "code",
   "execution_count": 14,
   "metadata": {},
   "outputs": [
    {
     "name": "stdout",
     "output_type": "stream",
     "text": [
      "Enter the elements: 1 2 3 4 5 6 7 8 9\n",
      "Product of list is:  362880\n"
     ]
    }
   ],
   "source": [
    "# 2. Write a Python program to  Multiply all numbers in the list?\n",
    "# *************************************************************************************************************************\n",
    "# 2.\n",
    "def multiply_list(lis):\n",
    "    ans = 1\n",
    "    for i in lis:\n",
    "        ans = ans*i\n",
    "    return ans\n",
    "\n",
    "if __name__ == \"__main__\":\n",
    "    elements = list(map(int,input('Enter the elements: ').split()))\n",
    "    print('Product of list is: ',multiply_list(elements))"
   ]
  },
  {
   "cell_type": "code",
   "execution_count": 30,
   "metadata": {},
   "outputs": [
    {
     "name": "stdout",
     "output_type": "stream",
     "text": [
      "Enter the elements: 23 45 6 99 56 4  5 3 2\n",
      "Smallest element in the list is:  2\n"
     ]
    }
   ],
   "source": [
    "# 3. Write a Python program to find smallest number in a list?\n",
    "# *************************************************************************************************************************\n",
    "# 3.\n",
    "\n",
    "def smallest(lis):\n",
    "    smallest = lis[0]\n",
    "    for i in lis:\n",
    "        if i<smallest:\n",
    "            smallest = i\n",
    "    return smallest\n",
    "\n",
    "if __name__ == \"__main__\":\n",
    "    elements = list(map(int,input('Enter the elements: ').split()))\n",
    "    print('Smallest element in the list is: ',smallest(elements))"
   ]
  },
  {
   "cell_type": "code",
   "execution_count": 29,
   "metadata": {},
   "outputs": [
    {
     "name": "stdout",
     "output_type": "stream",
     "text": [
      "Enter the elements: 23 45 6 99 56 4  5 3 2\n",
      "Largest element in the list is:  99\n"
     ]
    }
   ],
   "source": [
    "# 4. Write a Python program to find largest number in a list?\n",
    "# *************************************************************************************************************************\n",
    "# 4.\n",
    "\n",
    "def largest(lis):\n",
    "    largest = lis[0]\n",
    "    for i in lis:\n",
    "        if i>largest:\n",
    "            largest = i\n",
    "    return largest\n",
    "\n",
    "if __name__ == \"__main__\":\n",
    "    elements = list(map(int,input('Enter the elements: ').split()))\n",
    "    print('Largest element in the list is: ',largest(elements))"
   ]
  },
  {
   "cell_type": "code",
   "execution_count": 41,
   "metadata": {},
   "outputs": [
    {
     "name": "stdout",
     "output_type": "stream",
     "text": [
      "Enter the elements: 3 5 2 1 6 8 9\n",
      "Second Largest element in the list is:  8\n"
     ]
    }
   ],
   "source": [
    "# 5. Write a Python program to find second largest number in a list?\n",
    "# *************************************************************************************************************************\n",
    "# 5.\n",
    "\n",
    "def second_largest(lis):\n",
    "    for i in range (len(lis)):\n",
    "        for j in range(i + 1, len(lis)):\n",
    "            if(lis[i] > lis[j]):\n",
    "                temp = lis[i]\n",
    "                lis[i] = lis[j]\n",
    "                lis[j] = temp\n",
    "    return lis\n",
    "                      \n",
    "if __name__ == \"__main__\":\n",
    "    elements = list(map(int,input('Enter the elements: ').split()))\n",
    "    print('Second Largest element in the list is: ',second_largest(elements)[-2])"
   ]
  },
  {
   "cell_type": "code",
   "execution_count": 43,
   "metadata": {},
   "outputs": [
    {
     "name": "stdout",
     "output_type": "stream",
     "text": [
      "Enter the n-largest element you want to determine: 3\n",
      "Enter the elements: 3 5 2 1 6 8 9\n",
      "N-Largest element in the list is:  6\n"
     ]
    }
   ],
   "source": [
    "# 6. Write a Python program to find N largest elements from a list?\n",
    "# *************************************************************************************************************************\n",
    "# 6.\n",
    "\n",
    "def n_largest(lis):\n",
    "    for i in range (len(lis)):\n",
    "        for j in range(i + 1, len(lis)):\n",
    "            if(lis[i] > lis[j]):\n",
    "                temp = lis[i]\n",
    "                lis[i] = lis[j]\n",
    "                lis[j] = temp\n",
    "    return lis\n",
    "                      \n",
    "if __name__ == \"__main__\":\n",
    "    n = int(input('Enter the n-largest element you want to determine: '))\n",
    "    elements = list(map(int,input('Enter the elements: ').split()))\n",
    "    print('N-Largest element in the list is: ',n_largest(elements)[-n])"
   ]
  },
  {
   "cell_type": "code",
   "execution_count": 44,
   "metadata": {},
   "outputs": [
    {
     "name": "stdout",
     "output_type": "stream",
     "text": [
      "Enter the elements: 3 5 2 1 6 8 9\n",
      "even elements in the list are:  [2, 6, 8]\n"
     ]
    }
   ],
   "source": [
    "# 7. Write a Python program to print even numbers in a list?\n",
    "# *************************************************************************************************************************\n",
    "# 7.\n",
    "\n",
    "def even(lis):\n",
    "    even = []\n",
    "    for i in lis:\n",
    "        if i % 2 == 0:\n",
    "            even.append(i)\n",
    "    return even\n",
    "\n",
    "if __name__ == \"__main__\":\n",
    "    elements = list(map(int,input('Enter the elements: ').split()))\n",
    "    print('even elements in the list are: ',even(elements))"
   ]
  },
  {
   "cell_type": "code",
   "execution_count": 45,
   "metadata": {},
   "outputs": [
    {
     "name": "stdout",
     "output_type": "stream",
     "text": [
      "Enter the elements: 3 5 2 1 6 8 9\n",
      "even elements in the list are:  [3, 5, 1, 9]\n"
     ]
    }
   ],
   "source": [
    "# 8. Write a Python program to print odd numbers in a List?\n",
    "# *************************************************************************************************************************\n",
    "# 8.\n",
    "\n",
    "def odd(lis):\n",
    "    odd = []\n",
    "    for i in lis:\n",
    "        if i % 2 != 0:\n",
    "            odd.append(i)\n",
    "    return odd\n",
    "\n",
    "if __name__ == \"__main__\":\n",
    "    elements = list(map(int,input('Enter the elements: ').split()))\n",
    "    print('even elements in the list are: ',odd(elements))"
   ]
  },
  {
   "cell_type": "code",
   "execution_count": 11,
   "metadata": {},
   "outputs": [
    {
     "name": "stdout",
     "output_type": "stream",
     "text": [
      "[1, 2, 45, 'hello', [5, False, 4.6], '&hello']\n"
     ]
    }
   ],
   "source": [
    "# 9. Write a Python program to Remove empty List from List?\n",
    "# *************************************************************************************************************************\n",
    "# 9.\n",
    "\n",
    "l = [1,2,45,'hello',[5,False,4.6],[],'&hello',[]]\n",
    "for i in l:\n",
    "    if type(i) == list and len(i) == 0:\n",
    "        l.remove(i)\n",
    "print(l)"
   ]
  },
  {
   "cell_type": "code",
   "execution_count": 12,
   "metadata": {},
   "outputs": [
    {
     "data": {
      "text/plain": [
       "[1, 2, 45, 'hello', [5, False, 4.6], [], '&hello', []]"
      ]
     },
     "execution_count": 12,
     "metadata": {},
     "output_type": "execute_result"
    }
   ],
   "source": [
    "# 10. Write a Python program to Cloning or Copying a list?\n",
    "# *************************************************************************************************************************\n",
    "# 10.\n",
    "\n",
    "list1 = [1,2,45,'hello',[5,False,4.6],[],'&hello',[]]\n",
    "list_cloned = list1[:]\n",
    "list_cloned"
   ]
  },
  {
   "cell_type": "code",
   "execution_count": 19,
   "metadata": {},
   "outputs": [
    {
     "name": "stdout",
     "output_type": "stream",
     "text": [
      "Enter the elements: 1 2 2 2 34 5 2 5 6 7 8 6 99\n",
      "occurence of 1 is 1\n",
      "occurence of 2 is 4\n",
      "occurence of 34 is 1\n",
      "occurence of 5 is 2\n",
      "occurence of 6 is 2\n",
      "occurence of 7 is 1\n",
      "occurence of 8 is 1\n",
      "occurence of 99 is 1\n"
     ]
    }
   ],
   "source": [
    "# 11. Write a Python program to Count occurrences of an element in a list?\n",
    "# *************************************************************************************************************************\n",
    "# 11.\n",
    "\n",
    "def occurrences(lis):\n",
    "    temp = {}\n",
    "    for i in lis:\n",
    "        if i in temp:\n",
    "            temp[i] = temp[i] + 1\n",
    "        else:\n",
    "            temp[i] = 1\n",
    "    for key,value in temp.items():\n",
    "        print(f'occurence of {key} is {value}')\n",
    "\n",
    "if __name__ == \"__main__\":\n",
    "    elements = list(map(int,input('Enter the elements: ').split()))\n",
    "    occurrences(elements)"
   ]
  }
 ],
 "metadata": {
  "kernelspec": {
   "display_name": "Python 3",
   "language": "python",
   "name": "python3"
  },
  "language_info": {
   "codemirror_mode": {
    "name": "ipython",
    "version": 3
   },
   "file_extension": ".py",
   "mimetype": "text/x-python",
   "name": "python",
   "nbconvert_exporter": "python",
   "pygments_lexer": "ipython3",
   "version": "3.7.7"
  }
 },
 "nbformat": 4,
 "nbformat_minor": 4
}
