{
 "cells": [
  {
   "cell_type": "code",
   "execution_count": 1,
   "metadata": {},
   "outputs": [
    {
     "name": "stdout",
     "output_type": "stream",
     "text": [
      "[]\n"
     ]
    }
   ],
   "source": [
    "# 1. What exactly is []?\n",
    "# ------------------------------------------------------------------------------------------------------------------------------\n",
    "# 1.\n",
    "# [] depicts an empty list.\n",
    "# This is used when we need to create/append items.\n",
    "# Example:\n",
    "l = []\n",
    "print(l)"
   ]
  },
  {
   "cell_type": "code",
   "execution_count": 9,
   "metadata": {},
   "outputs": [
    {
     "name": "stdout",
     "output_type": "stream",
     "text": [
      "[2, 4, 'hello', 8, 10]\n"
     ]
    }
   ],
   "source": [
    "# 2. In a list of values stored in a variable called spam, how would you assign the value 'hello' as the third value? \n",
    "# (Assume [2, 4, 6, 8, 10] are in spam.)Let's pretend the spam includes the list ['a', 'b', 'c', 'd'] for the next three queries\n",
    "# ------------------------------------------------------------------------------------------------------------------------------\n",
    "# 2.\n",
    "spam = [2,4,6,8,10]\n",
    "spam[2] = 'hello'\n",
    "print(spam)"
   ]
  },
  {
   "cell_type": "code",
   "execution_count": 14,
   "metadata": {},
   "outputs": [
    {
     "name": "stdout",
     "output_type": "stream",
     "text": [
      "d\n"
     ]
    }
   ],
   "source": [
    "# 3. What is the value of spam[int(int('3' * 2) / 11)]?\n",
    "# ------------------------------------------------------------------------------------------------------------------------------\n",
    "# 3.\n",
    "spam = ['a', 'b', 'c', 'd']\n",
    "#The value of int('3' * 2) = 33, then 33/11 = 3. So spam[3] = d\n",
    "print(spam[int(int('3' * 2) / 11)])"
   ]
  },
  {
   "cell_type": "code",
   "execution_count": 16,
   "metadata": {},
   "outputs": [
    {
     "name": "stdout",
     "output_type": "stream",
     "text": [
      "d\n"
     ]
    }
   ],
   "source": [
    "# 4. What is the value of spam[-1]?\n",
    "# ------------------------------------------------------------------------------------------------------------------------------\n",
    "# 4.\n",
    "# fetches the item from the last of the list\n",
    "print(spam[-1])"
   ]
  },
  {
   "cell_type": "code",
   "execution_count": 18,
   "metadata": {},
   "outputs": [
    {
     "name": "stdout",
     "output_type": "stream",
     "text": [
      "['a', 'b']\n"
     ]
    }
   ],
   "source": [
    "# 5. What is the value of spam[:2]?\n",
    "# ------------------------------------------------------------------------------------------------------------------------------\n",
    "# 5.\n",
    "\n",
    "print(spam[:2])"
   ]
  },
  {
   "cell_type": "code",
   "execution_count": 28,
   "metadata": {},
   "outputs": [
    {
     "name": "stdout",
     "output_type": "stream",
     "text": [
      "1\n"
     ]
    }
   ],
   "source": [
    "# 6.\n",
    "# Let's pretend bacon has the list [3.14, 'cat', 11, 'cat,' True] for the next three questions.\n",
    "# What is the value of bacon.index('cat')?\n",
    "# ------------------------------------------------------------------------------------------------------------------------------\n",
    "# 6.\n",
    "bacon = [3.14, 'cat', 11, 'cat', True]\n",
    "#It we get the location of the first occurrence of the string 'cat'\n",
    "\n",
    "print(bacon.index('cat'))"
   ]
  },
  {
   "cell_type": "code",
   "execution_count": 29,
   "metadata": {},
   "outputs": [
    {
     "data": {
      "text/plain": [
       "[3.14, 'cat', 11, 'cat', True, 99]"
      ]
     },
     "execution_count": 29,
     "metadata": {},
     "output_type": "execute_result"
    }
   ],
   "source": [
    "# 7. How does bacon.append(99) change the look of the list value in bacon?\n",
    "# ------------------------------------------------------------------------------------------------------------------------------\n",
    "# 7.\n",
    "#It will add the item at the last of the list\n",
    "bacon.append(99)\n",
    "bacon"
   ]
  },
  {
   "cell_type": "code",
   "execution_count": 31,
   "metadata": {},
   "outputs": [
    {
     "name": "stdout",
     "output_type": "stream",
     "text": [
      "[3.14, 11, 'cat', True, 99]\n"
     ]
    }
   ],
   "source": [
    "# 8. How does bacon.remove('cat') change the look of the list in bacon?\n",
    "# ------------------------------------------------------------------------------------------------------------------------------\n",
    "# 8.\n",
    "#It will remove the first occurrence of the string:'cat'\n",
    "bacon.remove('cat')\n",
    "print(bacon)"
   ]
  },
  {
   "cell_type": "code",
   "execution_count": 33,
   "metadata": {},
   "outputs": [
    {
     "name": "stdout",
     "output_type": "stream",
     "text": [
      "Concatenation Concatenation\n",
      "Replication Replication Replication \n"
     ]
    }
   ],
   "source": [
    "# 9. What are the list concatenation and list replication operators?\n",
    "# ------------------------------------------------------------------------------------------------------------------------------\n",
    "# 9.\n",
    "# Concatenation: In concatenation, the strings are join in a chain like structure. The strings are joined end-to-end.\n",
    "# The operator used is a plus sign(+)\n",
    "#Example:\n",
    "\n",
    "print('Concatenation ' + 'Concatenation')\n",
    "\n",
    "# Replication: In replication, we make 'n' number of copies of any string.\n",
    "# The operator used is multiplication sign(*)\n",
    "#Example:\n",
    "print('Replication ' * 3)"
   ]
  },
  {
   "cell_type": "code",
   "execution_count": 34,
   "metadata": {},
   "outputs": [
    {
     "name": "stdout",
     "output_type": "stream",
     "text": [
      "list appended [5, 4, 3, 2, 1, 6]\n",
      "insertion in a list [5, 4, 'hello', 3, 2, 1, 6]\n"
     ]
    }
   ],
   "source": [
    "# 10. What is difference between the list methods append() and insert()?\n",
    "# ------------------------------------------------------------------------------------------------------------------------------\n",
    "# 10.\n",
    "# Append:It will add the item at the end of the list.\n",
    "# Example:\n",
    "l  = [5,4,3,2,1]\n",
    "l.append(6)\n",
    "print('list appended',l)\n",
    "#Insert:It will add the value at any position of the list.\n",
    "#Example:\n",
    "l.insert(2,'hello')\n",
    "print('insertion in a list',l)"
   ]
  },
  {
   "cell_type": "code",
   "execution_count": 36,
   "metadata": {},
   "outputs": [
    {
     "name": "stdout",
     "output_type": "stream",
     "text": [
      "original list :  [1, 2, 3, 4, 5, 60]\n",
      "After using del():  [1, 2, 4, 5, 60]\n",
      "After using remove():  [1, 2, 4, 5]\n"
     ]
    }
   ],
   "source": [
    "#11 What are the two methods for removing items from a list?\n",
    "# ------------------------------------------------------------------------------------------------------------------------------\n",
    "#11.\n",
    "\n",
    "#del() and remove()\n",
    "l = [1,2,3,4,5,60]\n",
    "print('original list : ',l)\n",
    "del l[2]# removing the 3 index\n",
    "print('After using del(): ',l)\n",
    "l.remove(60)#removing the item 60\n",
    "print('After using remove(): ',l)"
   ]
  },
  {
   "cell_type": "code",
   "execution_count": null,
   "metadata": {},
   "outputs": [],
   "source": [
    "# 12. Describe how list values and string values are identical.\n",
    "# ------------------------------------------------------------------------------------------------------------------------------\n",
    "# 12.\n",
    "\n",
    "# There are many common operation/methods which can be done in both string and list. These are:\n",
    "# ->Indexing can be done in both\n",
    "# ->Slicing operation can be done\n",
    "# ->can be use for iteration in a loop\n",
    "# -> can be concatenated\n",
    "# -> can be replicated(multiplied)\n",
    "# -> several operators like 'in' and 'not in' can be used "
   ]
  },
  {
   "cell_type": "code",
   "execution_count": null,
   "metadata": {},
   "outputs": [],
   "source": [
    "# 13. What's the difference between tuples and lists?\n",
    "# ------------------------------------------------------------------------------------------------------------------------------\n",
    "# 13.\n",
    "\n",
    "# -> list() uses square brackets whereas tuple() uses parentheses\n",
    "# -> list() are mutable whereas tuple() is immutable"
   ]
  },
  {
   "cell_type": "code",
   "execution_count": null,
   "metadata": {},
   "outputs": [],
   "source": [
    "# 14. How do you type a tuple value that only contains the integer 42?\n",
    "# ------------------------------------------------------------------------------------------------------------------------------\n",
    "# 14.\n",
    "# There are two ways:\n",
    "# -> a =(42,)\n",
    "# -> b = 42,\n",
    "# comma at the end is necessary"
   ]
  },
  {
   "cell_type": "code",
   "execution_count": 39,
   "metadata": {},
   "outputs": [
    {
     "name": "stdout",
     "output_type": "stream",
     "text": [
      "Conversion from list to tuple (1, 2, 3, 4)\n",
      "Conversion from tuple to list [1, 2, 3, 4]\n"
     ]
    }
   ],
   "source": [
    "# 15. How do you get a list value's tuple form? How do you get a tuple value's list form?\n",
    "# ------------------------------------------------------------------------------------------------------------------------------\n",
    "# 15.\n",
    "a = [1,2,3,4]\n",
    "a = tuple(a)\n",
    "print('Conversion from list to tuple',a)\n",
    "a = list(a)\n",
    "print('Conversion from tuple to list',a)"
   ]
  },
  {
   "cell_type": "code",
   "execution_count": 65,
   "metadata": {},
   "outputs": [
    {
     "name": "stdout",
     "output_type": "stream",
     "text": [
      "140734210220432\n",
      "140734210220432\n",
      "140734210220432\n",
      "140734210220432\n",
      "Id of value 1:  140734210220432\n"
     ]
    }
   ],
   "source": [
    "# 16. Variables that \"contain\" list values are not necessarily lists themselves. Instead, what do they contain?\n",
    "# ------------------------------------------------------------------------------------------------------------------------------\n",
    "# 16.\n",
    "l = [1,1,1,1]\n",
    "#They contain references to list values.\n",
    "\n",
    "print(id(l[0]))\n",
    "print(id(l[1]))\n",
    "print(id(l[2]))\n",
    "print(id(l[3]))\n",
    "#All elements of the list are only refering to one address which contains the value 1.that is all share the same memory address\n",
    "print('Id of value 1: ',id(1))\n",
    "#The id of the value determines the reference address"
   ]
  },
  {
   "cell_type": "code",
   "execution_count": 77,
   "metadata": {},
   "outputs": [
    {
     "name": "stdout",
     "output_type": "stream",
     "text": [
      "SHALLOW COPY\n",
      "l1 :  [[1, 2, 3], [4, 5, 6], [7, 8, 9]]\n",
      "l2 :  [[1, 2, 3], [4, 5, 6], [7, 8, 9]]\n",
      "\n",
      "l1 after modification:  [[1, 2, 3], ['New Value', 5, 6], [7, 8, 9]]\n",
      "l2 after influenced:  [[1, 2, 3], ['New Value', 5, 6], [7, 8, 9]]\n",
      "\n",
      "DEEP COPY\n",
      "l1 :  [[1, 2, 3], [4, 5, 6], [7, 8, 9]]\n",
      "l2 :  [[1, 2, 3], [4, 5, 6], [7, 8, 9]]\n",
      "\n",
      "l1 after modification:  [[1, 2, 3], ['New Value', 5, 6], [7, 8, 9]]\n",
      "l2 after influenced:  [[1, 2, 3], [4, 5, 6], [7, 8, 9]]\n"
     ]
    }
   ],
   "source": [
    "# 17. How do you distinguish between copy.copy() and copy.deepcopy()?\n",
    "# ------------------------------------------------------------------------------------------------------------------------------\n",
    "# 17.\n",
    "# copy.copy() only creates a shallow copy of the object.\n",
    "# The copied list still contains some references of the original list i.e, if we modify something in original list, the change\n",
    "# gets reflected in the copied list also. The copied list is SOMEWHAT DEPENDENT\n",
    "#Example:\n",
    "\n",
    "import copy\n",
    "l1 = [[1,2,3],[4,5,6],[7,8,9]]\n",
    "l2 = copy.copy(l1)\n",
    "print('SHALLOW COPY')\n",
    "print('l1 : ',l1)\n",
    "print('l2 : ',l2)\n",
    "print('\\n',end='')\n",
    "l1[1][0] = 'New Value'\n",
    "print('l1 after modification: ',l1)\n",
    "print('l2 after influenced: ',l2)\n",
    "print('\\n',end='')\n",
    "\n",
    "#In deepcopy(), both the objects are COMPLETELY INDEPENDENT to ecah other. If we make modification to the original object, the\n",
    "# copied object does not get affected\n",
    "#Example:\n",
    "\n",
    "l1 = [[1,2,3],[4,5,6],[7,8,9]]\n",
    "l2 = copy.deepcopy(l1)\n",
    "print('DEEP COPY')\n",
    "print('l1 : ',l1)\n",
    "print('l2 : ',l2)\n",
    "print('\\n',end='')\n",
    "l1[1][0] = 'New Value'\n",
    "print('l1 after modification: ',l1)\n",
    "print('l2 after influenced: ',l2)"
   ]
  },
  {
   "cell_type": "code",
   "execution_count": null,
   "metadata": {},
   "outputs": [],
   "source": []
  }
 ],
 "metadata": {
  "kernelspec": {
   "display_name": "Python 3",
   "language": "python",
   "name": "python3"
  },
  "language_info": {
   "codemirror_mode": {
    "name": "ipython",
    "version": 3
   },
   "file_extension": ".py",
   "mimetype": "text/x-python",
   "name": "python",
   "nbconvert_exporter": "python",
   "pygments_lexer": "ipython3",
   "version": "3.7.7"
  }
 },
 "nbformat": 4,
 "nbformat_minor": 4
}
