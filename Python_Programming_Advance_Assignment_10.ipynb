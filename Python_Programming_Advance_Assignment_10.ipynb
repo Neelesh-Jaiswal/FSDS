{
 "cells": [
  {
   "cell_type": "code",
   "execution_count": 131,
   "metadata": {},
   "outputs": [
    {
     "name": "stdout",
     "output_type": "stream",
     "text": [
      "####\n",
      "#  #\n",
      "#  #\n",
      "#  #\n",
      "####\n",
      "\n",
      "\n",
      "**********\n",
      "*        *\n",
      "**********\n",
      "\n",
      "\n"
     ]
    },
    {
     "data": {
      "text/plain": [
       "'invalid'"
      ]
     },
     "execution_count": 131,
     "metadata": {},
     "output_type": "execute_result"
    }
   ],
   "source": [
    "# 1. Create a function that takes the width, height and character and returns a picture frame as a 2D list.\n",
    "\n",
    "# Examples\n",
    "\n",
    "# get_frame(4, 5, \"#\") ➞ [\n",
    "#   [\"####\"],\n",
    "#   [\"#  #\"],\n",
    "#   [\"#  #\"],\n",
    "#   [\"#  #\"],\n",
    "#   [\"####\"]\n",
    "# ]\n",
    "#  Frame is 4 characters wide and 5 characters tall.\n",
    "\n",
    "\n",
    "# get_frame(10, 3, \"*\") ➞ [\n",
    "#   [\"**********\"],\n",
    "#   [\"*        *\"],\n",
    "#   [\"**********\"]\n",
    "# ]\n",
    "#  Frame is 10 characters and wide and 3 characters tall.\n",
    "\n",
    "\n",
    "# get_frame(2, 5, \"0\") ➞ \"invalid\"\n",
    "#  Frame's width is not more than 2.\n",
    "\n",
    "def get_frame(width, height,character):\n",
    "    \n",
    "    if width <= 2:\n",
    "        return 'invalid'\n",
    "    \n",
    "    for i in range(1, height+1):\n",
    "        for j in range(1, width+1):\n",
    "            if i == 1 or i == height or j == 1 or j == width:\n",
    "                print(character,end='')\n",
    "            else:\n",
    "                print(' ', end='')\n",
    "        print()\n",
    "        \n",
    "    print('\\n') # just to separate the outputs \n",
    "        \n",
    "get_frame(4, 5, \"#\") \n",
    "get_frame(10, 3, \"*\")\n",
    "get_frame(2, 5, \"0\")"
   ]
  },
  {
   "cell_type": "code",
   "execution_count": 72,
   "metadata": {},
   "outputs": [
    {
     "name": "stdout",
     "output_type": "stream",
     "text": [
      "False\n",
      "True\n",
      "False\n"
     ]
    }
   ],
   "source": [
    "# 2. \n",
    "# Write three functions:\n",
    "\n",
    "#   1. boolean_and\n",
    "#   2. boolean_or\n",
    "#   3. boolean_xor\n",
    "# These functions should evaluate a list of True and False values, starting from the leftmost element and evaluating \n",
    "# pairwise.\n",
    "\n",
    "# Examples\n",
    "\n",
    "# boolean_and([True, True, False, True]) ➞ False\n",
    "# [True, True, False, True] => [True, False, True] => [False, True] => False\n",
    "\n",
    "# boolean_or([True, True, False, False]) ➞ True\n",
    "# [True, True, False, True] => [True, False, False] => [True, False] => True\n",
    "\n",
    "# boolean_xor([True, True, False, False]) ➞ False\n",
    "# [True, True, False, False] => [False, False, False] => [False, False] => False\n",
    "\n",
    "\n",
    "def boolean_and(lis):\n",
    "    result = True\n",
    "    for i in lis:\n",
    "        result = result and i\n",
    "    return result\n",
    "\n",
    "print(boolean_and([True, True, False, True]))\n",
    "\n",
    "def boolean_or(lis):\n",
    "    result = True\n",
    "    for i in lis:\n",
    "        result = result or i\n",
    "    return result\n",
    "\n",
    "print(boolean_or([True, True, False, False]))\n",
    "\n",
    "def boolean_xor(lis):\n",
    "    result = False\n",
    "    for i in lis:\n",
    "        result = result ^ i\n",
    "    return result\n",
    "\n",
    "print(boolean_xor([True, True, False, False]))"
   ]
  },
  {
   "cell_type": "code",
   "execution_count": 80,
   "metadata": {},
   "outputs": [
    {
     "name": "stdout",
     "output_type": "stream",
     "text": [
      "#####\n",
      "#   #\n",
      "#   #\n",
      "#   #\n",
      "#####\n",
      "\n",
      "\n",
      "###\n",
      "# #\n",
      "###\n",
      "\n",
      "\n",
      "##\n",
      "##\n",
      "\n",
      "\n",
      "#\n",
      "\n",
      "\n"
     ]
    }
   ],
   "source": [
    "# 3. \n",
    "# Create a function that creates a box based on dimension n.\n",
    "\n",
    "# Examples\n",
    "\n",
    "# make_box(5) ➞ [\n",
    "#   \"#####\",\n",
    "#   \"#   #\",\n",
    "#   \"#   #\",\n",
    "#   \"#   #\",\n",
    "#   \"#####\"\n",
    "# ]\n",
    "\n",
    "# make_box(3) ➞ [\n",
    "#   \"###\",\n",
    "#   \"# #\",\n",
    "#   \"###\"\n",
    "# ]\n",
    "\n",
    "# make_box(2) ➞ [\n",
    "#   \"##\",\n",
    "#   \"##\"\n",
    "# ]\n",
    "\n",
    "# make_box(1) ➞ [\n",
    "#   \"#\"\n",
    "# ]\n",
    "\n",
    "def make_box(n):\n",
    "    for i in range(1,n+1):\n",
    "        for j in range(1,n+1):\n",
    "            if i == 1 or i == n or j == 1 or j == n:\n",
    "                print('#',end='')\n",
    "            else:\n",
    "                print(' ',end ='')\n",
    "        print()\n",
    "        \n",
    "    print('\\n') # just to separate the outputs \n",
    "\n",
    "make_box(5)\n",
    "make_box(3)\n",
    "make_box(2)\n",
    "make_box(1)"
   ]
  },
  {
   "cell_type": "code",
   "execution_count": 130,
   "metadata": {},
   "outputs": [
    {
     "name": "stdout",
     "output_type": "stream",
     "text": [
      "True\n",
      "True\n",
      "False\n",
      "False\n"
     ]
    }
   ],
   "source": [
    "# 4. \n",
    "# Given a common phrase, return False if any individual word in the phrase contains duplicate letters. Return True \n",
    "# otherwise.\n",
    "\n",
    "# Examples\n",
    "\n",
    "# no_duplicate_letters(\"Fortune favours the bold.\") ➞ True\n",
    "\n",
    "# no_duplicate_letters(\"You can lead a horse to water, but you can't make him drink.\") ➞ True\n",
    "\n",
    "# no_duplicate_letters(\"Look before you leap.\") ➞ False\n",
    "#  Duplicate letters in \"Look\" and \"before\".\n",
    "\n",
    "# no_duplicate_letters(\"An apple a day keeps the doctor away.\") ➞ False\n",
    "#  Duplicate letters in \"apple\", \"keeps\", \"doctor\", and \"away\".\n",
    "\n",
    "def letter_occurrences(string):\n",
    "    my_dict = {}\n",
    "    for i in string:\n",
    "        if i in my_dict:\n",
    "            my_dict[i] += 1\n",
    "        else:\n",
    "            my_dict[i] = 1\n",
    "    return my_dict\n",
    "\n",
    "def no_duplicate_letters(sentence):\n",
    "    sentence = sentence.split(' ')\n",
    "    for i in sentence:\n",
    "        occur_dict = letter_occurrences(i)\n",
    "        for i in list(occur_dict.values()):\n",
    "            if i > 1:\n",
    "                return False\n",
    "    return True\n",
    "\n",
    "print(no_duplicate_letters(\"Fortune favours the bold.\"))\n",
    "print(no_duplicate_letters(\"You can lead a horse to water, but you can't make him drink.\"))\n",
    "print(no_duplicate_letters(\"Look before you leap.\"))\n",
    "print(no_duplicate_letters(\"An apple a day keeps the doctor away.\"))"
   ]
  },
  {
   "cell_type": "code",
   "execution_count": 5,
   "metadata": {},
   "outputs": [
    {
     "name": "stdout",
     "output_type": "stream",
     "text": [
      "['California', 'Florida']\n"
     ]
    }
   ],
   "source": [
    "# 5. \n",
    "# Write a regular expression that will match the states that voted yes to President Trump's impeachment. You must use \n",
    "# RegEx positive lookahead.\n",
    "\n",
    "# Example\n",
    "\n",
    "# txt = \"Texas = no, California = yes, Florida = yes, Michigan = no\"\n",
    "# pattern = \"yourregularexpressionhere\"\n",
    "\n",
    "# re.findall(pattern, txt) ➞ [\"California\", \"Florida\"]\n",
    "\n",
    "import re\n",
    "\n",
    "txt = \"Texas = no, California = yes, Florida = yes, Michigan = no\"\n",
    "pattern = r'(\\w*) = (?=[yes])'\n",
    "print(re.findall(pattern, txt ))"
   ]
  }
 ],
 "metadata": {
  "kernelspec": {
   "display_name": "Python 3",
   "language": "python",
   "name": "python3"
  },
  "language_info": {
   "codemirror_mode": {
    "name": "ipython",
    "version": 3
   },
   "file_extension": ".py",
   "mimetype": "text/x-python",
   "name": "python",
   "nbconvert_exporter": "python",
   "pygments_lexer": "ipython3",
   "version": "3.7.7"
  }
 },
 "nbformat": 4,
 "nbformat_minor": 4
}
