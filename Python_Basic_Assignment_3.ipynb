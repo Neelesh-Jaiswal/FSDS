{
 "cells": [
  {
   "cell_type": "code",
   "execution_count": null,
   "metadata": {},
   "outputs": [],
   "source": [
    "# 1. Why are functions advantageous to have in your programs?\n",
    "#-------------------------------------------------------------------------------------------------------------------------------\n",
    "# 1.\n",
    "# To improve the readibility of the code\n",
    "# Improves the reusability of the code\n",
    "# Makes the program modular\n",
    "# Reduces the chances of error"
   ]
  },
  {
   "cell_type": "code",
   "execution_count": null,
   "metadata": {},
   "outputs": [],
   "source": [
    "# 2. When does the code in a function run: when it's specified or when it's called?\n",
    "#-------------------------------------------------------------------------------------------------------------------------------\n",
    "# 2.\n",
    "# The code inside the function runs when the function is called. This is known as 'Function call'"
   ]
  },
  {
   "cell_type": "code",
   "execution_count": 2,
   "metadata": {},
   "outputs": [],
   "source": [
    "# 3. What statement creates a function?\n",
    "#-------------------------------------------------------------------------------------------------------------------------------\n",
    "# 3.\n",
    "# Any function_name() with keyword 'def' as prefix will be treated as function.\n",
    "# Example:\n",
    "    \n",
    "def func1():\n",
    "    pass"
   ]
  },
  {
   "cell_type": "code",
   "execution_count": 4,
   "metadata": {},
   "outputs": [
    {
     "name": "stdout",
     "output_type": "stream",
     "text": [
      "sum is: 5\n"
     ]
    }
   ],
   "source": [
    "# 4. What is the difference between a function and a function call?\n",
    "#-------------------------------------------------------------------------------------------------------------------------------\n",
    "# 4.\n",
    "# A function is a block of code that does a particular operation and returns a result. It usually accepts inputs(optional) as \n",
    "# parameters and returns a result.\n",
    "# example:\n",
    "def add(a,b):\n",
    "    return a+b\n",
    "# A function call is the code used to pass control to a function.\n",
    "#example:\n",
    "print('sum is:',add(2,3))"
   ]
  },
  {
   "cell_type": "code",
   "execution_count": null,
   "metadata": {},
   "outputs": [],
   "source": [
    "# 5. How many global scopes are there in a Python program? How many local scopes?\n",
    "# ------------------------------------------------------------------------------------------------------------------------------\n",
    "# 5.\n",
    "# Global: A variable created outside of a function is global and can be used by anyone.\n",
    "#         We can create only ONE global scope in a particular python program\n",
    "# Local:  A variable created inside a function belongs to the local scope of that function, and can only be used inside that \n",
    "#         function.\n",
    "#         There can be AS MANY local scope as there are calling functions."
   ]
  },
  {
   "cell_type": "code",
   "execution_count": null,
   "metadata": {},
   "outputs": [],
   "source": [
    "# 6. What happens to variables in a local scope when the function call returns?\n",
    "# ------------------------------------------------------------------------------------------------------------------------------\n",
    "# 6.\n",
    "# When the function call returns, the local scope of variable is lost. The local variables have importance as long as they \n",
    "# are inside a function."
   ]
  },
  {
   "cell_type": "code",
   "execution_count": 5,
   "metadata": {},
   "outputs": [
    {
     "name": "stdout",
     "output_type": "stream",
     "text": [
      "Adding the reult of func:double() with 10: 18\n"
     ]
    }
   ],
   "source": [
    "# 7. What is the concept of a return value? Is it possible to have a return value in an expression?\n",
    "# ------------------------------------------------------------------------------------------------------------------------------\n",
    "# 7.\n",
    "# A return statement is used to end the execution of the function call and 'returns' the result to the caller.\n",
    "# We can use return value as a part of an expression\n",
    "# example:\n",
    "def double(number):\n",
    "    return number * 2\n",
    "print('Adding the result of func:double() with 10:',double(4)+10)"
   ]
  },
  {
   "cell_type": "code",
   "execution_count": null,
   "metadata": {},
   "outputs": [],
   "source": [
    "# 8. If a function does not have a return statement, what is the return value of a call to that function?\n",
    "# ------------------------------------------------------------------------------------------------------------------------------\n",
    "# 8.\n",
    "# None will be the return value"
   ]
  },
  {
   "cell_type": "code",
   "execution_count": 7,
   "metadata": {},
   "outputs": [
    {
     "name": "stdout",
     "output_type": "stream",
     "text": [
      "Global value of x is:  10\n"
     ]
    }
   ],
   "source": [
    "# 9. How do you make a function variable refer to the global variable?\n",
    "# ------------------------------------------------------------------------------------------------------------------------------\n",
    "# 9.\n",
    "# The keyword 'global' will make the local variable to be use as global variable.\n",
    "# Example:\n",
    "def fun():\n",
    "    global x\n",
    "    x = 10\n",
    "    return x\n",
    "print('Global value of x is: ', fun())"
   ]
  },
  {
   "cell_type": "code",
   "execution_count": 8,
   "metadata": {},
   "outputs": [
    {
     "data": {
      "text/plain": [
       "NoneType"
      ]
     },
     "execution_count": 8,
     "metadata": {},
     "output_type": "execute_result"
    }
   ],
   "source": [
    "# 10. What is the data type of None?\n",
    "# ------------------------------------------------------------------------------------------------------------------------------\n",
    "# 10.\n",
    "type(None)"
   ]
  },
  {
   "cell_type": "code",
   "execution_count": null,
   "metadata": {},
   "outputs": [],
   "source": [
    "# 11. What does the sentence import areallyourpetsnamederic do?\n",
    "# ------------------------------------------------------------------------------------------------------------------------------\n",
    "# 11.\n",
    "# It will import a module name 'areallyourpetsnamederic'"
   ]
  },
  {
   "cell_type": "code",
   "execution_count": null,
   "metadata": {},
   "outputs": [],
   "source": [
    "# 12. If you had a bacon() feature in a spam module, what would you call it after importing spam?\n",
    "# ------------------------------------------------------------------------------------------------------------------------------\n",
    "# 12.\n",
    "# spam.bacon()"
   ]
  },
  {
   "cell_type": "code",
   "execution_count": 1,
   "metadata": {},
   "outputs": [
    {
     "name": "stdout",
     "output_type": "stream",
     "text": [
      "Please enter the name of the student: Amrish Puri\n",
      "This name is not registered\n"
     ]
    }
   ],
   "source": [
    "# 13. What can you do to save a programme from crashing if it encounters an error?\n",
    "# ------------------------------------------------------------------------------------------------------------------------------\n",
    "# 13.\n",
    "# We can use try-except block inside the program particulary to the line which we think can throw error.\n",
    "#Example:\n",
    "students = {\"Karan\": 20, \"Arjun\": 25}\n",
    "\n",
    "def print_student_age():\n",
    "    while True:\n",
    "        try:\n",
    "            name = input(\"Please enter the name of the student: \")\n",
    "            print(students[name])\n",
    "            break\n",
    "        except:\n",
    "            print(\"This name is not registered\")\n",
    "            break\n",
    "    \n",
    "\n",
    "print_student_age()"
   ]
  },
  {
   "cell_type": "code",
   "execution_count": null,
   "metadata": {},
   "outputs": [],
   "source": [
    "# 14. What is the purpose of the try clause? What is the purpose of the except clause?\n",
    "# ------------------------------------------------------------------------------------------------------------------------------\n",
    "# 14.\n",
    "# Try clause: The part of the code which might throw an error.\n",
    "# Except clause: The part of the code that will get execute if the error comes."
   ]
  }
 ],
 "metadata": {
  "kernelspec": {
   "display_name": "Python 3",
   "language": "python",
   "name": "python3"
  },
  "language_info": {
   "codemirror_mode": {
    "name": "ipython",
    "version": 3
   },
   "file_extension": ".py",
   "mimetype": "text/x-python",
   "name": "python",
   "nbconvert_exporter": "python",
   "pygments_lexer": "ipython3",
   "version": "3.7.7"
  }
 },
 "nbformat": 4,
 "nbformat_minor": 4
}
