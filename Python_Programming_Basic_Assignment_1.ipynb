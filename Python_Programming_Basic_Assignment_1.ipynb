{
 "cells": [
  {
   "cell_type": "code",
   "execution_count": 1,
   "metadata": {},
   "outputs": [
    {
     "name": "stdout",
     "output_type": "stream",
     "text": [
      "Hello Python\n"
     ]
    }
   ],
   "source": [
    "# 1.Write a Python program to print \"Hello Python\"?\n",
    "# ------------------------------------------------------------------------------------------------------------------------------\n",
    "# 1.\n",
    "print('Hello Python')"
   ]
  },
  {
   "cell_type": "code",
   "execution_count": 21,
   "metadata": {},
   "outputs": [
    {
     "name": "stdout",
     "output_type": "stream",
     "text": [
      "Enter two numbers: 8 0\n",
      "Sum of two numbers is:  8.0\n",
      "Please enter a number greater than 0 for Division: 3\n",
      "Answer of division is: 2.6666666666666665\n"
     ]
    }
   ],
   "source": [
    "# 2.Write a Python program to do arithmetical operations addition and division.?\n",
    "# ------------------------------------------------------------------------------------------------------------------------------\n",
    "# 2.\n",
    "a,b = input('Enter two numbers: ').split()\n",
    "print('Sum of two numbers is: ',float(a)+float(b))\n",
    "if int(b) == 0:\n",
    "    b = int(input('Please enter a number greater than 0 for Division: '))\n",
    "print('Answer of division is:',float(a)/float(b))"
   ]
  },
  {
   "cell_type": "code",
   "execution_count": 25,
   "metadata": {},
   "outputs": [
    {
     "name": "stdout",
     "output_type": "stream",
     "text": [
      "Enter the three sides of Triangle: 3 4 5\n",
      "Area of triangle is:  6.0\n"
     ]
    }
   ],
   "source": [
    "# 3.Write a Python program to find the area of a triangle?\n",
    "# ------------------------------------------------------------------------------------------------------------------------------\n",
    "# 3.\n",
    "#area of trianlge: (s * (s-a) * (s-b) * (s-c))^0.5 \n",
    "# where s = (a+b+c)/2\n",
    "\n",
    "a,b,c = input('Enter the three sides of Triangle: ').split()\n",
    "a,b,c = float(a),float(b),float(c)\n",
    "s = (a+b+c)/2\n",
    "\n",
    "area = pow((s * (s-a) * (s-b) * (s-c)),0.5)\n",
    "print('Area of triangle is: ',area)"
   ]
  },
  {
   "cell_type": "code",
   "execution_count": 30,
   "metadata": {},
   "outputs": [
    {
     "name": "stdout",
     "output_type": "stream",
     "text": [
      "Enter two numbers: 1 2\n",
      "value of A:1 value of B:2 BEFORE swapping\n",
      "value of A:2 value of B:1 AFTER swapping\n"
     ]
    }
   ],
   "source": [
    "# 4.Write a Python program to swap two variables?\n",
    "# ------------------------------------------------------------------------------------------------------------------------------\n",
    "# 4.\n",
    "a,b = input('Enter two numbers: ').split()\n",
    "a,b = int(a),int(b)\n",
    "print(f'value of A:{a} value of B:{b} BEFORE swapping')\n",
    "b,a = a,b\n",
    "print(f'value of A:{a} value of B:{b} AFTER swapping')"
   ]
  },
  {
   "cell_type": "code",
   "execution_count": 33,
   "metadata": {},
   "outputs": [
    {
     "name": "stdout",
     "output_type": "stream",
     "text": [
      "Random number between 1 and 100 is: 64\n"
     ]
    }
   ],
   "source": [
    "# 5.Write a Python program to generate a random number?\n",
    "# ------------------------------------------------------------------------------------------------------------------------------\n",
    "# 5.\n",
    "import random\n",
    "print(f'Random number between 1 and 100 is: {random.randint(1,100)}')"
   ]
  }
 ],
 "metadata": {
  "kernelspec": {
   "display_name": "Python 3",
   "language": "python",
   "name": "python3"
  },
  "language_info": {
   "codemirror_mode": {
    "name": "ipython",
    "version": 3
   },
   "file_extension": ".py",
   "mimetype": "text/x-python",
   "name": "python",
   "nbconvert_exporter": "python",
   "pygments_lexer": "ipython3",
   "version": "3.7.7"
  }
 },
 "nbformat": 4,
 "nbformat_minor": 4
}
