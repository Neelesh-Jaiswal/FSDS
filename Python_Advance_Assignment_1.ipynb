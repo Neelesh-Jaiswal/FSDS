{
 "cells": [
  {
   "cell_type": "code",
   "execution_count": null,
   "metadata": {},
   "outputs": [],
   "source": [
    "# 1. What is the purpose of Python's OOP?\n",
    "# *************************************************************************************************************************\n",
    "# 1.\n",
    "\n",
    "# OOPs is a method of structuring a program by bundling related properties and behaviors into individual objects.\n",
    "# OOPs is an approach which is used in python to solve problems using objects."
   ]
  },
  {
   "cell_type": "code",
   "execution_count": null,
   "metadata": {},
   "outputs": [],
   "source": [
    "# 2. Where does an inheritance search look for an attribute?\n",
    "# *************************************************************************************************************************\n",
    "# 2.\n",
    "\n",
    "# The inheritance search looks like a tree-structure from bottom to top.\n",
    "# In Inheritance search, the first occurrence of attribute is done by looking in the object. Then in all classes above it.\n",
    "# Then in super classes."
   ]
  },
  {
   "attachments": {
    "image.png": {
     "image/png": "[encoded data removed]"
    }
   },
   "cell_type": "markdown",
   "metadata": {},
   "source": [
    "![image.png](attachment:image.png)\n",
    "\n",
    "This is a class-tree(namespace-tree).The net result is a tree of attribute namespaces, which grows from an instance, to the class it was generated from, to all the superclasses listed in the class headers. Python searches upward in this tree from instances to superclasses, each time you use qualification to fetch an attribute name from an instance object"
   ]
  },
  {
   "cell_type": "code",
   "execution_count": null,
   "metadata": {},
   "outputs": [],
   "source": [
    "# Q3. \n",
    "# How do you distinguish between a class object and an instance object?\n",
    "# *************************************************************************************************************************\n",
    "\n",
    "# Object : physical presence of the class in memory\n",
    "# Instance : an unique copy of the object (same structure, different data)\n",
    "    \n",
    "# Example:\n",
    "\n",
    "# Let's say you're building some chairs.\n",
    "\n",
    "# Lets assume there's a diagram that shows how to build a chair and put it together corresponds to a 'software' class.\n",
    "# Let's say you build five chairs according to the pattern in that diagram. Likewise, you could construct five 'software' \n",
    "# objects according to the pattern in a class.\n",
    "\n",
    "# Each chair has a unique number burned into the bottom of the seat to identify each specific chair. Chair 3 is one\n",
    "# instance of a chair pattern. Likewise, memory location 3 can contain one instance of a software pattern.\n",
    "\n",
    "# So, an instance (chair 3) is a single unique, specific manifestation of a chair pattern.\n",
    "\n",
    "# Remember the famous statement \"OBJECT REFERENCE NOT SET TO AN INSTANCE OF AN OBJECT\", this means that non-initialised \n",
    "# objects don't have any instance. In some programming languages like swift the compiler will not allow you to even design \n",
    "# a class that don't have any way to initialise all it's members (variable eg: name, age e.t.c), but in some language you \n",
    "# are allowed to do this:\n",
    "\n",
    "# Design Class(not in Python)\n",
    "class HumanClass:{\n",
    "    var name:String  # See we don't have any way to initialise name property.\n",
    "}     \n",
    "# And the error will only be shown at run time when you try to do something like this:\n",
    "\n",
    "var myClass = HumanClass()\n",
    "print(myClass.name) # will give, object reference not set to an instance of the object.\n",
    "\n",
    "# This error indicates that, the specific values (for variables\\property) is the \"INSTANCE\" as i tried to explain this \n",
    "# above! And the object i.e: \"myClass\" contains the memory location (at run-time)."
   ]
  },
  {
   "cell_type": "code",
   "execution_count": 1,
   "metadata": {},
   "outputs": [
    {
     "name": "stdout",
     "output_type": "stream",
     "text": [
      "Total: 50\n",
      "Cart: ['apple', 'peach', 'orange']\n"
     ]
    }
   ],
   "source": [
    "# Q4. \n",
    "# What makes the first argument in a class’s method function special?\n",
    "# *************************************************************************************************************************\n",
    "\n",
    "# The first parameter: 'self' will reference the object instance on which the attributes and methods are called.\n",
    "# It binds the attributes with the given arguments.'self' is a parameter in function and the user can use a different \n",
    "# parameter name in place of it.\n",
    "\n",
    "# Example: \n",
    "# Here is a class named FruitBasket, which has two attributes(fruit_list, total) \n",
    "# and three methods(show_total, show_basket, show_bill)\n",
    "\n",
    "class FruitBasket():\n",
    "\n",
    "    def __init__ (self, fruits,total):\n",
    "        self.fruit_list = fruits\n",
    "        self.total = total\n",
    "\n",
    "    #Displays the total amount\n",
    "    def show_total(self):\n",
    "        print(\"Total:\", self.total)\n",
    "    \n",
    "    #Displays the list of fruits\n",
    "    def show_basket(self):\n",
    "        print(\"Cart:\", self.fruit_list)\n",
    "    \n",
    "    #Displays the bill\n",
    "    def show_bill(self):\n",
    "        self.show_total()\n",
    "        self.show_basket()\n",
    "\n",
    "my_basket = FruitBasket([\"apple\", \"peach\", \"orange\"], 50)\n",
    "my_basket.show_bill()"
   ]
  },
  {
   "cell_type": "code",
   "execution_count": null,
   "metadata": {},
   "outputs": [],
   "source": [
    "# Q5. \n",
    "# What is the purpose of the __init__ method?\n",
    "# *************************************************************************************************************************\n",
    "\n",
    "__init__() is an alternate to a constructor for a class in Python.\n",
    "Constructors are used to initialize the object's state. The task of constructors is to initialize(assign values) to the \n",
    "data members of the class when an object of class is created.It is run as soon as an object of a class is instantiated."
   ]
  },
  {
   "cell_type": "code",
   "execution_count": null,
   "metadata": {},
   "outputs": [],
   "source": [
    "# Q6. \n",
    "# What is the process for creating a class instance?\n",
    "# *************************************************************************************************************************\n",
    "\n",
    "# To create instances of a class, you call the class using class name and pass in whatever arguments its __init__ method \n",
    "# accepts.\n",
    "\n",
    "# Example:\n",
    "# Assuming we have a class 'FruitBasket' and inside the class we have method show_bill(). Then 'my_basket' is the object or\n",
    "# class instance created\n",
    "\n",
    "my_basket = FruitBasket([\"apple\", \"peach\", \"orange\"], 50)\n",
    "my_basket.show_bill()"
   ]
  },
  {
   "cell_type": "code",
   "execution_count": 3,
   "metadata": {
    "scrolled": false
   },
   "outputs": [
    {
     "name": "stdout",
     "output_type": "stream",
     "text": [
      "Total: 50\n",
      "Cart: ['apple', 'peach', 'orange']\n"
     ]
    }
   ],
   "source": [
    "# Q7. \n",
    "# What is the process for creating a class?\n",
    "# *************************************************************************************************************************\n",
    "\n",
    "class FruitBasket():\n",
    "\n",
    "    def __init__ (self, fruits,total):\n",
    "        self.fruit_list = fruits\n",
    "        self.total = total\n",
    "\n",
    "    #Displays the total amount\n",
    "    def show_total(self):\n",
    "        print(\"Total:\", self.total)\n",
    "    \n",
    "    #Displays the list of fruits\n",
    "    def show_basket(self):\n",
    "        print(\"Cart:\", self.fruit_list)\n",
    "    \n",
    "    #Displays the bill\n",
    "    def show_bill(self):\n",
    "        self.show_total()\n",
    "        self.show_basket()\n",
    "\n",
    "my_basket = FruitBasket([\"apple\", \"peach\", \"orange\"], 50)\n",
    "my_basket.show_bill()"
   ]
  },
  {
   "cell_type": "code",
   "execution_count": 6,
   "metadata": {},
   "outputs": [
    {
     "name": "stdout",
     "output_type": "stream",
     "text": [
      "Hi, I am Alien\n"
     ]
    }
   ],
   "source": [
    "# Q8. \n",
    "# How would you define the superclasses of a class?\n",
    "# *************************************************************************************************************************\n",
    "class Robot:\n",
    "    \n",
    "    def __init__(self, name):\n",
    "        self.name = name\n",
    "        \n",
    "    def say_hi(self):\n",
    "        print(\"Hi, I am \" + self.name)\n",
    "        \n",
    "class PhysicianRobot(Robot):\n",
    "    pass\n",
    "\n",
    "x = Robot(\"Jaadu\")\n",
    "y = PhysicianRobot(\"Alien\")\n",
    "\n",
    "y.say_hi()"
   ]
  }
 ],
 "metadata": {
  "kernelspec": {
   "display_name": "Python 3",
   "language": "python",
   "name": "python3"
  },
  "language_info": {
   "codemirror_mode": {
    "name": "ipython",
    "version": 3
   },
   "file_extension": ".py",
   "mimetype": "text/x-python",
   "name": "python",
   "nbconvert_exporter": "python",
   "pygments_lexer": "ipython3",
   "version": "3.7.7"
  }
 },
 "nbformat": 4,
 "nbformat_minor": 4
}
