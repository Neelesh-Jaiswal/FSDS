{
 "cells": [
  {
   "cell_type": "code",
   "execution_count": 40,
   "metadata": {},
   "outputs": [
    {
     "name": "stdout",
     "output_type": "stream",
     "text": [
      "Enter the size of array:4 3\n",
      "\n",
      "Enter the element of array1:\n",
      "\n",
      "1 23 4 32 5 45 65 67 87 89 12 32\n",
      "Enter the element of array2:\n",
      "\n",
      "21 32 43 54 65 76 87 98 2 4 15 12\n",
      "Sum of the two arrays is:\n",
      "\n",
      "[[ 1 23  4]\n",
      " [32  5 45]\n",
      " [65 67 87]\n",
      " [89 12 32]]\n",
      "    +\n",
      "[[21 32 43]\n",
      " [54 65 76]\n",
      " [87 98  2]\n",
      " [ 4 15 12]]\n",
      "    =\n",
      "[[ 22.  55.  47.]\n",
      " [ 86.  70. 121.]\n",
      " [152. 165.  89.]\n",
      " [ 93.  27.  44.]]\n"
     ]
    }
   ],
   "source": [
    "# 1. Write a Python Program to Add Two Matrices?\n",
    "# *************************************************************************************************************************\n",
    "# 1.\n",
    "import numpy as np\n",
    "\n",
    "def add_matrices(arr1,arr2,size):\n",
    "    r = np.zeros(size)\n",
    "    for i in range(size[0]):\n",
    "        for j in range(size[1]):\n",
    "            r[i][j] = arr1[i][j] + arr2[i][j]\n",
    "    return r\n",
    "\n",
    "if __name__ == \"__main__\":\n",
    "    \n",
    "    array_size = list(map(int,input('Enter the size of array:').split()))\n",
    "    \n",
    "    print('\\nEnter the element of array1:\\n')\n",
    "    array1 = list(map(int, input().split()))[:array_size[0]*array_size[1]]\n",
    "\n",
    "    print('Enter the element of array2:\\n')\n",
    "    array2 = list(map(int, input().split()))[:array_size[0]*array_size[1]]\n",
    "        \n",
    "    print('Sum of the two arrays is:\\n')\n",
    "    \n",
    "    array1 = np.array(array1).reshape(array_size[0], array_size[1])\n",
    "    array2 = np.array(array2).reshape(array_size[0], array_size[1])\n",
    "    print(array1)\n",
    "    print('    +')\n",
    "    print(array2)\n",
    "    print('    =')\n",
    "    print(add_matrices(array1, array2, array_size))"
   ]
  },
  {
   "cell_type": "code",
   "execution_count": 49,
   "metadata": {},
   "outputs": [
    {
     "name": "stdout",
     "output_type": "stream",
     "text": [
      "Enter the size of array:3 3\n",
      "\n",
      "Enter the element of array1:\n",
      "\n",
      "1 2 3 4 5 6 7 8 9\n",
      "Enter the element of array2:\n",
      "\n",
      "1 2 3 4 5 6 7 8 9\n",
      "Product of the two arrays is:\n",
      "\n",
      "[[1 2 3]\n",
      " [4 5 6]\n",
      " [7 8 9]]\n",
      "    *\n",
      "[[1 2 3]\n",
      " [4 5 6]\n",
      " [7 8 9]]\n",
      "    =\n",
      "[[ 30.  36.  42.]\n",
      " [ 66.  81.  96.]\n",
      " [102. 126. 150.]]\n"
     ]
    }
   ],
   "source": [
    "# 2. Write a Python Program to Multiply Two Matrices?\n",
    "# *************************************************************************************************************************\n",
    "# 2.\n",
    "import numpy as np\n",
    "\n",
    "def mul_matrices(arr1,arr2,size):\n",
    "    r = np.zeros(size)\n",
    "    for i in range(size[0]):                        # rows of arr1\n",
    "        for j in range(size[1]):                    # columns of arr2\n",
    "            for k in range(size[0]):                # rows of arr2\n",
    "                r[i][j] = r[i][j] + (arr1[i][k]* arr2[k][j])\n",
    "    return r\n",
    "\n",
    "if __name__ == \"__main__\":\n",
    "    \n",
    "    array_size = list(map(int,input('Enter the size of array:').split()))\n",
    "    \n",
    "    print('\\nEnter the element of array1:\\n')\n",
    "    array1 = list(map(int, input().split()))[:array_size[0]*array_size[1]]\n",
    "\n",
    "    print('Enter the element of array2:\\n')\n",
    "    array2 = list(map(int, input().split()))[:array_size[0]*array_size[1]]\n",
    "        \n",
    "    print('Product of the two arrays is:\\n')\n",
    "    \n",
    "    array1 = np.array(array1).reshape(array_size[0], array_size[1])\n",
    "    array2 = np.array(array2).reshape(array_size[0], array_size[1])\n",
    "    print(array1)\n",
    "    print('    *')\n",
    "    print(array2)\n",
    "    print('    =')\n",
    "    print(mul_matrices(array1, array2, array_size))"
   ]
  },
  {
   "cell_type": "code",
   "execution_count": 85,
   "metadata": {
    "scrolled": true
   },
   "outputs": [
    {
     "name": "stdout",
     "output_type": "stream",
     "text": [
      "Enter the size of array:2 3\n",
      "\n",
      "Enter the element of array:\n",
      "\n",
      "1 2 3 4 5 6\n",
      "\n",
      "Original array:\n",
      "\n",
      "[[1 2 3]\n",
      " [4 5 6]]\n",
      "\n",
      "After Transpose\n",
      "\n",
      "[[1. 4.]\n",
      " [2. 5.]\n",
      " [3. 6.]]\n"
     ]
    }
   ],
   "source": [
    "# 3. Write a Python Program to Transpose a Matrix?\n",
    "# *************************************************************************************************************************\n",
    "# 3.\n",
    "import numpy as np\n",
    "\n",
    "def transpose(arr,size):\n",
    "    r = np.zeros(size[::-1])                 # making the zero array in transposed form\n",
    "    \n",
    "    for i in range(size[0]):                 # rows\n",
    "        for j in range(size[1]):             # columns\n",
    "            r[j][i] = r[j][i] + arr[i][j]\n",
    "    return r\n",
    "\n",
    "if __name__ == \"__main__\":\n",
    "    \n",
    "    array_size = list(map(int,input('Enter the size of array:').split()))\n",
    "    \n",
    "    print('\\nEnter the element of array:\\n')\n",
    "    array = list(map(int, input().split()))[:array_size[0]*array_size[1]]\n",
    "        \n",
    "    print('\\nOriginal array:\\n')\n",
    "    \n",
    "    array = np.array(array).reshape(array_size[0], array_size[1])\n",
    "    print(array)\n",
    "    print('\\nAfter Transpose\\n')\n",
    "    print(transpose(array, array_size))"
   ]
  },
  {
   "cell_type": "code",
   "execution_count": 14,
   "metadata": {},
   "outputs": [
    {
     "name": "stdout",
     "output_type": "stream",
     "text": [
      "Enter the number of elements: 7\n",
      "Arijit\n",
      "Sonu\n",
      "Sunidhi\n",
      "Asha\n",
      "Rafi\n",
      "Shaan\n",
      "Mohit\n",
      "List before sorting is :  ['Arijit', 'Sonu', 'Sunidhi', 'Asha', 'Rafi', 'Shaan', 'Mohit']\n",
      "\n",
      "List after sorting is :  ['Arijit', 'Asha', 'Mohit', 'Rafi', 'Shaan', 'Sonu', 'Sunidhi']\n"
     ]
    }
   ],
   "source": [
    "# 4. Write a Python Program to Sort Words in Alphabetic Order?\n",
    "# *************************************************************************************************************************\n",
    "# 4.\n",
    "# here we are using Bubble sorting technique for sorting the list\n",
    "\n",
    "def sorting(lst):\n",
    "    for i in range(len(lst)-1):\n",
    "        for j in range(i+1, len(lst)):\n",
    "            if lst[i] > lst[j]:\n",
    "                temp = lst[i]\n",
    "                lst[i] = lst[j]\n",
    "                lst[j] = temp\n",
    "    return lst\n",
    "\n",
    "if __name__ == '__main__':\n",
    "    number_of_elements = int(input('Enter the number of elements: '))\n",
    "    element_list = []\n",
    "    for i in range(number_of_elements):\n",
    "        element_list.append(input())\n",
    "    print('List before sorting is : ',element_list)\n",
    "    print('\\nList after sorting is : ',sorting(element_list))"
   ]
  },
  {
   "cell_type": "code",
   "execution_count": 23,
   "metadata": {},
   "outputs": [
    {
     "name": "stdout",
     "output_type": "stream",
     "text": [
      "Enter the string:\n",
      " Hi!! My name is: Nee@les#h J@ais^w&a*l?\n",
      "\n",
      "String without punctuation is:\n",
      " Hi My name is Neelesh Jaiswal\n"
     ]
    }
   ],
   "source": [
    "# 5. Write a Python Program to Remove Punctuation From a String?\n",
    "# *************************************************************************************************************************\n",
    "# 5.\n",
    "\n",
    "def punctuation(string):\n",
    "    punctuation_marks = '''!()-[]{};?@#$%:'\"\\,./^&*_'''\n",
    "    for i in string:\n",
    "        if i in punctuation_marks:\n",
    "            string = string.replace(i,'')\n",
    "    return string\n",
    "\n",
    "if __name__ == '__main__':\n",
    "    string = input('Enter the string:\\n ')\n",
    "    print('\\nString without punctuation is:\\n',punctuation(string))"
   ]
  },
  {
   "cell_type": "code",
   "execution_count": null,
   "metadata": {},
   "outputs": [],
   "source": []
  }
 ],
 "metadata": {
  "kernelspec": {
   "display_name": "Python 3",
   "language": "python",
   "name": "python3"
  },
  "language_info": {
   "codemirror_mode": {
    "name": "ipython",
    "version": 3
   },
   "file_extension": ".py",
   "mimetype": "text/x-python",
   "name": "python",
   "nbconvert_exporter": "python",
   "pygments_lexer": "ipython3",
   "version": "3.7.7"
  }
 },
 "nbformat": 4,
 "nbformat_minor": 4
}
