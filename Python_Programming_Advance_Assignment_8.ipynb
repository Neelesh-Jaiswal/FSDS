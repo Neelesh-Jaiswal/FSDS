{
 "cells": [
  {
   "cell_type": "code",
   "execution_count": 1,
   "metadata": {},
   "outputs": [
    {
     "name": "stdout",
     "output_type": "stream",
     "text": [
      "True\n",
      "True\n",
      "False\n",
      "False\n"
     ]
    }
   ],
   "source": [
    "# 1. \n",
    "# Given a sentence as txt, return True if any two adjacent words have this property: One word ends with a vowel, while \n",
    "# the word immediately after begins with a vowel (a e i o u).\n",
    "\n",
    "# Examples\n",
    "\n",
    "# vowel_links(\"a very large appliance\") ➞ True\n",
    "\n",
    "# vowel_links(\"go to edabit\") ➞ True\n",
    "\n",
    "# vowel_links(\"an open fire\") ➞ False\n",
    "\n",
    "# vowel_links(\"a sudden applause\") ➞ False\n",
    "\n",
    "import re\n",
    "\n",
    "def vowel_links(text):\n",
    "    pattern = r\"[aeiou]\\b\\s\\b[aeiou]\"\n",
    "    result = re.findall(pattern, text)\n",
    "    if len(result):\n",
    "        return True\n",
    "    return False\n",
    "\n",
    "print(vowel_links('a very large appliance entry'))\n",
    "print(vowel_links('go to edabit'))\n",
    "print(vowel_links('an open fire'))\n",
    "print(vowel_links('a sudden applause'))"
   ]
  },
  {
   "cell_type": "code",
   "execution_count": 1,
   "metadata": {},
   "outputs": [
    {
     "name": "stdout",
     "output_type": "stream",
     "text": [
      "True\n",
      "True\n",
      "False\n",
      "False\n"
     ]
    }
   ],
   "source": [
    "# 2. \n",
    "# You are given three inputs: a string, one letter, and a second letter.\n",
    "\n",
    "# Write a function that returns True if every instance of the first letter occurs before every instance of the second \n",
    "# letter.\n",
    "\n",
    "# Examples:\n",
    "\n",
    "# first_before_second(\"a rabbit jumps joyfully\", \"a\", \"j\") ➞ True\n",
    "#  Every instance of \"a\" occurs before every instance of \"j\".\n",
    "\n",
    "# first_before_second(\"knaves knew about waterfalls\", \"k\", \"w\") ➞  True\n",
    "\n",
    "# first_before_second(\"happy birthday\", \"a\", \"y\") ➞ False\n",
    "#  The \"a\" in \"birthday\" occurs after the \"y\" in \"happy\".\n",
    "\n",
    "# first_before_second(\"precarious kangaroos\", \"k\", \"a\") ➞ False\n",
    "\n",
    "def first_before_second(string, x,y):\n",
    "    try:\n",
    "        for i in range(len(x+y)):\n",
    "            last = string.rindex(x)\n",
    "            first = string.index(y)\n",
    "\n",
    "            if last > first:\n",
    "                return False\n",
    "        return True\n",
    "    \n",
    "    except ValueError:\n",
    "        return f'{x} or {y} not found'\n",
    "\n",
    "\n",
    "if __name__ == \"__main__\":\n",
    "    print(first_before_second(\"a rabbit jumps joyfully\", \"a\", \"j\"))\n",
    "    print(first_before_second('knaves knew about waterfalls','k','w'))\n",
    "    print(first_before_second(\"happy birthday\", \"a\", \"y\"))\n",
    "    print(first_before_second(\"precarious kangaroos\", \"k\", \"a\"))\n"
   ]
  },
  {
   "cell_type": "code",
   "execution_count": 26,
   "metadata": {},
   "outputs": [
    {
     "name": "stdout",
     "output_type": "stream",
     "text": [
      "[4, 8]\n",
      "EAI\n",
      "['A', 'B', 'T', 'A', 'I', 'Y']\n"
     ]
    }
   ],
   "source": [
    "# 3. \n",
    "# Create a function that returns the characters from a list or string r on odd or even positions, depending on the \n",
    "# specifier s. The specifier will be \"odd\" for items on odd positions (1, 3, 5, ...) and \"even\" for items on even \n",
    "# positions (2, 4, 6, ...).\n",
    "\n",
    "# Examples\n",
    "\n",
    "# char_at_pos([2, 4, 6, 8, 10], \"even\") ➞ [4, 8]\n",
    "# # 4 & 8 occupy the 2nd & 4th positions\n",
    "\n",
    "# char_at_pos(\"EDABIT\", \"odd\") ➞ \"EAI\"\n",
    "# # \"E\", \"A\" and \"I\" occupy the 1st, 3rd and 5th positions\n",
    "\n",
    "# char_at_pos([\"A\", \"R\", \"B\", \"I\", \"T\", \"R\", \"A\", \"R\", \"I\", \"L\", \"Y\"], \"odd\") ➞ [\"A\", \"B\", \"T\", \"A\", \"I\", \"Y\"]\n",
    "\n",
    "def char_at_pos(inp,specifier):\n",
    "    if type(inp) == list or type(inp) == str:\n",
    "        if specifier == 'odd':\n",
    "            return inp[::2]\n",
    "        else:\n",
    "            return inp[1::2]\n",
    "        \n",
    "    else:\n",
    "        return 'Please enter either list or string' \n",
    "\n",
    "print(char_at_pos([2, 4, 6, 8, 10], \"even\"))\n",
    "print(char_at_pos(\"EDABIT\", \"odd\"))\n",
    "print(char_at_pos([\"A\", \"R\", \"B\", \"I\", \"T\", \"R\", \"A\", \"R\", \"I\", \"L\", \"Y\"], \"odd\"))"
   ]
  },
  {
   "cell_type": "code",
   "execution_count": 5,
   "metadata": {},
   "outputs": [
    {
     "name": "stdout",
     "output_type": "stream",
     "text": [
      "64\n"
     ]
    }
   ],
   "source": [
    "# 4. \n",
    "# Write a function that returns the greatest common divisor of all list elements. If the greatest common divisor is 1, \n",
    "# return 1.\n",
    "\n",
    "# Examples\n",
    "\n",
    "# GCD([10, 20, 40]) ➞ 10\n",
    "\n",
    "# GCD([1, 2, 3, 100]) ➞ 1\n",
    "\n",
    "# GCD([1024, 192, 2048, 512]) ➞ 64\n",
    "\n",
    "def GCD(x, y): \n",
    "    while(y): \n",
    "        x, y = y, x % y \n",
    "  \n",
    "    return x \n",
    "      \n",
    "      \n",
    "l = [1024, 192, 2048, 512] \n",
    "  \n",
    "num1=l[0] \n",
    "num2=l[1] \n",
    "result=GCD(num1,num2) \n",
    "  \n",
    "for i in range(2,len(l)): \n",
    "    result=GCD(result,l[i]) \n",
    "      \n",
    "print(result) \n",
    "\n",
    "# Pseudo Code:\n",
    "\n",
    "# a, b  are two numbers\n",
    "# a % b = R\n",
    "# Let  a = b  and  b = R\n",
    "# Repeat Steps 2 and 3 until  a mod b  is greater than 0"
   ]
  },
  {
   "cell_type": "code",
   "execution_count": 8,
   "metadata": {},
   "outputs": [
    {
     "name": "stdout",
     "output_type": "stream",
     "text": [
      "Decimal only.\n",
      "Binary only.\n",
      "Decimal and binary.\n",
      "Neither!\n"
     ]
    }
   ],
   "source": [
    "# 5. \n",
    "# A number/string is a palindrome if the digits/characters are the same when read both forward and backward. Examples \n",
    "# include \"racecar\" and 12321. Given a positive number n, check if n or the binary representation of n is palindromic. \n",
    "# Return the following:\n",
    "\n",
    "# - \"Decimal only.\" if only n is a palindrome.\n",
    "# - \"Binary only.\" if only the binary representation of n is a palindrome.\n",
    "# - \"Decimal and binary.\" if both are palindromes.\n",
    "# - \"Neither!\" if neither are palindromes.\n",
    "\n",
    "# Examples:\n",
    "\n",
    "# palindrome_type(1306031) ➞ \"Decimal only.\"\n",
    "# # decimal = 1306031\n",
    "# # binary  = \"100111110110110101111\"\n",
    "\n",
    "# palindrome_type(427787) ➞ \"Binary only.\"\n",
    "# # decimal = 427787\n",
    "# # binary  = \"1101000011100001011\"\n",
    "\n",
    "# palindrome_type(313) ➞ \"Decimal and binary.\"\n",
    "# # decimal = 313\n",
    "# # binary  = 100111001\n",
    "\n",
    "# palindrome_type(934) ➞ \"Neither!\"\n",
    "# # decimal = 934\n",
    "# # binary  = \"1110100110\"\n",
    "\n",
    "def is_palindrome(num):\n",
    "    num = str(num)\n",
    "    return True if num == num[::-1] else False\n",
    "\n",
    "\n",
    "def palindrome_type(n):\n",
    "    bin_n = bin(n)[2:]\n",
    "    \n",
    "    if is_palindrome(n) and is_palindrome(bin_n):\n",
    "        return 'Decimal and binary.'\n",
    "    \n",
    "    elif is_palindrome(bin_n):\n",
    "        return 'Binary only.'\n",
    "    \n",
    "    elif is_palindrome(n):\n",
    "        return 'Decimal only.'\n",
    "    \n",
    "    else:\n",
    "        return 'Neither!'\n",
    "\n",
    "print(palindrome_type(1306031))\n",
    "print(palindrome_type(427787))\n",
    "print(palindrome_type(313))\n",
    "print(palindrome_type(934))"
   ]
  }
 ],
 "metadata": {
  "kernelspec": {
   "display_name": "Python 3",
   "language": "python",
   "name": "python3"
  },
  "language_info": {
   "codemirror_mode": {
    "name": "ipython",
    "version": 3
   },
   "file_extension": ".py",
   "mimetype": "text/x-python",
   "name": "python",
   "nbconvert_exporter": "python",
   "pygments_lexer": "ipython3",
   "version": "3.7.7"
  }
 },
 "nbformat": 4,
 "nbformat_minor": 4
}
