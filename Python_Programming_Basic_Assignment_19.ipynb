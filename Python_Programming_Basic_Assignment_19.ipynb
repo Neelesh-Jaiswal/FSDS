{
 "cells": [
  {
   "cell_type": "code",
   "execution_count": 19,
   "metadata": {},
   "outputs": [
    {
     "data": {
      "text/plain": [
       "'11223344!!__  '"
      ]
     },
     "execution_count": 19,
     "metadata": {},
     "output_type": "execute_result"
    }
   ],
   "source": [
    "# Question1\n",
    "\n",
    "# Create a function that takes a string and returns a string in which each character is repeated once.\n",
    "\n",
    "# Examples\n",
    "# double_char(\"String\") ➞ \"SSttrriinngg\"\n",
    "\n",
    "# double_char(\"Hello World!\") ➞ \"HHeelllloo  WWoorrlldd!!\"\n",
    "\n",
    "# double_char(\"1234!_ \") ➞ \"11223344!!__  \"\n",
    "\n",
    "def double_char(string):\n",
    "    result = []\n",
    "    for i in string:\n",
    "        result.append(str(i) * 2)\n",
    "    return ''.join(result)\n",
    "\n",
    "double_char('1234!_ ')"
   ]
  },
  {
   "cell_type": "code",
   "execution_count": 26,
   "metadata": {},
   "outputs": [
    {
     "name": "stdout",
     "output_type": "stream",
     "text": [
      "True\n",
      "boolean expected\n"
     ]
    }
   ],
   "source": [
    "# Question2\n",
    "\n",
    "# Create a function that reverses a boolean value and returns the string \"boolean expected\" if another variable type is \n",
    "# given.\n",
    "\n",
    "# Examples\n",
    "# reverse(True) ➞ False\n",
    "\n",
    "# reverse(False) ➞ True\n",
    "\n",
    "# reverse(0) ➞ \"boolean expected\"\n",
    "\n",
    "# reverse(None) ➞ \"boolean expected\"\n",
    "\n",
    "def reverse(inp):\n",
    "    if type(inp) == bool:\n",
    "        return not inp\n",
    "    else:\n",
    "        return 'boolean expected'\n",
    "    \n",
    "print(reverse(False))\n",
    "print(reverse(0))"
   ]
  },
  {
   "cell_type": "code",
   "execution_count": 37,
   "metadata": {},
   "outputs": [
    {
     "data": {
      "text/plain": [
       "'1048.576m'"
      ]
     },
     "execution_count": 37,
     "metadata": {},
     "output_type": "execute_result"
    }
   ],
   "source": [
    "# Question3\n",
    "\n",
    "# Create a function that returns the thickness (in meters) of a piece of paper after folding it n number of times. \n",
    "# The paper starts off with a thickness of 0.5mm.\n",
    "\n",
    "# Examples\n",
    "\n",
    "# num_layers(1) ➞ \"0.001m\"\n",
    "#  Paper folded once is 1mm (equal to 0.001m)\n",
    "\n",
    "# num_layers(4) ➞ \"0.008m\"\n",
    "#  Paper folded 4 times is 8mm (equal to 0.008m)\n",
    "\n",
    "# num_layers(21) ➞ \"1048.576m\"\n",
    "#  Paper folded 21 times is 1048576mm (equal to 1048.576m)\n",
    "\n",
    "def num_layers(a):\n",
    "    res = 0.5\n",
    "    for _ in range(a):\n",
    "        res *= 2                # each time the paper gets fold, the thichkness becomes twice the previous fold\n",
    "    return f'{res / 1000}m'     # converting to metres\n",
    "\n",
    "num_layers(21)"
   ]
  },
  {
   "cell_type": "code",
   "execution_count": 64,
   "metadata": {},
   "outputs": [
    {
     "data": {
      "text/plain": [
       "[1, 3, 4, 6]"
      ]
     },
     "execution_count": 64,
     "metadata": {},
     "output_type": "execute_result"
    }
   ],
   "source": [
    "# Question4\n",
    "\n",
    "# Create a function that takes a single string as argument and returns an ordered list containing the indices of all \n",
    "# capital letters in the string.\n",
    "\n",
    "# Examples\n",
    "# index_of_caps(\"eDaBiT\") ➞ [1, 3, 5]\n",
    "\n",
    "# index_of_caps(\"eQuINoX\") ➞ [1, 3, 4, 6]\n",
    "\n",
    "# index_of_caps(\"determine\") ➞ []\n",
    "\n",
    "# index_of_caps(\"STRIKE\") ➞ [0, 1, 2, 3, 4, 5]\n",
    "\n",
    "# index_of_caps(\"sUn\") ➞ [1]\n",
    "\n",
    "\n",
    "def index_of_caps(string):\n",
    "    result = []\n",
    "    for i in range(len(string)):\n",
    "        if string[i].isupper():\n",
    "            result.append(i)\n",
    "    return result\n",
    "\n",
    "index_of_caps('eQuINoX')"
   ]
  },
  {
   "cell_type": "code",
   "execution_count": 71,
   "metadata": {},
   "outputs": [
    {
     "data": {
      "text/plain": [
       "[2]"
      ]
     },
     "execution_count": 71,
     "metadata": {},
     "output_type": "execute_result"
    }
   ],
   "source": [
    "# Question5\n",
    "\n",
    "# Using list comprehensions, create a function that finds all even numbers from 1 to the given number.\n",
    "\n",
    "# Examples\n",
    "# find_even_nums(8) ➞ [2, 4, 6, 8]\n",
    "\n",
    "# find_even_nums(4) ➞ [2, 4]\n",
    "\n",
    "# find_even_nums(2) ➞ [2]\n",
    "\n",
    "def find_even_nums(number):\n",
    "    return [i for i in range(2,number+2) if i%2 == 0]\n",
    "\n",
    "find_even_nums(2)"
   ]
  }
 ],
 "metadata": {
  "kernelspec": {
   "display_name": "Python 3",
   "language": "python",
   "name": "python3"
  },
  "language_info": {
   "codemirror_mode": {
    "name": "ipython",
    "version": 3
   },
   "file_extension": ".py",
   "mimetype": "text/x-python",
   "name": "python",
   "nbconvert_exporter": "python",
   "pygments_lexer": "ipython3",
   "version": "3.7.7"
  }
 },
 "nbformat": 4,
 "nbformat_minor": 4
}
