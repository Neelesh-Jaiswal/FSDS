{
 "cells": [
  {
   "cell_type": "code",
   "execution_count": 5,
   "metadata": {},
   "outputs": [
    {
     "name": "stdout",
     "output_type": "stream",
     "text": [
      "Hey! What's up?\n",
      "\n",
      "Multiline strings\n",
      "can be created \n",
      "using escape sequences.\n"
     ]
    }
   ],
   "source": [
    "# 1. What are escape characters, and how do you use them?\n",
    "#-------------------------------------------------------------------------------------------------------------------------------\n",
    "# 1.\n",
    "# To insert special characters like whitespace chararcters('\\t','\\n','\\r',\"\",), we use backslash(\\).\n",
    "# The character following the backslash, escapes the character.\n",
    "\n",
    "# Example:\n",
    "print('Hey! What\\'s up?')\n",
    "print('\\nMultiline strings\\ncan be created \\nusing escape sequences.')"
   ]
  },
  {
   "cell_type": "code",
   "execution_count": 6,
   "metadata": {},
   "outputs": [],
   "source": [
    "# 2. What do the escape characters n and t stand for?\n",
    "# ------------------------------------------------------------------------------------------------------------------------------\n",
    "# 2.\n",
    "# \\n -> new line\n",
    "# \\t -> one tab space"
   ]
  },
  {
   "cell_type": "code",
   "execution_count": 7,
   "metadata": {},
   "outputs": [
    {
     "name": "stdout",
     "output_type": "stream",
     "text": [
      "This will insert \\ backslash\n"
     ]
    }
   ],
   "source": [
    "# 3. What is the way to include backslash characters in a string?\n",
    "# ------------------------------------------------------------------------------------------------------------------------------\n",
    "# 3.\n",
    "print('This will insert \\\\ backslash')"
   ]
  },
  {
   "cell_type": "code",
   "execution_count": 8,
   "metadata": {},
   "outputs": [
    {
     "name": "stdout",
     "output_type": "stream",
     "text": [
      "Howl's Moving Castle\n"
     ]
    }
   ],
   "source": [
    "# 4. The string \"Howl's Moving Castle\" is a correct value. Why isn't the single quote character in the word Howl's not escaped \n",
    "# a problem?\n",
    "#------------------------------------------------------------------------------------------------------------------------------\n",
    "# 4.\n",
    "# It is because we have used double quotes to enclose the string.\n",
    "print(\"Howl's Moving Castle\")"
   ]
  },
  {
   "cell_type": "code",
   "execution_count": 12,
   "metadata": {},
   "outputs": [
    {
     "name": "stdout",
     "output_type": "stream",
     "text": [
      "This is a\n",
      "      Multi line string\n"
     ]
    }
   ],
   "source": [
    "# 5. How do you write a string of newlines if you don't want to use the n character?\n",
    "# -----------------------------------------------------------------------------------------------------------------------------\n",
    "# 5.\n",
    "#We can use multiline string. This is done by enclosing the string in three double quotes.\n",
    "print(\"\"\"This is a\n",
    "      Multi line string\"\"\"\n",
    "     )"
   ]
  },
  {
   "cell_type": "code",
   "execution_count": 13,
   "metadata": {},
   "outputs": [
    {
     "name": "stdout",
     "output_type": "stream",
     "text": [
      "e\n",
      "Hello\n",
      "Hello\n",
      "lo, world!\n"
     ]
    }
   ],
   "source": [
    "# 6. What are the values of the given expressions?\n",
    "# 'Hello, world!'[1]\n",
    "# 'Hello, world!'[0:5]\n",
    "# 'Hello, world!'[:5]\n",
    "# 'Hello, world!'[3:]\n",
    "# -----------------------------------------------------------------------------------------------------------------------------\n",
    "# 6.\n",
    "#These are all slicing operaitons on strings\n",
    "print('Hello, world!'[1])\n",
    "print('Hello, world!'[0:5])\n",
    "print('Hello, world!'[:5])\n",
    "print('Hello, world!'[3:])\n"
   ]
  },
  {
   "cell_type": "code",
   "execution_count": 14,
   "metadata": {},
   "outputs": [
    {
     "name": "stdout",
     "output_type": "stream",
     "text": [
      "HELLO\n",
      "True\n",
      "hello\n"
     ]
    }
   ],
   "source": [
    "# 7. What are the values of the following expressions?\n",
    "# 'Hello'.upper()\n",
    "# 'Hello'.upper().isupper()\n",
    "# 'Hello'.upper().lower()\n",
    "# -----------------------------------------------------------------------------------------------------------------------------\n",
    "# 7.\n",
    "print('Hello'.upper())\n",
    "print('Hello'.upper().isupper())\n",
    "print('Hello'.upper().lower())"
   ]
  },
  {
   "cell_type": "code",
   "execution_count": 17,
   "metadata": {},
   "outputs": [
    {
     "name": "stdout",
     "output_type": "stream",
     "text": [
      "['Remember,', 'remember,', 'the', 'fifth', 'of', 'July.']\n",
      "There-can-only-one.\n"
     ]
    }
   ],
   "source": [
    "# 8. What are the values of the following expressions?\n",
    "# 'Remember, remember, the fifth of July.'.split()\n",
    "# '-'.join('There can only one.'.split())\n",
    "# -----------------------------------------------------------------------------------------------------------------------------\n",
    "# 8.\n",
    "#The 1st one will create a list of strings. The string gets separated as soon as blank space is encountered\n",
    "# The 2nd one will first make a list of strings and then join the list with '-' in between two strings\n",
    "print('Remember, remember, the fifth of July.'.split())\n",
    "print('-'.join('There can only one.'.split()))"
   ]
  },
  {
   "cell_type": "code",
   "execution_count": 19,
   "metadata": {},
   "outputs": [
    {
     "name": "stdout",
     "output_type": "stream",
     "text": [
      "---------------------------This is rjust\n",
      "This is ljust---------------------------\n",
      "-------------This is center-------------\n"
     ]
    }
   ],
   "source": [
    "# 9. What are the methods for right-justifying, left-justifying, and centering a string?\n",
    "# -----------------------------------------------------------------------------------------------------------------------------\n",
    "# 9.\n",
    "# For right-justifying, rjust()\n",
    "print('This is rjust'.rjust(40,'-'))\n",
    "#For left-justifying, ljust()\n",
    "print('This is ljust'.ljust(40,'-'))\n",
    "#For centering, center()\n",
    "print('This is center'.center(40,'-'))"
   ]
  },
  {
   "cell_type": "code",
   "execution_count": null,
   "metadata": {},
   "outputs": [],
   "source": [
    "# 10. What is the best way to remove whitespace characters from the start or end?\n",
    "# -----------------------------------------------------------------------------------------------------------------------------\n",
    "# 10.\n",
    "# rstrip() -> for removing spaces from end\n",
    "# lstrip() -> for removing spaces from start"
   ]
  }
 ],
 "metadata": {
  "kernelspec": {
   "display_name": "Python 3",
   "language": "python",
   "name": "python3"
  },
  "language_info": {
   "codemirror_mode": {
    "name": "ipython",
    "version": 3
   },
   "file_extension": ".py",
   "mimetype": "text/x-python",
   "name": "python",
   "nbconvert_exporter": "python",
   "pygments_lexer": "ipython3",
   "version": "3.7.7"
  }
 },
 "nbformat": 4,
 "nbformat_minor": 4
}
