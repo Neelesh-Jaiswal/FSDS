{
 "cells": [
  {
   "cell_type": "code",
   "execution_count": 1,
   "metadata": {},
   "outputs": [
    {
     "name": "stdout",
     "output_type": "stream",
     "text": [
      "<class 'dict'>\n"
     ]
    }
   ],
   "source": [
    "# 1. What does an empty dictionary's code look like?\n",
    "# ------------------------------------------------------------------------------------------------------------------------------\n",
    "# 1.\n",
    "#Empty curly brackets\n",
    "a = {}\n",
    "print(type(a))"
   ]
  },
  {
   "cell_type": "code",
   "execution_count": 19,
   "metadata": {},
   "outputs": [
    {
     "name": "stdout",
     "output_type": "stream",
     "text": [
      "dict_values([42])\n"
     ]
    }
   ],
   "source": [
    "# 2. What is the value of a dictionary value with the key 'foo' and the value 42?\n",
    "# ------------------------------------------------------------------------------------------------------------------------------\n",
    "# 2.\n",
    "a = {'foo':42}\n",
    "print(a.values())\n",
    "#The value of the key'foo' is 42"
   ]
  },
  {
   "cell_type": "code",
   "execution_count": null,
   "metadata": {},
   "outputs": [],
   "source": [
    "# 3. What is the most significant distinction between a dictionary and a list?\n",
    "# ------------------------------------------------------------------------------------------------------------------------------\n",
    "# 3.\n",
    "# In list, the order of elements matter whereas in dictionary, the order of elements does not matter"
   ]
  },
  {
   "cell_type": "code",
   "execution_count": 20,
   "metadata": {},
   "outputs": [
    {
     "ename": "KeyError",
     "evalue": "'foo'",
     "output_type": "error",
     "traceback": [
      "\u001b[1;31m---------------------------------------------------------------------------\u001b[0m",
      "\u001b[1;31mKeyError\u001b[0m                                  Traceback (most recent call last)",
      "\u001b[1;32m<ipython-input-20-bd63ef0d4cb8>\u001b[0m in \u001b[0;36m<module>\u001b[1;34m()\u001b[0m\n\u001b[0;32m      3\u001b[0m \u001b[1;31m# 4.\u001b[0m\u001b[1;33m\u001b[0m\u001b[1;33m\u001b[0m\u001b[1;33m\u001b[0m\u001b[0m\n\u001b[0;32m      4\u001b[0m \u001b[0mspam\u001b[0m \u001b[1;33m=\u001b[0m \u001b[1;33m{\u001b[0m\u001b[1;34m'bar'\u001b[0m\u001b[1;33m:\u001b[0m\u001b[1;36m100\u001b[0m\u001b[1;33m}\u001b[0m\u001b[1;33m\u001b[0m\u001b[1;33m\u001b[0m\u001b[0m\n\u001b[1;32m----> 5\u001b[1;33m \u001b[0mprint\u001b[0m\u001b[1;33m(\u001b[0m\u001b[0mspam\u001b[0m\u001b[1;33m[\u001b[0m\u001b[1;34m'foo'\u001b[0m\u001b[1;33m]\u001b[0m\u001b[1;33m)\u001b[0m\u001b[1;33m\u001b[0m\u001b[1;33m\u001b[0m\u001b[0m\n\u001b[0m",
      "\u001b[1;31mKeyError\u001b[0m: 'foo'"
     ]
    }
   ],
   "source": [
    "# 4. What happens if you try to access spam['foo'] if spam is {'bar': 100}?\n",
    "# ------------------------------------------------------------------------------------------------------------------------------\n",
    "# 4.\n",
    "#We will get a KeyError\n",
    "\n",
    "spam = {'bar':100}\n",
    "print(spam['foo'])"
   ]
  },
  {
   "cell_type": "code",
   "execution_count": 21,
   "metadata": {},
   "outputs": [
    {
     "name": "stdout",
     "output_type": "stream",
     "text": [
      "True\n",
      "True\n"
     ]
    }
   ],
   "source": [
    "# 5. If a dictionary is stored in spam, what is the difference between the expressions 'cat' in spam and 'cat' in spam.keys()?\n",
    "# ------------------------------------------------------------------------------------------------------------------------------\n",
    "# 5.\n",
    "# Both are same. It is always searching for the key 'cat' in the dictionary spam.\n",
    "\n",
    "spam = {'cat':1}\n",
    "print('cat' in spam)\n",
    "print('cat' in spam.keys())"
   ]
  },
  {
   "cell_type": "code",
   "execution_count": 22,
   "metadata": {},
   "outputs": [
    {
     "name": "stdout",
     "output_type": "stream",
     "text": [
      "True\n",
      "False\n"
     ]
    }
   ],
   "source": [
    "# 6. If a dictionary is stored in spam, what is the difference between the expressions 'cat' in spam and 'cat' in spam.values()?\n",
    "# ------------------------------------------------------------------------------------------------------------------------------\n",
    "# 6.\n",
    "#'cat' in spam -> will search form withing the keys\n",
    "#'cat' in spam.values() -> will search for the cat as value\n",
    "spam = {'cat':1}\n",
    "print('cat' in spam)\n",
    "print('cat' in spam.values())"
   ]
  },
  {
   "cell_type": "code",
   "execution_count": 28,
   "metadata": {},
   "outputs": [
    {
     "name": "stdout",
     "output_type": "stream",
     "text": [
      "black\n",
      "black\n"
     ]
    }
   ],
   "source": [
    "# 7. What is a shortcut for the following code?\n",
    "# if 'color' not in spam:\n",
    "#     spam['color'] = 'black'\n",
    "# ------------------------------------------------------------------------------------------------------------------------------\n",
    "# 7.\n",
    "# There are two ways:\n",
    "# First way:\n",
    "\n",
    "from collections import defaultdict\n",
    "spam = defaultdict(lambda: 'black')\n",
    "print(spam['color'])\n",
    "\n",
    "#second way:\n",
    "\n",
    "spam = {}\n",
    "spam.setdefault('color','black')\n",
    "print(spam['color'])"
   ]
  },
  {
   "cell_type": "code",
   "execution_count": 41,
   "metadata": {
    "scrolled": true
   },
   "outputs": [
    {
     "name": "stdout",
     "output_type": "stream",
     "text": [
      "{'results': [{'address_components': [{'long_name': 'Rajpath',\n",
      "                                      'short_name': 'Rajpath',\n",
      "                                      'types': ['route']},\n",
      "                                     {'long_name': 'India Gate',\n",
      "                                      'short_name': 'India Gate',\n",
      "                                      'types': ['political',\n",
      "                                                'sublocality',\n",
      "                                                'sublocality_level_1']},\n",
      "                                     {'long_name': 'New Delhi',\n",
      "                                      'short_name': 'New Delhi',\n",
      "                                      'types': ['locality', 'political']},\n",
      "                                     {'long_name': 'New Delhi',\n",
      "                                      'short_name': 'New Delhi',\n",
      "                                      'types': ['administrative_area_level_2',\n",
      "                                                'political']},\n",
      "                                     {'long_name': 'Delhi',\n",
      "                                      'short_name': 'DL',\n",
      "                                      'types': ['administrative_area_level_1',\n",
      "                                                'political']},\n",
      "                                     {'long_name': 'India',\n",
      "                                      'short_name': 'IN',\n",
      "                                      'types': ['country', 'political']},\n",
      "                                     {'long_name': '110001',\n",
      "                                      'short_name': '110001',\n",
      "                                      'types': ['postal_code']}],\n",
      "              'formatted_address': 'Rajpath, India Gate, New Delhi, Delhi '\n",
      "                                   '110001, India',\n",
      "              'geometry': {'location': {'lat': 28.612912, 'lng': 77.2295097},\n",
      "                           'location_type': 'APPROXIMATE',\n",
      "                           'viewport': {'northeast': {'lat': 28.6142609802915,\n",
      "                                                      'lng': 77.2308586802915},\n",
      "                                        'southwest': {'lat': 28.6115630197085,\n",
      "                                                      'lng': 77.22816071970848}}},\n",
      "              'place_id': 'ChIJC03rqdriDDkRXT6SJRGXFwc',\n",
      "              'types': ['establishment', 'point_of_interest']}]}\n"
     ]
    }
   ],
   "source": [
    "# 8. How do you \"pretty print\" dictionary values using which module and function?\n",
    "# ------------------------------------------------------------------------------------------------------------------------------\n",
    "# 8.\n",
    "# Shorthand for pretty print is pprint()\n",
    "# It prints the data in a well formatted and readable way\n",
    "from pprint import pprint\n",
    "\n",
    "#The below Example is COPIED from internet just for a sample json file\n",
    "\n",
    "pprint(\n",
    "{\n",
    "    'results': [{'address_components': [{'long_name': 'Rajpath', 'types': ['route'], \n",
    "'short_name': 'Rajpath'}, {'long_name': 'India Gate', 'types': ['political', 'sublocality', \n",
    "'sublocality_level_1'], 'short_name': 'India Gate'}, {'long_name': 'New Delhi', 'types': \n",
    "['locality', 'political'], 'short_name': 'New Delhi'}, {'long_name': 'New Delhi', \n",
    "'types': ['administrative_area_level_2', 'political'], 'short_name': 'New Delhi'}, {'long_name': \n",
    "'Delhi', 'types': ['administrative_area_level_1', 'political'], 'short_name': 'DL'}, {'long_name': \n",
    "'India', 'types': ['country', 'political'], 'short_name': 'IN'}, {'long_name': '110001', 'types': \n",
    "['postal_code'], 'short_name': '110001'}], 'geometry': {'location': {'lng': 77.2295097, 'lat': 28.612912}, \n",
    "'viewport': {'northeast': {'lng': 77.2308586802915, 'lat': 28.6142609802915}, 'southwest': {'lng': \n",
    "77.22816071970848, 'lat': 28.6115630197085}}, 'location_type': 'APPROXIMATE'}, 'types': \n",
    "['establishment', 'point_of_interest'], 'formatted_address': 'Rajpath, India Gate, New Delhi, Delhi 110001, India', \n",
    "                 'place_id': 'ChIJC03rqdriDDkRXT6SJRGXFwc'}]}\n",
    "\n",
    ")"
   ]
  }
 ],
 "metadata": {
  "kernelspec": {
   "display_name": "Python 3",
   "language": "python",
   "name": "python3"
  },
  "language_info": {
   "codemirror_mode": {
    "name": "ipython",
    "version": 3
   },
   "file_extension": ".py",
   "mimetype": "text/x-python",
   "name": "python",
   "nbconvert_exporter": "python",
   "pygments_lexer": "ipython3",
   "version": "3.7.7"
  }
 },
 "nbformat": 4,
 "nbformat_minor": 4
}
