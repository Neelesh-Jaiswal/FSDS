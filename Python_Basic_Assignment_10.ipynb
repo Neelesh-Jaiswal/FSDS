{
 "cells": [
  {
   "cell_type": "code",
   "execution_count": null,
   "metadata": {},
   "outputs": [],
   "source": [
    "# 1. How do you distinguish between shutil.copy() and shutil.copytree()?\n",
    "# ------------------------------------------------------------------------------------------------------------------------------\n",
    "# 1.\n",
    "# shutil.copy(source, destination) -> Will copy the file at the path 'source' to the folder at the path 'destination'.\n",
    "#                                     It copies a single file.\n",
    "# shutin.copytree(source, destination) -> will copy an entire folder and every folder and file contained in it"
   ]
  },
  {
   "cell_type": "code",
   "execution_count": 1,
   "metadata": {},
   "outputs": [
    {
     "data": {
      "text/plain": [
       "'C:\\\\Users\\\\Lenovo\\\\Downloads\\\\DS\\\\temp.txt'"
      ]
     },
     "execution_count": 1,
     "metadata": {},
     "output_type": "execute_result"
    }
   ],
   "source": [
    "# 2. What function is used to rename files??\n",
    "# ------------------------------------------------------------------------------------------------------------------------------\n",
    "# 2.\n",
    "# shutil.move() is used. This function is used to do two things: move the file and rename the file.\n",
    "# If destination points to a folder, the source file gets moved into destination and keeps its current filename.\n",
    "# For Example:\n",
    "    \n",
    "import shutil\n",
    "shutil.move('C:\\\\Users\\\\Lenovo\\\\Downloads\\\\temp.txt','C:\\\\Users\\\\Lenovo\\\\Downloads\\\\DS\\\\')"
   ]
  },
  {
   "cell_type": "code",
   "execution_count": 5,
   "metadata": {},
   "outputs": [
    {
     "name": "stdout",
     "output_type": "stream",
     "text": [
      "File not exist\n"
     ]
    },
    {
     "data": {
      "text/plain": [
       "'C:\\\\Users\\\\Lenovo\\\\Downloads\\\\temp_NEW.txt'"
      ]
     },
     "execution_count": 5,
     "metadata": {},
     "output_type": "execute_result"
    }
   ],
   "source": [
    "# showing proof that file at the old path does not exists\n",
    "import os.path\n",
    "if os.path.isfile('C:\\\\Users\\\\Lenovo\\\\Downloads\\\\temp.txt'):\n",
    "    print (\"File exist\")\n",
    "else:\n",
    "    print (\"File not exist\")\n",
    "\n",
    "# The destination path can also specify a filename, the source file is moved and renamed.\n",
    "# For Example:\n",
    "shutil.move('C:\\\\Users\\\\Lenovo\\\\Downloads\\\\DS\\\\temp.txt', 'C:\\\\Users\\\\Lenovo\\\\Downloads\\\\temp_NEW.txt')"
   ]
  },
  {
   "cell_type": "code",
   "execution_count": null,
   "metadata": {},
   "outputs": [],
   "source": [
    "# 3. What is the difference between the delete functions in the send2trash and shutil modules?\n",
    "# ------------------------------------------------------------------------------------------------------------------------------\n",
    "# 3.\n",
    "# send2trash -> It is a third party module. It will delete the files and folders and send it to RecycleBin. It is also known as \n",
    "#               safe delete option\n",
    "# shutil.rmtree() -> It is use to permanently delete a file or folder from the system."
   ]
  },
  {
   "cell_type": "code",
   "execution_count": 10,
   "metadata": {},
   "outputs": [
    {
     "name": "stdout",
     "output_type": "stream",
     "text": [
      "['big_buck_bunny_240p_10mb.mp4']\n"
     ]
    }
   ],
   "source": [
    "# 4.ZipFile objects have a close() method just like File object's close() method. What ZipFile method is equivalent to File \n",
    "#   objects’ open() method?\n",
    "# ------------------------------------------------------------------------------------------------------------------------------\n",
    "# 4.\n",
    "# To read the contents of a ZIP file, first you must create a ZipFile object. To create a ZipFile object, call the \n",
    "# zipfile.ZipFile() function, passing it a string of the .ZIP file’s filename. This will open nd read rhe zip file.\n",
    "# For example:\n",
    "import zipfile\n",
    "# SampleZIPFile_10mbmb.zip\n",
    "openzip = zipfile.ZipFile('C:\\\\Users\\\\Lenovo\\\\Downloads\\\\SampleZIPFile_10mbmb.zip')\n",
    "print(openzip.namelist())\n",
    "openzip.close()"
   ]
  },
  {
   "cell_type": "code",
   "execution_count": 17,
   "metadata": {},
   "outputs": [
    {
     "name": "stdout",
     "output_type": "stream",
     "text": [
      "Copied 1\n",
      "Copied 2\n",
      "Copied 3\n",
      "Copied 4\n",
      "Copied 5\n",
      "Copied 6\n",
      "Copied 7\n",
      "Copied 8\n",
      "Copied 9\n",
      "Copied 10\n",
      "Copied 11\n",
      "Copied 12\n",
      "Copied 13\n",
      "Copied 14\n",
      "Copied 15\n",
      "Copied 16\n"
     ]
    }
   ],
   "source": [
    "# 5. Create a programme that searches a folder tree for files with a certain file extension (such as .pdf or .jpg). Copy these \n",
    "# files from whatever location they are in to a new folder.\n",
    "# ------------------------------------------------------------------------------------------------------------------------------\n",
    "# 5.\n",
    "#we have tried with .jpg files\n",
    "\n",
    "def foldertree(folder,destination):\n",
    "    for folderName, subfolders, filenames in os.walk(folder):\n",
    "        count = 0\n",
    "        for filename in filenames:\n",
    "            if filename.endswith('.jpg'):\n",
    "                shutil.copy(os.path.join(folderName, filename), destination)\n",
    "                count +=1\n",
    "                print(f'Copied {count}')\n",
    "                \n",
    "foldertree('C:\\\\Users\\\\Lenovo\\\\Pictures\\\\Saved Pictures\\\\','C:\\\\Users\\\\Lenovo\\\\Pictures\\\\')"
   ]
  }
 ],
 "metadata": {
  "kernelspec": {
   "display_name": "Python 3",
   "language": "python",
   "name": "python3"
  },
  "language_info": {
   "codemirror_mode": {
    "name": "ipython",
    "version": 3
   },
   "file_extension": ".py",
   "mimetype": "text/x-python",
   "name": "python",
   "nbconvert_exporter": "python",
   "pygments_lexer": "ipython3",
   "version": "3.7.7"
  }
 },
 "nbformat": 4,
 "nbformat_minor": 4
}
