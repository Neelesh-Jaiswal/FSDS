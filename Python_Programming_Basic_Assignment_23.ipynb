{
 "cells": [
  {
   "cell_type": "code",
   "execution_count": 7,
   "metadata": {},
   "outputs": [
    {
     "name": "stdout",
     "output_type": "stream",
     "text": [
      "True\n",
      "False\n",
      "True\n",
      "False\n",
      "True\n"
     ]
    }
   ],
   "source": [
    "# Question 1\n",
    "\n",
    "# Create a function that takes a number as an argument and returns True or False depending on whether the number is \n",
    "# symmetrical or not. A number is symmetrical when it is the same as its reverse.\n",
    "\n",
    "# Examples\n",
    "# is_symmetrical(7227) ➞ True\n",
    "\n",
    "# is_symmetrical(12567) ➞ False\n",
    "\n",
    "# is_symmetrical(44444444) ➞ True\n",
    "\n",
    "# is_symmetrical(9939) ➞ False\n",
    "\n",
    "# is_symmetrical(1112111) ➞ True\n",
    "\n",
    "def is_symmetrical(num):\n",
    "    num = str(num)\n",
    "    if num == num[::-1]:\n",
    "        return True\n",
    "    return False\n",
    "\n",
    "print(is_symmetrical(7227))\n",
    "print(is_symmetrical(12567))\n",
    "print(is_symmetrical(44444444))\n",
    "print(is_symmetrical(9939))\n",
    "print(is_symmetrical(1112111))"
   ]
  },
  {
   "cell_type": "code",
   "execution_count": 43,
   "metadata": {},
   "outputs": [
    {
     "name": "stdout",
     "output_type": "stream",
     "text": [
      "6\n",
      "24\n",
      "0\n",
      "-20\n"
     ]
    }
   ],
   "source": [
    "# Question 2\n",
    "\n",
    "# Given a string of numbers separated by a comma and space, return the product of the numbers.\n",
    "\n",
    "# Examples\n",
    "# multiply_nums(\"2, 3\") ➞ 6\n",
    "\n",
    "# multiply_nums(\"1, 2, 3, 4\") ➞ 24\n",
    "\n",
    "# multiply_nums(\"54, 75, 453, 0\") ➞ 0\n",
    "\n",
    "# multiply_nums(\"10, -2\") ➞ -20\n",
    "\n",
    "import re\n",
    "\n",
    "def multiply_nums(string):\n",
    "    result = 1\n",
    "    regex = re.compile(r'[\\+\\-]?[0-9]+')\n",
    "    \n",
    "    for i in regex.findall(string):\n",
    "        result *= int(i)\n",
    "    return result\n",
    "\n",
    "print(multiply_nums(\"2, 3\"))\n",
    "print(multiply_nums(\"1, 2, 3, 4\"))\n",
    "print(multiply_nums(\"54, 75, 453, 0\"))\n",
    "print(multiply_nums(\"10, -2\"))"
   ]
  },
  {
   "cell_type": "code",
   "execution_count": 56,
   "metadata": {},
   "outputs": [
    {
     "name": "stdout",
     "output_type": "stream",
     "text": [
      "811181\n",
      "\n",
      "416649\n",
      "\n",
      "9414\n",
      "\n"
     ]
    }
   ],
   "source": [
    "# Question 3\n",
    "\n",
    "# Create a function that squares every digit of a number.\n",
    "\n",
    "# Examples\n",
    "# square_digits(9119) ➞ 811181\n",
    "\n",
    "# square_digits(2483) ➞ 416649\n",
    "\n",
    "# square_digits(3212) ➞ 9414\n",
    "\n",
    "# Notes\n",
    "# The function receives an integer and must return an integer.\n",
    "\n",
    "def square_digits(num):\n",
    "    num = str(num)\n",
    "    num = list(num)\n",
    "    for i in num:\n",
    "        print(int(i) ** 2, end='')\n",
    "    print('\\n')\n",
    "\n",
    "square_digits(9119)\n",
    "square_digits(2483)\n",
    "square_digits(3212)"
   ]
  },
  {
   "cell_type": "code",
   "execution_count": 65,
   "metadata": {},
   "outputs": [
    {
     "name": "stdout",
     "output_type": "stream",
     "text": [
      "[1, 3, 5]\n",
      "[4]\n",
      "[5, 7, 8, 9, 10, 15]\n",
      "[1, 2, 3]\n"
     ]
    }
   ],
   "source": [
    "# Question 4\n",
    "\n",
    "# Create a function that sorts a list and removes all duplicate items from it.\n",
    "\n",
    "# Examples\n",
    "# setify([1, 3, 3, 5, 5]) ➞ [1, 3, 5]\n",
    "\n",
    "# setify([4, 4, 4, 4]) ➞ [4]\n",
    "\n",
    "# setify([5, 7, 8, 9, 10, 15]) ➞ [5, 7, 8, 9, 10, 15]\n",
    "\n",
    "# setify([3, 3, 3, 2, 1]) ➞ [1, 2, 3]\n",
    "\n",
    "def setify(lis):\n",
    "    return sorted(list(set(lis)))\n",
    "\n",
    "print(setify([1, 3, 3, 5, 5]))\n",
    "print(setify([4, 4, 4, 4]))\n",
    "print(setify([5, 7, 8, 9, 10, 15]))\n",
    "print(setify([3, 3, 3, 2, 1]))"
   ]
  },
  {
   "cell_type": "code",
   "execution_count": 76,
   "metadata": {},
   "outputs": [
    {
     "name": "stdout",
     "output_type": "stream",
     "text": [
      "3\n",
      "3\n",
      "6\n"
     ]
    }
   ],
   "source": [
    "# Question 5\n",
    "\n",
    "# Create a function that returns the mean of all digits.\n",
    "\n",
    "# Examples\n",
    "# mean(42) ➞ 3\n",
    "\n",
    "# mean(12345) ➞ 3\n",
    "\n",
    "# mean(666) ➞ 6\n",
    "# Notes\n",
    "# •   The mean of all digits is the sum of digits / how many digits there are (e.g. mean of digits in 512 is \n",
    "#                                                                              (5+1+2)/3(number of digits) = 8/3=2).\n",
    "# •   The mean will always be an integer.\n",
    "\n",
    "import numpy as np\n",
    "\n",
    "def mean(num):\n",
    "    num = list(str(num))\n",
    "    num = [int(i) for i in num]\n",
    "    return int(np.mean(num))\n",
    "\n",
    "print(mean(42))\n",
    "print(mean(12345))\n",
    "print(mean(666))"
   ]
  }
 ],
 "metadata": {
  "kernelspec": {
   "display_name": "Python 3",
   "language": "python",
   "name": "python3"
  },
  "language_info": {
   "codemirror_mode": {
    "name": "ipython",
    "version": 3
   },
   "file_extension": ".py",
   "mimetype": "text/x-python",
   "name": "python",
   "nbconvert_exporter": "python",
   "pygments_lexer": "ipython3",
   "version": "3.7.7"
  }
 },
 "nbformat": 4,
 "nbformat_minor": 4
}
