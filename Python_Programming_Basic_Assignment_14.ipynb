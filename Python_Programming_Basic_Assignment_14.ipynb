{
 "cells": [
  {
   "cell_type": "code",
   "execution_count": 9,
   "metadata": {},
   "outputs": [
    {
     "name": "stdout",
     "output_type": "stream",
     "text": [
      "Enter the last number in range: 100\n",
      "0\n",
      "7\n",
      "14\n",
      "21\n",
      "28\n",
      "35\n",
      "42\n",
      "49\n",
      "56\n",
      "63\n",
      "70\n",
      "77\n",
      "84\n",
      "91\n",
      "98\n"
     ]
    }
   ],
   "source": [
    "# Question 1:\n",
    "\n",
    "# Define a class with a generator which can iterate the numbers, which are divisible by 7, between a given range 0 and n.\n",
    "\n",
    "def generator(rng):\n",
    "    for i in range(rng):\n",
    "        if i % 7 == 0:\n",
    "            yield i\n",
    "\n",
    "if __name__ == '__main__':\n",
    "    inp = int(input('Enter the last number in range: '))\n",
    "    for i in generator(inp):\n",
    "        print(i)"
   ]
  },
  {
   "cell_type": "code",
   "execution_count": 8,
   "metadata": {},
   "outputs": [
    {
     "name": "stdout",
     "output_type": "stream",
     "text": [
      "Entr the string: New to Python or choosing between Python 2 and Python 3? Read Python 2 or Python 3\n",
      "2:2\n",
      "3:1\n",
      "3?:1\n",
      "New:1\n",
      "Python:5\n",
      "Read:1\n",
      "and:1\n",
      "between:1\n",
      "choosing:1\n",
      "or:2\n",
      "to:1\n"
     ]
    }
   ],
   "source": [
    "# Question 2:\n",
    "    \n",
    "# Write a program to compute the frequency of the words from the input. The output should output after sorting the key \n",
    "# alphanumerically. \n",
    "\n",
    "# Suppose the following input is supplied to the program:\n",
    "\n",
    "# New to Python or choosing between Python 2 and Python 3? Read Python 2 or Python 3.\n",
    "\n",
    "# Then, the output should be:\n",
    "\n",
    "# 2:2\n",
    "# 3.:1\n",
    "# 3?:1\n",
    "# New:1\n",
    "# Python:5\n",
    "# Read:1\n",
    "# and:1\n",
    "# between:1\n",
    "# choosing:1\n",
    "# or:2\n",
    "# to:1\n",
    "\n",
    "def frequency(string):\n",
    "    string = string.split(' ')\n",
    "    dic = {}\n",
    "    for i in string:\n",
    "        if i not in dic:\n",
    "            dic[i] = 1\n",
    "        else:\n",
    "            dic[i] = dic[i] + 1\n",
    "    dic = sorted(dic.items(), key = lambda x:x[0])\n",
    "    dic = dict(dic)\n",
    "    return dic\n",
    "\n",
    "if __name__ == '__main__':\n",
    "    inp = input('Entr the string: ')\n",
    "    result = frequency(inp)\n",
    "    for i in result.items():\n",
    "        print(f'{i[0]}:{i[1]}')"
   ]
  },
  {
   "cell_type": "code",
   "execution_count": 20,
   "metadata": {},
   "outputs": [
    {
     "name": "stdout",
     "output_type": "stream",
     "text": [
      "Male\n",
      "Female\n"
     ]
    }
   ],
   "source": [
    "# Question 3:\n",
    "\n",
    "# Define a class Person and its two child classes: Male and Female. All classes have a method \"getGender\" which can \n",
    "# print \"Male\" for Male class and \"Female\" for Female class.\n",
    "\n",
    "class Person:\n",
    "    def getGender(self):\n",
    "        return 'Person'\n",
    "\n",
    "class Male(Person):\n",
    "    def getGender(self):\n",
    "        return 'Male'\n",
    "        \n",
    "class Female(Person):\n",
    "    def getGender(self):\n",
    "        return 'Female'\n",
    "\n",
    "obj_male = Male()\n",
    "obj_Female = Female()\n",
    "\n",
    "print(obj_male.getGender())\n",
    "print(obj_Female.getGender())"
   ]
  },
  {
   "cell_type": "code",
   "execution_count": 35,
   "metadata": {},
   "outputs": [
    {
     "name": "stdout",
     "output_type": "stream",
     "text": [
      "I Play Hockey\n",
      "I Play Football\n",
      "I Love Hockey\n",
      "I Love Football\n",
      "You Play Hockey\n",
      "You Play Football\n",
      "You Love Hockey\n",
      "You Love Football\n"
     ]
    }
   ],
   "source": [
    "# Question 4:\n",
    "    \n",
    "# Please write a program to generate all sentences where subject is in [\"I\", \"You\"] and verb is in [\"Play\", \"Love\"] and \n",
    "# the object is in [\"Hockey\",\"Football\"].\n",
    "\n",
    "# We need to make all the combinations of (subject,verb,object) to print sentences\n",
    "\n",
    "def generate_sentence():\n",
    "    subject = ['I','You']\n",
    "    verb = ['Play','Love']\n",
    "    obj = ['Hockey','Football']\n",
    "\n",
    "    for sub in range(len(subject)):\n",
    "        for v in range(len(verb)):\n",
    "            for o in range(len(obj)):\n",
    "                print(f'{subject[sub]} {verb[v]} {obj[o]}')\n",
    "    return\n",
    "\n",
    "if __name__ == '__main__':\n",
    "    generate_sentence()"
   ]
  },
  {
   "cell_type": "code",
   "execution_count": 55,
   "metadata": {},
   "outputs": [
    {
     "name": "stdout",
     "output_type": "stream",
     "text": [
      "Enter the string: hello world!hello world!hello world!hello world!\n",
      "\n",
      "Result of compress:\n",
      " b'\\x1f\\x8b\\x08\\x00\\xfe\\x05\\xae`\\x02\\xff\\xcbH\\xcd\\xc9\\xc9W(\\xcf/\\xcaIQ\\xcc \\x82\\r\\x00\\xd3\\xe6\\xcf\\xae0\\x00\\x00\\x00'\n",
      "\n",
      "Result of decompress:\n",
      " b'hello world!hello world!hello world!hello world!'\n"
     ]
    }
   ],
   "source": [
    "# Question 5:\n",
    "\n",
    "# Please write a program to compress and decompress the string \"hello world!hello world!hello world!hello world!\".\n",
    "\n",
    "import gzip\n",
    "\n",
    "def compress_decompress(string):\n",
    "    s = bytes(string, encoding='utf-8')\n",
    "    s = gzip.compress(s)\n",
    "    b = gzip.decompress(s)\n",
    "    return s,b\n",
    "\n",
    "if __name__ == '__main__':\n",
    "    inp = input(\"Enter the string: \")\n",
    "    print(f'\\nResult of compress:\\n {compress_decompress(inp)[0]}\\n')\n",
    "    print(f'Result of decompress:\\n {compress_decompress(inp)[1]}')"
   ]
  },
  {
   "cell_type": "code",
   "execution_count": null,
   "metadata": {},
   "outputs": [],
   "source": [
    "# Question 6:\n",
    "\n",
    "# Please write a binary search function which searches an item in a sorted list. \n",
    "# The function should return the index of element to be searched in the list.\n"
   ]
  },
  {
   "cell_type": "code",
   "execution_count": 12,
   "metadata": {},
   "outputs": [
    {
     "name": "stdout",
     "output_type": "stream",
     "text": [
      "8 98 2 12 33 98 1 32 5\n",
      "5\n",
      "The list is: [1, 2, 5, 8, 12, 32, 33, 98, 98]\n",
      "5 is at index 2\n"
     ]
    }
   ],
   "source": [
    "def bin_search(number_list,number_to_find):\n",
    "    left_index = 0\n",
    "    right_index = len(number_list) - 1\n",
    "    \n",
    "    while left_index <= right_index:\n",
    "        mid_index = (left_index + right_index) // 2\n",
    "        mid_number = number_list[mid_index]\n",
    "        \n",
    "        if mid_number == number_to_find:\n",
    "            return mid_index\n",
    "        \n",
    "        elif mid_number < number_to_find:\n",
    "            left_index = mid_index + 1\n",
    "            \n",
    "        else:\n",
    "            right_index = mid_index - 1\n",
    "    return -1\n",
    "\n",
    "if __name__ == '__main__':\n",
    "    number_list = list(map(int,input().split(' ')))\n",
    "    number_list = sorted(number_list)\n",
    "    number_to_find = int(input())\n",
    "    print(f'The list is: {number_list}')\n",
    "    print(f'{number_to_find} is at index {bin_search(number_list,number_to_find)}')"
   ]
  }
 ],
 "metadata": {
  "kernelspec": {
   "display_name": "Python 3",
   "language": "python",
   "name": "python3"
  },
  "language_info": {
   "codemirror_mode": {
    "name": "ipython",
    "version": 3
   },
   "file_extension": ".py",
   "mimetype": "text/x-python",
   "name": "python",
   "nbconvert_exporter": "python",
   "pygments_lexer": "ipython3",
   "version": "3.7.7"
  }
 },
 "nbformat": 4,
 "nbformat_minor": 4
}
