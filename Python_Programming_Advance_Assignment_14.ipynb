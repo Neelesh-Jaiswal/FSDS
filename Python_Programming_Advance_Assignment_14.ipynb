{
 "cells": [
  {
   "cell_type": "code",
   "execution_count": 1,
   "metadata": {},
   "outputs": [
    {
     "name": "stdout",
     "output_type": "stream",
     "text": [
      "[3.0, 3.0, 3.0]\n",
      "[12.0, 7.5, 14.5]\n",
      "[27.0, 75.0]\n"
     ]
    }
   ],
   "source": [
    "# 1. \n",
    "# Given a list of numbers, create a function that removes 25% from every number in the list except the smallest number, \n",
    "# and adds the total amount removed to the smallest number.\n",
    "\n",
    "# Examples\n",
    "\n",
    "# show_the_love([4, 1, 4]) ➞ [3, 3, 3]\n",
    "\n",
    "# show_the_love([16, 10, 8]) ➞ [12, 7.5, 14.5]\n",
    "\n",
    "# show_the_love([2, 100]) ➞ [27, 75]\n",
    "\n",
    "import numpy as np\n",
    "\n",
    "def show_the_love(lis):\n",
    "    smallest_index = np.argmin(lis)\n",
    "    smallest = min(lis)\n",
    "    new_smallest = smallest\n",
    "    \n",
    "    for i in range(len(lis)):\n",
    "        if lis[i] > smallest:\n",
    "            i_25_percent = 0.25 * lis[i]\n",
    "            new_smallest += i_25_percent\n",
    "            lis[i] = lis[i] - i_25_percent\n",
    "    lis[smallest_index] = new_smallest\n",
    "    return lis\n",
    "            \n",
    "print(show_the_love([4, 1, 4]))\n",
    "print(show_the_love([16, 10, 8]))\n",
    "print(show_the_love([2, 100]))"
   ]
  },
  {
   "cell_type": "code",
   "execution_count": 2,
   "metadata": {
    "scrolled": true
   },
   "outputs": [
    {
     "name": "stdout",
     "output_type": "stream",
     "text": [
      "['aps', 'hr', 'o']\n",
      "['bdor', 'a', 'e']\n",
      "['enp', 'ahis', 'lov']\n",
      "['flu', 'ekr', 'y']\n",
      "['ahm', 'ct', '']\n"
     ]
    }
   ],
   "source": [
    "# 2. \n",
    "# Create a function that takes in two words as input and returns a list of three elements, in the following order:\n",
    "\n",
    "#    1.Shared letters between two words.\n",
    "#    2.Letters unique to word 1.\n",
    "#    3.Letters unique to word 2.\n",
    "\n",
    "# Each element should have unique letters, and have each letter be alphabetically sorted.\n",
    "\n",
    "# Examples\n",
    "\n",
    "# letters(\"sharp\", \"soap\") ➞ [\"aps\", \"hr\", \"o\"]\n",
    "\n",
    "# letters(\"board\", \"bored\") ➞ [\"bdor\", \"a\", \"e\"]\n",
    "\n",
    "# letters(\"happiness\", \"envelope\") ➞ [\"enp\", \"ahis\", \"lov\"]\n",
    "\n",
    "# letters(\"kerfuffle\", \"fluffy\") ➞ [\"flu\", \"ekr\", \"y\"]\n",
    "# Even with multiple matching letters (e.g. 3 f's), there should \n",
    "# only exist a single \"f\" in your first element.\n",
    "\n",
    "# letters(\"match\", \"ham\") ➞ [\"ahm\", \"ct\", \"\"]\n",
    "# \"ham\" does not contain any letters that are not found already \n",
    "# in \"match\".\n",
    "\n",
    "def letters(word1,word2):\n",
    "    res, res1, res2 = '', '', ''\n",
    "    lis = []\n",
    "    for i in word1:\n",
    "        for j in word2:\n",
    "            if i == j:\n",
    "                res += j\n",
    "            \n",
    "        if i not in word2:\n",
    "            res1 +=i\n",
    "        \n",
    "        \n",
    "    for i in word2:\n",
    "        if i not in word1:\n",
    "            res2 +=i\n",
    "    res = ''.join(sorted(set(res)))\n",
    "    res1 = ''.join(sorted(set(res1)))\n",
    "    res2 = ''.join(sorted(set(res2)))\n",
    "    lis.append(res)\n",
    "    lis.append(res1)\n",
    "    lis.append(res2)\n",
    "    return lis\n",
    "\n",
    "print(letters(\"sharp\", \"soap\"))\n",
    "print(letters(\"board\", \"bored\"))\n",
    "print(letters(\"happiness\", \"envelope\"))\n",
    "print(letters(\"kerfuffle\", \"fluffy\"))\n",
    "print(letters(\"match\", \"ham\"))"
   ]
  },
  {
   "cell_type": "code",
   "execution_count": 3,
   "metadata": {},
   "outputs": [
    {
     "name": "stdout",
     "output_type": "stream",
     "text": [
      "[[1, 7], [2, 6], [3, 5], [4, 4]]\n",
      "[[1, 6], [2, 5], [3, 4]]\n",
      "[[5, 2], [9, 1], [8, 8]]\n",
      "[]\n"
     ]
    }
   ],
   "source": [
    "# 3. \n",
    "# Write a function that pairs the first number in an array with the last, the second number with the second to last, etc.\n",
    "\n",
    "# Examples\n",
    "\n",
    "# pairs([1, 2, 3, 4, 5, 6, 7]) ➞ [[1, 7], [2, 6], [3, 5], [4, 4]]\n",
    "\n",
    "# pairs([1, 2, 3, 4, 5, 6]) ➞ [[1, 6], [2, 5], [3, 4]]\n",
    "\n",
    "# pairs([5, 9, 8, 1, 2]) ➞ [[5, 2], [9, 1], [8, 8]]\n",
    "\n",
    "# pairs([]) ➞ []\n",
    "\n",
    "def pairs(lis):\n",
    "    result = []\n",
    "    for i in range(len(lis)):\n",
    "        temp = []\n",
    "        temp.append(lis[i])\n",
    "        temp.append(lis[len(lis)-i-1])\n",
    "        result.append(temp)\n",
    "    len_result = len(result)\n",
    "\n",
    "    if len_result %2 == 0:\n",
    "        return result[:len_result // 2]\n",
    "    else:\n",
    "        len_result  = len_result // 2\n",
    "        return result[:len_result + 1]\n",
    "\n",
    "print(pairs([1, 2, 3, 4, 5, 6, 7]))\n",
    "print(pairs([1, 2, 3, 4, 5, 6]))\n",
    "print(pairs([5, 9, 8, 1, 2]))\n",
    "print(pairs([]))"
   ]
  },
  {
   "cell_type": "code",
   "execution_count": 4,
   "metadata": {},
   "outputs": [
    {
     "name": "stdout",
     "output_type": "stream",
     "text": [
      "9\n",
      "-1\n",
      "1\n",
      "1874682736267235927391936562808774986\n"
     ]
    }
   ],
   "source": [
    "# 4. \n",
    "# Write a function that adds two numbers. The catch, however, is that the numbers will be strings.\n",
    "\n",
    "# Examples\n",
    "\n",
    "# add_str_nums(\"4\", \"5\") ➞ \"9\"\n",
    "\n",
    "# add_str_nums(\"abcdefg\", \"3\") ➞ \"-1\"\n",
    "\n",
    "# add_str_nums(\"1\", \"\") ➞ \"1\"\n",
    "\n",
    "# add_str_nums(\"1874682736267235927359283579235789257\", \"32652983572985729\") ➞ \"1874682736267235927391936562808774986\"\n",
    "\n",
    "def add_str_nums(num1:str, num2:str)-> str:\n",
    "    \n",
    "    if any(i.isalpha() for i in num1+num2):\n",
    "        return -1\n",
    "    \n",
    "    elif num1 == '':\n",
    "        num1 = '0'\n",
    "\n",
    "    elif num2 == '':\n",
    "        num2 = '0'\n",
    "        \n",
    "    summ = int(num1) + int(num2)\n",
    "    return str(summ)\n",
    "\n",
    "print(add_str_nums('4','5'))\n",
    "print(add_str_nums(\"abcdefg\", \"3\"))\n",
    "print(add_str_nums(\"1\", \"\"))\n",
    "print(add_str_nums(\"1874682736267235927359283579235789257\", \"32652983572985729\"))"
   ]
  },
  {
   "cell_type": "code",
   "execution_count": 5,
   "metadata": {},
   "outputs": [
    {
     "name": "stdout",
     "output_type": "stream",
     "text": [
      "214365\n",
      "This is a mixed up string.\n",
      "abcde\n"
     ]
    }
   ],
   "source": [
    "# 5. \n",
    "# lPaeesh le pemu mnxit ehess rtnisg! Oh, sorry, that was supposed to say: Please help me unmix these strings!\n",
    "\n",
    "# Somehow my strings have all become mixed up; every pair of characters has been swapped. Help me undo this so I can \n",
    "# understand my strings again.\n",
    "\n",
    "# Examples\n",
    "\n",
    "# unmix(\"123456\") ➞ \"214365\"\n",
    "\n",
    "# unmix(\"hTsii  s aimex dpus rtni.g\") ➞ \"This is a mixed up string.\"\n",
    "\n",
    "# unmix(\"badce\") ➞ \"abcde\"\n",
    "\n",
    "def unmix(string):\n",
    "#     listt = list(string)\n",
    "#     listt[::2], listt[1::2] = listt[1::2], listt[::2]\n",
    "#     return ''.join(listt)\n",
    "# the above approach does not take into account the odd lenght of string. It works for only even length of string\n",
    "\n",
    "    result = ''\n",
    "    for i in range(0, len(string), 2):\n",
    "        result += string[i:i+2][::-1]\n",
    "    return result\n",
    "    \n",
    "\n",
    "print(unmix('123456'))\n",
    "print(unmix('hTsii  s aimex dpus rtni.g'))\n",
    "print(unmix('badce'))"
   ]
  }
 ],
 "metadata": {
  "kernelspec": {
   "display_name": "Python 3",
   "language": "python",
   "name": "python3"
  },
  "language_info": {
   "codemirror_mode": {
    "name": "ipython",
    "version": 3
   },
   "file_extension": ".py",
   "mimetype": "text/x-python",
   "name": "python",
   "nbconvert_exporter": "python",
   "pygments_lexer": "ipython3",
   "version": "3.7.7"
  }
 },
 "nbformat": 4,
 "nbformat_minor": 4
}
